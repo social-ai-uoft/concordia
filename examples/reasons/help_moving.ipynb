{
 "cells": [
  {
   "cell_type": "code",
   "execution_count": 1,
   "metadata": {},
   "outputs": [],
   "source": [
    "import sys\n",
    "import os\n",
    "path = os.path.abspath('../..')\n",
    "if path not in sys.path:\n",
    "  sys.path.insert(0, path)\n",
    "\n",
    "%load_ext autoreload"
   ]
  },
  {
   "cell_type": "code",
   "execution_count": 3,
   "metadata": {},
   "outputs": [],
   "source": [
    "#!pip install sentence_transformers"
   ]
  },
  {
   "cell_type": "code",
   "execution_count": 2,
   "metadata": {},
   "outputs": [],
   "source": [
    "import collections\n",
    "import concurrent.futures\n",
    "import datetime\n",
    "import json\n",
    "import termcolor\n",
    "\n",
    "import numpy as np\n",
    "\n",
    "from IPython import display\n",
    "\n",
    "from concordia.agents import basic_agent\n",
    "from concordia.components import agent as components\n",
    "from concordia import components as generic_components\n",
    "from concordia.associative_memory import associative_memory\n",
    "from concordia.associative_memory import blank_memories\n",
    "from concordia.associative_memory import formative_memories\n",
    "from concordia.associative_memory import importance_function\n",
    "from concordia.clocks import game_clock\n",
    "from concordia.components import game_master as gm_components\n",
    "from concordia.environment import game_master\n",
    "from concordia.metrics import goal_achievement\n",
    "from concordia.metrics import common_sense_morality\n",
    "from concordia.metrics import opinion_of_others\n",
    "from concordia.utils import html as html_lib\n",
    "from concordia.utils import measurements as measurements_lib\n",
    "from concordia.utils import plotting\n",
    "\n",
    "from examples.custom_components import behavior"
   ]
  },
  {
   "cell_type": "code",
   "execution_count": 3,
   "metadata": {},
   "outputs": [],
   "source": [
    "local_models = True\n",
    "\n",
    "if local_models:\n",
    "    # Setup LLM\n",
    "    from concordia.language_model import ollama_model\n",
    "    model = ollama_model.OllamaLanguageModel(\n",
    "        model_name='llama2:70b',\n",
    "        streaming=True\n",
    "    )\n",
    "\n",
    "    # Setup measurements and clock\n",
    "    measurements = measurements_lib.Measurements()\n",
    "    time_step = datetime.timedelta(minutes=20)\n",
    "    SETUP_TIME = datetime.datetime(hour=20, year=2024, month=10, day=1)\n",
    "\n",
    "    START_TIME = datetime.datetime(hour=18, year=2024, month=10, day=2)\n",
    "    clock = game_clock.MultiIntervalClock(\n",
    "        start=SETUP_TIME,\n",
    "        step_sizes=[time_step, datetime.timedelta(seconds=10)])\n",
    "\n",
    "    # Setup sentence encoder\n",
    "    from sentence_transformers import SentenceTransformer\n",
    "    st5_model = SentenceTransformer('sentence-transformers/sentence-t5-base')\n",
    "    embedder = st5_model.encode\n",
    "\n",
    "else:\n",
    "    from concordia.language_model import gpt_model\n",
    "    from concordia.language_model import gcloud_model\n",
    "    # @title Language Model - pick your model and provide keys\n",
    "    CLOUD_PROJECT_ID = '' #@param {type: 'string'}\n",
    "    GPT_API_KEY = '' #@param {type: 'string'}\n",
    "    GPT_MODEL_NAME = '' #@param {type: 'string'}\n",
    "\n",
    "    USE_CLOUD = True #@param {type: 'boolean'}\n",
    "\n",
    "    if USE_CLOUD:\n",
    "        model = gcloud_model.CloudLanguageModel(project_id= CLOUD_PROJECT_ID)\n",
    "    else:\n",
    "        model = gpt_model.GptLanguageModel(api_key=GPT_API_KEY, model_name=GPT_MODEL_NAME)\n",
    "\n",
    "#@title Importance models\n",
    "importance_model = importance_function.ConstantImportanceModel()\n",
    "importance_model_gm = importance_function.ConstantImportanceModel()\n"
   ]
  },
  {
   "cell_type": "code",
   "execution_count": 4,
   "metadata": {},
   "outputs": [
    {
     "name": "stderr",
     "output_type": "stream",
     "text": [
      "/opt/homebrew/Caskroom/miniconda/base/lib/python3.11/site-packages/langchain_core/_api/deprecation.py:117: LangChainDeprecationWarning: The function `__call__` was deprecated in LangChain 0.1.7 and will be removed in 0.2.0. Use invoke instead.\n",
      "  warn_deprecated(\n"
     ]
    },
    {
     "name": "stdout",
     "output_type": "stream",
     "text": [
      "\n",
      "Alice returns home from work to find Dorothy waiting for her, needing assistance with a last-minute move.\n",
      "Alice returns home from work to find Dorothy waiting for her, needing assistance with a last-minute move.\n"
     ]
    }
   ],
   "source": [
    "# @title Generic memories are memories that all players and GM share.\n",
    "\n",
    "shared_memories = [\n",
    "    'Alice returns late from work and finds Dorothy at her doorstep.',\n",
    "    \"Dorothy has to move out of her house tonight and needs someone to help her move.\",\n",
    "]\n",
    "\n",
    "# The generic context will be used for the NPC context. It reflects general\n",
    "# knowledge and is possessed by all characters.\n",
    "shared_context = model.sample_text(\n",
    "    'Summarize the following passage in a concise and insightful fashion:\\n'\n",
    "    + '\\n'.join(shared_memories)\n",
    "    + '\\n'\n",
    "    + 'Summary:'\n",
    ")\n",
    "print(shared_context)"
   ]
  },
  {
   "cell_type": "code",
   "execution_count": 5,
   "metadata": {},
   "outputs": [],
   "source": [
    "blank_memory_factory = blank_memories.MemoryFactory(\n",
    "    model=model,\n",
    "    embedder=embedder,\n",
    "    importance=importance_model.importance,\n",
    "    clock_now=clock.now,\n",
    ")\n",
    "\n",
    "formative_memory_factory = formative_memories.FormativeMemoryFactory(\n",
    "    model=model,\n",
    "    shared_memories=shared_memories,\n",
    "    blank_memory_factory_call=blank_memory_factory.make_blank_memory,\n",
    ")"
   ]
  },
  {
   "cell_type": "code",
   "execution_count": 7,
   "metadata": {},
   "outputs": [],
   "source": [
    "#@title Creating character backgrounds, goals and traits. Modify to explore how it influences the outcomes\n",
    "NUM_PLAYERS = 2\n",
    "\n",
    "scenario_premise = [\n",
    "\n",
    "    (\n",
    "        'Alice returns late from work and finds her friend Dorothy at her doorstep. '\n",
    "        + 'Dorothy has to move out of her house tonight and needs someone to help her move.'\n",
    "    ),\n",
    "]\n",
    "player_configs = [\n",
    "    formative_memories.AgentConfig(\n",
    "        name='Alice',\n",
    "        gender='female',\n",
    "        goal='Alice is exhausted after work, and she needs to help her grandmother all day the next day.',\n",
    "        context=shared_context,\n",
    "        traits='responsibility: medium; aggression: medium',\n",
    "    ),\n",
    "    formative_memories.AgentConfig(\n",
    "        name='Dorothy',\n",
    "        gender='female',\n",
    "        goal=(\n",
    "            \"Dorothy has planned on Bob helping her move, but Bob didn't show up. \"\n",
    "        ),\n",
    "        context=shared_context,\n",
    "        traits='responsibility: medium; aggression: medium',\n",
    "    ),\n",
    "]"
   ]
  },
  {
   "cell_type": "code",
   "execution_count": 8,
   "metadata": {},
   "outputs": [
    {
     "data": {
      "application/vnd.jupyter.widget-view+json": {
       "model_id": "5629ee3a21064aceb05f4f47763b82cf",
       "version_major": 2,
       "version_minor": 0
      },
      "text/plain": [
       "Batches:   0%|          | 0/1 [00:00<?, ?it/s]"
      ]
     },
     "metadata": {},
     "output_type": "display_data"
    },
    {
     "data": {
      "application/vnd.jupyter.widget-view+json": {
       "model_id": "aee24657367941a09372c5c026bfed86",
       "version_major": 2,
       "version_minor": 0
      },
      "text/plain": [
       "Batches:   0%|          | 0/1 [00:00<?, ?it/s]"
      ]
     },
     "metadata": {},
     "output_type": "display_data"
    },
    {
     "name": "stdout",
     "output_type": "stream",
     "text": [
      "Alice is a 30-year-old woman who works as a graphic designer at a marketing firm. She has a medium level of responsibility and aggression. A typical day for Alice involves creating visual content for various clients, meeting with her team to discuss project progress, and collaborating with colleagues to ensure timely delivery of designs.\n",
      "\n",
      "Alice's primary goal is to become a creative director at her firm. She hopes to excel in her career, take on more significant projects, and mentor junior designers. Additionally, Alice desires to start her own business, selling her artwork online. She dreams of having her designs featured in prominent magazines and galleries.\n",
      "\n",
      "Alice's duties include attending client meetings, creating design concepts, and managing projects from start to finish. She is responsible for ensuring that all designs are of high quality and meet the clients' needs. Alice also has obligations outside work, such as taking care of her elderly mother and volunteering at a local animal shelter.\n",
      "\n",
      "What gives Alice joy is seeing her designs come to life and receiving positive feedback from clients. She also enjoys spending time with her friends, trying out new restaurants, watching movies, and practicing yoga. However, Alice fears failure and not being able to achieve her career goals. She is also afraid of disappointing her mother, who sacrificed a lot for her education.\n",
      "\n",
      "Alice's friends are mostly colleagues from work, and they bond over their shared passion for design. They often meet up for drinks after work or attend design conferences together. Alice also has a close friend from college who is a photographer, and they collaborate on projects whenever possible.\n",
      "\n",
      "Currently, Alice is concerned about meeting the deadline for a critical project for a significant client. She is also worried about her mother's health, as she recently had a stroke. Furthermore, Alice is stressed about Dorothy's last-minute move request, as she has a lot on her plate already. She wonders how she will manage to help Dorothy without jeopardizing her work and other responsibilities.\n",
      "\n",
      "In summary, Alice is a responsible and creative individual with a passion for design. She strives to excel in her career while balancing her personal life and obligations. Despite her fears and concerns, Alice remains determined to achieve her goals and make a positive impact in the design industry.  Sure! Here's the revised text with all pronouns replaced with \"Alice\":\n",
      "\n",
      "Alice is a 30-year-old woman who works as a graphic designer at a marketing firm. Alice has a medium level of responsibility and aggression. A typical day for Alice involves creating visual content for various clients, meeting with her team to discuss project progress, and collaborating with colleagues to ensure timely delivery of designs.\n",
      "\n",
      "Alice's primary goal is to become a creative director at her firm. Alice hopes to excel in her career, take on more significant projects, and mentor junior designers. Additionally, Alice desires to start her own business, selling her artwork online. She dreams of having her designs featured in prominent magazines and galleries.\n",
      "\n",
      "Alice's duties include attending client meetings, creating design concepts, and managing projects from start to finish. Alice is responsible for ensuring that all designs are of high quality and meet the clients' needs. Alice also has obligations outside work, such as taking care of her elderly mother and volunteering at a local animal shelter.\n",
      "\n",
      "What gives Alice joy is seeing her designs come to life and receiving positive feedback from clients. She also enjoys spending time with her friends, trying out new restaurants, watching movies, and practicing yoga. However, Alice fears failure and not being able to achieve her career goals. She is also afraid of disappointing her mother, who sacrificed a lot for her education.\n",
      "\n",
      "Alice's friends are mostly colleagues from work, and they bond over their shared passion for design. They often meet up for drinks after work or attend design conferences together. Alice also has a close friend from college who is a photographer, and they collaborate on projects whenever possible.\n",
      "\n",
      "Currently, Alice is concerned about meeting the deadline for a critical project for a significant client. She is also worried about her mother's health, as she recently had a stroke. Furthermore, Alice is stressed about Dorothy's last-minute move request, as she has a lot on her plate already. She wonders how she will manage to help Dorothy without jeopardizing her work and other responsibilities.\n",
      "\n",
      "In summary, Alice is a responsible and creative individual with a passion for design. She strives to excel in her career while balancing her personal life and obligations. Despite her fears and concerns, Alice remains determined to achieve her goals and make a positive impact in the design industry.At the age of 3, Alice was playing with her building blocks when she knocked over her tower, causing her to become frustrated and cry. Her mother, who was in the kitchen, heard Alice's cries and came into the living room to comfort her. She helped Alice rebuild the tower, teaching her how to stabilize it so it wouldn't fall again. This experience taught Alice the importance of perseverance and problem-solving skills, which has stayed with her throughout her life and has been particularly relevant in her career as a graphic designer."
     ]
    },
    {
     "data": {
      "application/vnd.jupyter.widget-view+json": {
       "model_id": "ea57d5b68a0e4d7898e9ba49979547f9",
       "version_major": 2,
       "version_minor": 0
      },
      "text/plain": [
       "Batches:   0%|          | 0/1 [00:00<?, ?it/s]"
      ]
     },
     "metadata": {},
     "output_type": "display_data"
    },
    {
     "name": "stdout",
     "output_type": "stream",
     "text": [
      "\n",
      "At the age of 7, Alice was playing outside with her friends when they decided to have a race. Alice was determined to win and ran as fast as she could, but she tripped and fell, scraping her knee. Her friends helped her up and encouraged her to keep going, but Alice was too embarrassed and felt like quitting. Her mother, who was watching from the window, came outside and reminded Alice that it's okay to make mistakes and that she shouldn't give up. This experience taught Alice the value of perseverance and the importance of learning from her mistakes, which has been beneficial in her graphic design career where she often faces tight deadlines and has to problem-solve quickly."
     ]
    },
    {
     "data": {
      "application/vnd.jupyter.widget-view+json": {
       "model_id": "cde490f609204ee7985b1a3adabb3375",
       "version_major": 2,
       "version_minor": 0
      },
      "text/plain": [
       "Batches:   0%|          | 0/1 [00:00<?, ?it/s]"
      ]
     },
     "metadata": {},
     "output_type": "display_data"
    },
    {
     "name": "stdout",
     "output_type": "stream",
     "text": [
      "At the age of 12, Alice was working on a school project when she realized that she had accidentally deleted the entire file. She felt devastated and didn't know how to recover the work she had put in. Her mother, who was nearby, noticed her distress and asked what was wrong. Alice explained the situation, and her mother suggested that she try to recreate the project from memory. With her mother's encouragement and guidance, Alice successfully recreated the project, learning the importance of attention to detail and the value of having a backup plan. This experience has helped Alice in her graphic design career, where she often has to work under tight deadlines and ensure that her designs are error-free."
     ]
    },
    {
     "data": {
      "application/vnd.jupyter.widget-view+json": {
       "model_id": "1c1f934d83864b549d43f8dbdbea191a",
       "version_major": 2,
       "version_minor": 0
      },
      "text/plain": [
       "Batches:   0%|          | 0/1 [00:00<?, ?it/s]"
      ]
     },
     "metadata": {},
     "output_type": "display_data"
    },
    {
     "name": "stdout",
     "output_type": "stream",
     "text": [
      "\n",
      "At the age of 16, Alice was preparing for her first art exhibition at a local gallery. She had spent countless hours creating a series of paintings that she was proud of, but when she arrived at the gallery, she realized that she had left the paintings at home. Feeling embarrassed and anxious, Alice called her mother, who calmed her down and offered to bring the paintings to the gallery. With her mother's help, Alice was able to hang her artwork on time, and the exhibition was a success. This experience taught Alice the importance of staying calm under pressure and seeking help when needed, skills that have been essential in her graphic design career."
     ]
    },
    {
     "data": {
      "application/vnd.jupyter.widget-view+json": {
       "model_id": "ffc35354615c43d0a4e33cb8dab89284",
       "version_major": 2,
       "version_minor": 0
      },
      "text/plain": [
       "Batches:   0%|          | 0/1 [00:00<?, ?it/s]"
      ]
     },
     "metadata": {},
     "output_type": "display_data"
    },
    {
     "name": "stdout",
     "output_type": "stream",
     "text": [
      "\n",
      "At the age of 21, Alice was working on a critical design project for a client when she realized that she had made a major mistake in the layout. Feeling stressed and anxious, Alice called her mother, who calmed her down and suggested that she take a break and approach the problem with fresh eyes. With her mother's advice, Alice was able to correct the mistake and deliver the project on time, learning the importance of seeking help when needed and taking breaks to avoid burnout. This experience has been particularly relevant in Alice's graphic design career, where she often faces tight deadlines and has to problem-solve quickly."
     ]
    },
    {
     "data": {
      "application/vnd.jupyter.widget-view+json": {
       "model_id": "93ef1080cff147aa8f88c285556beb86",
       "version_major": 2,
       "version_minor": 0
      },
      "text/plain": [
       "Batches:   0%|          | 0/1 [00:00<?, ?it/s]"
      ]
     },
     "metadata": {},
     "output_type": "display_data"
    },
    {
     "data": {
      "application/vnd.jupyter.widget-view+json": {
       "model_id": "54ac6fbd8acf446c8b75ef1c11b19fac",
       "version_major": 2,
       "version_minor": 0
      },
      "text/plain": [
       "Batches:   0%|          | 0/1 [00:00<?, ?it/s]"
      ]
     },
     "metadata": {},
     "output_type": "display_data"
    },
    {
     "data": {
      "application/vnd.jupyter.widget-view+json": {
       "model_id": "6747eccfa1ad48788c6c602077855685",
       "version_major": 2,
       "version_minor": 0
      },
      "text/plain": [
       "Batches:   0%|          | 0/1 [00:00<?, ?it/s]"
      ]
     },
     "metadata": {},
     "output_type": "display_data"
    }
   ],
   "source": [
    "mem = formative_memory_factory.make_memories(player_configs[0])"
   ]
  },
  {
   "cell_type": "code",
   "execution_count": 9,
   "metadata": {},
   "outputs": [
    {
     "name": "stdout",
     "output_type": "stream",
     "text": [
      "1. Alice could offer to help Dorothy move her belongings into storage.\n",
      "2. Alice could offer to help Dorothy find a new place to live.\n",
      "3. Alice could offer to help Dorothy pack up her belongings.\n",
      "4. Alice could offer to help Dorothy sort through her belongings and decide what to keep, sell or donate.\n",
      "5. Alice could offer to help Dorothy transport some of her belongings to a new location.\n",
      "6. Alice could suggest that Dorothy hire professional movers to help with the move.\n",
      "7. Alice could offer to watch Dorothy's dog while she is moving.\n",
      "8. Alice could offer to lend Dorothy some packing supplies, such as boxes or bubble wrap.\n",
      "9. Alice could offer to help Dorothy disassemble and reassemble furniture for the move.\n",
      "10. Alice could suggest that Dorothy postpone the move until a later date when Alice is less busy with work.\n",
      "\n",
      "The likelihood of each behavior will depend on various factors, such as Alice's energy level, available resources, and her relationship with Dorothy. For example, offering to help with packing or transportation may be more likely if Alice has the time and energy for it, while suggesting postponing the move may be less likely if Dorothy is under pressure to vacate her current home quickly.\n",
      "[\n",
      "  {\n",
      "    \"behaviour\": \"offer to help move belongings into storage\",\n",
      "    \"description\": \"Alice could offer to help Dorothy move her belongings into storage.\"\n",
      "  },\n",
      "  {\n",
      "    \"behaviour\": \"offer to help find a new place to live\",\n",
      "    \"description\": \"Alice could offer to help Dorothy find a new place to live.\"\n",
      "  },\n",
      "  {\n",
      "    \"behaviour\": \"offer to help pack up belongings\",\n",
      "    \"description\": \"Alice could offer to help Dorothy pack up her belongings.\"\n",
      "  },\n",
      "  {\n",
      "    \"behaviour\": \"offer to help sort through belongings\",\n",
      "    \"description\": \"Alice could offer to help Dorothy sort through her belongings and decide what to keep, sell or donate.\"\n",
      "  },\n",
      "  {\n",
      "    \"behaviour\": \"offer to help transport belongings\",\n",
      "    \"description\": \"Alice could offer to help Dorothy transport some of her belongings to a new location.\"\n",
      "  },\n",
      "  {\n",
      "    \"behaviour\": \"suggest hiring professional movers\",\n",
      "    \"description\": \"Alice could suggest that Dorothy hire professional movers to help with the move.\"\n",
      "  },\n",
      "  {\n",
      "    \"behaviour\": \"offer to watch dog during move\",\n",
      "    \"description\": \"Alice could offer to watch Dorothy's dog while she is moving.\"\n",
      "  },\n",
      "  {\n",
      "    \"behaviour\": \"lend packing supplies\",\n",
      "    \"description\": \"Alice could offer to lend Dorothy some packing supplies, such as boxes or bubble wrap.\"\n",
      "  },\n",
      "  {\n",
      "    \"behaviour\": \"help disassemble and reassemble furniture\",\n",
      "    \"description\": \"Alice could offer to help Dorothy disassemble and reassemble furniture for the move.\"\n",
      "  },\n",
      "  {\n",
      "    \"behaviour\": \"suggest postponing move\",\n",
      "    \"description\": \"Alice could suggest that Dorothy postpone the move until a later date when Alice is less busy with work.\"\n",
      "  }\n",
      "]"
     ]
    }
   ],
   "source": [
    "%autoreload 2\n",
    "from examples.custom_components import behavior\n",
    "\n",
    "behaviors = behavior.BehavioralChoices(\n",
    "    name='behaviours',\n",
    "    model=model,\n",
    "    memory=mem,\n",
    "    player_config=player_configs[0],\n",
    "    clock_now=clock.now,\n",
    "    verbose=False\n",
    "  )\n",
    "\n",
    "behaviors.update()"
   ]
  },
  {
   "cell_type": "code",
   "execution_count": 10,
   "metadata": {},
   "outputs": [
    {
     "data": {
      "text/plain": [
       "[\"At the age of 3, Alice was playing with her building blocks when she knocked over her tower, causing her to become frustrated and cry. Her mother, who was in the kitchen, heard Alice's cries and came into the living room to comfort her. She helped Alice rebuild the tower, teaching her how to stabilize it so it wouldn't fall again. This experience taught Alice the importance of perseverance and problem-solving skills, which has stayed with her throughout her life and has been particularly relevant in her career as a graphic designer.\",\n",
       " \"\\nAt the age of 7, Alice was playing outside with her friends when they decided to have a race. Alice was determined to win and ran as fast as she could, but she tripped and fell, scraping her knee. Her friends helped her up and encouraged her to keep going, but Alice was too embarrassed and felt like quitting. Her mother, who was watching from the window, came outside and reminded Alice that it's okay to make mistakes and that she shouldn't give up. This experience taught Alice the value of perseverance and the importance of learning from her mistakes, which has been beneficial in her graphic design career where she often faces tight deadlines and has to problem-solve quickly.\",\n",
       " \"At the age of 12, Alice was working on a school project when she realized that she had accidentally deleted the entire file. She felt devastated and didn't know how to recover the work she had put in. Her mother, who was nearby, noticed her distress and asked what was wrong. Alice explained the situation, and her mother suggested that she try to recreate the project from memory. With her mother's encouragement and guidance, Alice successfully recreated the project, learning the importance of attention to detail and the value of having a backup plan. This experience has helped Alice in her graphic design career, where she often has to work under tight deadlines and ensure that her designs are error-free.\",\n",
       " \"\\nAt the age of 16, Alice was preparing for her first art exhibition at a local gallery. She had spent countless hours creating a series of paintings that she was proud of, but when she arrived at the gallery, she realized that she had left the paintings at home. Feeling embarrassed and anxious, Alice called her mother, who calmed her down and offered to bring the paintings to the gallery. With her mother's help, Alice was able to hang her artwork on time, and the exhibition was a success. This experience taught Alice the importance of staying calm under pressure and seeking help when needed, skills that have been essential in her graphic design career.\",\n",
       " \"\\nAt the age of 21, Alice was working on a critical design project for a client when she realized that she had made a major mistake in the layout. Feeling stressed and anxious, Alice called her mother, who calmed her down and suggested that she take a break and approach the problem with fresh eyes. With her mother's advice, Alice was able to correct the mistake and deliver the project on time, learning the importance of seeking help when needed and taking breaks to avoid burnout. This experience has been particularly relevant in Alice's graphic design career, where she often faces tight deadlines and has to problem-solve quickly.\",\n",
       " 'Alice returns late from work and finds Dorothy at her doorstep.',\n",
       " 'Dorothy has to move out of her house tonight and needs someone to help her move.',\n",
       " 'Alice returns home from work to find Dorothy waiting for her, needing assistance with a last-minute move.',\n",
       " 'Alice is exhausted after work, and she needs to help her grandmother all day the next day.']"
      ]
     },
     "execution_count": 10,
     "metadata": {},
     "output_type": "execute_result"
    }
   ],
   "source": [
    "behaviors._memory.retrieve_recent(k = 100)"
   ]
  },
  {
   "cell_type": "code",
   "execution_count": 12,
   "metadata": {},
   "outputs": [
    {
     "name": "stdout",
     "output_type": "stream",
     "text": [
      "\n",
      "Here are five potential behaviors that Alice can take in response to the situation:\n",
      "\n",
      "1. Helping Dorothy move immediately without hesitation.\n",
      "Positive consequences:\n",
      "* Helps Dorothy in a time of need (Value: 10, Likelihood: 80)\n",
      "* Strengthens relationship with grandmother (Value: 9, Likelihood: 70)\n",
      "* Feels good about herself for helping others (Value: 8, Likelihood: 60)\n",
      "Negative consequences:\n",
      "* Tires herself out and affects work performance the next day (Value: -5, Likelihood: 40)\n",
      "* Has to cancel plans with friends, causing inconvenience (Value: -3, Likelihood: 30)\n",
      "* Rushes through move and accidentally breaks something valuable (Value: -7, Likelihood: 20)\n",
      "2. Asking Dorothy if she can help another time.\n",
      "Positive consequences:\n",
      "* Allows Alice to prioritize her own needs and schedule (Value: 8, Likelihood: 60)\n",
      "* Avoids feeling overwhelmed or resentful (Value: 7, Likelihood: 50)\n",
      "* Shows Dorothy that Alice values their relationship but also has boundaries (Value: 6, Likelihood: 40)\n",
      "Negative consequences:\n",
      "* Disappoints Dorothy and potentially damages their relationship (Value: -5, Likelihood: 30)\n",
      "* Misses an opportunity to help someone in need (Value: -2, Likelihood: 20)\n",
      "* Feels guilty or anxious about not helping (Value: -4, Likelihood: 10)\n",
      "3. Asking a friend or family member to help Dorothy move instead.\n",
      "Positive consequences:\n",
      "* Shares the burden with someone else and avoids feeling overwhelmed (Value: 9, Likelihood: 70)\n",
      "* Helps maintain relationships with other friends and family members (Value: 8, Likelihood: 60)\n",
      "* Provides an opportunity for someone else to help and feel good about themselves (Value: 7, Likelihood: 50)\n",
      "Negative consequences:\n",
      "* May not be able to find someone willing or available to help (Value: -3, Likelihood: 40)\n",
      "* Feels guilty for not helping personally (Value: -2, Likelihood: 30)\n",
      "* Creates an inconvenience for the person asked to help (Value: -1, Likelihood: 20)\n",
      "4. Telling Dorothy that she can't help with the move right now.\n",
      "Positive consequences:\n",
      "* Allows Alice to prioritize her own needs and schedule without feeling guilty (Value: 9, Likelihood: 80)\n",
      "* Avoids overcommitting herself and potentially burning out (Value: 8, Likelihood: 70)\n",
      "* Shows Dorothy that Alice values their relationship but also has boundaries (Value: 7, Likelihood: 60)\n",
      "Negative consequences:\n",
      "* Disappoints Dorothy and potentially damages their relationship (Value: -5, Likelihood: 40)\n",
      "* Misses an opportunity to help someone in need (Value: -3, Likelihood: 30)\n",
      "* Feels guilty or anxious about not helping (Value: -4, Likelihood: 20)\n",
      "5. Ignoring Dorothy's request for help and avoiding the situation altogether.\n",
      "Positive consequences:\n",
      "* Avoids feeling overwhelmed or resentful (Value: 8, Likelihood: 70)\n",
      "* Allows Alice to prioritize her own needs and schedule without feeling guilty (Value: 7, Likelihood: 60)\n",
      "* Shows Dorothy that Alice values her own time and energy (Value: 6, Likelihood: 50)\n",
      "Negative consequences:\n",
      "* Damages the relationship with Dorothy and potentially causes long-term consequences (Value: -8, Likelihood: 40)\n",
      "* Feels guilty or anxious about ignoring someone in need (Value: -6, Likelihood: 30)\n",
      "* May miss out on future opportunities to help or support others (Value: -5, Likelihood: 20)"
     ]
    }
   ],
   "source": [
    "attitude_ratings = model.sample_text(\n",
    "  f'Memories of Alice:{behaviors._memory.retrieve_recent(100)}'\n",
    "  f'Instructions: \\n'\n",
    "  f'Given the memories above, generate a list of five potential behaviours that alice can take in response to the situation. '\n",
    "  f'For each potential behaviour, provide three possible positive and three possible negative consequences of that behaviour. '\n",
    "  f'For each potential consequence, indicate with a number from -10 to 10 how bad to good '\n",
    "  f'that consequence is for Alice. -10 is the worst possible outcome, 0 is neutral, and 10 is the best possible outcome.'\n",
    "  f'List the positive or negative value after each of the separate consequences to each behaviour. '\n",
    "  f'For each potential behaviour, provide just the consequence numbers separated by a comma. '\n",
    "  f'For each potential consequence, indicate with a number from 0 to 100 how likely that consequence is to occur. 0 is impossible, 100 is certain. '\n",
    "  f'List the likelihood of the consequences after each of the separate consequences to each behaviour. So, '\n",
    "  f'each of the 6 potential separate consequences should have a likelihood value. '\n",
    "  f'This should be in the form of (Value: number, Likelihood: number) for each potential consequence, '\n",
    "  f'Remember, there should be three separate positive and three negative consequences for each potential behaviour '\n",
    "  f'each with its own value and likelihood.\\n'\n",
    "  f'double check that you did all of the behaviours and people correctly, for example that the numbers are all provided.'\n",
    ")"
   ]
  },
  {
   "cell_type": "code",
   "execution_count": 61,
   "metadata": {},
   "outputs": [],
   "source": [
    "import re\n",
    "\n",
    "def decompose(attitudes):\n",
    "\n",
    "    attitude_list = re.split(\n",
    "        r'\\n[0-9]\\.\\s',\n",
    "        attitudes\n",
    "    )\n",
    "\n",
    "    behaviour_list = []\n",
    "\n",
    "    for attitude in attitude_list[1:]:\n",
    "        \n",
    "        behaviours = {}\n",
    "\n",
    "        items = re.split(\n",
    "            r'\\.\\n',\n",
    "            attitude,\n",
    "            maxsplit = 1\n",
    "        )\n",
    "\n",
    "        behaviours[\"behaviour\"] = items[0]\n",
    "\n",
    "        items = re.split(\n",
    "            r'(?:Positive|Negative)\\sconsequences:\\n',\n",
    "            items[1]\n",
    "        )\n",
    "\n",
    "        items = [item for item in items if item]\n",
    "\n",
    "        behaviours[\"consequences\"] = []\n",
    "\n",
    "        for item in items:\n",
    "\n",
    "            consequences = re.split(\n",
    "                r'\\*\\s',\n",
    "                item\n",
    "            )\n",
    "            consequences = [consequence.strip() for consequence in consequences if consequence]\n",
    "\n",
    "            for consequence in consequences:\n",
    "\n",
    "                description = re.match(\n",
    "                    r'(.*)(?=\\s\\()',\n",
    "                    consequence\n",
    "                ).group(1)\n",
    "\n",
    "                value = int(re.search(\n",
    "                    r'(?<=Value:\\s).*(?=,)',\n",
    "                    consequence\n",
    "                ).group(0))\n",
    "\n",
    "                likelihood = int(re.search(\n",
    "                    r'(?<=Likelihood:\\s).*(?=\\))',\n",
    "                    consequence\n",
    "                ).group(0))\n",
    "\n",
    "                behaviours[\"consequences\"].append({\n",
    "                    \"description\": description,\n",
    "                    \"value\": value,\n",
    "                    \"likelihood\": likelihood\n",
    "                })\n",
    "\n",
    "        behaviour_list.append(behaviours)\n",
    "    \n",
    "    return behaviour_list\n",
    "\n",
    "\n",
    "behaviour_list = decompose(attitude_ratings)"
   ]
  },
  {
   "cell_type": "code",
   "execution_count": 63,
   "metadata": {},
   "outputs": [
    {
     "data": {
      "text/plain": [
       "[{'behaviour': 'Helping Dorothy move immediately without hesitation',\n",
       "  'consequences': [{'description': 'Helps Dorothy in a time of need',\n",
       "    'value': 10,\n",
       "    'likelihood': 80},\n",
       "   {'description': 'Strengthens relationship with grandmother',\n",
       "    'value': 9,\n",
       "    'likelihood': 70},\n",
       "   {'description': 'Feels good about herself for helping others',\n",
       "    'value': 8,\n",
       "    'likelihood': 60},\n",
       "   {'description': 'Tires herself out and affects work performance the next day',\n",
       "    'value': -5,\n",
       "    'likelihood': 40},\n",
       "   {'description': 'Has to cancel plans with friends, causing inconvenience',\n",
       "    'value': -3,\n",
       "    'likelihood': 30},\n",
       "   {'description': 'Rushes through move and accidentally breaks something valuable',\n",
       "    'value': -7,\n",
       "    'likelihood': 20}]},\n",
       " {'behaviour': 'Asking Dorothy if she can help another time',\n",
       "  'consequences': [{'description': 'Allows Alice to prioritize her own needs and schedule',\n",
       "    'value': 8,\n",
       "    'likelihood': 60},\n",
       "   {'description': 'Avoids feeling overwhelmed or resentful',\n",
       "    'value': 7,\n",
       "    'likelihood': 50},\n",
       "   {'description': 'Shows Dorothy that Alice values their relationship but also has boundaries',\n",
       "    'value': 6,\n",
       "    'likelihood': 40},\n",
       "   {'description': 'Disappoints Dorothy and potentially damages their relationship',\n",
       "    'value': -5,\n",
       "    'likelihood': 30},\n",
       "   {'description': 'Misses an opportunity to help someone in need',\n",
       "    'value': -2,\n",
       "    'likelihood': 20},\n",
       "   {'description': 'Feels guilty or anxious about not helping',\n",
       "    'value': -4,\n",
       "    'likelihood': 10}]},\n",
       " {'behaviour': 'Asking a friend or family member to help Dorothy move instead',\n",
       "  'consequences': [{'description': 'Shares the burden with someone else and avoids feeling overwhelmed',\n",
       "    'value': 9,\n",
       "    'likelihood': 70},\n",
       "   {'description': 'Helps maintain relationships with other friends and family members',\n",
       "    'value': 8,\n",
       "    'likelihood': 60},\n",
       "   {'description': 'Provides an opportunity for someone else to help and feel good about themselves',\n",
       "    'value': 7,\n",
       "    'likelihood': 50},\n",
       "   {'description': 'May not be able to find someone willing or available to help',\n",
       "    'value': -3,\n",
       "    'likelihood': 40},\n",
       "   {'description': 'Feels guilty for not helping personally',\n",
       "    'value': -2,\n",
       "    'likelihood': 30},\n",
       "   {'description': 'Creates an inconvenience for the person asked to help',\n",
       "    'value': -1,\n",
       "    'likelihood': 20}]},\n",
       " {'behaviour': \"Telling Dorothy that she can't help with the move right now\",\n",
       "  'consequences': [{'description': 'Allows Alice to prioritize her own needs and schedule without feeling guilty',\n",
       "    'value': 9,\n",
       "    'likelihood': 80},\n",
       "   {'description': 'Avoids overcommitting herself and potentially burning out',\n",
       "    'value': 8,\n",
       "    'likelihood': 70},\n",
       "   {'description': 'Shows Dorothy that Alice values their relationship but also has boundaries',\n",
       "    'value': 7,\n",
       "    'likelihood': 60},\n",
       "   {'description': 'Disappoints Dorothy and potentially damages their relationship',\n",
       "    'value': -5,\n",
       "    'likelihood': 40},\n",
       "   {'description': 'Misses an opportunity to help someone in need',\n",
       "    'value': -3,\n",
       "    'likelihood': 30},\n",
       "   {'description': 'Feels guilty or anxious about not helping',\n",
       "    'value': -4,\n",
       "    'likelihood': 20}]},\n",
       " {'behaviour': \"Ignoring Dorothy's request for help and avoiding the situation altogether\",\n",
       "  'consequences': [{'description': 'Avoids feeling overwhelmed or resentful',\n",
       "    'value': 8,\n",
       "    'likelihood': 70},\n",
       "   {'description': 'Allows Alice to prioritize her own needs and schedule without feeling guilty',\n",
       "    'value': 7,\n",
       "    'likelihood': 60},\n",
       "   {'description': 'Shows Dorothy that Alice values her own time and energy',\n",
       "    'value': 6,\n",
       "    'likelihood': 50},\n",
       "   {'description': 'Damages the relationship with Dorothy and potentially causes long-term consequences',\n",
       "    'value': -8,\n",
       "    'likelihood': 40},\n",
       "   {'description': 'Feels guilty or anxious about ignoring someone in need',\n",
       "    'value': -6,\n",
       "    'likelihood': 30},\n",
       "   {'description': 'May miss out on future opportunities to help or support others',\n",
       "    'value': -5,\n",
       "    'likelihood': 20}]}]"
      ]
     },
     "execution_count": 63,
     "metadata": {},
     "output_type": "execute_result"
    }
   ],
   "source": [
    "behaviour_list"
   ]
  },
  {
   "cell_type": "code",
   "execution_count": 62,
   "metadata": {},
   "outputs": [
    {
     "ename": "KeyboardInterrupt",
     "evalue": "",
     "output_type": "error",
     "traceback": [
      "\u001b[0;31m---------------------------------------------------------------------------\u001b[0m",
      "\u001b[0;31mKeyboardInterrupt\u001b[0m                         Traceback (most recent call last)",
      "Cell \u001b[0;32mIn[62], line 1\u001b[0m\n\u001b[0;32m----> 1\u001b[0m normative_ratings \u001b[38;5;241m=\u001b[39m \u001b[43mmodel\u001b[49m\u001b[38;5;241;43m.\u001b[39;49m\u001b[43msample_text\u001b[49m\u001b[43m(\u001b[49m\n\u001b[1;32m      2\u001b[0m \u001b[43m  \u001b[49m\u001b[38;5;124;43mf\u001b[39;49m\u001b[38;5;124;43m'\u001b[39;49m\u001b[38;5;124;43mMemories of Alice:\u001b[39;49m\u001b[38;5;132;43;01m{\u001b[39;49;00m\u001b[43mbehaviors\u001b[49m\u001b[38;5;241;43m.\u001b[39;49m\u001b[43m_memory\u001b[49m\u001b[38;5;241;43m.\u001b[39;49m\u001b[43mretrieve_recent\u001b[49m\u001b[43m(\u001b[49m\u001b[38;5;241;43m100\u001b[39;49m\u001b[43m)\u001b[49m\u001b[38;5;132;43;01m}\u001b[39;49;00m\u001b[38;5;124;43m'\u001b[39;49m\n\u001b[1;32m      3\u001b[0m \u001b[43m  \u001b[49m\u001b[38;5;124;43mf\u001b[39;49m\u001b[38;5;124;43m'\u001b[39;49m\u001b[38;5;124;43mInstructions: \u001b[39;49m\u001b[38;5;130;43;01m\\n\u001b[39;49;00m\u001b[38;5;124;43m'\u001b[39;49m\n\u001b[1;32m      4\u001b[0m \u001b[43m  \u001b[49m\u001b[38;5;124;43mf\u001b[39;49m\u001b[38;5;124;43m'\u001b[39;49m\u001b[38;5;124;43mfor each of the potential behaviours that Alice could take in response to the situation, \u001b[39;49m\u001b[38;5;124;43m'\u001b[39;49m\n\u001b[1;32m      5\u001b[0m \u001b[43m  \u001b[49m\u001b[38;5;124;43mf\u001b[39;49m\u001b[38;5;124;43m'\u001b[39;49m\u001b[38;5;124;43mindictate six people or groups of people that would be effected if Alice took that behaviour (do not include Alice). \u001b[39;49m\u001b[38;5;124;43m'\u001b[39;49m\n\u001b[1;32m      6\u001b[0m \u001b[43m  \u001b[49m\u001b[38;5;124;43mf\u001b[39;49m\u001b[38;5;124;43m'\u001b[39;49m\u001b[38;5;124;43mfor each person or group, provide a rating from -10 to 10 about whether they would approve or disapprove of the behaviour \u001b[39;49m\u001b[38;5;124;43m'\u001b[39;49m\n\u001b[1;32m      7\u001b[0m \u001b[43m  \u001b[49m\u001b[38;5;124;43mf\u001b[39;49m\u001b[38;5;124;43m'\u001b[39;49m\u001b[38;5;124;43m-10 would be the least approval and 10 would be the most approval. \u001b[39;49m\u001b[38;5;124;43m'\u001b[39;49m\n\u001b[1;32m      8\u001b[0m \u001b[43m  \u001b[49m\u001b[38;5;124;43mf\u001b[39;49m\u001b[38;5;124;43m'\u001b[39;49m\u001b[38;5;124;43mand from 0 to 100 how much Alice is motivated to take their approval or disapproval into account. \u001b[39;49m\u001b[38;5;124;43m'\u001b[39;49m\n\u001b[1;32m      9\u001b[0m \u001b[43m  \u001b[49m\u001b[38;5;124;43mf\u001b[39;49m\u001b[38;5;124;43m'\u001b[39;49m\u001b[38;5;124;43m0 would mean that Alice does not care at all about their approval or disapproval, and 100 would mean that she care the most. \u001b[39;49m\u001b[38;5;124;43m'\u001b[39;49m\n\u001b[1;32m     10\u001b[0m \u001b[43m  \u001b[49m\u001b[38;5;124;43mf\u001b[39;49m\u001b[38;5;124;43m'\u001b[39;49m\u001b[38;5;124;43mbe sure to each numbers for each ratings and allow for appropriate variation in the ratings\u001b[39;49m\u001b[38;5;124;43m'\u001b[39;49m\n\u001b[1;32m     11\u001b[0m \u001b[43m  \u001b[49m\u001b[38;5;124;43mf\u001b[39;49m\u001b[38;5;124;43m'\u001b[39;49m\u001b[38;5;124;43mthis should be in the form of (Approval: number, Alice\u001b[39;49m\u001b[38;5;124;43m'\u001b[39;49m\u001b[38;5;124;43m'\u001b[39;49m\u001b[38;5;124;43ms Motivation: number) for each potential consequence, \u001b[39;49m\u001b[38;5;124;43m'\u001b[39;49m\n\u001b[1;32m     12\u001b[0m \u001b[43m  \u001b[49m\u001b[38;5;124;43mf\u001b[39;49m\u001b[38;5;124;43m'\u001b[39;49m\u001b[38;5;124;43mthere should be a motivation number for each of the people for each of the potential behaviours.\u001b[39;49m\u001b[38;5;124;43m'\u001b[39;49m\n\u001b[1;32m     13\u001b[0m \u001b[43m  \u001b[49m\u001b[38;5;124;43mf\u001b[39;49m\u001b[38;5;124;43m'\u001b[39;49m\u001b[38;5;124;43mat the end of this, create two lists for each of the approval ratings and motivations for each of the potential consequences. \u001b[39;49m\u001b[38;5;124;43m'\u001b[39;49m\n\u001b[1;32m     14\u001b[0m \u001b[43m  \u001b[49m\u001b[38;5;124;43mf\u001b[39;49m\u001b[38;5;124;43m'\u001b[39;49m\u001b[38;5;124;43mdouble check that you did all of the behaviours and people correctly.\u001b[39;49m\u001b[38;5;124;43m'\u001b[39;49m\n\u001b[1;32m     15\u001b[0m \u001b[43m  \u001b[49m\u001b[38;5;124;43mf\u001b[39;49m\u001b[38;5;124;43m'\u001b[39;49m\u001b[38;5;124;43mfor example, each of the behaviours should be listed, and each should have a number for approval and motivation \u001b[39;49m\u001b[38;5;124;43m'\u001b[39;49m\n\u001b[1;32m     16\u001b[0m \u001b[43m  \u001b[49m\u001b[38;5;124;43mf\u001b[39;49m\u001b[38;5;124;43m'\u001b[39;49m\u001b[38;5;124;43mfor each of the people or groups of people.\u001b[39;49m\u001b[38;5;124;43m'\u001b[39;49m\n\u001b[1;32m     17\u001b[0m \u001b[43m  \u001b[49m\u001b[38;5;124;43mf\u001b[39;49m\u001b[38;5;124;43m'\u001b[39;49m\u001b[38;5;124;43mprovide this information as succinctly as possible. ideally just the behaviour, the people effectec, and the numbers for each \u001b[39;49m\u001b[38;5;124;43m'\u001b[39;49m\n\u001b[1;32m     18\u001b[0m \u001b[43m  \u001b[49m\u001b[38;5;124;43mf\u001b[39;49m\u001b[38;5;124;43m'\u001b[39;49m\u001b[38;5;124;43mof the people for each of the behaviours.\u001b[39;49m\u001b[38;5;124;43m'\u001b[39;49m\n\u001b[1;32m     19\u001b[0m \u001b[43m  \u001b[49m\u001b[38;5;124;43mf\u001b[39;49m\u001b[38;5;124;43m'\u001b[39;49m\u001b[38;5;124;43mhere is an example: \u001b[39;49m\u001b[38;5;130;43;01m\\n\u001b[39;49;00m\u001b[38;5;124;43m'\u001b[39;49m\n\u001b[1;32m     20\u001b[0m \u001b[43m  \u001b[49m\u001b[38;5;124;43mf\u001b[39;49m\u001b[38;5;124;43m'\u001b[39;49m\u001b[38;5;124;43mBehaviour 1: \u001b[39;49m\u001b[38;5;130;43;01m\\n\u001b[39;49;00m\u001b[38;5;124;43m'\u001b[39;49m\n\u001b[1;32m     21\u001b[0m \u001b[43m  \u001b[49m\u001b[38;5;124;43mf\u001b[39;49m\u001b[38;5;124;43m'\u001b[39;49m\u001b[38;5;124;43mPerson 1: Approval: 5, Motivation: 50\u001b[39;49m\u001b[38;5;130;43;01m\\n\u001b[39;49;00m\u001b[38;5;124;43m'\u001b[39;49m\n\u001b[1;32m     22\u001b[0m \u001b[43m  \u001b[49m\u001b[38;5;124;43mf\u001b[39;49m\u001b[38;5;124;43m'\u001b[39;49m\u001b[38;5;124;43mPerson 2: Approval: 10, Motivation: 100\u001b[39;49m\u001b[38;5;130;43;01m\\n\u001b[39;49;00m\u001b[38;5;124;43m'\u001b[39;49m\n\u001b[1;32m     23\u001b[0m \u001b[43m  \u001b[49m\u001b[38;5;124;43mf\u001b[39;49m\u001b[38;5;124;43m'\u001b[39;49m\u001b[38;5;124;43mPerson 3: Approval: -5, Motivation: 0\u001b[39;49m\u001b[38;5;130;43;01m\\n\u001b[39;49;00m\u001b[38;5;124;43m'\u001b[39;49m\n\u001b[1;32m     24\u001b[0m \u001b[43m  \u001b[49m\u001b[38;5;124;43mf\u001b[39;49m\u001b[38;5;124;43m'\u001b[39;49m\u001b[38;5;124;43metc.\u001b[39;49m\u001b[38;5;124;43m'\u001b[39;49m\n\u001b[1;32m     25\u001b[0m \u001b[43m  \u001b[49m\u001b[38;5;124;43mf\u001b[39;49m\u001b[38;5;124;43m'\u001b[39;49m\u001b[38;5;124;43mthe critical thing to to do this consistently for each of the potential behaviours and people.\u001b[39;49m\u001b[38;5;124;43m'\u001b[39;49m\n\u001b[1;32m     26\u001b[0m \u001b[43m)\u001b[49m\n\u001b[1;32m     28\u001b[0m find_ratings \u001b[38;5;241m=\u001b[39m model\u001b[38;5;241m.\u001b[39msample_text(\n\u001b[1;32m     29\u001b[0m     \u001b[38;5;124mf\u001b[39m\u001b[38;5;124m'\u001b[39m\u001b[38;5;124mgiven the file below, \u001b[39m\u001b[38;5;124m'\u001b[39m \u001b[38;5;241m+\u001b[39m\n\u001b[1;32m     30\u001b[0m     attitude_ratings \u001b[38;5;241m+\u001b[39m\n\u001b[0;32m   (...)\u001b[0m\n\u001b[1;32m     38\u001b[0m     \u001b[38;5;124mf\u001b[39m\u001b[38;5;124m'\u001b[39m\u001b[38;5;124monly the numbers should be in the JSON array.\u001b[39m\u001b[38;5;124m'\u001b[39m\n\u001b[1;32m     39\u001b[0m )\n\u001b[1;32m     41\u001b[0m find_norms \u001b[38;5;241m=\u001b[39m model\u001b[38;5;241m.\u001b[39msample_text(\n\u001b[1;32m     42\u001b[0m     \u001b[38;5;124mf\u001b[39m\u001b[38;5;124m'\u001b[39m\u001b[38;5;124mgiven the file below, \u001b[39m\u001b[38;5;124m'\u001b[39m \u001b[38;5;241m+\u001b[39m\n\u001b[1;32m     43\u001b[0m     normative_ratings \u001b[38;5;241m+\u001b[39m\n\u001b[0;32m   (...)\u001b[0m\n\u001b[1;32m     52\u001b[0m     \u001b[38;5;124mf\u001b[39m\u001b[38;5;124m'\u001b[39m\u001b[38;5;124mhave it be one long JSON array for each of the approvals and motivations rather than separated by behaviour.\u001b[39m\u001b[38;5;124m'\u001b[39m\n\u001b[1;32m     53\u001b[0m )\n",
      "File \u001b[0;32m~/Documents/concordia/concordia/language_model/ollama_model.py:83\u001b[0m, in \u001b[0;36mOllamaLanguageModel.sample_text\u001b[0;34m(self, prompt, max_tokens, max_characters, terminators, temperature, timeout, seed, system_message)\u001b[0m\n\u001b[1;32m     81\u001b[0m \u001b[38;5;28;01mfor\u001b[39;00m retry \u001b[38;5;129;01min\u001b[39;00m \u001b[38;5;28mrange\u001b[39m(_MAX_SAMPLE_TEXT_ATTEMPTS): \n\u001b[1;32m     82\u001b[0m     \u001b[38;5;28;01mtry\u001b[39;00m:\n\u001b[0;32m---> 83\u001b[0m         response \u001b[38;5;241m=\u001b[39m \u001b[38;5;28;43mself\u001b[39;49m\u001b[38;5;241;43m.\u001b[39;49m\u001b[43m_client\u001b[49m\u001b[43m(\u001b[49m\n\u001b[1;32m     84\u001b[0m \u001b[43m            \u001b[49m\u001b[43mprompt\u001b[49m\u001b[43m,\u001b[49m\n\u001b[1;32m     85\u001b[0m \u001b[43m            \u001b[49m\u001b[43mstop\u001b[49m\u001b[38;5;241;43m=\u001b[39;49m\u001b[43mterminators\u001b[49m\u001b[43m,\u001b[49m\n\u001b[1;32m     86\u001b[0m \u001b[43m            \u001b[49m\u001b[43mtemperature\u001b[49m\u001b[38;5;241;43m=\u001b[39;49m\u001b[43mtemperature\u001b[49m\u001b[43m,\u001b[49m\n\u001b[1;32m     87\u001b[0m \u001b[43m        \u001b[49m\u001b[43m)\u001b[49m\n\u001b[1;32m     88\u001b[0m     \u001b[38;5;28;01mexcept\u001b[39;00m \u001b[38;5;167;01mValueError\u001b[39;00m \u001b[38;5;28;01mas\u001b[39;00m e:\n\u001b[1;32m     89\u001b[0m         logger\u001b[38;5;241m.\u001b[39merror(\u001b[38;5;124mf\u001b[39m\u001b[38;5;124m\"\u001b[39m\u001b[38;5;124mError while calling LLM with input: \u001b[39m\u001b[38;5;132;01m{\u001b[39;00mprompt\u001b[38;5;132;01m}\u001b[39;00m\u001b[38;5;124m. Attempt \u001b[39m\u001b[38;5;132;01m{\u001b[39;00mretry\u001b[38;5;241m+\u001b[39m\u001b[38;5;241m1\u001b[39m\u001b[38;5;132;01m}\u001b[39;00m\u001b[38;5;124m failed.\u001b[39m\u001b[38;5;124m\"\u001b[39m)\n",
      "File \u001b[0;32m/opt/homebrew/Caskroom/miniconda/base/lib/python3.11/site-packages/langchain_core/_api/deprecation.py:145\u001b[0m, in \u001b[0;36mdeprecated.<locals>.deprecate.<locals>.warning_emitting_wrapper\u001b[0;34m(*args, **kwargs)\u001b[0m\n\u001b[1;32m    143\u001b[0m     warned \u001b[38;5;241m=\u001b[39m \u001b[38;5;28;01mTrue\u001b[39;00m\n\u001b[1;32m    144\u001b[0m     emit_warning()\n\u001b[0;32m--> 145\u001b[0m \u001b[38;5;28;01mreturn\u001b[39;00m \u001b[43mwrapped\u001b[49m\u001b[43m(\u001b[49m\u001b[38;5;241;43m*\u001b[39;49m\u001b[43margs\u001b[49m\u001b[43m,\u001b[49m\u001b[43m \u001b[49m\u001b[38;5;241;43m*\u001b[39;49m\u001b[38;5;241;43m*\u001b[39;49m\u001b[43mkwargs\u001b[49m\u001b[43m)\u001b[49m\n",
      "File \u001b[0;32m/opt/homebrew/Caskroom/miniconda/base/lib/python3.11/site-packages/langchain_core/language_models/llms.py:991\u001b[0m, in \u001b[0;36mBaseLLM.__call__\u001b[0;34m(self, prompt, stop, callbacks, tags, metadata, **kwargs)\u001b[0m\n\u001b[1;32m    984\u001b[0m \u001b[38;5;28;01mif\u001b[39;00m \u001b[38;5;129;01mnot\u001b[39;00m \u001b[38;5;28misinstance\u001b[39m(prompt, \u001b[38;5;28mstr\u001b[39m):\n\u001b[1;32m    985\u001b[0m     \u001b[38;5;28;01mraise\u001b[39;00m \u001b[38;5;167;01mValueError\u001b[39;00m(\n\u001b[1;32m    986\u001b[0m         \u001b[38;5;124m\"\u001b[39m\u001b[38;5;124mArgument `prompt` is expected to be a string. Instead found \u001b[39m\u001b[38;5;124m\"\u001b[39m\n\u001b[1;32m    987\u001b[0m         \u001b[38;5;124mf\u001b[39m\u001b[38;5;124m\"\u001b[39m\u001b[38;5;132;01m{\u001b[39;00m\u001b[38;5;28mtype\u001b[39m(prompt)\u001b[38;5;132;01m}\u001b[39;00m\u001b[38;5;124m. If you want to run the LLM on multiple prompts, use \u001b[39m\u001b[38;5;124m\"\u001b[39m\n\u001b[1;32m    988\u001b[0m         \u001b[38;5;124m\"\u001b[39m\u001b[38;5;124m`generate` instead.\u001b[39m\u001b[38;5;124m\"\u001b[39m\n\u001b[1;32m    989\u001b[0m     )\n\u001b[1;32m    990\u001b[0m \u001b[38;5;28;01mreturn\u001b[39;00m (\n\u001b[0;32m--> 991\u001b[0m     \u001b[38;5;28;43mself\u001b[39;49m\u001b[38;5;241;43m.\u001b[39;49m\u001b[43mgenerate\u001b[49m\u001b[43m(\u001b[49m\n\u001b[1;32m    992\u001b[0m \u001b[43m        \u001b[49m\u001b[43m[\u001b[49m\u001b[43mprompt\u001b[49m\u001b[43m]\u001b[49m\u001b[43m,\u001b[49m\n\u001b[1;32m    993\u001b[0m \u001b[43m        \u001b[49m\u001b[43mstop\u001b[49m\u001b[38;5;241;43m=\u001b[39;49m\u001b[43mstop\u001b[49m\u001b[43m,\u001b[49m\n\u001b[1;32m    994\u001b[0m \u001b[43m        \u001b[49m\u001b[43mcallbacks\u001b[49m\u001b[38;5;241;43m=\u001b[39;49m\u001b[43mcallbacks\u001b[49m\u001b[43m,\u001b[49m\n\u001b[1;32m    995\u001b[0m \u001b[43m        \u001b[49m\u001b[43mtags\u001b[49m\u001b[38;5;241;43m=\u001b[39;49m\u001b[43mtags\u001b[49m\u001b[43m,\u001b[49m\n\u001b[1;32m    996\u001b[0m \u001b[43m        \u001b[49m\u001b[43mmetadata\u001b[49m\u001b[38;5;241;43m=\u001b[39;49m\u001b[43mmetadata\u001b[49m\u001b[43m,\u001b[49m\n\u001b[1;32m    997\u001b[0m \u001b[43m        \u001b[49m\u001b[38;5;241;43m*\u001b[39;49m\u001b[38;5;241;43m*\u001b[39;49m\u001b[43mkwargs\u001b[49m\u001b[43m,\u001b[49m\n\u001b[1;32m    998\u001b[0m \u001b[43m    \u001b[49m\u001b[43m)\u001b[49m\n\u001b[1;32m    999\u001b[0m     \u001b[38;5;241m.\u001b[39mgenerations[\u001b[38;5;241m0\u001b[39m][\u001b[38;5;241m0\u001b[39m]\n\u001b[1;32m   1000\u001b[0m     \u001b[38;5;241m.\u001b[39mtext\n\u001b[1;32m   1001\u001b[0m )\n",
      "File \u001b[0;32m/opt/homebrew/Caskroom/miniconda/base/lib/python3.11/site-packages/langchain_core/language_models/llms.py:741\u001b[0m, in \u001b[0;36mBaseLLM.generate\u001b[0;34m(self, prompts, stop, callbacks, tags, metadata, run_name, **kwargs)\u001b[0m\n\u001b[1;32m    725\u001b[0m         \u001b[38;5;28;01mraise\u001b[39;00m \u001b[38;5;167;01mValueError\u001b[39;00m(\n\u001b[1;32m    726\u001b[0m             \u001b[38;5;124m\"\u001b[39m\u001b[38;5;124mAsked to cache, but no cache found at `langchain.cache`.\u001b[39m\u001b[38;5;124m\"\u001b[39m\n\u001b[1;32m    727\u001b[0m         )\n\u001b[1;32m    728\u001b[0m     run_managers \u001b[38;5;241m=\u001b[39m [\n\u001b[1;32m    729\u001b[0m         callback_manager\u001b[38;5;241m.\u001b[39mon_llm_start(\n\u001b[1;32m    730\u001b[0m             dumpd(\u001b[38;5;28mself\u001b[39m),\n\u001b[0;32m   (...)\u001b[0m\n\u001b[1;32m    739\u001b[0m         )\n\u001b[1;32m    740\u001b[0m     ]\n\u001b[0;32m--> 741\u001b[0m     output \u001b[38;5;241m=\u001b[39m \u001b[38;5;28;43mself\u001b[39;49m\u001b[38;5;241;43m.\u001b[39;49m\u001b[43m_generate_helper\u001b[49m\u001b[43m(\u001b[49m\n\u001b[1;32m    742\u001b[0m \u001b[43m        \u001b[49m\u001b[43mprompts\u001b[49m\u001b[43m,\u001b[49m\u001b[43m \u001b[49m\u001b[43mstop\u001b[49m\u001b[43m,\u001b[49m\u001b[43m \u001b[49m\u001b[43mrun_managers\u001b[49m\u001b[43m,\u001b[49m\u001b[43m \u001b[49m\u001b[38;5;28;43mbool\u001b[39;49m\u001b[43m(\u001b[49m\u001b[43mnew_arg_supported\u001b[49m\u001b[43m)\u001b[49m\u001b[43m,\u001b[49m\u001b[43m \u001b[49m\u001b[38;5;241;43m*\u001b[39;49m\u001b[38;5;241;43m*\u001b[39;49m\u001b[43mkwargs\u001b[49m\n\u001b[1;32m    743\u001b[0m \u001b[43m    \u001b[49m\u001b[43m)\u001b[49m\n\u001b[1;32m    744\u001b[0m     \u001b[38;5;28;01mreturn\u001b[39;00m output\n\u001b[1;32m    745\u001b[0m \u001b[38;5;28;01mif\u001b[39;00m \u001b[38;5;28mlen\u001b[39m(missing_prompts) \u001b[38;5;241m>\u001b[39m \u001b[38;5;241m0\u001b[39m:\n",
      "File \u001b[0;32m/opt/homebrew/Caskroom/miniconda/base/lib/python3.11/site-packages/langchain_core/language_models/llms.py:605\u001b[0m, in \u001b[0;36mBaseLLM._generate_helper\u001b[0;34m(self, prompts, stop, run_managers, new_arg_supported, **kwargs)\u001b[0m\n\u001b[1;32m    603\u001b[0m     \u001b[38;5;28;01mfor\u001b[39;00m run_manager \u001b[38;5;129;01min\u001b[39;00m run_managers:\n\u001b[1;32m    604\u001b[0m         run_manager\u001b[38;5;241m.\u001b[39mon_llm_error(e, response\u001b[38;5;241m=\u001b[39mLLMResult(generations\u001b[38;5;241m=\u001b[39m[]))\n\u001b[0;32m--> 605\u001b[0m     \u001b[38;5;28;01mraise\u001b[39;00m e\n\u001b[1;32m    606\u001b[0m flattened_outputs \u001b[38;5;241m=\u001b[39m output\u001b[38;5;241m.\u001b[39mflatten()\n\u001b[1;32m    607\u001b[0m \u001b[38;5;28;01mfor\u001b[39;00m manager, flattened_output \u001b[38;5;129;01min\u001b[39;00m \u001b[38;5;28mzip\u001b[39m(run_managers, flattened_outputs):\n",
      "File \u001b[0;32m/opt/homebrew/Caskroom/miniconda/base/lib/python3.11/site-packages/langchain_core/language_models/llms.py:592\u001b[0m, in \u001b[0;36mBaseLLM._generate_helper\u001b[0;34m(self, prompts, stop, run_managers, new_arg_supported, **kwargs)\u001b[0m\n\u001b[1;32m    582\u001b[0m \u001b[38;5;28;01mdef\u001b[39;00m \u001b[38;5;21m_generate_helper\u001b[39m(\n\u001b[1;32m    583\u001b[0m     \u001b[38;5;28mself\u001b[39m,\n\u001b[1;32m    584\u001b[0m     prompts: List[\u001b[38;5;28mstr\u001b[39m],\n\u001b[0;32m   (...)\u001b[0m\n\u001b[1;32m    588\u001b[0m     \u001b[38;5;241m*\u001b[39m\u001b[38;5;241m*\u001b[39mkwargs: Any,\n\u001b[1;32m    589\u001b[0m ) \u001b[38;5;241m-\u001b[39m\u001b[38;5;241m>\u001b[39m LLMResult:\n\u001b[1;32m    590\u001b[0m     \u001b[38;5;28;01mtry\u001b[39;00m:\n\u001b[1;32m    591\u001b[0m         output \u001b[38;5;241m=\u001b[39m (\n\u001b[0;32m--> 592\u001b[0m             \u001b[38;5;28;43mself\u001b[39;49m\u001b[38;5;241;43m.\u001b[39;49m\u001b[43m_generate\u001b[49m\u001b[43m(\u001b[49m\n\u001b[1;32m    593\u001b[0m \u001b[43m                \u001b[49m\u001b[43mprompts\u001b[49m\u001b[43m,\u001b[49m\n\u001b[1;32m    594\u001b[0m \u001b[43m                \u001b[49m\u001b[43mstop\u001b[49m\u001b[38;5;241;43m=\u001b[39;49m\u001b[43mstop\u001b[49m\u001b[43m,\u001b[49m\n\u001b[1;32m    595\u001b[0m \u001b[43m                \u001b[49m\u001b[38;5;66;43;03m# TODO: support multiple run managers\u001b[39;49;00m\n\u001b[1;32m    596\u001b[0m \u001b[43m                \u001b[49m\u001b[43mrun_manager\u001b[49m\u001b[38;5;241;43m=\u001b[39;49m\u001b[43mrun_managers\u001b[49m\u001b[43m[\u001b[49m\u001b[38;5;241;43m0\u001b[39;49m\u001b[43m]\u001b[49m\u001b[43m \u001b[49m\u001b[38;5;28;43;01mif\u001b[39;49;00m\u001b[43m \u001b[49m\u001b[43mrun_managers\u001b[49m\u001b[43m \u001b[49m\u001b[38;5;28;43;01melse\u001b[39;49;00m\u001b[43m \u001b[49m\u001b[38;5;28;43;01mNone\u001b[39;49;00m\u001b[43m,\u001b[49m\n\u001b[1;32m    597\u001b[0m \u001b[43m                \u001b[49m\u001b[38;5;241;43m*\u001b[39;49m\u001b[38;5;241;43m*\u001b[39;49m\u001b[43mkwargs\u001b[49m\u001b[43m,\u001b[49m\n\u001b[1;32m    598\u001b[0m \u001b[43m            \u001b[49m\u001b[43m)\u001b[49m\n\u001b[1;32m    599\u001b[0m             \u001b[38;5;28;01mif\u001b[39;00m new_arg_supported\n\u001b[1;32m    600\u001b[0m             \u001b[38;5;28;01melse\u001b[39;00m \u001b[38;5;28mself\u001b[39m\u001b[38;5;241m.\u001b[39m_generate(prompts, stop\u001b[38;5;241m=\u001b[39mstop)\n\u001b[1;32m    601\u001b[0m         )\n\u001b[1;32m    602\u001b[0m     \u001b[38;5;28;01mexcept\u001b[39;00m \u001b[38;5;167;01mBaseException\u001b[39;00m \u001b[38;5;28;01mas\u001b[39;00m e:\n\u001b[1;32m    603\u001b[0m         \u001b[38;5;28;01mfor\u001b[39;00m run_manager \u001b[38;5;129;01min\u001b[39;00m run_managers:\n",
      "File \u001b[0;32m/opt/homebrew/Caskroom/miniconda/base/lib/python3.11/site-packages/langchain_community/llms/ollama.py:408\u001b[0m, in \u001b[0;36mOllama._generate\u001b[0;34m(self, prompts, stop, images, run_manager, **kwargs)\u001b[0m\n\u001b[1;32m    406\u001b[0m generations \u001b[38;5;241m=\u001b[39m []\n\u001b[1;32m    407\u001b[0m \u001b[38;5;28;01mfor\u001b[39;00m prompt \u001b[38;5;129;01min\u001b[39;00m prompts:\n\u001b[0;32m--> 408\u001b[0m     final_chunk \u001b[38;5;241m=\u001b[39m \u001b[38;5;28;43msuper\u001b[39;49m\u001b[43m(\u001b[49m\u001b[43m)\u001b[49m\u001b[38;5;241;43m.\u001b[39;49m\u001b[43m_stream_with_aggregation\u001b[49m\u001b[43m(\u001b[49m\n\u001b[1;32m    409\u001b[0m \u001b[43m        \u001b[49m\u001b[43mprompt\u001b[49m\u001b[43m,\u001b[49m\n\u001b[1;32m    410\u001b[0m \u001b[43m        \u001b[49m\u001b[43mstop\u001b[49m\u001b[38;5;241;43m=\u001b[39;49m\u001b[43mstop\u001b[49m\u001b[43m,\u001b[49m\n\u001b[1;32m    411\u001b[0m \u001b[43m        \u001b[49m\u001b[43mimages\u001b[49m\u001b[38;5;241;43m=\u001b[39;49m\u001b[43mimages\u001b[49m\u001b[43m,\u001b[49m\n\u001b[1;32m    412\u001b[0m \u001b[43m        \u001b[49m\u001b[43mrun_manager\u001b[49m\u001b[38;5;241;43m=\u001b[39;49m\u001b[43mrun_manager\u001b[49m\u001b[43m,\u001b[49m\n\u001b[1;32m    413\u001b[0m \u001b[43m        \u001b[49m\u001b[43mverbose\u001b[49m\u001b[38;5;241;43m=\u001b[39;49m\u001b[38;5;28;43mself\u001b[39;49m\u001b[38;5;241;43m.\u001b[39;49m\u001b[43mverbose\u001b[49m\u001b[43m,\u001b[49m\n\u001b[1;32m    414\u001b[0m \u001b[43m        \u001b[49m\u001b[38;5;241;43m*\u001b[39;49m\u001b[38;5;241;43m*\u001b[39;49m\u001b[43mkwargs\u001b[49m\u001b[43m,\u001b[49m\n\u001b[1;32m    415\u001b[0m \u001b[43m    \u001b[49m\u001b[43m)\u001b[49m\n\u001b[1;32m    416\u001b[0m     generations\u001b[38;5;241m.\u001b[39mappend([final_chunk])\n\u001b[1;32m    417\u001b[0m \u001b[38;5;28;01mreturn\u001b[39;00m LLMResult(generations\u001b[38;5;241m=\u001b[39mgenerations)\n",
      "File \u001b[0;32m/opt/homebrew/Caskroom/miniconda/base/lib/python3.11/site-packages/langchain_community/llms/ollama.py:317\u001b[0m, in \u001b[0;36m_OllamaCommon._stream_with_aggregation\u001b[0;34m(self, prompt, stop, run_manager, verbose, **kwargs)\u001b[0m\n\u001b[1;32m    308\u001b[0m \u001b[38;5;28;01mdef\u001b[39;00m \u001b[38;5;21m_stream_with_aggregation\u001b[39m(\n\u001b[1;32m    309\u001b[0m     \u001b[38;5;28mself\u001b[39m,\n\u001b[1;32m    310\u001b[0m     prompt: \u001b[38;5;28mstr\u001b[39m,\n\u001b[0;32m   (...)\u001b[0m\n\u001b[1;32m    314\u001b[0m     \u001b[38;5;241m*\u001b[39m\u001b[38;5;241m*\u001b[39mkwargs: Any,\n\u001b[1;32m    315\u001b[0m ) \u001b[38;5;241m-\u001b[39m\u001b[38;5;241m>\u001b[39m GenerationChunk:\n\u001b[1;32m    316\u001b[0m     final_chunk: Optional[GenerationChunk] \u001b[38;5;241m=\u001b[39m \u001b[38;5;28;01mNone\u001b[39;00m\n\u001b[0;32m--> 317\u001b[0m \u001b[43m    \u001b[49m\u001b[38;5;28;43;01mfor\u001b[39;49;00m\u001b[43m \u001b[49m\u001b[43mstream_resp\u001b[49m\u001b[43m \u001b[49m\u001b[38;5;129;43;01min\u001b[39;49;00m\u001b[43m \u001b[49m\u001b[38;5;28;43mself\u001b[39;49m\u001b[38;5;241;43m.\u001b[39;49m\u001b[43m_create_generate_stream\u001b[49m\u001b[43m(\u001b[49m\u001b[43mprompt\u001b[49m\u001b[43m,\u001b[49m\u001b[43m \u001b[49m\u001b[43mstop\u001b[49m\u001b[43m,\u001b[49m\u001b[43m \u001b[49m\u001b[38;5;241;43m*\u001b[39;49m\u001b[38;5;241;43m*\u001b[39;49m\u001b[43mkwargs\u001b[49m\u001b[43m)\u001b[49m\u001b[43m:\u001b[49m\n\u001b[1;32m    318\u001b[0m \u001b[43m        \u001b[49m\u001b[38;5;28;43;01mif\u001b[39;49;00m\u001b[43m \u001b[49m\u001b[43mstream_resp\u001b[49m\u001b[43m:\u001b[49m\n\u001b[1;32m    319\u001b[0m \u001b[43m            \u001b[49m\u001b[43mchunk\u001b[49m\u001b[43m \u001b[49m\u001b[38;5;241;43m=\u001b[39;49m\u001b[43m \u001b[49m\u001b[43m_stream_response_to_generation_chunk\u001b[49m\u001b[43m(\u001b[49m\u001b[43mstream_resp\u001b[49m\u001b[43m)\u001b[49m\n",
      "File \u001b[0;32m/opt/homebrew/Caskroom/miniconda/base/lib/python3.11/site-packages/langchain_community/llms/ollama.py:159\u001b[0m, in \u001b[0;36m_OllamaCommon._create_generate_stream\u001b[0;34m(self, prompt, stop, images, **kwargs)\u001b[0m\n\u001b[1;32m    151\u001b[0m \u001b[38;5;28;01mdef\u001b[39;00m \u001b[38;5;21m_create_generate_stream\u001b[39m(\n\u001b[1;32m    152\u001b[0m     \u001b[38;5;28mself\u001b[39m,\n\u001b[1;32m    153\u001b[0m     prompt: \u001b[38;5;28mstr\u001b[39m,\n\u001b[0;32m   (...)\u001b[0m\n\u001b[1;32m    156\u001b[0m     \u001b[38;5;241m*\u001b[39m\u001b[38;5;241m*\u001b[39mkwargs: Any,\n\u001b[1;32m    157\u001b[0m ) \u001b[38;5;241m-\u001b[39m\u001b[38;5;241m>\u001b[39m Iterator[\u001b[38;5;28mstr\u001b[39m]:\n\u001b[1;32m    158\u001b[0m     payload \u001b[38;5;241m=\u001b[39m {\u001b[38;5;124m\"\u001b[39m\u001b[38;5;124mprompt\u001b[39m\u001b[38;5;124m\"\u001b[39m: prompt, \u001b[38;5;124m\"\u001b[39m\u001b[38;5;124mimages\u001b[39m\u001b[38;5;124m\"\u001b[39m: images}\n\u001b[0;32m--> 159\u001b[0m     \u001b[38;5;28;01myield from\u001b[39;00m \u001b[38;5;28;43mself\u001b[39;49m\u001b[38;5;241;43m.\u001b[39;49m\u001b[43m_create_stream\u001b[49m\u001b[43m(\u001b[49m\n\u001b[1;32m    160\u001b[0m \u001b[43m        \u001b[49m\u001b[43mpayload\u001b[49m\u001b[38;5;241;43m=\u001b[39;49m\u001b[43mpayload\u001b[49m\u001b[43m,\u001b[49m\n\u001b[1;32m    161\u001b[0m \u001b[43m        \u001b[49m\u001b[43mstop\u001b[49m\u001b[38;5;241;43m=\u001b[39;49m\u001b[43mstop\u001b[49m\u001b[43m,\u001b[49m\n\u001b[1;32m    162\u001b[0m \u001b[43m        \u001b[49m\u001b[43mapi_url\u001b[49m\u001b[38;5;241;43m=\u001b[39;49m\u001b[38;5;124;43mf\u001b[39;49m\u001b[38;5;124;43m\"\u001b[39;49m\u001b[38;5;132;43;01m{\u001b[39;49;00m\u001b[38;5;28;43mself\u001b[39;49m\u001b[38;5;241;43m.\u001b[39;49m\u001b[43mbase_url\u001b[49m\u001b[38;5;132;43;01m}\u001b[39;49;00m\u001b[38;5;124;43m/api/generate\u001b[39;49m\u001b[38;5;124;43m\"\u001b[39;49m\u001b[43m,\u001b[49m\n\u001b[1;32m    163\u001b[0m \u001b[43m        \u001b[49m\u001b[38;5;241;43m*\u001b[39;49m\u001b[38;5;241;43m*\u001b[39;49m\u001b[43mkwargs\u001b[49m\u001b[43m,\u001b[49m\n\u001b[1;32m    164\u001b[0m \u001b[43m    \u001b[49m\u001b[43m)\u001b[49m\n",
      "File \u001b[0;32m/opt/homebrew/Caskroom/miniconda/base/lib/python3.11/site-packages/langchain_community/llms/ollama.py:220\u001b[0m, in \u001b[0;36m_OllamaCommon._create_stream\u001b[0;34m(self, api_url, payload, stop, **kwargs)\u001b[0m\n\u001b[1;32m    213\u001b[0m \u001b[38;5;28;01melse\u001b[39;00m:\n\u001b[1;32m    214\u001b[0m     request_payload \u001b[38;5;241m=\u001b[39m {\n\u001b[1;32m    215\u001b[0m         \u001b[38;5;124m\"\u001b[39m\u001b[38;5;124mprompt\u001b[39m\u001b[38;5;124m\"\u001b[39m: payload\u001b[38;5;241m.\u001b[39mget(\u001b[38;5;124m\"\u001b[39m\u001b[38;5;124mprompt\u001b[39m\u001b[38;5;124m\"\u001b[39m),\n\u001b[1;32m    216\u001b[0m         \u001b[38;5;124m\"\u001b[39m\u001b[38;5;124mimages\u001b[39m\u001b[38;5;124m\"\u001b[39m: payload\u001b[38;5;241m.\u001b[39mget(\u001b[38;5;124m\"\u001b[39m\u001b[38;5;124mimages\u001b[39m\u001b[38;5;124m\"\u001b[39m, []),\n\u001b[1;32m    217\u001b[0m         \u001b[38;5;241m*\u001b[39m\u001b[38;5;241m*\u001b[39mparams,\n\u001b[1;32m    218\u001b[0m     }\n\u001b[0;32m--> 220\u001b[0m response \u001b[38;5;241m=\u001b[39m \u001b[43mrequests\u001b[49m\u001b[38;5;241;43m.\u001b[39;49m\u001b[43mpost\u001b[49m\u001b[43m(\u001b[49m\n\u001b[1;32m    221\u001b[0m \u001b[43m    \u001b[49m\u001b[43murl\u001b[49m\u001b[38;5;241;43m=\u001b[39;49m\u001b[43mapi_url\u001b[49m\u001b[43m,\u001b[49m\n\u001b[1;32m    222\u001b[0m \u001b[43m    \u001b[49m\u001b[43mheaders\u001b[49m\u001b[38;5;241;43m=\u001b[39;49m\u001b[43m{\u001b[49m\n\u001b[1;32m    223\u001b[0m \u001b[43m        \u001b[49m\u001b[38;5;124;43m\"\u001b[39;49m\u001b[38;5;124;43mContent-Type\u001b[39;49m\u001b[38;5;124;43m\"\u001b[39;49m\u001b[43m:\u001b[49m\u001b[43m \u001b[49m\u001b[38;5;124;43m\"\u001b[39;49m\u001b[38;5;124;43mapplication/json\u001b[39;49m\u001b[38;5;124;43m\"\u001b[39;49m\u001b[43m,\u001b[49m\n\u001b[1;32m    224\u001b[0m \u001b[43m        \u001b[49m\u001b[38;5;241;43m*\u001b[39;49m\u001b[38;5;241;43m*\u001b[39;49m\u001b[43m(\u001b[49m\u001b[38;5;28;43mself\u001b[39;49m\u001b[38;5;241;43m.\u001b[39;49m\u001b[43mheaders\u001b[49m\u001b[43m \u001b[49m\u001b[38;5;28;43;01mif\u001b[39;49;00m\u001b[43m \u001b[49m\u001b[38;5;28;43misinstance\u001b[39;49m\u001b[43m(\u001b[49m\u001b[38;5;28;43mself\u001b[39;49m\u001b[38;5;241;43m.\u001b[39;49m\u001b[43mheaders\u001b[49m\u001b[43m,\u001b[49m\u001b[43m \u001b[49m\u001b[38;5;28;43mdict\u001b[39;49m\u001b[43m)\u001b[49m\u001b[43m \u001b[49m\u001b[38;5;28;43;01melse\u001b[39;49;00m\u001b[43m \u001b[49m\u001b[43m{\u001b[49m\u001b[43m}\u001b[49m\u001b[43m)\u001b[49m\u001b[43m,\u001b[49m\n\u001b[1;32m    225\u001b[0m \u001b[43m    \u001b[49m\u001b[43m}\u001b[49m\u001b[43m,\u001b[49m\n\u001b[1;32m    226\u001b[0m \u001b[43m    \u001b[49m\u001b[43mjson\u001b[49m\u001b[38;5;241;43m=\u001b[39;49m\u001b[43mrequest_payload\u001b[49m\u001b[43m,\u001b[49m\n\u001b[1;32m    227\u001b[0m \u001b[43m    \u001b[49m\u001b[43mstream\u001b[49m\u001b[38;5;241;43m=\u001b[39;49m\u001b[38;5;28;43;01mTrue\u001b[39;49;00m\u001b[43m,\u001b[49m\n\u001b[1;32m    228\u001b[0m \u001b[43m    \u001b[49m\u001b[43mtimeout\u001b[49m\u001b[38;5;241;43m=\u001b[39;49m\u001b[38;5;28;43mself\u001b[39;49m\u001b[38;5;241;43m.\u001b[39;49m\u001b[43mtimeout\u001b[49m\u001b[43m,\u001b[49m\n\u001b[1;32m    229\u001b[0m \u001b[43m\u001b[49m\u001b[43m)\u001b[49m\n\u001b[1;32m    230\u001b[0m response\u001b[38;5;241m.\u001b[39mencoding \u001b[38;5;241m=\u001b[39m \u001b[38;5;124m\"\u001b[39m\u001b[38;5;124mutf-8\u001b[39m\u001b[38;5;124m\"\u001b[39m\n\u001b[1;32m    231\u001b[0m \u001b[38;5;28;01mif\u001b[39;00m response\u001b[38;5;241m.\u001b[39mstatus_code \u001b[38;5;241m!=\u001b[39m \u001b[38;5;241m200\u001b[39m:\n",
      "File \u001b[0;32m/opt/homebrew/Caskroom/miniconda/base/lib/python3.11/site-packages/requests/api.py:115\u001b[0m, in \u001b[0;36mpost\u001b[0;34m(url, data, json, **kwargs)\u001b[0m\n\u001b[1;32m    103\u001b[0m \u001b[38;5;28;01mdef\u001b[39;00m \u001b[38;5;21mpost\u001b[39m(url, data\u001b[38;5;241m=\u001b[39m\u001b[38;5;28;01mNone\u001b[39;00m, json\u001b[38;5;241m=\u001b[39m\u001b[38;5;28;01mNone\u001b[39;00m, \u001b[38;5;241m*\u001b[39m\u001b[38;5;241m*\u001b[39mkwargs):\n\u001b[1;32m    104\u001b[0m \u001b[38;5;250m    \u001b[39m\u001b[38;5;124mr\u001b[39m\u001b[38;5;124;03m\"\"\"Sends a POST request.\u001b[39;00m\n\u001b[1;32m    105\u001b[0m \n\u001b[1;32m    106\u001b[0m \u001b[38;5;124;03m    :param url: URL for the new :class:`Request` object.\u001b[39;00m\n\u001b[0;32m   (...)\u001b[0m\n\u001b[1;32m    112\u001b[0m \u001b[38;5;124;03m    :rtype: requests.Response\u001b[39;00m\n\u001b[1;32m    113\u001b[0m \u001b[38;5;124;03m    \"\"\"\u001b[39;00m\n\u001b[0;32m--> 115\u001b[0m     \u001b[38;5;28;01mreturn\u001b[39;00m \u001b[43mrequest\u001b[49m\u001b[43m(\u001b[49m\u001b[38;5;124;43m\"\u001b[39;49m\u001b[38;5;124;43mpost\u001b[39;49m\u001b[38;5;124;43m\"\u001b[39;49m\u001b[43m,\u001b[49m\u001b[43m \u001b[49m\u001b[43murl\u001b[49m\u001b[43m,\u001b[49m\u001b[43m \u001b[49m\u001b[43mdata\u001b[49m\u001b[38;5;241;43m=\u001b[39;49m\u001b[43mdata\u001b[49m\u001b[43m,\u001b[49m\u001b[43m \u001b[49m\u001b[43mjson\u001b[49m\u001b[38;5;241;43m=\u001b[39;49m\u001b[43mjson\u001b[49m\u001b[43m,\u001b[49m\u001b[43m \u001b[49m\u001b[38;5;241;43m*\u001b[39;49m\u001b[38;5;241;43m*\u001b[39;49m\u001b[43mkwargs\u001b[49m\u001b[43m)\u001b[49m\n",
      "File \u001b[0;32m/opt/homebrew/Caskroom/miniconda/base/lib/python3.11/site-packages/requests/api.py:59\u001b[0m, in \u001b[0;36mrequest\u001b[0;34m(method, url, **kwargs)\u001b[0m\n\u001b[1;32m     55\u001b[0m \u001b[38;5;66;03m# By using the 'with' statement we are sure the session is closed, thus we\u001b[39;00m\n\u001b[1;32m     56\u001b[0m \u001b[38;5;66;03m# avoid leaving sockets open which can trigger a ResourceWarning in some\u001b[39;00m\n\u001b[1;32m     57\u001b[0m \u001b[38;5;66;03m# cases, and look like a memory leak in others.\u001b[39;00m\n\u001b[1;32m     58\u001b[0m \u001b[38;5;28;01mwith\u001b[39;00m sessions\u001b[38;5;241m.\u001b[39mSession() \u001b[38;5;28;01mas\u001b[39;00m session:\n\u001b[0;32m---> 59\u001b[0m     \u001b[38;5;28;01mreturn\u001b[39;00m \u001b[43msession\u001b[49m\u001b[38;5;241;43m.\u001b[39;49m\u001b[43mrequest\u001b[49m\u001b[43m(\u001b[49m\u001b[43mmethod\u001b[49m\u001b[38;5;241;43m=\u001b[39;49m\u001b[43mmethod\u001b[49m\u001b[43m,\u001b[49m\u001b[43m \u001b[49m\u001b[43murl\u001b[49m\u001b[38;5;241;43m=\u001b[39;49m\u001b[43murl\u001b[49m\u001b[43m,\u001b[49m\u001b[43m \u001b[49m\u001b[38;5;241;43m*\u001b[39;49m\u001b[38;5;241;43m*\u001b[39;49m\u001b[43mkwargs\u001b[49m\u001b[43m)\u001b[49m\n",
      "File \u001b[0;32m/opt/homebrew/Caskroom/miniconda/base/lib/python3.11/site-packages/requests/sessions.py:589\u001b[0m, in \u001b[0;36mSession.request\u001b[0;34m(self, method, url, params, data, headers, cookies, files, auth, timeout, allow_redirects, proxies, hooks, stream, verify, cert, json)\u001b[0m\n\u001b[1;32m    584\u001b[0m send_kwargs \u001b[38;5;241m=\u001b[39m {\n\u001b[1;32m    585\u001b[0m     \u001b[38;5;124m\"\u001b[39m\u001b[38;5;124mtimeout\u001b[39m\u001b[38;5;124m\"\u001b[39m: timeout,\n\u001b[1;32m    586\u001b[0m     \u001b[38;5;124m\"\u001b[39m\u001b[38;5;124mallow_redirects\u001b[39m\u001b[38;5;124m\"\u001b[39m: allow_redirects,\n\u001b[1;32m    587\u001b[0m }\n\u001b[1;32m    588\u001b[0m send_kwargs\u001b[38;5;241m.\u001b[39mupdate(settings)\n\u001b[0;32m--> 589\u001b[0m resp \u001b[38;5;241m=\u001b[39m \u001b[38;5;28;43mself\u001b[39;49m\u001b[38;5;241;43m.\u001b[39;49m\u001b[43msend\u001b[49m\u001b[43m(\u001b[49m\u001b[43mprep\u001b[49m\u001b[43m,\u001b[49m\u001b[43m \u001b[49m\u001b[38;5;241;43m*\u001b[39;49m\u001b[38;5;241;43m*\u001b[39;49m\u001b[43msend_kwargs\u001b[49m\u001b[43m)\u001b[49m\n\u001b[1;32m    591\u001b[0m \u001b[38;5;28;01mreturn\u001b[39;00m resp\n",
      "File \u001b[0;32m/opt/homebrew/Caskroom/miniconda/base/lib/python3.11/site-packages/requests/sessions.py:703\u001b[0m, in \u001b[0;36mSession.send\u001b[0;34m(self, request, **kwargs)\u001b[0m\n\u001b[1;32m    700\u001b[0m start \u001b[38;5;241m=\u001b[39m preferred_clock()\n\u001b[1;32m    702\u001b[0m \u001b[38;5;66;03m# Send the request\u001b[39;00m\n\u001b[0;32m--> 703\u001b[0m r \u001b[38;5;241m=\u001b[39m \u001b[43madapter\u001b[49m\u001b[38;5;241;43m.\u001b[39;49m\u001b[43msend\u001b[49m\u001b[43m(\u001b[49m\u001b[43mrequest\u001b[49m\u001b[43m,\u001b[49m\u001b[43m \u001b[49m\u001b[38;5;241;43m*\u001b[39;49m\u001b[38;5;241;43m*\u001b[39;49m\u001b[43mkwargs\u001b[49m\u001b[43m)\u001b[49m\n\u001b[1;32m    705\u001b[0m \u001b[38;5;66;03m# Total elapsed time of the request (approximately)\u001b[39;00m\n\u001b[1;32m    706\u001b[0m elapsed \u001b[38;5;241m=\u001b[39m preferred_clock() \u001b[38;5;241m-\u001b[39m start\n",
      "File \u001b[0;32m/opt/homebrew/Caskroom/miniconda/base/lib/python3.11/site-packages/requests/adapters.py:486\u001b[0m, in \u001b[0;36mHTTPAdapter.send\u001b[0;34m(self, request, stream, timeout, verify, cert, proxies)\u001b[0m\n\u001b[1;32m    483\u001b[0m     timeout \u001b[38;5;241m=\u001b[39m TimeoutSauce(connect\u001b[38;5;241m=\u001b[39mtimeout, read\u001b[38;5;241m=\u001b[39mtimeout)\n\u001b[1;32m    485\u001b[0m \u001b[38;5;28;01mtry\u001b[39;00m:\n\u001b[0;32m--> 486\u001b[0m     resp \u001b[38;5;241m=\u001b[39m \u001b[43mconn\u001b[49m\u001b[38;5;241;43m.\u001b[39;49m\u001b[43murlopen\u001b[49m\u001b[43m(\u001b[49m\n\u001b[1;32m    487\u001b[0m \u001b[43m        \u001b[49m\u001b[43mmethod\u001b[49m\u001b[38;5;241;43m=\u001b[39;49m\u001b[43mrequest\u001b[49m\u001b[38;5;241;43m.\u001b[39;49m\u001b[43mmethod\u001b[49m\u001b[43m,\u001b[49m\n\u001b[1;32m    488\u001b[0m \u001b[43m        \u001b[49m\u001b[43murl\u001b[49m\u001b[38;5;241;43m=\u001b[39;49m\u001b[43murl\u001b[49m\u001b[43m,\u001b[49m\n\u001b[1;32m    489\u001b[0m \u001b[43m        \u001b[49m\u001b[43mbody\u001b[49m\u001b[38;5;241;43m=\u001b[39;49m\u001b[43mrequest\u001b[49m\u001b[38;5;241;43m.\u001b[39;49m\u001b[43mbody\u001b[49m\u001b[43m,\u001b[49m\n\u001b[1;32m    490\u001b[0m \u001b[43m        \u001b[49m\u001b[43mheaders\u001b[49m\u001b[38;5;241;43m=\u001b[39;49m\u001b[43mrequest\u001b[49m\u001b[38;5;241;43m.\u001b[39;49m\u001b[43mheaders\u001b[49m\u001b[43m,\u001b[49m\n\u001b[1;32m    491\u001b[0m \u001b[43m        \u001b[49m\u001b[43mredirect\u001b[49m\u001b[38;5;241;43m=\u001b[39;49m\u001b[38;5;28;43;01mFalse\u001b[39;49;00m\u001b[43m,\u001b[49m\n\u001b[1;32m    492\u001b[0m \u001b[43m        \u001b[49m\u001b[43massert_same_host\u001b[49m\u001b[38;5;241;43m=\u001b[39;49m\u001b[38;5;28;43;01mFalse\u001b[39;49;00m\u001b[43m,\u001b[49m\n\u001b[1;32m    493\u001b[0m \u001b[43m        \u001b[49m\u001b[43mpreload_content\u001b[49m\u001b[38;5;241;43m=\u001b[39;49m\u001b[38;5;28;43;01mFalse\u001b[39;49;00m\u001b[43m,\u001b[49m\n\u001b[1;32m    494\u001b[0m \u001b[43m        \u001b[49m\u001b[43mdecode_content\u001b[49m\u001b[38;5;241;43m=\u001b[39;49m\u001b[38;5;28;43;01mFalse\u001b[39;49;00m\u001b[43m,\u001b[49m\n\u001b[1;32m    495\u001b[0m \u001b[43m        \u001b[49m\u001b[43mretries\u001b[49m\u001b[38;5;241;43m=\u001b[39;49m\u001b[38;5;28;43mself\u001b[39;49m\u001b[38;5;241;43m.\u001b[39;49m\u001b[43mmax_retries\u001b[49m\u001b[43m,\u001b[49m\n\u001b[1;32m    496\u001b[0m \u001b[43m        \u001b[49m\u001b[43mtimeout\u001b[49m\u001b[38;5;241;43m=\u001b[39;49m\u001b[43mtimeout\u001b[49m\u001b[43m,\u001b[49m\n\u001b[1;32m    497\u001b[0m \u001b[43m        \u001b[49m\u001b[43mchunked\u001b[49m\u001b[38;5;241;43m=\u001b[39;49m\u001b[43mchunked\u001b[49m\u001b[43m,\u001b[49m\n\u001b[1;32m    498\u001b[0m \u001b[43m    \u001b[49m\u001b[43m)\u001b[49m\n\u001b[1;32m    500\u001b[0m \u001b[38;5;28;01mexcept\u001b[39;00m (ProtocolError, \u001b[38;5;167;01mOSError\u001b[39;00m) \u001b[38;5;28;01mas\u001b[39;00m err:\n\u001b[1;32m    501\u001b[0m     \u001b[38;5;28;01mraise\u001b[39;00m \u001b[38;5;167;01mConnectionError\u001b[39;00m(err, request\u001b[38;5;241m=\u001b[39mrequest)\n",
      "File \u001b[0;32m/opt/homebrew/Caskroom/miniconda/base/lib/python3.11/site-packages/urllib3/connectionpool.py:715\u001b[0m, in \u001b[0;36mHTTPConnectionPool.urlopen\u001b[0;34m(self, method, url, body, headers, retries, redirect, assert_same_host, timeout, pool_timeout, release_conn, chunked, body_pos, **response_kw)\u001b[0m\n\u001b[1;32m    712\u001b[0m     \u001b[38;5;28mself\u001b[39m\u001b[38;5;241m.\u001b[39m_prepare_proxy(conn)\n\u001b[1;32m    714\u001b[0m \u001b[38;5;66;03m# Make the request on the httplib connection object.\u001b[39;00m\n\u001b[0;32m--> 715\u001b[0m httplib_response \u001b[38;5;241m=\u001b[39m \u001b[38;5;28;43mself\u001b[39;49m\u001b[38;5;241;43m.\u001b[39;49m\u001b[43m_make_request\u001b[49m\u001b[43m(\u001b[49m\n\u001b[1;32m    716\u001b[0m \u001b[43m    \u001b[49m\u001b[43mconn\u001b[49m\u001b[43m,\u001b[49m\n\u001b[1;32m    717\u001b[0m \u001b[43m    \u001b[49m\u001b[43mmethod\u001b[49m\u001b[43m,\u001b[49m\n\u001b[1;32m    718\u001b[0m \u001b[43m    \u001b[49m\u001b[43murl\u001b[49m\u001b[43m,\u001b[49m\n\u001b[1;32m    719\u001b[0m \u001b[43m    \u001b[49m\u001b[43mtimeout\u001b[49m\u001b[38;5;241;43m=\u001b[39;49m\u001b[43mtimeout_obj\u001b[49m\u001b[43m,\u001b[49m\n\u001b[1;32m    720\u001b[0m \u001b[43m    \u001b[49m\u001b[43mbody\u001b[49m\u001b[38;5;241;43m=\u001b[39;49m\u001b[43mbody\u001b[49m\u001b[43m,\u001b[49m\n\u001b[1;32m    721\u001b[0m \u001b[43m    \u001b[49m\u001b[43mheaders\u001b[49m\u001b[38;5;241;43m=\u001b[39;49m\u001b[43mheaders\u001b[49m\u001b[43m,\u001b[49m\n\u001b[1;32m    722\u001b[0m \u001b[43m    \u001b[49m\u001b[43mchunked\u001b[49m\u001b[38;5;241;43m=\u001b[39;49m\u001b[43mchunked\u001b[49m\u001b[43m,\u001b[49m\n\u001b[1;32m    723\u001b[0m \u001b[43m\u001b[49m\u001b[43m)\u001b[49m\n\u001b[1;32m    725\u001b[0m \u001b[38;5;66;03m# If we're going to release the connection in ``finally:``, then\u001b[39;00m\n\u001b[1;32m    726\u001b[0m \u001b[38;5;66;03m# the response doesn't need to know about the connection. Otherwise\u001b[39;00m\n\u001b[1;32m    727\u001b[0m \u001b[38;5;66;03m# it will also try to release it and we'll have a double-release\u001b[39;00m\n\u001b[1;32m    728\u001b[0m \u001b[38;5;66;03m# mess.\u001b[39;00m\n\u001b[1;32m    729\u001b[0m response_conn \u001b[38;5;241m=\u001b[39m conn \u001b[38;5;28;01mif\u001b[39;00m \u001b[38;5;129;01mnot\u001b[39;00m release_conn \u001b[38;5;28;01melse\u001b[39;00m \u001b[38;5;28;01mNone\u001b[39;00m\n",
      "File \u001b[0;32m/opt/homebrew/Caskroom/miniconda/base/lib/python3.11/site-packages/urllib3/connectionpool.py:467\u001b[0m, in \u001b[0;36mHTTPConnectionPool._make_request\u001b[0;34m(self, conn, method, url, timeout, chunked, **httplib_request_kw)\u001b[0m\n\u001b[1;32m    462\u001b[0m             httplib_response \u001b[38;5;241m=\u001b[39m conn\u001b[38;5;241m.\u001b[39mgetresponse()\n\u001b[1;32m    463\u001b[0m         \u001b[38;5;28;01mexcept\u001b[39;00m \u001b[38;5;167;01mBaseException\u001b[39;00m \u001b[38;5;28;01mas\u001b[39;00m e:\n\u001b[1;32m    464\u001b[0m             \u001b[38;5;66;03m# Remove the TypeError from the exception chain in\u001b[39;00m\n\u001b[1;32m    465\u001b[0m             \u001b[38;5;66;03m# Python 3 (including for exceptions like SystemExit).\u001b[39;00m\n\u001b[1;32m    466\u001b[0m             \u001b[38;5;66;03m# Otherwise it looks like a bug in the code.\u001b[39;00m\n\u001b[0;32m--> 467\u001b[0m             \u001b[43msix\u001b[49m\u001b[38;5;241;43m.\u001b[39;49m\u001b[43mraise_from\u001b[49m\u001b[43m(\u001b[49m\u001b[43me\u001b[49m\u001b[43m,\u001b[49m\u001b[43m \u001b[49m\u001b[38;5;28;43;01mNone\u001b[39;49;00m\u001b[43m)\u001b[49m\n\u001b[1;32m    468\u001b[0m \u001b[38;5;28;01mexcept\u001b[39;00m (SocketTimeout, BaseSSLError, SocketError) \u001b[38;5;28;01mas\u001b[39;00m e:\n\u001b[1;32m    469\u001b[0m     \u001b[38;5;28mself\u001b[39m\u001b[38;5;241m.\u001b[39m_raise_timeout(err\u001b[38;5;241m=\u001b[39me, url\u001b[38;5;241m=\u001b[39murl, timeout_value\u001b[38;5;241m=\u001b[39mread_timeout)\n",
      "File \u001b[0;32m<string>:3\u001b[0m, in \u001b[0;36mraise_from\u001b[0;34m(value, from_value)\u001b[0m\n",
      "File \u001b[0;32m/opt/homebrew/Caskroom/miniconda/base/lib/python3.11/site-packages/urllib3/connectionpool.py:462\u001b[0m, in \u001b[0;36mHTTPConnectionPool._make_request\u001b[0;34m(self, conn, method, url, timeout, chunked, **httplib_request_kw)\u001b[0m\n\u001b[1;32m    459\u001b[0m \u001b[38;5;28;01mexcept\u001b[39;00m \u001b[38;5;167;01mTypeError\u001b[39;00m:\n\u001b[1;32m    460\u001b[0m     \u001b[38;5;66;03m# Python 3\u001b[39;00m\n\u001b[1;32m    461\u001b[0m     \u001b[38;5;28;01mtry\u001b[39;00m:\n\u001b[0;32m--> 462\u001b[0m         httplib_response \u001b[38;5;241m=\u001b[39m \u001b[43mconn\u001b[49m\u001b[38;5;241;43m.\u001b[39;49m\u001b[43mgetresponse\u001b[49m\u001b[43m(\u001b[49m\u001b[43m)\u001b[49m\n\u001b[1;32m    463\u001b[0m     \u001b[38;5;28;01mexcept\u001b[39;00m \u001b[38;5;167;01mBaseException\u001b[39;00m \u001b[38;5;28;01mas\u001b[39;00m e:\n\u001b[1;32m    464\u001b[0m         \u001b[38;5;66;03m# Remove the TypeError from the exception chain in\u001b[39;00m\n\u001b[1;32m    465\u001b[0m         \u001b[38;5;66;03m# Python 3 (including for exceptions like SystemExit).\u001b[39;00m\n\u001b[1;32m    466\u001b[0m         \u001b[38;5;66;03m# Otherwise it looks like a bug in the code.\u001b[39;00m\n\u001b[1;32m    467\u001b[0m         six\u001b[38;5;241m.\u001b[39mraise_from(e, \u001b[38;5;28;01mNone\u001b[39;00m)\n",
      "File \u001b[0;32m/opt/homebrew/Caskroom/miniconda/base/lib/python3.11/http/client.py:1390\u001b[0m, in \u001b[0;36mHTTPConnection.getresponse\u001b[0;34m(self)\u001b[0m\n\u001b[1;32m   1388\u001b[0m \u001b[38;5;28;01mtry\u001b[39;00m:\n\u001b[1;32m   1389\u001b[0m     \u001b[38;5;28;01mtry\u001b[39;00m:\n\u001b[0;32m-> 1390\u001b[0m         \u001b[43mresponse\u001b[49m\u001b[38;5;241;43m.\u001b[39;49m\u001b[43mbegin\u001b[49m\u001b[43m(\u001b[49m\u001b[43m)\u001b[49m\n\u001b[1;32m   1391\u001b[0m     \u001b[38;5;28;01mexcept\u001b[39;00m \u001b[38;5;167;01mConnectionError\u001b[39;00m:\n\u001b[1;32m   1392\u001b[0m         \u001b[38;5;28mself\u001b[39m\u001b[38;5;241m.\u001b[39mclose()\n",
      "File \u001b[0;32m/opt/homebrew/Caskroom/miniconda/base/lib/python3.11/http/client.py:325\u001b[0m, in \u001b[0;36mHTTPResponse.begin\u001b[0;34m(self)\u001b[0m\n\u001b[1;32m    323\u001b[0m \u001b[38;5;66;03m# read until we get a non-100 response\u001b[39;00m\n\u001b[1;32m    324\u001b[0m \u001b[38;5;28;01mwhile\u001b[39;00m \u001b[38;5;28;01mTrue\u001b[39;00m:\n\u001b[0;32m--> 325\u001b[0m     version, status, reason \u001b[38;5;241m=\u001b[39m \u001b[38;5;28;43mself\u001b[39;49m\u001b[38;5;241;43m.\u001b[39;49m\u001b[43m_read_status\u001b[49m\u001b[43m(\u001b[49m\u001b[43m)\u001b[49m\n\u001b[1;32m    326\u001b[0m     \u001b[38;5;28;01mif\u001b[39;00m status \u001b[38;5;241m!=\u001b[39m CONTINUE:\n\u001b[1;32m    327\u001b[0m         \u001b[38;5;28;01mbreak\u001b[39;00m\n",
      "File \u001b[0;32m/opt/homebrew/Caskroom/miniconda/base/lib/python3.11/http/client.py:286\u001b[0m, in \u001b[0;36mHTTPResponse._read_status\u001b[0;34m(self)\u001b[0m\n\u001b[1;32m    285\u001b[0m \u001b[38;5;28;01mdef\u001b[39;00m \u001b[38;5;21m_read_status\u001b[39m(\u001b[38;5;28mself\u001b[39m):\n\u001b[0;32m--> 286\u001b[0m     line \u001b[38;5;241m=\u001b[39m \u001b[38;5;28mstr\u001b[39m(\u001b[38;5;28mself\u001b[39m\u001b[38;5;241m.\u001b[39mfp\u001b[38;5;241m.\u001b[39mreadline(_MAXLINE \u001b[38;5;241m+\u001b[39m \u001b[38;5;241m1\u001b[39m), \u001b[38;5;124m\"\u001b[39m\u001b[38;5;124miso-8859-1\u001b[39m\u001b[38;5;124m\"\u001b[39m)\n\u001b[1;32m    287\u001b[0m     \u001b[38;5;28;01mif\u001b[39;00m \u001b[38;5;28mlen\u001b[39m(line) \u001b[38;5;241m>\u001b[39m _MAXLINE:\n\u001b[1;32m    288\u001b[0m         \u001b[38;5;28;01mraise\u001b[39;00m LineTooLong(\u001b[38;5;124m\"\u001b[39m\u001b[38;5;124mstatus line\u001b[39m\u001b[38;5;124m\"\u001b[39m)\n",
      "File \u001b[0;32m/opt/homebrew/Caskroom/miniconda/base/lib/python3.11/socket.py:706\u001b[0m, in \u001b[0;36mSocketIO.readinto\u001b[0;34m(self, b)\u001b[0m\n\u001b[1;32m    704\u001b[0m \u001b[38;5;28;01mwhile\u001b[39;00m \u001b[38;5;28;01mTrue\u001b[39;00m:\n\u001b[1;32m    705\u001b[0m     \u001b[38;5;28;01mtry\u001b[39;00m:\n\u001b[0;32m--> 706\u001b[0m         \u001b[38;5;28;01mreturn\u001b[39;00m \u001b[38;5;28;43mself\u001b[39;49m\u001b[38;5;241;43m.\u001b[39;49m\u001b[43m_sock\u001b[49m\u001b[38;5;241;43m.\u001b[39;49m\u001b[43mrecv_into\u001b[49m\u001b[43m(\u001b[49m\u001b[43mb\u001b[49m\u001b[43m)\u001b[49m\n\u001b[1;32m    707\u001b[0m     \u001b[38;5;28;01mexcept\u001b[39;00m timeout:\n\u001b[1;32m    708\u001b[0m         \u001b[38;5;28mself\u001b[39m\u001b[38;5;241m.\u001b[39m_timeout_occurred \u001b[38;5;241m=\u001b[39m \u001b[38;5;28;01mTrue\u001b[39;00m\n",
      "\u001b[0;31mKeyboardInterrupt\u001b[0m: "
     ]
    }
   ],
   "source": [
    "normative_ratings = model.sample_text(\n",
    "  f'Memories of Alice: {behaviors._memory.retrieve_recent(100)}'\n",
    "  f'Behaviours of Alice: {[\"\\n\".join([f\"{i+1}. {behaviour_list[i][\"behaviour\"]}\" for i in range(len(behaviour_list))])]}'\n",
    "  f'Instructions: \\n'\n",
    "  f'For each of the potential behaviours that Alice could take in response to the situation, '\n",
    "  f'indictate six people or groups of people that would be affected if Alice took that behaviour (do not include Alice). '\n",
    "  f'For each person or group, provide a rating from -10 to 10 about whether they would approve or disapprove of the behaviour. '\n",
    "  f'if Alice were to engage in the behaviour. -10 would be the least approval and 10 would be the most approval. '\n",
    "  f'and from 0 to 100 how much Alice is motivated to take their approval or disapproval into account. '\n",
    "  f'0 would mean that Alice does not care at all about their approval or disapproval, and 100 would mean that she care the most. '\n",
    "  f'be sure to each numbers for each ratings and allow for appropriate variation in the ratings'\n",
    "  f'this should be in the form of (Approval: number, Alice''s Motivation: number) for each potential consequence, '\n",
    "  f'there should be a motivation number for each of the people for each of the potential behaviours.'\n",
    "  f'at the end of this, create two lists for each of the approval ratings and motivations for each of the potential consequences. '\n",
    "  f'double check that you did all of the behaviours and people correctly.'\n",
    "  f'for example, each of the behaviours should be listed, and each should have a number for approval and motivation '\n",
    "  f'for each of the people or groups of people.'\n",
    "  f'provide this information as succinctly as possible. ideally just the behaviour, the people effectec, and the numbers for each '\n",
    "  f'of the people for each of the behaviours.'\n",
    "  f'here is an example: \\n'\n",
    "  f'Behaviour 1: \\n'\n",
    "  f'Person 1: Approval: 5, Motivation: 50\\n'\n",
    "  f'Person 2: Approval: 10, Motivation: 100\\n'\n",
    "  f'Person 3: Approval: -5, Motivation: 0\\n'\n",
    "  f'etc.'\n",
    "  f'the critical thing to to do this consistently for each of the potential behaviours and people.'\n",
    ")"
   ]
  },
  {
   "cell_type": "code",
   "execution_count": null,
   "metadata": {},
   "outputs": [],
   "source": [
    "find_ratings = model.sample_text(\n",
    "    f'given the file below, ' +\n",
    "    attitude_ratings +\n",
    "    f'instructions: \\n'\n",
    "    f'create a list of the values and likelihoods for each of the potential consequences. '\n",
    "    f' for each behaviour found in ' \n",
    "    f'Memories of Alice:{behaviors._memory.retrieve_recent(100)}'\n",
    "    f'provide only the numbers with the values in one list and the likelihoods in another list.'\n",
    "    f'be sure to do for all behaviours and all potential consequences.'\n",
    "    f'you should but this into a JSON array with the values and likelihoods as separate lists.'\n",
    "    f'only the numbers should be in the JSON array.'\n",
    ")\n",
    "\n",
    "find_norms = model.sample_text(\n",
    "    f'given the file below, ' +\n",
    "    normative_ratings +\n",
    "    f'instructions: \\n'\n",
    "    f'create a list of the approvals and motivates to comply for each of the behaviours. '\n",
    "    f' for each behaviour found in ' \n",
    "    f'Memories of Alice:{behaviors._memory.retrieve_recent(100)}'\n",
    "    f'provide only the approvals in one list and the motivations to comply in another list for each behaviour and each of the people under consideration.'\n",
    "    f'be sure to do for all behaviours and all people that may care.'\n",
    "    f'you should but this into a JSON array with the approvals and motivations as separate lists.'\n",
    "    f'only the numbers should be in the JSON array.'\n",
    "    f'have it be one long JSON array for each of the approvals and motivations rather than separated by behaviour.'\n",
    ")"
   ]
  }
 ],
 "metadata": {
  "kernelspec": {
   "display_name": "Python 3",
   "language": "python",
   "name": "python3"
  },
  "language_info": {
   "codemirror_mode": {
    "name": "ipython",
    "version": 3
   },
   "file_extension": ".py",
   "mimetype": "text/x-python",
   "name": "python",
   "nbconvert_exporter": "python",
   "pygments_lexer": "ipython3",
   "version": "3.11.8"
  }
 },
 "nbformat": 4,
 "nbformat_minor": 2
}
