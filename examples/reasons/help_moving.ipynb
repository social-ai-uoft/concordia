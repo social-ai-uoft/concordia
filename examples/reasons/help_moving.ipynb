{
 "cells": [
  {
   "cell_type": "code",
   "execution_count": 1,
   "metadata": {},
   "outputs": [],
   "source": [
    "import sys\n",
    "import os\n",
    "path = os.path.abspath('../..')\n",
    "if path not in sys.path:\n",
    "  sys.path.insert(0, path)\n",
    "\n",
    "%load_ext autoreload"
   ]
  },
  {
   "cell_type": "code",
   "execution_count": 3,
   "metadata": {},
   "outputs": [],
   "source": [
    "#!pip install sentence_transformers"
   ]
  },
  {
   "cell_type": "code",
   "execution_count": 2,
   "metadata": {},
   "outputs": [],
   "source": [
    "import collections\n",
    "import concurrent.futures\n",
    "import datetime\n",
    "import json\n",
    "import termcolor\n",
    "import re\n",
    "\n",
    "import numpy as np\n",
    "\n",
    "from IPython import display\n",
    "\n",
    "from concordia.agents import basic_agent\n",
    "from concordia.components import agent as components\n",
    "from concordia import components as generic_components\n",
    "from concordia.associative_memory import associative_memory\n",
    "from concordia.associative_memory import blank_memories\n",
    "from concordia.associative_memory import formative_memories\n",
    "from concordia.associative_memory import importance_function\n",
    "from concordia.clocks import game_clock\n",
    "from concordia.components import game_master as gm_components\n",
    "from concordia.environment import game_master\n",
    "from concordia.metrics import goal_achievement\n",
    "from concordia.metrics import common_sense_morality\n",
    "from concordia.metrics import opinion_of_others\n",
    "from concordia.utils import html as html_lib\n",
    "from concordia.utils import measurements as measurements_lib\n",
    "from concordia.utils import plotting\n",
    "\n",
    "from examples.custom_components import behavior"
   ]
  },
  {
   "cell_type": "code",
   "execution_count": 3,
   "metadata": {},
   "outputs": [],
   "source": [
    "local_models = True\n",
    "\n",
    "if local_models:\n",
    "    # Setup LLM\n",
    "    from concordia.language_model import ollama_model\n",
    "    model = ollama_model.OllamaLanguageModel(\n",
    "        model_name='llama2:70b',\n",
    "        streaming=True\n",
    "    )\n",
    "\n",
    "    # Setup measurements and clock\n",
    "    measurements = measurements_lib.Measurements()\n",
    "    time_step = datetime.timedelta(minutes=20)\n",
    "    SETUP_TIME = datetime.datetime(hour=20, year=2024, month=10, day=1)\n",
    "\n",
    "    START_TIME = datetime.datetime(hour=18, year=2024, month=10, day=2)\n",
    "    clock = game_clock.MultiIntervalClock(\n",
    "        start=SETUP_TIME,\n",
    "        step_sizes=[time_step, datetime.timedelta(seconds=10)])\n",
    "\n",
    "    # Setup sentence encoder\n",
    "    from sentence_transformers import SentenceTransformer\n",
    "    st5_model = SentenceTransformer('sentence-transformers/sentence-t5-base')\n",
    "    embedder = st5_model.encode\n",
    "\n",
    "else:\n",
    "    from concordia.language_model import gpt_model\n",
    "    from concordia.language_model import gcloud_model\n",
    "    # @title Language Model - pick your model and provide keys\n",
    "    CLOUD_PROJECT_ID = '' #@param {type: 'string'}\n",
    "    GPT_API_KEY = '' #@param {type: 'string'}\n",
    "    GPT_MODEL_NAME = '' #@param {type: 'string'}\n",
    "\n",
    "    USE_CLOUD = True #@param {type: 'boolean'}\n",
    "\n",
    "    if USE_CLOUD:\n",
    "        model = gcloud_model.CloudLanguageModel(project_id= CLOUD_PROJECT_ID)\n",
    "    else:\n",
    "        model = gpt_model.GptLanguageModel(api_key=GPT_API_KEY, model_name=GPT_MODEL_NAME)\n",
    "\n",
    "#@title Importance models\n",
    "importance_model = importance_function.ConstantImportanceModel()\n",
    "importance_model_gm = importance_function.ConstantImportanceModel()\n"
   ]
  },
  {
   "cell_type": "code",
   "execution_count": 4,
   "metadata": {},
   "outputs": [
    {
     "name": "stderr",
     "output_type": "stream",
     "text": [
      "/opt/homebrew/Caskroom/miniconda/base/lib/python3.11/site-packages/langchain_core/_api/deprecation.py:117: LangChainDeprecationWarning: The function `__call__` was deprecated in LangChain 0.1.7 and will be removed in 0.2.0. Use invoke instead.\n",
      "  warn_deprecated(\n"
     ]
    },
    {
     "name": "stdout",
     "output_type": "stream",
     "text": [
      "\n",
      "Alice returns home from work to find Dorothy waiting for her, needing assistance with a last-minute move.\n",
      "Alice returns home from work to find Dorothy waiting for her, needing assistance with a last-minute move.\n"
     ]
    }
   ],
   "source": [
    "# @title Generic memories are memories that all players and GM share.\n",
    "\n",
    "shared_memories = [\n",
    "    'Alice returns late from work and finds Dorothy at her doorstep.',\n",
    "    \"Dorothy has to move out of her house tonight and needs someone to help her move.\",\n",
    "]\n",
    "\n",
    "# The generic context will be used for the NPC context. It reflects general\n",
    "# knowledge and is possessed by all characters.\n",
    "shared_context = model.sample_text(\n",
    "    'Summarize the following passage in a concise and insightful fashion:\\n'\n",
    "    + '\\n'.join(shared_memories)\n",
    "    + '\\n'\n",
    "    + 'Summary:'\n",
    ")\n",
    "print(shared_context)"
   ]
  },
  {
   "cell_type": "code",
   "execution_count": 5,
   "metadata": {},
   "outputs": [],
   "source": [
    "blank_memory_factory = blank_memories.MemoryFactory(\n",
    "    model=model,\n",
    "    embedder=embedder,\n",
    "    importance=importance_model.importance,\n",
    "    clock_now=clock.now,\n",
    ")\n",
    "\n",
    "formative_memory_factory = formative_memories.FormativeMemoryFactory(\n",
    "    model=model,\n",
    "    shared_memories=shared_memories,\n",
    "    blank_memory_factory_call=blank_memory_factory.make_blank_memory,\n",
    ")"
   ]
  },
  {
   "cell_type": "code",
   "execution_count": 7,
   "metadata": {},
   "outputs": [],
   "source": [
    "#@title Creating character backgrounds, goals and traits. Modify to explore how it influences the outcomes\n",
    "NUM_PLAYERS = 2\n",
    "\n",
    "scenario_premise = [\n",
    "\n",
    "    (\n",
    "        'Alice returns late from work and finds her friend Dorothy at her doorstep. '\n",
    "        + 'Dorothy has to move out of her house tonight and needs someone to help her move.'\n",
    "    ),\n",
    "]\n",
    "player_configs = [\n",
    "    formative_memories.AgentConfig(\n",
    "        name='Alice',\n",
    "        gender='female',\n",
    "        goal='Alice is exhausted after work, and she needs to help her grandmother all day the next day.',\n",
    "        context=shared_context,\n",
    "        traits='responsibility: medium; aggression: medium',\n",
    "    ),\n",
    "    formative_memories.AgentConfig(\n",
    "        name='Dorothy',\n",
    "        gender='female',\n",
    "        goal=(\n",
    "            \"Dorothy has planned on Bob helping her move, but Bob didn't show up. \"\n",
    "        ),\n",
    "        context=shared_context,\n",
    "        traits='responsibility: medium; aggression: medium',\n",
    "    ),\n",
    "]"
   ]
  },
  {
   "cell_type": "code",
   "execution_count": 8,
   "metadata": {},
   "outputs": [
    {
     "data": {
      "application/vnd.jupyter.widget-view+json": {
       "model_id": "5629ee3a21064aceb05f4f47763b82cf",
       "version_major": 2,
       "version_minor": 0
      },
      "text/plain": [
       "Batches:   0%|          | 0/1 [00:00<?, ?it/s]"
      ]
     },
     "metadata": {},
     "output_type": "display_data"
    },
    {
     "data": {
      "application/vnd.jupyter.widget-view+json": {
       "model_id": "aee24657367941a09372c5c026bfed86",
       "version_major": 2,
       "version_minor": 0
      },
      "text/plain": [
       "Batches:   0%|          | 0/1 [00:00<?, ?it/s]"
      ]
     },
     "metadata": {},
     "output_type": "display_data"
    },
    {
     "name": "stdout",
     "output_type": "stream",
     "text": [
      "Alice is a 30-year-old woman who works as a graphic designer at a marketing firm. She has a medium level of responsibility and aggression. A typical day for Alice involves creating visual content for various clients, meeting with her team to discuss project progress, and collaborating with colleagues to ensure timely delivery of designs.\n",
      "\n",
      "Alice's primary goal is to become a creative director at her firm. She hopes to excel in her career, take on more significant projects, and mentor junior designers. Additionally, Alice desires to start her own business, selling her artwork online. She dreams of having her designs featured in prominent magazines and galleries.\n",
      "\n",
      "Alice's duties include attending client meetings, creating design concepts, and managing projects from start to finish. She is responsible for ensuring that all designs are of high quality and meet the clients' needs. Alice also has obligations outside work, such as taking care of her elderly mother and volunteering at a local animal shelter.\n",
      "\n",
      "What gives Alice joy is seeing her designs come to life and receiving positive feedback from clients. She also enjoys spending time with her friends, trying out new restaurants, watching movies, and practicing yoga. However, Alice fears failure and not being able to achieve her career goals. She is also afraid of disappointing her mother, who sacrificed a lot for her education.\n",
      "\n",
      "Alice's friends are mostly colleagues from work, and they bond over their shared passion for design. They often meet up for drinks after work or attend design conferences together. Alice also has a close friend from college who is a photographer, and they collaborate on projects whenever possible.\n",
      "\n",
      "Currently, Alice is concerned about meeting the deadline for a critical project for a significant client. She is also worried about her mother's health, as she recently had a stroke. Furthermore, Alice is stressed about Dorothy's last-minute move request, as she has a lot on her plate already. She wonders how she will manage to help Dorothy without jeopardizing her work and other responsibilities.\n",
      "\n",
      "In summary, Alice is a responsible and creative individual with a passion for design. She strives to excel in her career while balancing her personal life and obligations. Despite her fears and concerns, Alice remains determined to achieve her goals and make a positive impact in the design industry.  Sure! Here's the revised text with all pronouns replaced with \"Alice\":\n",
      "\n",
      "Alice is a 30-year-old woman who works as a graphic designer at a marketing firm. Alice has a medium level of responsibility and aggression. A typical day for Alice involves creating visual content for various clients, meeting with her team to discuss project progress, and collaborating with colleagues to ensure timely delivery of designs.\n",
      "\n",
      "Alice's primary goal is to become a creative director at her firm. Alice hopes to excel in her career, take on more significant projects, and mentor junior designers. Additionally, Alice desires to start her own business, selling her artwork online. She dreams of having her designs featured in prominent magazines and galleries.\n",
      "\n",
      "Alice's duties include attending client meetings, creating design concepts, and managing projects from start to finish. Alice is responsible for ensuring that all designs are of high quality and meet the clients' needs. Alice also has obligations outside work, such as taking care of her elderly mother and volunteering at a local animal shelter.\n",
      "\n",
      "What gives Alice joy is seeing her designs come to life and receiving positive feedback from clients. She also enjoys spending time with her friends, trying out new restaurants, watching movies, and practicing yoga. However, Alice fears failure and not being able to achieve her career goals. She is also afraid of disappointing her mother, who sacrificed a lot for her education.\n",
      "\n",
      "Alice's friends are mostly colleagues from work, and they bond over their shared passion for design. They often meet up for drinks after work or attend design conferences together. Alice also has a close friend from college who is a photographer, and they collaborate on projects whenever possible.\n",
      "\n",
      "Currently, Alice is concerned about meeting the deadline for a critical project for a significant client. She is also worried about her mother's health, as she recently had a stroke. Furthermore, Alice is stressed about Dorothy's last-minute move request, as she has a lot on her plate already. She wonders how she will manage to help Dorothy without jeopardizing her work and other responsibilities.\n",
      "\n",
      "In summary, Alice is a responsible and creative individual with a passion for design. She strives to excel in her career while balancing her personal life and obligations. Despite her fears and concerns, Alice remains determined to achieve her goals and make a positive impact in the design industry.At the age of 3, Alice was playing with her building blocks when she knocked over her tower, causing her to become frustrated and cry. Her mother, who was in the kitchen, heard Alice's cries and came into the living room to comfort her. She helped Alice rebuild the tower, teaching her how to stabilize it so it wouldn't fall again. This experience taught Alice the importance of perseverance and problem-solving skills, which has stayed with her throughout her life and has been particularly relevant in her career as a graphic designer."
     ]
    },
    {
     "data": {
      "application/vnd.jupyter.widget-view+json": {
       "model_id": "ea57d5b68a0e4d7898e9ba49979547f9",
       "version_major": 2,
       "version_minor": 0
      },
      "text/plain": [
       "Batches:   0%|          | 0/1 [00:00<?, ?it/s]"
      ]
     },
     "metadata": {},
     "output_type": "display_data"
    },
    {
     "name": "stdout",
     "output_type": "stream",
     "text": [
      "\n",
      "At the age of 7, Alice was playing outside with her friends when they decided to have a race. Alice was determined to win and ran as fast as she could, but she tripped and fell, scraping her knee. Her friends helped her up and encouraged her to keep going, but Alice was too embarrassed and felt like quitting. Her mother, who was watching from the window, came outside and reminded Alice that it's okay to make mistakes and that she shouldn't give up. This experience taught Alice the value of perseverance and the importance of learning from her mistakes, which has been beneficial in her graphic design career where she often faces tight deadlines and has to problem-solve quickly."
     ]
    },
    {
     "data": {
      "application/vnd.jupyter.widget-view+json": {
       "model_id": "cde490f609204ee7985b1a3adabb3375",
       "version_major": 2,
       "version_minor": 0
      },
      "text/plain": [
       "Batches:   0%|          | 0/1 [00:00<?, ?it/s]"
      ]
     },
     "metadata": {},
     "output_type": "display_data"
    },
    {
     "name": "stdout",
     "output_type": "stream",
     "text": [
      "At the age of 12, Alice was working on a school project when she realized that she had accidentally deleted the entire file. She felt devastated and didn't know how to recover the work she had put in. Her mother, who was nearby, noticed her distress and asked what was wrong. Alice explained the situation, and her mother suggested that she try to recreate the project from memory. With her mother's encouragement and guidance, Alice successfully recreated the project, learning the importance of attention to detail and the value of having a backup plan. This experience has helped Alice in her graphic design career, where she often has to work under tight deadlines and ensure that her designs are error-free."
     ]
    },
    {
     "data": {
      "application/vnd.jupyter.widget-view+json": {
       "model_id": "1c1f934d83864b549d43f8dbdbea191a",
       "version_major": 2,
       "version_minor": 0
      },
      "text/plain": [
       "Batches:   0%|          | 0/1 [00:00<?, ?it/s]"
      ]
     },
     "metadata": {},
     "output_type": "display_data"
    },
    {
     "name": "stdout",
     "output_type": "stream",
     "text": [
      "\n",
      "At the age of 16, Alice was preparing for her first art exhibition at a local gallery. She had spent countless hours creating a series of paintings that she was proud of, but when she arrived at the gallery, she realized that she had left the paintings at home. Feeling embarrassed and anxious, Alice called her mother, who calmed her down and offered to bring the paintings to the gallery. With her mother's help, Alice was able to hang her artwork on time, and the exhibition was a success. This experience taught Alice the importance of staying calm under pressure and seeking help when needed, skills that have been essential in her graphic design career."
     ]
    },
    {
     "data": {
      "application/vnd.jupyter.widget-view+json": {
       "model_id": "ffc35354615c43d0a4e33cb8dab89284",
       "version_major": 2,
       "version_minor": 0
      },
      "text/plain": [
       "Batches:   0%|          | 0/1 [00:00<?, ?it/s]"
      ]
     },
     "metadata": {},
     "output_type": "display_data"
    },
    {
     "name": "stdout",
     "output_type": "stream",
     "text": [
      "\n",
      "At the age of 21, Alice was working on a critical design project for a client when she realized that she had made a major mistake in the layout. Feeling stressed and anxious, Alice called her mother, who calmed her down and suggested that she take a break and approach the problem with fresh eyes. With her mother's advice, Alice was able to correct the mistake and deliver the project on time, learning the importance of seeking help when needed and taking breaks to avoid burnout. This experience has been particularly relevant in Alice's graphic design career, where she often faces tight deadlines and has to problem-solve quickly."
     ]
    },
    {
     "data": {
      "application/vnd.jupyter.widget-view+json": {
       "model_id": "93ef1080cff147aa8f88c285556beb86",
       "version_major": 2,
       "version_minor": 0
      },
      "text/plain": [
       "Batches:   0%|          | 0/1 [00:00<?, ?it/s]"
      ]
     },
     "metadata": {},
     "output_type": "display_data"
    },
    {
     "data": {
      "application/vnd.jupyter.widget-view+json": {
       "model_id": "54ac6fbd8acf446c8b75ef1c11b19fac",
       "version_major": 2,
       "version_minor": 0
      },
      "text/plain": [
       "Batches:   0%|          | 0/1 [00:00<?, ?it/s]"
      ]
     },
     "metadata": {},
     "output_type": "display_data"
    },
    {
     "data": {
      "application/vnd.jupyter.widget-view+json": {
       "model_id": "6747eccfa1ad48788c6c602077855685",
       "version_major": 2,
       "version_minor": 0
      },
      "text/plain": [
       "Batches:   0%|          | 0/1 [00:00<?, ?it/s]"
      ]
     },
     "metadata": {},
     "output_type": "display_data"
    }
   ],
   "source": [
    "mem = formative_memory_factory.make_memories(player_configs[0])"
   ]
  },
  {
   "cell_type": "code",
   "execution_count": 9,
   "metadata": {},
   "outputs": [
    {
     "name": "stdout",
     "output_type": "stream",
     "text": [
      "1. Alice could offer to help Dorothy move her belongings into storage.\n",
      "2. Alice could offer to help Dorothy find a new place to live.\n",
      "3. Alice could offer to help Dorothy pack up her belongings.\n",
      "4. Alice could offer to help Dorothy sort through her belongings and decide what to keep, sell or donate.\n",
      "5. Alice could offer to help Dorothy transport some of her belongings to a new location.\n",
      "6. Alice could suggest that Dorothy hire professional movers to help with the move.\n",
      "7. Alice could offer to watch Dorothy's dog while she is moving.\n",
      "8. Alice could offer to lend Dorothy some packing supplies, such as boxes or bubble wrap.\n",
      "9. Alice could offer to help Dorothy disassemble and reassemble furniture for the move.\n",
      "10. Alice could suggest that Dorothy postpone the move until a later date when Alice is less busy with work.\n",
      "\n",
      "The likelihood of each behavior will depend on various factors, such as Alice's energy level, available resources, and her relationship with Dorothy. For example, offering to help with packing or transportation may be more likely if Alice has the time and energy for it, while suggesting postponing the move may be less likely if Dorothy is under pressure to vacate her current home quickly.\n",
      "[\n",
      "  {\n",
      "    \"behaviour\": \"offer to help move belongings into storage\",\n",
      "    \"description\": \"Alice could offer to help Dorothy move her belongings into storage.\"\n",
      "  },\n",
      "  {\n",
      "    \"behaviour\": \"offer to help find a new place to live\",\n",
      "    \"description\": \"Alice could offer to help Dorothy find a new place to live.\"\n",
      "  },\n",
      "  {\n",
      "    \"behaviour\": \"offer to help pack up belongings\",\n",
      "    \"description\": \"Alice could offer to help Dorothy pack up her belongings.\"\n",
      "  },\n",
      "  {\n",
      "    \"behaviour\": \"offer to help sort through belongings\",\n",
      "    \"description\": \"Alice could offer to help Dorothy sort through her belongings and decide what to keep, sell or donate.\"\n",
      "  },\n",
      "  {\n",
      "    \"behaviour\": \"offer to help transport belongings\",\n",
      "    \"description\": \"Alice could offer to help Dorothy transport some of her belongings to a new location.\"\n",
      "  },\n",
      "  {\n",
      "    \"behaviour\": \"suggest hiring professional movers\",\n",
      "    \"description\": \"Alice could suggest that Dorothy hire professional movers to help with the move.\"\n",
      "  },\n",
      "  {\n",
      "    \"behaviour\": \"offer to watch dog during move\",\n",
      "    \"description\": \"Alice could offer to watch Dorothy's dog while she is moving.\"\n",
      "  },\n",
      "  {\n",
      "    \"behaviour\": \"lend packing supplies\",\n",
      "    \"description\": \"Alice could offer to lend Dorothy some packing supplies, such as boxes or bubble wrap.\"\n",
      "  },\n",
      "  {\n",
      "    \"behaviour\": \"help disassemble and reassemble furniture\",\n",
      "    \"description\": \"Alice could offer to help Dorothy disassemble and reassemble furniture for the move.\"\n",
      "  },\n",
      "  {\n",
      "    \"behaviour\": \"suggest postponing move\",\n",
      "    \"description\": \"Alice could suggest that Dorothy postpone the move until a later date when Alice is less busy with work.\"\n",
      "  }\n",
      "]"
     ]
    }
   ],
   "source": [
    "%autoreload 2\n",
    "from examples.custom_components import behavior\n",
    "\n",
    "behaviors = behavior.BehavioralChoices(\n",
    "    name='behaviours',\n",
    "    model=model,\n",
    "    memory=mem,\n",
    "    player_config=player_configs[0],\n",
    "    clock_now=clock.now,\n",
    "    verbose=False\n",
    "  )\n",
    "\n",
    "behaviors.update()"
   ]
  },
  {
   "cell_type": "code",
   "execution_count": 10,
   "metadata": {},
   "outputs": [
    {
     "data": {
      "text/plain": [
       "[\"At the age of 3, Alice was playing with her building blocks when she knocked over her tower, causing her to become frustrated and cry. Her mother, who was in the kitchen, heard Alice's cries and came into the living room to comfort her. She helped Alice rebuild the tower, teaching her how to stabilize it so it wouldn't fall again. This experience taught Alice the importance of perseverance and problem-solving skills, which has stayed with her throughout her life and has been particularly relevant in her career as a graphic designer.\",\n",
       " \"\\nAt the age of 7, Alice was playing outside with her friends when they decided to have a race. Alice was determined to win and ran as fast as she could, but she tripped and fell, scraping her knee. Her friends helped her up and encouraged her to keep going, but Alice was too embarrassed and felt like quitting. Her mother, who was watching from the window, came outside and reminded Alice that it's okay to make mistakes and that she shouldn't give up. This experience taught Alice the value of perseverance and the importance of learning from her mistakes, which has been beneficial in her graphic design career where she often faces tight deadlines and has to problem-solve quickly.\",\n",
       " \"At the age of 12, Alice was working on a school project when she realized that she had accidentally deleted the entire file. She felt devastated and didn't know how to recover the work she had put in. Her mother, who was nearby, noticed her distress and asked what was wrong. Alice explained the situation, and her mother suggested that she try to recreate the project from memory. With her mother's encouragement and guidance, Alice successfully recreated the project, learning the importance of attention to detail and the value of having a backup plan. This experience has helped Alice in her graphic design career, where she often has to work under tight deadlines and ensure that her designs are error-free.\",\n",
       " \"\\nAt the age of 16, Alice was preparing for her first art exhibition at a local gallery. She had spent countless hours creating a series of paintings that she was proud of, but when she arrived at the gallery, she realized that she had left the paintings at home. Feeling embarrassed and anxious, Alice called her mother, who calmed her down and offered to bring the paintings to the gallery. With her mother's help, Alice was able to hang her artwork on time, and the exhibition was a success. This experience taught Alice the importance of staying calm under pressure and seeking help when needed, skills that have been essential in her graphic design career.\",\n",
       " \"\\nAt the age of 21, Alice was working on a critical design project for a client when she realized that she had made a major mistake in the layout. Feeling stressed and anxious, Alice called her mother, who calmed her down and suggested that she take a break and approach the problem with fresh eyes. With her mother's advice, Alice was able to correct the mistake and deliver the project on time, learning the importance of seeking help when needed and taking breaks to avoid burnout. This experience has been particularly relevant in Alice's graphic design career, where she often faces tight deadlines and has to problem-solve quickly.\",\n",
       " 'Alice returns late from work and finds Dorothy at her doorstep.',\n",
       " 'Dorothy has to move out of her house tonight and needs someone to help her move.',\n",
       " 'Alice returns home from work to find Dorothy waiting for her, needing assistance with a last-minute move.',\n",
       " 'Alice is exhausted after work, and she needs to help her grandmother all day the next day.']"
      ]
     },
     "execution_count": 10,
     "metadata": {},
     "output_type": "execute_result"
    }
   ],
   "source": [
    "behaviors._memory.retrieve_recent(k = 100)"
   ]
  },
  {
   "cell_type": "code",
   "execution_count": 12,
   "metadata": {},
   "outputs": [
    {
     "name": "stdout",
     "output_type": "stream",
     "text": [
      "\n",
      "Here are five potential behaviors that Alice can take in response to the situation:\n",
      "\n",
      "1. Helping Dorothy move immediately without hesitation.\n",
      "Positive consequences:\n",
      "* Helps Dorothy in a time of need (Value: 10, Likelihood: 80)\n",
      "* Strengthens relationship with grandmother (Value: 9, Likelihood: 70)\n",
      "* Feels good about herself for helping others (Value: 8, Likelihood: 60)\n",
      "Negative consequences:\n",
      "* Tires herself out and affects work performance the next day (Value: -5, Likelihood: 40)\n",
      "* Has to cancel plans with friends, causing inconvenience (Value: -3, Likelihood: 30)\n",
      "* Rushes through move and accidentally breaks something valuable (Value: -7, Likelihood: 20)\n",
      "2. Asking Dorothy if she can help another time.\n",
      "Positive consequences:\n",
      "* Allows Alice to prioritize her own needs and schedule (Value: 8, Likelihood: 60)\n",
      "* Avoids feeling overwhelmed or resentful (Value: 7, Likelihood: 50)\n",
      "* Shows Dorothy that Alice values their relationship but also has boundaries (Value: 6, Likelihood: 40)\n",
      "Negative consequences:\n",
      "* Disappoints Dorothy and potentially damages their relationship (Value: -5, Likelihood: 30)\n",
      "* Misses an opportunity to help someone in need (Value: -2, Likelihood: 20)\n",
      "* Feels guilty or anxious about not helping (Value: -4, Likelihood: 10)\n",
      "3. Asking a friend or family member to help Dorothy move instead.\n",
      "Positive consequences:\n",
      "* Shares the burden with someone else and avoids feeling overwhelmed (Value: 9, Likelihood: 70)\n",
      "* Helps maintain relationships with other friends and family members (Value: 8, Likelihood: 60)\n",
      "* Provides an opportunity for someone else to help and feel good about themselves (Value: 7, Likelihood: 50)\n",
      "Negative consequences:\n",
      "* May not be able to find someone willing or available to help (Value: -3, Likelihood: 40)\n",
      "* Feels guilty for not helping personally (Value: -2, Likelihood: 30)\n",
      "* Creates an inconvenience for the person asked to help (Value: -1, Likelihood: 20)\n",
      "4. Telling Dorothy that she can't help with the move right now.\n",
      "Positive consequences:\n",
      "* Allows Alice to prioritize her own needs and schedule without feeling guilty (Value: 9, Likelihood: 80)\n",
      "* Avoids overcommitting herself and potentially burning out (Value: 8, Likelihood: 70)\n",
      "* Shows Dorothy that Alice values their relationship but also has boundaries (Value: 7, Likelihood: 60)\n",
      "Negative consequences:\n",
      "* Disappoints Dorothy and potentially damages their relationship (Value: -5, Likelihood: 40)\n",
      "* Misses an opportunity to help someone in need (Value: -3, Likelihood: 30)\n",
      "* Feels guilty or anxious about not helping (Value: -4, Likelihood: 20)\n",
      "5. Ignoring Dorothy's request for help and avoiding the situation altogether.\n",
      "Positive consequences:\n",
      "* Avoids feeling overwhelmed or resentful (Value: 8, Likelihood: 70)\n",
      "* Allows Alice to prioritize her own needs and schedule without feeling guilty (Value: 7, Likelihood: 60)\n",
      "* Shows Dorothy that Alice values her own time and energy (Value: 6, Likelihood: 50)\n",
      "Negative consequences:\n",
      "* Damages the relationship with Dorothy and potentially causes long-term consequences (Value: -8, Likelihood: 40)\n",
      "* Feels guilty or anxious about ignoring someone in need (Value: -6, Likelihood: 30)\n",
      "* May miss out on future opportunities to help or support others (Value: -5, Likelihood: 20)"
     ]
    }
   ],
   "source": [
    "attitude_ratings = model.sample_text(\n",
    "  f'Memories of Alice:{behaviors._memory.retrieve_recent(100)}'\n",
    "  f'Instructions: \\n'\n",
    "  f'Given the memories above, generate a list of five potential behaviours that alice can take in response to the situation. '\n",
    "  f'For each potential behaviour, provide three possible positive and three possible negative consequences of that behaviour. '\n",
    "  f'For each potential consequence, indicate with a number from -10 to 10 how bad to good '\n",
    "  f'that consequence is for Alice. -10 is the worst possible outcome, 0 is neutral, and 10 is the best possible outcome.'\n",
    "  f'List the positive or negative value after each of the separate consequences to each behaviour. '\n",
    "  f'For each potential behaviour, provide just the consequence numbers separated by a comma. '\n",
    "  f'For each potential consequence, indicate with a number from 0 to 100 how likely that consequence is to occur. 0 is impossible, 100 is certain. '\n",
    "  f'List the likelihood of the consequences after each of the separate consequences to each behaviour. So, '\n",
    "  f'each of the 6 potential separate consequences should have a likelihood value. '\n",
    "  f'This should be in the form of (Value: number, Likelihood: number) for each potential consequence, '\n",
    "  f'Remember, there should be three separate positive and three negative consequences for each potential behaviour '\n",
    "  f'each with its own value and likelihood.\\n'\n",
    "  f'double check that you did all of the behaviours and people correctly, for example that the numbers are all provided.'\n",
    ")"
   ]
  },
  {
   "cell_type": "code",
   "execution_count": 61,
   "metadata": {},
   "outputs": [],
   "source": [
    "def decompose(attitudes):\n",
    "\n",
    "    attitude_list = re.split(\n",
    "        r'\\n[0-9]\\.\\s',\n",
    "        attitudes\n",
    "    )\n",
    "\n",
    "    behaviour_list = []\n",
    "\n",
    "    for attitude in attitude_list[1:]:\n",
    "        \n",
    "        behaviours = {}\n",
    "\n",
    "        items = re.split(\n",
    "            r'\\.\\n',\n",
    "            attitude,\n",
    "            maxsplit = 1\n",
    "        )\n",
    "\n",
    "        behaviours[\"behaviour\"] = items[0]\n",
    "\n",
    "        items = re.split(\n",
    "            r'(?:Positive|Negative)\\sconsequences:\\n',\n",
    "            items[1]\n",
    "        )\n",
    "\n",
    "        items = [item for item in items if item]\n",
    "\n",
    "        behaviours[\"consequences\"] = []\n",
    "\n",
    "        for item in items:\n",
    "\n",
    "            consequences = re.split(\n",
    "                r'\\*\\s',\n",
    "                item\n",
    "            )\n",
    "            consequences = [consequence.strip() for consequence in consequences if consequence]\n",
    "\n",
    "            for consequence in consequences:\n",
    "\n",
    "                description = re.match(\n",
    "                    r'(.*)(?=\\s\\()',\n",
    "                    consequence\n",
    "                ).group(1)\n",
    "\n",
    "                value = int(re.search(\n",
    "                    r'(?<=Value:\\s).*(?=,)',\n",
    "                    consequence\n",
    "                ).group(0))\n",
    "\n",
    "                likelihood = int(re.search(\n",
    "                    r'(?<=Likelihood:\\s).*(?=\\))',\n",
    "                    consequence\n",
    "                ).group(0))\n",
    "\n",
    "                behaviours[\"consequences\"].append({\n",
    "                    \"description\": description,\n",
    "                    \"value\": value,\n",
    "                    \"likelihood\": likelihood\n",
    "                })\n",
    "\n",
    "        behaviour_list.append(behaviours)\n",
    "    \n",
    "    return behaviour_list\n",
    "\n",
    "behaviour_list = decompose(attitude_ratings)"
   ]
  },
  {
   "cell_type": "code",
   "execution_count": 80,
   "metadata": {},
   "outputs": [
    {
     "name": "stdout",
     "output_type": "stream",
     "text": [
      "\n",
      "* Dorothy (Alice's motivation: 100)\n",
      "* Alice's mother (Alice's motivation: 80)\n",
      "* Alice's friends (Alice's motivation: 50)\n",
      "* Alice's colleagues (Alice's motivation: 40)\n",
      "* Alice's client (Alice's motivation: 70)\n",
      "* Alice's grandmother (Alice's motivation: 90)"
     ]
    }
   ],
   "source": [
    "behav_string = \"\\n\".join([f\"{i+1}. {behaviour_list[i]['behaviour']}\" for i in range(len(behaviour_list))])\n",
    "\n",
    "motivation_ratings = model.sample_text(\n",
    "  f'Memories of Alice: {behaviors._memory.retrieve_recent(100)}'\n",
    "  f'Potential behaviours of Alice: '\n",
    "  f'{behav_string}'\n",
    "  f'Instructions: \\n'\n",
    "  f'List six people or groups of people that would be affected if Alice took any of the above behaviours. '\n",
    "  f'For each person or group, provide a value between 0 to 100 indicating how much '\n",
    "  f'Alice is motivated to take their approval or disapproval into account. '\n",
    "  f'0 would mean that Alice does not care at all about their approval or disapproval, and 100 would mean that she cares the most. \\n'\n",
    "  f'Be sure to include numbers for each rating and allow for appropriate variation in the ratings. '\n",
    "  f\"Rating should be in the form of (Alice's motivation: number) following each person or group of people. \"\n",
    "  f\"Double check that you provided a value for Alice's motivation to take each person or group of peopleinto account. \"\n",
    "  f'Provide this information as succinctly as possible. '\n",
    "  f'Here is an example: \\n'\n",
    "  f\"* Person 1 (Alice's motivation: 100) \\n\"\n",
    "  f\"* Person 2 (Alice's motivation: 0) \\n\"\n",
    "  f\"* Person 3 (Alice's motivation: 50) \\n\"\n",
    "  f'etc.'\n",
    "  f'Present all of the people consistently according to this format. Do not provide any explanations.'\n",
    ")"
   ]
  },
  {
   "cell_type": "code",
   "execution_count": 88,
   "metadata": {},
   "outputs": [],
   "source": [
    "def organize_people(ratings):\n",
    "\n",
    "    rating_list = re.split(\n",
    "        r'\\*\\s',\n",
    "        ratings\n",
    "    )\n",
    "    # Alternative: it does it with numbers\n",
    "    if len(rating_list) == 1:\n",
    "        rating_list = re.split(\n",
    "            r'[0-9]\\.\\s',\n",
    "            ratings\n",
    "        )\n",
    "    \n",
    "    people = []\n",
    "\n",
    "    for rating in rating_list[1:]:\n",
    "        name = re.match(\n",
    "            r'(.*)(?=\\s\\()',\n",
    "            rating\n",
    "        ).group(1)\n",
    "        motivation = re.search(\n",
    "            r'(?<=motivation:\\s)(.*)(?=\\))',\n",
    "            rating\n",
    "        ).group(1)\n",
    "        people.append({\n",
    "            \"name\": name,\n",
    "            \"motivation\": int(motivation)\n",
    "        })\n",
    "    \n",
    "    return people\n",
    "\n",
    "relevant_people = organize_people(motivation_ratings)"
   ]
  },
  {
   "cell_type": "code",
   "execution_count": 93,
   "metadata": {},
   "outputs": [
    {
     "name": "stdout",
     "output_type": "stream",
     "text": [
      "\n",
      "Here are the potential behaviors of Alice and their impact on the people affected:\n",
      "\n",
      "Behavior 1: Helping Dorothy move immediately without hesitation\n",
      "\n",
      "* Dorothy (Approval: 10)\n",
      "* Alice's mother (Approval: 8)\n",
      "* Alice's friends (Approval: 5)\n",
      "* Alice's colleagues (Approval: 5)\n",
      "* Alice's client (Approval: 5)\n",
      "* Alice's grandmother (Approval: 10)\n",
      "\n",
      "Behavior 2: Asking Dorothy if she can help another time\n",
      "\n",
      "* Dorothy (Approval: 7)\n",
      "* Alice's mother (Approval: 9)\n",
      "* Alice's friends (Approval: 6)\n",
      "* Alice's colleagues (Approval: 7)\n",
      "* Alice's client (Approval: 8)\n",
      "* Alice's grandmother (Approval: 9)\n",
      "\n",
      "Behavior 3: Asking a friend or family member to help Dorothy move instead\n",
      "\n",
      "* Dorothy (Approval: 6)\n",
      "* Alice's mother (Approval: 7)\n",
      "* Alice's friends (Approval: 8)\n",
      "* Alice's colleagues (Approval: 7)\n",
      "* Alice's client (Approval: 7)\n",
      "* Alice's grandmother (Approval: 7)\n",
      "\n",
      "Behavior 4: Telling Dorothy that she can't help with the move right now\n",
      "\n",
      "* Dorothy (Approval: 3)\n",
      "* Alice's mother (Approval: 5)\n",
      "* Alice's friends (Approval: 4)\n",
      "* Alice's colleagues (Approval: 4)\n",
      "* Alice's client (Approval: 5)\n",
      "* Alice's grandmother (Approval: 4)\n",
      "\n",
      "Behavior 5: Ignoring Dorothy's request for help and avoiding the situation altogether\n",
      "\n",
      "* Dorothy (Approval: -5)\n",
      "* Alice's mother (Approval: -3)\n",
      "* Alice's friends (Approval: -2)\n",
      "* Alice's colleagues (Approval: -3)\n",
      "* Alice's client (Approval: -4)\n",
      "* Alice's grandmother (Approval: -5)"
     ]
    }
   ],
   "source": [
    "people_string = \"\\n\".join([f\"{i+1}. {relevant_people[i]['name']}\" for i in range(len(relevant_people))])\n",
    "\n",
    "approval_ratings = model.sample_text(\n",
    "  f'Memories of Alice: {behaviors._memory.retrieve_recent(100)}'\n",
    "  f'Potential behaviours of Alice: '\n",
    "  f'{behav_string}'\n",
    "  f\"People affected by Alice's potential behaviours: \"\n",
    "  f'{people_string}'\n",
    "  f'Instructions: \\n'\n",
    "  f'For each of the potential behaviours that Alice could take in response to the situation, '\n",
    "  f\"as well as each of the people who could be affected by Alice's behaviour, \"\n",
    "  f'provide a rating from -10 to 10 about whether they would approve or disapprove of the behaviour '\n",
    "  f'if Alice were to engage in the behaviour. -10 would be the least approval and 10 would be the most approval. '\n",
    "  f'this should be in the form of (Approval: number) following each person. '\n",
    "  f'Double check that you did all of the behaviours and people correctly.'\n",
    "  f'for example, each of the behaviours should be listed, and each should have a number for approval '\n",
    "  f'for each of the people or groups of people.'\n",
    "  f'Provide this information as succinctly as possible. '\n",
    "  f'Here is an example: \\n'\n",
    "  f'Behaviour 1: \\n'\n",
    "  f'* Person 1 (Approval: 5) \\n'\n",
    "  f'* Person 2 (Approval: 10) \\n'\n",
    "  f'* Person 3 (Approval: -5) \\n'\n",
    "  f'etc.'\n",
    "  f'Present all of the people consistently according to this format. Do not provide any explanations.'\n",
    ")"
   ]
  },
  {
   "cell_type": "code",
   "execution_count": null,
   "metadata": {},
   "outputs": [],
   "source": []
  },
  {
   "cell_type": "code",
   "execution_count": null,
   "metadata": {},
   "outputs": [],
   "source": [
    "find_ratings = model.sample_text(\n",
    "    f'given the file below, ' +\n",
    "    attitude_ratings +\n",
    "    f'instructions: \\n'\n",
    "    f'create a list of the values and likelihoods for each of the potential consequences. '\n",
    "    f' for each behaviour found in ' \n",
    "    f'Memories of Alice:{behaviors._memory.retrieve_recent(100)}'\n",
    "    f'provide only the numbers with the values in one list and the likelihoods in another list.'\n",
    "    f'be sure to do for all behaviours and all potential consequences.'\n",
    "    f'you should but this into a JSON array with the values and likelihoods as separate lists.'\n",
    "    f'only the numbers should be in the JSON array.'\n",
    ")\n",
    "\n",
    "find_norms = model.sample_text(\n",
    "    f'given the file below, ' +\n",
    "    normative_ratings +\n",
    "    f'instructions: \\n'\n",
    "    f'create a list of the approvals and motivates to comply for each of the behaviours. '\n",
    "    f' for each behaviour found in ' \n",
    "    f'Memories of Alice:{behaviors._memory.retrieve_recent(100)}'\n",
    "    f'provide only the approvals in one list and the motivations to comply in another list for each behaviour and each of the people under consideration.'\n",
    "    f'be sure to do for all behaviours and all people that may care.'\n",
    "    f'you should but this into a JSON array with the approvals and motivations as separate lists.'\n",
    "    f'only the numbers should be in the JSON array.'\n",
    "    f'have it be one long JSON array for each of the approvals and motivations rather than separated by behaviour.'\n",
    ")"
   ]
  }
 ],
 "metadata": {
  "kernelspec": {
   "display_name": "Python 3",
   "language": "python",
   "name": "python3"
  },
  "language_info": {
   "codemirror_mode": {
    "name": "ipython",
    "version": 3
   },
   "file_extension": ".py",
   "mimetype": "text/x-python",
   "name": "python",
   "nbconvert_exporter": "python",
   "pygments_lexer": "ipython3",
   "version": "3.11.8"
  }
 },
 "nbformat": 4,
 "nbformat_minor": 2
}
