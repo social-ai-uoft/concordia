{
 "cells": [
  {
   "cell_type": "code",
   "execution_count": 13,
   "metadata": {},
   "outputs": [],
   "source": [
    "import sys\n",
    "import os\n",
    "path = os.path.abspath('../..')\n",
    "if path not in sys.path:\n",
    "  sys.path.insert(0, path)\n",
    "\n"
   ]
  },
  {
   "cell_type": "code",
   "execution_count": 21,
   "metadata": {},
   "outputs": [],
   "source": [
    "import collections\n",
    "import concurrent.futures\n",
    "import datetime\n",
    "import json\n",
    "import termcolor\n",
    "\n",
    "import numpy as np\n",
    "\n",
    "from IPython import display\n",
    "\n",
    "from concordia.agents import basic_agent\n",
    "from concordia.components import agent as components\n",
    "from concordia import components as generic_components\n",
    "from concordia.associative_memory import associative_memory\n",
    "from concordia.associative_memory import blank_memories\n",
    "from concordia.associative_memory import formative_memories\n",
    "from concordia.associative_memory import importance_function\n",
    "from concordia.clocks import game_clock\n",
    "from concordia.components import game_master as gm_components\n",
    "from concordia.environment import game_master\n",
    "from concordia.metrics import goal_achievement\n",
    "from concordia.metrics import common_sense_morality\n",
    "from concordia.metrics import opinion_of_others\n",
    "from concordia.utils import html as html_lib\n",
    "from concordia.utils import measurements as measurements_lib\n",
    "from concordia.utils import plotting\n",
    "\n",
    "from examples.custom_components import behavior"
   ]
  },
  {
   "cell_type": "code",
   "execution_count": 3,
   "metadata": {},
   "outputs": [],
   "source": [
    "# Setup LLM\n",
    "from concordia.language_model import ollama_model\n",
    "model = ollama_model.OllamaLanguageModel(\n",
    "    model_name='llama2:13b',\n",
    "    streaming=True\n",
    ")\n",
    "\n",
    "# Setup measurements and clock\n",
    "measurements = measurements_lib.Measurements()\n",
    "time_step = datetime.timedelta(minutes=20)\n",
    "SETUP_TIME = datetime.datetime(hour=20, year=2024, month=10, day=1)\n",
    "\n",
    "START_TIME = datetime.datetime(hour=18, year=2024, month=10, day=2)\n",
    "clock = game_clock.MultiIntervalClock(\n",
    "    start=SETUP_TIME,\n",
    "    step_sizes=[time_step, datetime.timedelta(seconds=10)])\n",
    "\n",
    "# Setup sentence encoder\n",
    "from sentence_transformers import SentenceTransformer\n",
    "st5_model = SentenceTransformer('sentence-transformers/sentence-t5-base')\n",
    "embedder = st5_model.encode\n",
    "\n",
    "#@title Importance models\n",
    "importance_model = importance_function.ConstantImportanceModel()\n",
    "importance_model_gm = importance_function.ConstantImportanceModel()\n"
   ]
  },
  {
   "cell_type": "code",
   "execution_count": 4,
   "metadata": {},
   "outputs": [
    {
     "name": "stdout",
     "output_type": "stream",
     "text": [
      "The passage describes a group of individuals, including Alice, Bob, Charlie, and Dorothy, who regularly spend their evenings at a pub called The Sundrop Saloon. However, the passage also reveals that Alice has stolen Bob's car and crashed it, suggesting a possible conflict or tension within the group.\n"
     ]
    }
   ],
   "source": [
    "# @title Generic memories are memories that all players and GM share.\n",
    "\n",
    "shared_memories = [\n",
    "    'There is a pub called The Sundrop Saloon.',\n",
    "    \"Alice stole Bob's car and crashed it.\",\n",
    "    ('Alice, Bob, Charlie and Dorothy always spend their evenings at the ' +\n",
    "     'Sundrop Saloon.')\n",
    "]\n",
    "\n",
    "# The generic context will be used for the NPC context. It reflects general\n",
    "# knowledge and is possessed by all characters.\n",
    "shared_context = model.sample_text(\n",
    "    'Summarize the following passage in a concise and insightful fashion:\\n'\n",
    "    + '\\n'.join(shared_memories)\n",
    "    + '\\n'\n",
    "    + 'Summary:'\n",
    ")\n",
    "print(shared_context)"
   ]
  },
  {
   "cell_type": "code",
   "execution_count": 5,
   "metadata": {},
   "outputs": [],
   "source": [
    "blank_memory_factory = blank_memories.MemoryFactory(\n",
    "    model=model,\n",
    "    embedder=embedder,\n",
    "    importance=importance_model.importance,\n",
    "    clock_now=clock.now,\n",
    ")\n",
    "\n",
    "formative_memory_factory = formative_memories.FormativeMemoryFactory(\n",
    "    model=model,\n",
    "    shared_memories=shared_memories,\n",
    "    blank_memory_factory_call=blank_memory_factory.make_blank_memory,\n",
    ")"
   ]
  },
  {
   "cell_type": "code",
   "execution_count": 6,
   "metadata": {},
   "outputs": [],
   "source": [
    "#@title Creating character backgrounds, goals and traits. Modify to explore how it influences the outcomes\n",
    "NUM_PLAYERS = 4\n",
    "\n",
    "scenario_premise = [\n",
    "\n",
    "    (\n",
    "        'Alice, Bob, Charlie and Dorothy are at the Sundrop Saloon. There '\n",
    "        + 'is a snow storm and they have to wait it out inside.'\n",
    "    ),\n",
    "]\n",
    "player_configs = [\n",
    "    formative_memories.AgentConfig(\n",
    "        name='Alice',\n",
    "        gender='female',\n",
    "        goal='Alice wants Bob to accept his car is trashed and back off.',\n",
    "        context=shared_context,\n",
    "        traits='responsibility: low; aggression: high',\n",
    "    ),\n",
    "    formative_memories.AgentConfig(\n",
    "        name='Bob',\n",
    "        gender='male',\n",
    "        goal='Bob wants Alice to pay for his car.',\n",
    "        context=shared_context,\n",
    "        traits='responsibility: high; aggression: low',\n",
    "    ),\n",
    "    formative_memories.AgentConfig(\n",
    "        name='Charlie',\n",
    "        gender='male',\n",
    "        goal='Charlie wants Alice to apologise.',\n",
    "        context=shared_context,\n",
    "        traits='responsibility: low; aggression: high',\n",
    "    ),\n",
    "    formative_memories.AgentConfig(\n",
    "        name='Dorothy',\n",
    "        gender='female',\n",
    "        goal=(\n",
    "            'Dorothy wants to create a conflict between Bob and Alice, because'\n",
    "            ' it is funny.'\n",
    "        ),\n",
    "        context=shared_context,\n",
    "        traits='responsibility: medium; aggression: high',\n",
    "    ),\n",
    "]"
   ]
  },
  {
   "cell_type": "code",
   "execution_count": 8,
   "metadata": {},
   "outputs": [
    {
     "data": {
      "application/vnd.jupyter.widget-view+json": {
       "model_id": "8d0e5ea4d0e74d6d9108615f7b9d1c99",
       "version_major": 2,
       "version_minor": 0
      },
      "text/plain": [
       "Batches:   0%|          | 0/1 [00:00<?, ?it/s]"
      ]
     },
     "metadata": {},
     "output_type": "display_data"
    },
    {
     "data": {
      "application/vnd.jupyter.widget-view+json": {
       "model_id": "b91c8470a6214bb3966759012dcbc3a0",
       "version_major": 2,
       "version_minor": 0
      },
      "text/plain": [
       "Batches:   0%|          | 0/1 [00:00<?, ?it/s]"
      ]
     },
     "metadata": {},
     "output_type": "display_data"
    },
    {
     "data": {
      "application/vnd.jupyter.widget-view+json": {
       "model_id": "28662044b7e34aad88220c374c3dd385",
       "version_major": 2,
       "version_minor": 0
      },
      "text/plain": [
       "Batches:   0%|          | 0/1 [00:00<?, ?it/s]"
      ]
     },
     "metadata": {},
     "output_type": "display_data"
    },
    {
     "data": {
      "application/vnd.jupyter.widget-view+json": {
       "model_id": "fe790ecd926f4cdf969c3ecdb5dda10d",
       "version_major": 2,
       "version_minor": 0
      },
      "text/plain": [
       "Batches:   0%|          | 0/1 [00:00<?, ?it/s]"
      ]
     },
     "metadata": {},
     "output_type": "display_data"
    },
    {
     "data": {
      "application/vnd.jupyter.widget-view+json": {
       "model_id": "56687ef6908d4a6f97de674c712335ce",
       "version_major": 2,
       "version_minor": 0
      },
      "text/plain": [
       "Batches:   0%|          | 0/1 [00:00<?, ?it/s]"
      ]
     },
     "metadata": {},
     "output_type": "display_data"
    },
    {
     "data": {
      "application/vnd.jupyter.widget-view+json": {
       "model_id": "4d660393d08544b7816bbe6933309fdc",
       "version_major": 2,
       "version_minor": 0
      },
      "text/plain": [
       "Batches:   0%|          | 0/1 [00:00<?, ?it/s]"
      ]
     },
     "metadata": {},
     "output_type": "display_data"
    },
    {
     "data": {
      "application/vnd.jupyter.widget-view+json": {
       "model_id": "5e97b0929d4649399d5d89048b9cedb8",
       "version_major": 2,
       "version_minor": 0
      },
      "text/plain": [
       "Batches:   0%|          | 0/1 [00:00<?, ?it/s]"
      ]
     },
     "metadata": {},
     "output_type": "display_data"
    },
    {
     "data": {
      "application/vnd.jupyter.widget-view+json": {
       "model_id": "a53864d3725741c28133ff5bdfe34215",
       "version_major": 2,
       "version_minor": 0
      },
      "text/plain": [
       "Batches:   0%|          | 0/1 [00:00<?, ?it/s]"
      ]
     },
     "metadata": {},
     "output_type": "display_data"
    },
    {
     "data": {
      "application/vnd.jupyter.widget-view+json": {
       "model_id": "890f106eb7f44892b3ddd591a31c9eaa",
       "version_major": 2,
       "version_minor": 0
      },
      "text/plain": [
       "Batches:   0%|          | 0/1 [00:00<?, ?it/s]"
      ]
     },
     "metadata": {},
     "output_type": "display_data"
    },
    {
     "data": {
      "application/vnd.jupyter.widget-view+json": {
       "model_id": "72e5b3b56f1d4eecba0131da57a057cc",
       "version_major": 2,
       "version_minor": 0
      },
      "text/plain": [
       "Batches:   0%|          | 0/1 [00:00<?, ?it/s]"
      ]
     },
     "metadata": {},
     "output_type": "display_data"
    }
   ],
   "source": [
    "mem = formative_memory_factory.make_memories(player_configs[0])"
   ]
  },
  {
   "cell_type": "code",
   "execution_count": 109,
   "metadata": {},
   "outputs": [
    {
     "name": "stdout",
     "output_type": "stream",
     "text": [
      "\u001b[32mMemories of Alice:\n",
      "[03 Jul 1987 00:00:00] \n",
      "At the age of three, Alice was known for her mischievous antics, and one formative episode that showcased this aspect of her personality occurred when she \"accidentally\" knocked over a vase in the living room. While her parents were distracted by dinner preparations, Alice had snuck into the room and was playing with the vase, causing it to fall and shatter on the floor. When her parents entered the room and saw the mess, Alice feigned innocence and pretended that she had nothing to do with the broken vase. This episode demonstrated Alice's penchant for causing mischief and her ability to think on her feet to cover up her misdeeds.\n",
      "[03 Jul 1991 00:00:00] \n",
      "At the age of seven, Alice was known for her adventurous spirit and love of mischief, and one formative episode that showcased this aspect of her personality occurred when she snuck into the local park with her friends Charlie and Dorothy. While playing on the swings, Alice decided to take a risk and climb up to the top of the tallest slide, despite the warnings from her friends. As she reached the top, the slide suddenly malfunctioned, causing Alice to slide down faster than expected and landing with a thud at the bottom. Although shaken, Alice was thrilled by the rush of adrenaline and the sense of adventure that came with taking risks. This episode demonstrated Alice's fearlessness and willingness to push boundaries, even at a young age.\n",
      "[03 Jul 1996 00:00:00] \n",
      "At the age of twelve, Alice was known for her bold and daring nature, and one formative episode that showcased this aspect of her personality occurred when she convinced her friends to sneak into an abandoned house on the outskirts of town. While exploring the creepy and dilapidated structure, Alice discovered a hidden room filled with old and mysterious objects. As they began to explore the room, Alice noticed a strange glow emanating from one of the objects, which she soon realized was a magical crystal. Without hesitation, Alice grabbed the crystal and ran out of the house with her friends, narrowly avoiding the angry owner who had been alerted to their presence. This episode demonstrated Alice's fearlessness, curiosity, and willingness to take risks, even in the face of potential danger.\n",
      "[03 Jul 2000 00:00:00] \n",
      "At the age of sixteen, Alice was known for her bold and daring nature, and one formative episode that showcased this aspect of her personality occurred when she convinced her friends to sneak into an exclusive party at a wealthy classmate's mansion. While mingling with the other guests, Alice spotted a rare and valuable necklace on display and decided to take it for herself. As she reached for the necklace, however, she was caught by the host's security team and forced to make a hasty escape. Undeterred, Alice and her friends snuck back into the party later that night and successfully stole the necklace, solidifying Alice's reputation as a fearless and cunning thief. This episode demonstrated Alice's willingness to take risks, her ability to think on her feet, and her determination to get what she wants, even if it means breaking the law.\n",
      "[03 Jul 2005 00:00:00] At the age of twenty-one, Alice was known for her bold and daring nature, and one formative episode that showcased this aspect of her personality occurred when she convinced her friends to join her on a high-stakes heist at a wealthy businessman's office building. As they made their way through the security system, Alice discovered a valuable and rare gemstone on display in the CEO's office. With her quick thinking and cunning, Alice managed to steal the gemstone and escape without getting caught, solidifying her reputation as a fearless and skilled thief. This episode demonstrated Alice's willingness to take risks, her ability to think on her feet, and her determination to get what she wants, even if it means breaking the law.\n",
      "[01 Oct 2024 20:00:00] There is a pub called The Sundrop Saloon.\n",
      "[01 Oct 2024 20:00:00] Alice stole Bob's car and crashed it.\n",
      "[01 Oct 2024 20:00:00] Alice, Bob, Charlie and Dorothy always spend their evenings at the Sundrop Saloon.\n",
      "[01 Oct 2024 20:00:00] The passage describes a group of individuals, including Alice, Bob, Charlie, and Dorothy, who regularly spend their evenings at a pub called The Sundrop Saloon. However, the passage also reveals that Alice has stolen Bob's car and crashed it, suggesting a possible conflict or tension within the group.\n",
      "[01 Oct 2024 20:00:00] Alice wants Bob to accept his car is trashed and back off.\n",
      "Current time: 2024-10-01 20:00:00.\n",
      "\n",
      "Instructions: \n",
      "Given the memories above, evaluate the following behaviour on the extent to which Alice would like the likeliest outcome of each behaviour, where 1 indicates that Alice would very much dislike the outcome, and 10 indicates that Alice would very much like the outcome. Provide only the evaluation with a number out of 10, in the same order that each behaviour was presented.\n",
      "Question: Apologize to Bob for stealing and crashing his car and try to make amends.\n",
      "Deny any involvement in the theft and crash of Bob's car, despite the evidence against her.\n",
      "Attempt to bribe or manipulate Bob into accepting the damage to his car and dropping any charges.\n",
      "Use her cunning and quick thinking to come up with a creative excuse for why she stole and crashed Bob's car.\n",
      "Take responsibility for her actions and offer to pay for the damages to Bob's car.\n",
      "Try to shift the blame onto one of her friends, such as Charlie or Dorothy.\n",
      "Use her charm and charisma to try to talk her way out of the situation.\n",
      "Threaten Bob with consequences if he doesn't accept the damage to his car and drop any charges.\n",
      "Try to make a deal with Bob, offering something in exchange for him dropping any charges.\n",
      "Get defensive and hostile towards Bob, trying to intimidate him into accepting the situation.\n",
      "Answer: Alice would rate these behaviours as: \n",
      "1. Apologize to Bob for stealing and crashing his car and try to make amends - 8/10\n",
      "2. Deny any involvement in the theft and crash of Bob's car, despite the evidence against her - 2/10\n",
      "3. Attempt to bribe or manipulate Bob into accepting the damage to his car and dropping any charges - 4/10\n",
      "4. Use her cunning and quick thinking to come up with a creative excuse for why she stole and crashed Bob's car - 6/10\n",
      "5. Take responsibility for her actions and offer to pay for the damages to Bob's car - 9/10\n",
      "6. Try to shift the blame onto one of her friends, such as Charlie or Dorothy - 3/10\n",
      "7. Use her charm and charisma to try to talk her way out of the situation - 5/10\n",
      "8. Threaten Bob with consequences if he doesn't accept the damage to his car and drop any charges - 1/10\n",
      "9. Try to make a deal with Bob, offering something in exchange for him dropping any charges - 7/10\n",
      "10. Get defensive and hostile towards Bob, trying to intimidate him into accepting the situation - 1/10\n",
      "\u001b[0m"
     ]
    }
   ],
   "source": [
    "%autoreload 2\n",
    "from examples.custom_components import behavior\n",
    "\n",
    "behaviors = behavior.BehavioralChoices(\n",
    "    name='behaviours',\n",
    "    model=model,\n",
    "    memory=mem,\n",
    "    agent_name=player_configs[0].name,\n",
    "    clock_now=clock.now,\n",
    "    verbose=False\n",
    "  )\n",
    "\n",
    "behaviors.update()\n",
    "\n",
    "evaluations = behavior.BehavioralEvaluation(\n",
    "  name=\"evluations\",\n",
    "  model=model,\n",
    "  memory=mem,\n",
    "  agent_name=player_configs[0].name,\n",
    "  components=[behaviors],\n",
    "  clock_now=clock.now,\n",
    "  verbose=True\n",
    ")\n",
    "\n",
    "evaluations.update()"
   ]
  },
  {
   "cell_type": "code",
   "execution_count": 111,
   "metadata": {},
   "outputs": [
    {
     "data": {
      "text/plain": [
       "['8', '2', '4', '6', '9', '3', '5', '1', '7', '1']"
      ]
     },
     "execution_count": 111,
     "metadata": {},
     "output_type": "execute_result"
    }
   ],
   "source": [
    "evaluations._list[1:]"
   ]
  },
  {
   "cell_type": "code",
   "execution_count": 7,
   "metadata": {},
   "outputs": [],
   "source": [
    "from examples.custom_components import behavior\n",
    "\n",
    "def build_agent(\n",
    "    agent_config,\n",
    "    player_names: list[str],\n",
    "    measurements: measurements_lib.Measurements | None = None,\n",
    "):\n",
    "  mem = formative_memory_factory.make_memories(agent_config)\n",
    "\n",
    "  behaviours = behavior.BehavioralChoices(\n",
    "    name='behaviours',\n",
    "    model=model,\n",
    "    memory=mem,\n",
    "    agent_name=agent_config.name,\n",
    "    clock_now=clock.now\n",
    "  )\n",
    "\n",
    "  self_perception = components.self_perception.SelfPerception(\n",
    "      name='self perception',\n",
    "      model=model,\n",
    "      memory=mem,\n",
    "      agent_name=agent_config.name,\n",
    "      clock_now=clock.now,\n",
    "      verbose=True,\n",
    "  )\n",
    "  situation_perception = components.situation_perception.SituationPerception(\n",
    "      name='situation perception',\n",
    "      model=model,\n",
    "      memory=mem,\n",
    "      agent_name=agent_config.name,\n",
    "      clock_now=clock.now,\n",
    "      verbose=True,\n",
    "  )\n",
    "  person_by_situation = components.person_by_situation.PersonBySituation(\n",
    "      name='person by situation',\n",
    "      model=model,\n",
    "      memory=mem,\n",
    "      agent_name=agent_config.name,\n",
    "      clock_now=clock.now,\n",
    "      components=[self_perception, situation_perception],\n",
    "      verbose=True,\n",
    "  )\n",
    "  persona = components.sequential.Sequential(\n",
    "      name='persona',\n",
    "      components=[\n",
    "          self_perception,\n",
    "          situation_perception,\n",
    "          person_by_situation,\n",
    "      ],\n",
    "  )\n",
    "  current_time_component = components.report_function.ReportFunction(\n",
    "      name='current_time', function=clock.current_time_interval_str\n",
    "  )\n",
    "\n",
    "  current_obs = components.observation.Observation(\n",
    "            agent_name=agent_config.name,\n",
    "      clock_now=clock.now,\n",
    "      memory=mem,\n",
    "      timeframe=clock.get_step_size(),\n",
    "      component_name='current observations',\n",
    "  )\n",
    "  summary_obs = components.observation.ObservationSummary(\n",
    "      agent_name=agent_config.name,\n",
    "      model=model,\n",
    "      clock_now=clock.now,\n",
    "      memory=mem,\n",
    "      timeframe_delta_from=datetime.timedelta(hours=4),\n",
    "      timeframe_delta_until=datetime.timedelta(hours=1),\n",
    "      components=[persona],\n",
    "      component_name='summary of observations',\n",
    "  )\n",
    "\n",
    "\n",
    "  goal_metric = goal_achievement.GoalAchievementMetric(\n",
    "      model=model,\n",
    "      player_name=agent_config.name,\n",
    "      player_goal=agent_config.goal,\n",
    "      clock=clock,\n",
    "      name='Goal Achievement',\n",
    "      measurements=measurements,\n",
    "      channel='goal_achievement',\n",
    "      verbose=False,\n",
    "  )\n",
    "  morality_metric = common_sense_morality.CommonSenseMoralityMetric(\n",
    "      model=model,\n",
    "      player_name=agent_config.name,\n",
    "      clock=clock,\n",
    "      name='Morality',\n",
    "      verbose=False,\n",
    "      measurements=measurements,\n",
    "      channel='common_sense_morality',\n",
    "  )\n",
    "\n",
    "  agent = basic_agent.BasicAgent(\n",
    "      model,\n",
    "      mem,\n",
    "      agent_name=agent_config.name,\n",
    "      clock=clock,\n",
    "      verbose=False,\n",
    "      components=[\n",
    "          persona,\n",
    "          current_time_component,\n",
    "          summary_obs,\n",
    "          current_obs,\n",
    "          goal_metric,\n",
    "          morality_metric,\n",
    "      ],\n",
    "      update_interval=time_step,\n",
    "  )\n",
    "  reputation_metric = opinion_of_others.OpinionOfOthersMetric(\n",
    "      model=model,\n",
    "      player_name=agent_config.name,\n",
    "      player_names=player_names,\n",
    "      context_fn=agent.state,\n",
    "      clock=clock,\n",
    "      name='Opinion',\n",
    "      verbose=False,\n",
    "      measurements=measurements,\n",
    "      channel='opinion_of_others',\n",
    "      question=\"What is {opining_player}'s opinion of {of_player}?\",\n",
    "  )\n",
    "  agent.add_component(reputation_metric)\n",
    "\n",
    "  return agent"
   ]
  },
  {
   "cell_type": "code",
   "execution_count": null,
   "metadata": {},
   "outputs": [],
   "source": []
  }
 ],
 "metadata": {
  "kernelspec": {
   "display_name": "Python 3",
   "language": "python",
   "name": "python3"
  },
  "language_info": {
   "codemirror_mode": {
    "name": "ipython",
    "version": 3
   },
   "file_extension": ".py",
   "mimetype": "text/x-python",
   "name": "python",
   "nbconvert_exporter": "python",
   "pygments_lexer": "ipython3",
   "version": "3.10.13"
  }
 },
 "nbformat": 4,
 "nbformat_minor": 2
}
