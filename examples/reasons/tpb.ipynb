{
 "cells": [
  {
   "cell_type": "code",
   "execution_count": 1,
   "metadata": {},
   "outputs": [],
   "source": [
    "import sys\n",
    "import os\n",
    "path = os.path.abspath('../..')\n",
    "if path not in sys.path:\n",
    "  sys.path.insert(0, path)\n",
    "\n",
    "%load_ext autoreload\n",
    "\n",
    "import collections\n",
    "import concurrent.futures\n",
    "import datetime\n",
    "import json\n",
    "import termcolor\n",
    "import re\n",
    "\n",
    "import numpy as np\n",
    "\n",
    "from IPython import display\n",
    "\n",
    "from concordia.agents import basic_agent\n",
    "from concordia.components import agent as components\n",
    "from concordia import components as generic_components\n",
    "from concordia.associative_memory import associative_memory\n",
    "from concordia.associative_memory import blank_memories\n",
    "from concordia.associative_memory import formative_memories\n",
    "from concordia.associative_memory import importance_function\n",
    "from concordia.clocks import game_clock\n",
    "from concordia.components import game_master as gm_components\n",
    "from concordia.environment import game_master\n",
    "from concordia.metrics import goal_achievement\n",
    "from concordia.metrics import common_sense_morality\n",
    "from concordia.metrics import opinion_of_others\n",
    "from concordia.utils import html as html_lib\n",
    "from concordia.utils import measurements as measurements_lib\n",
    "from concordia.utils import plotting"
   ]
  },
  {
   "cell_type": "code",
   "execution_count": 2,
   "metadata": {},
   "outputs": [],
   "source": [
    "local_models = True\n",
    "\n",
    "if local_models:\n",
    "    # Setup LLM\n",
    "    from concordia.language_model import ollama_model\n",
    "    model = ollama_model.OllamaLanguageModel(\n",
    "        model_name='gemma',\n",
    "        streaming=True\n",
    "    )\n",
    "\n",
    "    # Setup measurements and clock\n",
    "    measurements = measurements_lib.Measurements()\n",
    "    time_step = datetime.timedelta(minutes=20)\n",
    "    SETUP_TIME = datetime.datetime(hour=20, year=2024, month=10, day=1)\n",
    "\n",
    "    START_TIME = datetime.datetime(hour=18, year=2024, month=10, day=2)\n",
    "    clock = game_clock.MultiIntervalClock(\n",
    "        start=SETUP_TIME,\n",
    "        step_sizes=[time_step, datetime.timedelta(seconds=10)])\n",
    "\n",
    "    # Setup sentence encoder\n",
    "    from sentence_transformers import SentenceTransformer\n",
    "    st5_model = SentenceTransformer('sentence-transformers/sentence-t5-base')\n",
    "    embedder = st5_model.encode\n",
    "\n",
    "else:\n",
    "    from concordia.language_model import gpt_model\n",
    "    from concordia.language_model import gcloud_model\n",
    "    # @title Language Model - pick your model and provide keys\n",
    "    CLOUD_PROJECT_ID = '' #@param {type: 'string'}\n",
    "    GPT_API_KEY = '' #@param {type: 'string'}\n",
    "    GPT_MODEL_NAME = '' #@param {type: 'string'}\n",
    "\n",
    "    USE_CLOUD = True #@param {type: 'boolean'}\n",
    "\n",
    "    if USE_CLOUD:\n",
    "        model = gcloud_model.CloudLanguageModel(project_id= CLOUD_PROJECT_ID)\n",
    "    else:\n",
    "        model = gpt_model.GptLanguageModel(api_key=GPT_API_KEY, model_name=GPT_MODEL_NAME)\n",
    "\n",
    "#@title Importance models\n",
    "importance_model = importance_function.ConstantImportanceModel()\n",
    "importance_model_gm = importance_function.ConstantImportanceModel()\n"
   ]
  },
  {
   "cell_type": "code",
   "execution_count": 3,
   "metadata": {},
   "outputs": [
    {
     "name": "stderr",
     "output_type": "stream",
     "text": [
      "/opt/homebrew/Caskroom/miniconda/base/lib/python3.11/site-packages/langchain_core/_api/deprecation.py:117: LangChainDeprecationWarning: The function `__call__` was deprecated in LangChain 0.1.7 and will be removed in 0.2.0. Use invoke instead.\n",
      "  warn_deprecated(\n"
     ]
    },
    {
     "name": "stdout",
     "output_type": "stream",
     "text": [
      "Sure, here is a concise summary of the passage in a concise and insightful fashion:\n",
      "\n",
      "Alice's late return from work finds her encountering Dorothy at her doorstep. Dorothy is forced to move out of her house that night and requires assistance with the move."
     ]
    }
   ],
   "source": [
    "# @title Generic memories are memories that all players and GM share.\n",
    "\n",
    "shared_memories = [\n",
    "    'Alice returns late from work and finds Dorothy at her doorstep.',\n",
    "    \"Dorothy has to move out of her house tonight and needs someone to help her move.\",\n",
    "]\n",
    "\n",
    "# The generic context will be used for the NPC context. It reflects general\n",
    "# knowledge and is possessed by all characters.\n",
    "shared_context = model.sample_text(\n",
    "    'Summarize the following passage in a concise and insightful fashion:\\n'\n",
    "    + '\\n'.join(shared_memories)\n",
    "    + '\\n'\n",
    "    + 'Summary:'\n",
    ")"
   ]
  },
  {
   "cell_type": "code",
   "execution_count": 4,
   "metadata": {},
   "outputs": [],
   "source": [
    "blank_memory_factory = blank_memories.MemoryFactory(\n",
    "    model=model,\n",
    "    embedder=embedder,\n",
    "    importance=importance_model.importance,\n",
    "    clock_now=clock.now,\n",
    ")\n",
    "\n",
    "formative_memory_factory = formative_memories.FormativeMemoryFactory(\n",
    "    model=model,\n",
    "    shared_memories=shared_memories,\n",
    "    blank_memory_factory_call=blank_memory_factory.make_blank_memory,\n",
    ")"
   ]
  },
  {
   "cell_type": "code",
   "execution_count": 5,
   "metadata": {},
   "outputs": [],
   "source": [
    "#@title Creating character backgrounds, goals and traits. Modify to explore how it influences the outcomes\n",
    "NUM_PLAYERS = 2\n",
    "\n",
    "scenario_premise = [\n",
    "\n",
    "    (\n",
    "        'Alice returns late from work and finds her friend Dorothy at her doorstep. '\n",
    "        + 'Dorothy has to move out of her house tonight and needs someone to help her move.'\n",
    "    ),\n",
    "]\n",
    "player_configs = [\n",
    "    formative_memories.AgentConfig(\n",
    "        name='Alice',\n",
    "        gender='female',\n",
    "        goal='Alice is exhausted after work, and she needs to help her grandmother all day the next day.',\n",
    "        context=shared_context,\n",
    "        traits='responsibility: medium; aggression: medium',\n",
    "    ),\n",
    "    formative_memories.AgentConfig(\n",
    "        name='Dorothy',\n",
    "        gender='female',\n",
    "        goal=(\n",
    "            \"Dorothy has planned on Bob helping her move, but Bob didn't show up. \"\n",
    "        ),\n",
    "        context=shared_context,\n",
    "        traits='responsibility: medium; aggression: medium',\n",
    "    ),\n",
    "]"
   ]
  },
  {
   "cell_type": "code",
   "execution_count": 6,
   "metadata": {},
   "outputs": [
    {
     "data": {
      "application/vnd.jupyter.widget-view+json": {
       "model_id": "ed07dde47f17430c8194acc047d62430",
       "version_major": 2,
       "version_minor": 0
      },
      "text/plain": [
       "Batches:   0%|          | 0/1 [00:00<?, ?it/s]"
      ]
     },
     "metadata": {},
     "output_type": "display_data"
    },
    {
     "data": {
      "application/vnd.jupyter.widget-view+json": {
       "model_id": "84811fcd50c044a1a4d53dcdf1f1f220",
       "version_major": 2,
       "version_minor": 0
      },
      "text/plain": [
       "Batches:   0%|          | 0/1 [00:00<?, ?it/s]"
      ]
     },
     "metadata": {},
     "output_type": "display_data"
    },
    {
     "name": "stdout",
     "output_type": "stream",
     "text": [
      "## Alice: A Woman of Contradictions\n",
      "\n",
      "**Job:** Graphic designer.\n",
      "\n",
      "**Typical Day:** Alice is a creative force, working on projects that range from branding to website design. Her days are filled with brainstorming, sketching, and collaborating with clients.\n",
      "\n",
      "**Goals:** To establish herself as a top designer, build a successful career, and leave a lasting impression on the world.\n",
      "\n",
      "**Desires:** To travel the world, own a beautiful home, and experience happiness in her relationships.\n",
      "\n",
      "**Hopes:** To see her designs implemented in prestigious projects and to inspire others.\n",
      "\n",
      "**Dreams:** To create a legacy that transcends time and to leave the world a better place.\n",
      "\n",
      "**Responsibilities:**\n",
      "\n",
      "* Managing client relationships\n",
      "* Meeting deadlines\n",
      "* Maintaining creative integrity\n",
      "* Balancing work and personal life\n",
      "\n",
      "**Obligations:**\n",
      "\n",
      "* Meeting professional standards\n",
      "* Maintaining confidentiality\n",
      "* Adherence to ethical guidelines\n",
      "\n",
      "**Joy:**\n",
      "\n",
      "* Creative freedom\n",
      "* Appreciation of her work\n",
      "* Collaboration with talented individuals\n",
      "* Sense of accomplishment\n",
      "\n",
      "**Fear:**\n",
      "\n",
      "* Losing her creativity\n",
      "* Not being able to fulfill her goals\n",
      "* Relationship problems\n",
      "* Failure\n",
      "\n",
      "**Friends:** A close group of creative individuals, supportive and encouraging.\n",
      "\n",
      "**Likes:**\n",
      "\n",
      "* Exploring new art and design trends\n",
      "* Hiking in nature\n",
      "* Spending time with loved ones\n",
      "* Pursuing personal interests\n",
      "\n",
      "**Current Concerns:**\n",
      "\n",
      "* Balancing work and personal life\n",
      "* Meeting client expectations\n",
      "* Maintaining her creativity\n",
      "* Dealing with the challenges of the freelance industry## Alice: A Woman of Contradictions\n",
      "\n",
      "**Job:** Graphic designer.\n",
      "\n",
      "**Typical Day:** Alice is a creative force, working on projects that range from branding to website design.\n",
      "Her days are filled with brainstorming, sketching, and collaborating with clients.\n",
      "\n",
      "**Goals:** To establish herself as a top designer, build a successful career, and leave a lasting impression on the world.\n",
      "\n",
      "**Desires:** To travel the world, own a beautiful home, and experience happiness in her relationships.\n",
      "\n",
      "**Hopes:** To see her designs implemented in prestigious projects and to inspire others.\n",
      "\n",
      "**Dreams:** To create a legacy that transcends time and to leave the world a better place.\n",
      "\n",
      "**Responsibilities:**\n",
      "\n",
      "* Managing client relationships\n",
      "* Meeting deadlines\n",
      "* Maintaining creative integrity\n",
      "* Balancing work and personal life\n",
      "\n",
      "**Obligations:**\n",
      "\n",
      "* Meeting professional standards\n",
      "* Maintaining confidentiality\n",
      "* Adherence to ethical guidelines\n",
      "\n",
      "**Joy:**\n",
      "\n",
      "* Creative freedom\n",
      "* Appreciation of her work\n",
      "* Collaboration with talented individuals\n",
      "* Sense of accomplishment\n",
      "\n",
      "**Fear:**\n",
      "\n",
      "* Losing her creativity\n",
      "* Not being able to fulfill her goals\n",
      "* Relationship problems\n",
      "* Failure\n",
      "\n",
      "**Friends:** A close group of creative individuals, supportive and encouraging.\n",
      "\n",
      "**Likes:**\n",
      "\n",
      "* Exploring new art and design trends\n",
      "* Hiking in nature\n",
      "* Spending time with loved ones\n",
      "* Pursuing personal interests\n",
      "\n",
      "**Current Concerns:**\n",
      "\n",
      "* Balancing work and personal life\n",
      "* Meeting client expectations\n",
      "* Maintaining her creativity\n",
      "* Dealing with the challenges of the freelance industryThree-year-old Alice, a creative force, was late from work one evening. As she arrived home, she found her neighbor, Dorothy, standing at her doorstep, distraught. Dorothy had been forced to move out of her house that night and needed assistance with the move. Seeing her neighbor's distress, Alice felt compassion and offered her help."
     ]
    },
    {
     "data": {
      "application/vnd.jupyter.widget-view+json": {
       "model_id": "217794a8f52f4eb8a4ac3fc912afc76c",
       "version_major": 2,
       "version_minor": 0
      },
      "text/plain": [
       "Batches:   0%|          | 0/1 [00:00<?, ?it/s]"
      ]
     },
     "metadata": {},
     "output_type": "display_data"
    },
    {
     "name": "stdout",
     "output_type": "stream",
     "text": [
      "**Formative Episode at Age 3:**\n",
      "\n",
      "Three-year-old Alice, a creative force, was late from work one evening. As she arrived home, she found her neighbor, Dorothy, standing at her doorstep, distraught. Seeing her neighbor's distress, Alice felt compassion and offered her help.\n",
      "\n",
      "**Formative Episode at Age 7:**\n",
      "\n",
      "Seven-year-old Alice, a creative force, was late from work one evening. As she arrived home, she found her neighbor, Dorothy, standing at her doorstep, distraught. Seeing her neighbor's distress, Alice felt compassion and offered her help."
     ]
    },
    {
     "data": {
      "application/vnd.jupyter.widget-view+json": {
       "model_id": "7e952cf0c26a46a5bd6bd4998b8f325e",
       "version_major": 2,
       "version_minor": 0
      },
      "text/plain": [
       "Batches:   0%|          | 0/1 [00:00<?, ?it/s]"
      ]
     },
     "metadata": {},
     "output_type": "display_data"
    },
    {
     "name": "stdout",
     "output_type": "stream",
     "text": [
      "**Formative Episode at Age 12:**\n",
      "\n",
      "Twelve-year-old Alice, a creative force, was late from work one evening. As she arrived home, she found her neighbor, Dorothy, standing at her doorstep, distraught. Seeing her neighbor's distress, Alice felt compassion and offered her help."
     ]
    },
    {
     "data": {
      "application/vnd.jupyter.widget-view+json": {
       "model_id": "518e7bea287e437da0146b796d71f736",
       "version_major": 2,
       "version_minor": 0
      },
      "text/plain": [
       "Batches:   0%|          | 0/1 [00:00<?, ?it/s]"
      ]
     },
     "metadata": {},
     "output_type": "display_data"
    },
    {
     "name": "stdout",
     "output_type": "stream",
     "text": [
      "## Formative Episode at Age 16\n",
      "\n",
      "Sixteen-year-old Alice, a creative force, was late from work one evening. As she arrived home, she found her neighbor, Dorothy, standing at her doorstep, distraught. Seeing her neighbor's distress, Alice felt compassion and offered her help. Despite the challenges, Alice worked tirelessly to help Dorothy move out and provided her with a warm place to stay until she found a new home."
     ]
    },
    {
     "data": {
      "application/vnd.jupyter.widget-view+json": {
       "model_id": "354c4db0a12c42a988480a72eee3d446",
       "version_major": 2,
       "version_minor": 0
      },
      "text/plain": [
       "Batches:   0%|          | 0/1 [00:00<?, ?it/s]"
      ]
     },
     "metadata": {},
     "output_type": "display_data"
    },
    {
     "name": "stdout",
     "output_type": "stream",
     "text": [
      "## Formative Episode at Age 21\n",
      "\n",
      "Twenty-one-year-old Alice, a creative force, was late from work one evening. As she arrived home, she found her neighbor, Dorothy, standing at her doorstep, distraught. Seeing her neighbor's distress, Alice felt compassion and offered her help. Despite the challenges, Alice worked tirelessly to help Dorothy move out and provided her with a warm place to stay until she found a new home."
     ]
    },
    {
     "data": {
      "application/vnd.jupyter.widget-view+json": {
       "model_id": "342f435e907f449f84f9f46f30ecb324",
       "version_major": 2,
       "version_minor": 0
      },
      "text/plain": [
       "Batches:   0%|          | 0/1 [00:00<?, ?it/s]"
      ]
     },
     "metadata": {},
     "output_type": "display_data"
    },
    {
     "data": {
      "application/vnd.jupyter.widget-view+json": {
       "model_id": "bab4d0a86441464ea3c8b18b5cad1e0d",
       "version_major": 2,
       "version_minor": 0
      },
      "text/plain": [
       "Batches:   0%|          | 0/1 [00:00<?, ?it/s]"
      ]
     },
     "metadata": {},
     "output_type": "display_data"
    },
    {
     "data": {
      "application/vnd.jupyter.widget-view+json": {
       "model_id": "d217aff6316c485680b29754b755a36c",
       "version_major": 2,
       "version_minor": 0
      },
      "text/plain": [
       "Batches:   0%|          | 0/1 [00:00<?, ?it/s]"
      ]
     },
     "metadata": {},
     "output_type": "display_data"
    },
    {
     "data": {
      "application/vnd.jupyter.widget-view+json": {
       "model_id": "86070f5fa83b48b6a982fe45b197e22b",
       "version_major": 2,
       "version_minor": 0
      },
      "text/plain": [
       "Batches:   0%|          | 0/1 [00:00<?, ?it/s]"
      ]
     },
     "metadata": {},
     "output_type": "display_data"
    }
   ],
   "source": [
    "mem = formative_memory_factory.make_memories(player_configs[0])"
   ]
  },
  {
   "cell_type": "code",
   "execution_count": 65,
   "metadata": {},
   "outputs": [
    {
     "name": "stdout",
     "output_type": "stream",
     "text": [
      "## Alice's Potential Behaviours and Consequences\n",
      "\n",
      "**Potential Behaviour:** Help Dorothy move out and provide her with a warm place to stay until she finds a new home.\n",
      "\n",
      "**Positive Consequences:**\n",
      "\n",
      "1. Dorothy is grateful for Alice's help and offers her a warm place to stay. (Value: 8, Likelihood: 80%)\n",
      "2. Alice feels good knowing she helped someone in need. (Value: 7, Likelihood: 70%)\n",
      "3. Alice feels accomplished and satisfied with her ability to help others. (Value: 9, Likelihood: 60%)\n",
      "\n",
      "**Negative Consequences:**\n",
      "\n",
      "1. Alice is exhausted from work and has to help her grandmother all day the next day. (Value: -2, Likelihood: 40%)\n",
      "2. Alice is late for work the next day due to her extended absence. (Value: -4, Likelihood: 30%)\n",
      "3. Alice feels overwhelmed and stressed by the situation. (Value: -3, Likelihood: 20%)\n",
      "\n",
      "**Potential Behaviour:** Not help Dorothy move out.\n",
      "\n",
      "**Positive Consequences:**\n",
      "\n",
      "1. Alice is able to rest and recover from work. (Value: 6, Likelihood: 90%)\n",
      "2. Alice has more time to herself and can pursue her own interests. (Value: 5, Likelihood: 80%)\n",
      "3. Alice feels relaxed and refreshed. (Value: 7, Likelihood: 70%)\n",
      "\n",
      "**Negative Consequences:**\n",
      "\n",
      "1. Dorothy is upset and feels abandoned. (Value: -4, Likelihood: 50%)\n",
      "2. Dorothy has to find alternative arrangements for moving out. (Value: -3, Likelihood: 40%)\n",
      "3. Alice feels guilty for not helping her neighbor. (Value: -2, Likelihood: 30%)\n",
      "\n",
      "**Potential Behaviour:** Offer to help but not be able to provide a place to stay.\n",
      "\n",
      "**Positive Consequences:**\n",
      "\n",
      "1. Dorothy is grateful for Alice's offer of help. (Value: 8, Likelihood: 80%)\n",
      "2. Alice feels good knowing she offered assistance. (Value: 7, Likelihood: 70%)\n",
      "3. Alice feels accomplished and satisfied with her ability to help others. (Value: 9, Likelihood: 60%)\n",
      "\n",
      "**Negative Consequences:**\n",
      "\n",
      "1. Alice is exhausted from work and has to help her grandmother all day the next day. (Value: -2, Likelihood: 40%)\n",
      "2. Alice is late for work the next day due to her extended absence. (Value: -4, Likelihood: 30%)\n",
      "3. Alice feels overwhelmed and stressed by the situation. (Value: -3, Likelihood: 20%)"
     ]
    }
   ],
   "source": [
    "%autoreload 2\n",
    "from examples.custom_components import tpb\n",
    "\n",
    "behav = tpb.BehavioralChoices(\n",
    "  \"behav\",\n",
    "  model=model,\n",
    "  memory=mem,\n",
    "  player_config=player_configs[0],\n",
    "  clock_now=None,\n",
    "  num_memories_to_retrieve=100\n",
    ")\n",
    "\n",
    "behav.update()"
   ]
  },
  {
   "cell_type": "code",
   "execution_count": 69,
   "metadata": {},
   "outputs": [
    {
     "name": "stdout",
     "output_type": "stream",
     "text": [
      "- 1. Dorothy is grateful for Alice's help and offers her a warm place to stay. (Value: 8, Likelihood: 80%) -\n",
      "- 2. Alice feels good knowing she helped someone in need. (Value: 7, Likelihood: 70%) -\n",
      "- 3. Alice feels accomplished and satisfied with her ability to help others. (Value: 9, Likelihood: 60%) -\n",
      "- 1. Alice is exhausted from work and has to help her grandmother all day the next day. (Value: -2, Likelihood: 40%) -\n",
      "- 2. Alice is late for work the next day due to her extended absence. (Value: -4, Likelihood: 30%) -\n",
      "- 3. Alice feels overwhelmed and stressed by the situation. (Value: -3, Likelihood: 20%) -\n",
      "- 1. Alice is able to rest and recover from work. (Value: 6, Likelihood: 90%) -\n",
      "- 2. Alice has more time to herself and can pursue her own interests. (Value: 5, Likelihood: 80%) -\n",
      "- 3. Alice feels relaxed and refreshed. (Value: 7, Likelihood: 70%) -\n",
      "- 1. Dorothy is upset and feels abandoned. (Value: -4, Likelihood: 50%) -\n",
      "- 2. Dorothy has to find alternative arrangements for moving out. (Value: -3, Likelihood: 40%) -\n",
      "- 3. Alice feels guilty for not helping her neighbor. (Value: -2, Likelihood: 30%) -\n",
      "- 1. Dorothy is grateful for Alice's offer of help. (Value: 8, Likelihood: 80%) -\n",
      "- 2. Alice feels good knowing she offered assistance. (Value: 7, Likelihood: 70%) -\n",
      "- 3. Alice feels accomplished and satisfied with her ability to help others. (Value: 9, Likelihood: 60%) -\n",
      "- 1. Alice is exhausted from work and has to help her grandmother all day the next day. (Value: -2, Likelihood: 40%) -\n",
      "- 2. Alice is late for work the next day due to her extended absence. (Value: -4, Likelihood: 30%) -\n",
      "- 3. Alice feels overwhelmed and stressed by the situation. (Value: -3, Likelihood: 20%) -\n"
     ]
    },
    {
     "data": {
      "text/plain": [
       "[{'behaviour': 'Help Dorothy move out and provide her with a warm place to stay until she finds a new home.',\n",
       "  'consequences': [{'description': \"Dorothy is grateful for Alice's help and offers her a warm place to stay.\",\n",
       "    'value': 8,\n",
       "    'likelihood': 0.8},\n",
       "   {'description': 'Alice feels good knowing she helped someone in need.',\n",
       "    'value': 7,\n",
       "    'likelihood': 0.7},\n",
       "   {'description': 'Alice feels accomplished and satisfied with her ability to help others.',\n",
       "    'value': 9,\n",
       "    'likelihood': 0.6},\n",
       "   {'description': 'Alice is exhausted from work and has to help her grandmother all day the next day.',\n",
       "    'value': -2,\n",
       "    'likelihood': 0.4},\n",
       "   {'description': 'Alice is late for work the next day due to her extended absence.',\n",
       "    'value': -4,\n",
       "    'likelihood': 0.3},\n",
       "   {'description': 'Alice feels overwhelmed and stressed by the situation.',\n",
       "    'value': -3,\n",
       "    'likelihood': 0.2}]},\n",
       " {'behaviour': 'Not help Dorothy move out.',\n",
       "  'consequences': [{'description': 'Alice is able to rest and recover from work.',\n",
       "    'value': 6,\n",
       "    'likelihood': 0.9},\n",
       "   {'description': 'Alice has more time to herself and can pursue her own interests.',\n",
       "    'value': 5,\n",
       "    'likelihood': 0.8},\n",
       "   {'description': 'Alice feels relaxed and refreshed.',\n",
       "    'value': 7,\n",
       "    'likelihood': 0.7},\n",
       "   {'description': 'Dorothy is upset and feels abandoned.',\n",
       "    'value': -4,\n",
       "    'likelihood': 0.5},\n",
       "   {'description': 'Dorothy has to find alternative arrangements for moving out.',\n",
       "    'value': -3,\n",
       "    'likelihood': 0.4},\n",
       "   {'description': 'Alice feels guilty for not helping her neighbor.',\n",
       "    'value': -2,\n",
       "    'likelihood': 0.3}]},\n",
       " {'behaviour': 'Offer to help but not be able to provide a place to stay.',\n",
       "  'consequences': [{'description': \"Dorothy is grateful for Alice's offer of help.\",\n",
       "    'value': 8,\n",
       "    'likelihood': 0.8},\n",
       "   {'description': 'Alice feels good knowing she offered assistance.',\n",
       "    'value': 7,\n",
       "    'likelihood': 0.7},\n",
       "   {'description': 'Alice feels accomplished and satisfied with her ability to help others.',\n",
       "    'value': 9,\n",
       "    'likelihood': 0.6},\n",
       "   {'description': 'Alice is exhausted from work and has to help her grandmother all day the next day.',\n",
       "    'value': -2,\n",
       "    'likelihood': 0.4},\n",
       "   {'description': 'Alice is late for work the next day due to her extended absence.',\n",
       "    'value': -4,\n",
       "    'likelihood': 0.3},\n",
       "   {'description': 'Alice feels overwhelmed and stressed by the situation.',\n",
       "    'value': -3,\n",
       "    'likelihood': 0.2}]}]"
      ]
     },
     "execution_count": 69,
     "metadata": {},
     "output_type": "execute_result"
    }
   ],
   "source": [
    "behav.jsonify()"
   ]
  },
  {
   "cell_type": "code",
   "execution_count": 70,
   "metadata": {},
   "outputs": [
    {
     "name": "stdout",
     "output_type": "stream",
     "text": [
      "- 1. Dorothy is grateful for Alice's help and offers her a warm place to stay. (Value: 8, Likelihood: 80%) -\n",
      "- 2. Alice feels good knowing she helped someone in need. (Value: 7, Likelihood: 70%) -\n",
      "- 3. Alice feels accomplished and satisfied with her ability to help others. (Value: 9, Likelihood: 60%) -\n",
      "- 1. Alice is exhausted from work and has to help her grandmother all day the next day. (Value: -2, Likelihood: 40%) -\n",
      "- 2. Alice is late for work the next day due to her extended absence. (Value: -4, Likelihood: 30%) -\n",
      "- 3. Alice feels overwhelmed and stressed by the situation. (Value: -3, Likelihood: 20%) -\n",
      "- 1. Alice is able to rest and recover from work. (Value: 6, Likelihood: 90%) -\n",
      "- 2. Alice has more time to herself and can pursue her own interests. (Value: 5, Likelihood: 80%) -\n",
      "- 3. Alice feels relaxed and refreshed. (Value: 7, Likelihood: 70%) -\n",
      "- 1. Dorothy is upset and feels abandoned. (Value: -4, Likelihood: 50%) -\n",
      "- 2. Dorothy has to find alternative arrangements for moving out. (Value: -3, Likelihood: 40%) -\n",
      "- 3. Alice feels guilty for not helping her neighbor. (Value: -2, Likelihood: 30%) -\n",
      "- 1. Dorothy is grateful for Alice's offer of help. (Value: 8, Likelihood: 80%) -\n",
      "- 2. Alice feels good knowing she offered assistance. (Value: 7, Likelihood: 70%) -\n",
      "- 3. Alice feels accomplished and satisfied with her ability to help others. (Value: 9, Likelihood: 60%) -\n",
      "- 1. Alice is exhausted from work and has to help her grandmother all day the next day. (Value: -2, Likelihood: 40%) -\n",
      "- 2. Alice is late for work the next day due to her extended absence. (Value: -4, Likelihood: 30%) -\n",
      "- 3. Alice feels overwhelmed and stressed by the situation. (Value: -3, Likelihood: 20%) -\n",
      "**Behaviours:**\n",
      "\n",
      "**1. Help Dorothy move out and provide her with a warm place to stay until she finds a new home:**\n",
      "\n",
      "- **People who might have an opinion:**\n",
      "1. Grandmother (Approval: 8)\n",
      "2. Friend (Approval: 6)\n",
      "3. Neighbor (Approval: 2)\n",
      "4. Teacher (Approval: 4)\n",
      "5. Colleague (Approval: 6)\n",
      "\n",
      "**2. Not help Dorothy move out:**\n",
      "\n",
      "- **People who might have an opinion:**\n",
      "1. Grandmother (Approval: -6)\n",
      "2. Friend (Approval: -2)\n",
      "3. Neighbor (Approval: -8)\n",
      "4. Teacher (Approval: -4)\n",
      "5. Colleague (Approval: -3)\n",
      "\n",
      "**3. Offer to help but not be able to provide a place to stay:**\n",
      "\n",
      "- **People who might have an opinion:**\n",
      "1. Grandmother (Approval: 6)\n",
      "2. Friend (Approval: 4)\n",
      "3. Neighbor (Approval: 0)\n",
      "4. Teacher (Approval: 2)\n",
      "5. Colleague (Approval: 3)"
     ]
    }
   ],
   "source": [
    "%autoreload 2\n",
    "from examples.custom_components import tpb\n",
    "\n",
    "people = tpb.SubjectiveNorms(\n",
    "  \"people\",\n",
    "  model=model,\n",
    "  memory=mem,\n",
    "  player_config=player_configs[0],\n",
    "  components=[behav],\n",
    "  clock_now=None,\n",
    "  num_memories_to_retrieve=100\n",
    ")\n",
    "\n",
    "people.update()"
   ]
  },
  {
   "cell_type": "code",
   "execution_count": 111,
   "metadata": {},
   "outputs": [
    {
     "name": "stdout",
     "output_type": "stream",
     "text": [
      "[{'behaviour': 'Help Dorothy move out and provide her with a warm place to stay until she finds a new home.', 'consequences': [{'description': \"Dorothy is grateful for Alice's help and offers her a warm place to stay.\", 'value': 8, 'likelihood': 0.8}, {'description': 'Alice feels good knowing she helped someone in need.', 'value': 7, 'likelihood': 0.7}, {'description': 'Alice feels accomplished and satisfied with her ability to help others.', 'value': 9, 'likelihood': 0.6}, {'description': 'Alice is exhausted from work and has to help her grandmother all day the next day.', 'value': -2, 'likelihood': 0.4}, {'description': 'Alice is late for work the next day due to her extended absence.', 'value': -4, 'likelihood': 0.3}, {'description': 'Alice feels overwhelmed and stressed by the situation.', 'value': -3, 'likelihood': 0.2}], 'people': [{'person': 'Grandmother', 'approval': 8}, {'person': 'Friend', 'approval': 6}, {'person': 'Neighbor', 'approval': 2}, {'person': 'Teacher', 'approval': 4}, {'person': 'Colleague', 'approval': 6}]}, {'behaviour': 'Not help Dorothy move out.', 'consequences': [{'description': 'Alice is able to rest and recover from work.', 'value': 6, 'likelihood': 0.9}, {'description': 'Alice has more time to herself and can pursue her own interests.', 'value': 5, 'likelihood': 0.8}, {'description': 'Alice feels relaxed and refreshed.', 'value': 7, 'likelihood': 0.7}, {'description': 'Dorothy is upset and feels abandoned.', 'value': -4, 'likelihood': 0.5}, {'description': 'Dorothy has to find alternative arrangements for moving out.', 'value': -3, 'likelihood': 0.4}, {'description': 'Alice feels guilty for not helping her neighbor.', 'value': -2, 'likelihood': 0.3}], 'people': [{'person': 'Grandmother', 'approval': -6}, {'person': 'Friend', 'approval': -2}, {'person': 'Neighbor', 'approval': -8}, {'person': 'Teacher', 'approval': -4}, {'person': 'Colleague', 'approval': -3}]}, {'behaviour': 'Offer to help but not be able to provide a place to stay.', 'consequences': [{'description': \"Dorothy is grateful for Alice's offer of help.\", 'value': 8, 'likelihood': 0.8}, {'description': 'Alice feels good knowing she offered assistance.', 'value': 7, 'likelihood': 0.7}, {'description': 'Alice feels accomplished and satisfied with her ability to help others.', 'value': 9, 'likelihood': 0.6}, {'description': 'Alice is exhausted from work and has to help her grandmother all day the next day.', 'value': -2, 'likelihood': 0.4}, {'description': 'Alice is late for work the next day due to her extended absence.', 'value': -4, 'likelihood': 0.3}, {'description': 'Alice feels overwhelmed and stressed by the situation.', 'value': -3, 'likelihood': 0.2}], 'people': [{'person': 'Grandmother', 'approval': 6}, {'person': 'Friend', 'approval': 4}, {'person': 'Neighbor', 'approval': 0}, {'person': 'Teacher', 'approval': 2}, {'person': 'Colleague', 'approval': 3}]}]\n",
      "['Grandmother', 'Friend', 'Neighbor', 'Teacher', 'Colleague']\n",
      "None\n"
     ]
    }
   ],
   "source": [
    "print(people.jsonify())"
   ]
  },
  {
   "cell_type": "code",
   "execution_count": 113,
   "metadata": {},
   "outputs": [
    {
     "name": "stdout",
     "output_type": "stream",
     "text": [
      "**Grandmother:** (Motivation: 20)\n",
      "Alice is motivated to take into consideration her grandmother's approval, but not as much as other people. She has a lot of other commitments and is exhausted after work.\n",
      "\n",
      "**Friend:** (Motivation: 30)\n",
      "Alice is more motivated to take into consideration her friend's approval than her grandmother's. She would like to maintain a positive relationship with her friend.\n",
      "\n",
      "**Neighbor:** (Motivation: 60)\n",
      "Alice is highly motivated to take into consideration her neighbor's approval. She has a close relationship with her neighbor and feels compassion for her distress.\n",
      "\n",
      "**Teacher:** (Motivation: 10)\n",
      "Alice is not very motivated to take into consideration her teacher's approval. She is not particularly close to her teacher and does not have a lot of interaction with them.\n",
      "\n",
      "**Colleague:** (Motivation: 25)\n",
      "Alice is motivated to take into consideration her colleague's approval to some extent, but not as much as her neighbor or friend. She would like to maintain a positive working relationship."
     ]
    }
   ],
   "source": [
    "%autoreload 2\n",
    "from examples.custom_components import tpb\n",
    "\n",
    "motivs = tpb.PersonMotivations(\n",
    "  \"motivs\",\n",
    "  model=model,\n",
    "  memory=mem,\n",
    "  player_config=player_configs[0],\n",
    "  components=[people],\n",
    "  clock_now=None\n",
    ")\n",
    "\n",
    "motivs.update()"
   ]
  },
  {
   "cell_type": "code",
   "execution_count": 128,
   "metadata": {},
   "outputs": [],
   "source": [
    "json_test = motivs.jsonify()"
   ]
  },
  {
   "cell_type": "code",
   "execution_count": 130,
   "metadata": {},
   "outputs": [
    {
     "data": {
      "text/plain": [
       "[{'behaviour': 'Help Dorothy move out and provide her with a warm place to stay until she finds a new home.',\n",
       "  'consequences': [{'description': \"Dorothy is grateful for Alice's help and offers her a warm place to stay.\",\n",
       "    'value': 8,\n",
       "    'likelihood': 0.8},\n",
       "   {'description': 'Alice feels good knowing she helped someone in need.',\n",
       "    'value': 7,\n",
       "    'likelihood': 0.7},\n",
       "   {'description': 'Alice feels accomplished and satisfied with her ability to help others.',\n",
       "    'value': 9,\n",
       "    'likelihood': 0.6},\n",
       "   {'description': 'Alice is exhausted from work and has to help her grandmother all day the next day.',\n",
       "    'value': -2,\n",
       "    'likelihood': 0.4},\n",
       "   {'description': 'Alice is late for work the next day due to her extended absence.',\n",
       "    'value': -4,\n",
       "    'likelihood': 0.3},\n",
       "   {'description': 'Alice feels overwhelmed and stressed by the situation.',\n",
       "    'value': -3,\n",
       "    'likelihood': 0.2}],\n",
       "  'people': [{'person': 'Grandmother', 'approval': 8, 'motivation': 20},\n",
       "   {'person': 'Friend', 'approval': 6, 'motivation': 30},\n",
       "   {'person': 'Neighbor', 'approval': 2, 'motivation': 60},\n",
       "   {'person': 'Teacher', 'approval': 4, 'motivation': 10},\n",
       "   {'person': 'Colleague', 'approval': 6, 'motivation': 25}]},\n",
       " {'behaviour': 'Not help Dorothy move out.',\n",
       "  'consequences': [{'description': 'Alice is able to rest and recover from work.',\n",
       "    'value': 6,\n",
       "    'likelihood': 0.9},\n",
       "   {'description': 'Alice has more time to herself and can pursue her own interests.',\n",
       "    'value': 5,\n",
       "    'likelihood': 0.8},\n",
       "   {'description': 'Alice feels relaxed and refreshed.',\n",
       "    'value': 7,\n",
       "    'likelihood': 0.7},\n",
       "   {'description': 'Dorothy is upset and feels abandoned.',\n",
       "    'value': -4,\n",
       "    'likelihood': 0.5},\n",
       "   {'description': 'Dorothy has to find alternative arrangements for moving out.',\n",
       "    'value': -3,\n",
       "    'likelihood': 0.4},\n",
       "   {'description': 'Alice feels guilty for not helping her neighbor.',\n",
       "    'value': -2,\n",
       "    'likelihood': 0.3}],\n",
       "  'people': [{'person': 'Grandmother', 'approval': -6, 'motivation': 20},\n",
       "   {'person': 'Friend', 'approval': -2, 'motivation': 30},\n",
       "   {'person': 'Neighbor', 'approval': -8, 'motivation': 60},\n",
       "   {'person': 'Teacher', 'approval': -4, 'motivation': 10},\n",
       "   {'person': 'Colleague', 'approval': -3, 'motivation': 25}]},\n",
       " {'behaviour': 'Offer to help but not be able to provide a place to stay.',\n",
       "  'consequences': [{'description': \"Dorothy is grateful for Alice's offer of help.\",\n",
       "    'value': 8,\n",
       "    'likelihood': 0.8},\n",
       "   {'description': 'Alice feels good knowing she offered assistance.',\n",
       "    'value': 7,\n",
       "    'likelihood': 0.7},\n",
       "   {'description': 'Alice feels accomplished and satisfied with her ability to help others.',\n",
       "    'value': 9,\n",
       "    'likelihood': 0.6},\n",
       "   {'description': 'Alice is exhausted from work and has to help her grandmother all day the next day.',\n",
       "    'value': -2,\n",
       "    'likelihood': 0.4},\n",
       "   {'description': 'Alice is late for work the next day due to her extended absence.',\n",
       "    'value': -4,\n",
       "    'likelihood': 0.3},\n",
       "   {'description': 'Alice feels overwhelmed and stressed by the situation.',\n",
       "    'value': -3,\n",
       "    'likelihood': 0.2}],\n",
       "  'people': [{'person': 'Grandmother', 'approval': 6, 'motivation': 20},\n",
       "   {'person': 'Friend', 'approval': 4, 'motivation': 30},\n",
       "   {'person': 'Neighbor', 'approval': 0, 'motivation': 60},\n",
       "   {'person': 'Teacher', 'approval': 2, 'motivation': 10},\n",
       "   {'person': 'Colleague', 'approval': 3, 'motivation': 25}]}]"
      ]
     },
     "execution_count": 130,
     "metadata": {},
     "output_type": "execute_result"
    }
   ],
   "source": [
    "import json\n",
    "json_test"
   ]
  }
 ],
 "metadata": {
  "kernelspec": {
   "display_name": "base",
   "language": "python",
   "name": "python3"
  },
  "language_info": {
   "codemirror_mode": {
    "name": "ipython",
    "version": 3
   },
   "file_extension": ".py",
   "mimetype": "text/x-python",
   "name": "python",
   "nbconvert_exporter": "python",
   "pygments_lexer": "ipython3",
   "version": "3.11.8"
  }
 },
 "nbformat": 4,
 "nbformat_minor": 2
}
