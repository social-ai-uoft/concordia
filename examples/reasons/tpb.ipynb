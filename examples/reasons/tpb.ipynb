{
 "cells": [
  {
   "cell_type": "code",
   "execution_count": 1,
   "metadata": {},
   "outputs": [],
   "source": [
    "import sys\n",
    "import os\n",
    "path = os.path.abspath('../..')\n",
    "if path not in sys.path:\n",
    "  sys.path.insert(0, path)\n",
    "\n",
    "%load_ext autoreload\n",
    "\n",
    "import collections\n",
    "import concurrent.futures\n",
    "import datetime\n",
    "import json\n",
    "import termcolor\n",
    "import re\n",
    "\n",
    "import numpy as np\n",
    "\n",
    "from IPython import display\n",
    "\n",
    "from concordia.agents import basic_agent\n",
    "from concordia.components import agent as components\n",
    "from concordia import components as generic_components\n",
    "from concordia.associative_memory import associative_memory\n",
    "from concordia.associative_memory import blank_memories\n",
    "from concordia.associative_memory import formative_memories\n",
    "from concordia.associative_memory import importance_function\n",
    "from concordia.clocks import game_clock\n",
    "from concordia.components import game_master as gm_components\n",
    "from concordia.environment import game_master\n",
    "from concordia.metrics import goal_achievement\n",
    "from concordia.metrics import common_sense_morality\n",
    "from concordia.metrics import opinion_of_others\n",
    "from concordia.utils import html as html_lib\n",
    "from concordia.utils import measurements as measurements_lib\n",
    "from concordia.utils import plotting"
   ]
  },
  {
   "cell_type": "code",
   "execution_count": 2,
   "metadata": {},
   "outputs": [],
   "source": [
    "local_models = True\n",
    "\n",
    "if local_models:\n",
    "    # Setup LLM\n",
    "    from concordia.language_model import ollama_model\n",
    "    model = ollama_model.OllamaLanguageModel(\n",
    "        model_name='gemma',\n",
    "        streaming=True\n",
    "    )\n",
    "\n",
    "    # Setup measurements and clock\n",
    "    measurements = measurements_lib.Measurements()\n",
    "    time_step = datetime.timedelta(minutes=20)\n",
    "    SETUP_TIME = datetime.datetime(hour=20, year=2024, month=10, day=1)\n",
    "\n",
    "    START_TIME = datetime.datetime(hour=18, year=2024, month=10, day=2)\n",
    "    clock = game_clock.MultiIntervalClock(\n",
    "        start=SETUP_TIME,\n",
    "        step_sizes=[time_step, datetime.timedelta(seconds=10)])\n",
    "\n",
    "    # Setup sentence encoder\n",
    "    from sentence_transformers import SentenceTransformer\n",
    "    st5_model = SentenceTransformer('sentence-transformers/sentence-t5-base')\n",
    "    embedder = st5_model.encode\n",
    "\n",
    "else:\n",
    "    from concordia.language_model import gpt_model\n",
    "    from concordia.language_model import gcloud_model\n",
    "    # @title Language Model - pick your model and provide keys\n",
    "    CLOUD_PROJECT_ID = '' #@param {type: 'string'}\n",
    "    GPT_API_KEY = '' #@param {type: 'string'}\n",
    "    GPT_MODEL_NAME = '' #@param {type: 'string'}\n",
    "\n",
    "    USE_CLOUD = True #@param {type: 'boolean'}\n",
    "\n",
    "    if USE_CLOUD:\n",
    "        model = gcloud_model.CloudLanguageModel(project_id= CLOUD_PROJECT_ID)\n",
    "    else:\n",
    "        model = gpt_model.GptLanguageModel(api_key=GPT_API_KEY, model_name=GPT_MODEL_NAME)\n",
    "\n",
    "#@title Importance models\n",
    "importance_model = importance_function.ConstantImportanceModel()\n",
    "importance_model_gm = importance_function.ConstantImportanceModel()\n"
   ]
  },
  {
   "cell_type": "code",
   "execution_count": 3,
   "metadata": {},
   "outputs": [
    {
     "name": "stderr",
     "output_type": "stream",
     "text": [
      "/opt/homebrew/Caskroom/miniconda/base/lib/python3.11/site-packages/langchain_core/_api/deprecation.py:117: LangChainDeprecationWarning: The function `__call__` was deprecated in LangChain 0.1.7 and will be removed in 0.2.0. Use invoke instead.\n",
      "  warn_deprecated(\n"
     ]
    },
    {
     "name": "stdout",
     "output_type": "stream",
     "text": [
      "Sure, here is a concise summary of the passage in a concise and insightful fashion:\n",
      "\n",
      "Alice returns home late from work and finds Dorothy at her doorstep. Dorothy is forced to move out of her house that night and needs assistance with the move."
     ]
    }
   ],
   "source": [
    "# @title Generic memories are memories that all players and GM share.\n",
    "\n",
    "shared_memories = [\n",
    "    'Alice returns late from work and finds Dorothy at her doorstep.',\n",
    "    \"Dorothy has to move out of her house tonight and needs someone to help her move.\",\n",
    "]\n",
    "\n",
    "# The generic context will be used for the NPC context. It reflects general\n",
    "# knowledge and is possessed by all characters.\n",
    "shared_context = model.sample_text(\n",
    "    'Summarize the following passage in a concise and insightful fashion:\\n'\n",
    "    + '\\n'.join(shared_memories)\n",
    "    + '\\n'\n",
    "    + 'Summary:'\n",
    ")"
   ]
  },
  {
   "cell_type": "code",
   "execution_count": 4,
   "metadata": {},
   "outputs": [],
   "source": [
    "blank_memory_factory = blank_memories.MemoryFactory(\n",
    "    model=model,\n",
    "    embedder=embedder,\n",
    "    importance=importance_model.importance,\n",
    "    clock_now=clock.now,\n",
    ")\n",
    "\n",
    "formative_memory_factory = formative_memories.FormativeMemoryFactory(\n",
    "    model=model,\n",
    "    shared_memories=shared_memories,\n",
    "    blank_memory_factory_call=blank_memory_factory.make_blank_memory,\n",
    ")"
   ]
  },
  {
   "cell_type": "code",
   "execution_count": 5,
   "metadata": {},
   "outputs": [],
   "source": [
    "#@title Creating character backgrounds, goals and traits. Modify to explore how it influences the outcomes\n",
    "NUM_PLAYERS = 2\n",
    "\n",
    "scenario_premise = [\n",
    "\n",
    "    (\n",
    "        'Alice returns late from work and finds her friend Dorothy at her doorstep. '\n",
    "        + 'Dorothy has to move out of her house tonight and needs someone to help her move.'\n",
    "    ),\n",
    "]\n",
    "player_configs = [\n",
    "    formative_memories.AgentConfig(\n",
    "        name='Alice',\n",
    "        gender='female',\n",
    "        goal='Alice is exhausted after work, and she needs to help her grandmother all day the next day.',\n",
    "        context=shared_context,\n",
    "        traits='responsibility: medium; aggression: medium',\n",
    "    ),\n",
    "    formative_memories.AgentConfig(\n",
    "        name='Dorothy',\n",
    "        gender='female',\n",
    "        goal=(\n",
    "            \"Dorothy has planned on Bob helping her move, but Bob didn't show up. \"\n",
    "        ),\n",
    "        context=shared_context,\n",
    "        traits='responsibility: medium; aggression: medium',\n",
    "    ),\n",
    "]"
   ]
  },
  {
   "cell_type": "code",
   "execution_count": 6,
   "metadata": {},
   "outputs": [
    {
     "data": {
      "application/vnd.jupyter.widget-view+json": {
       "model_id": "c9cd15047c1240449b29905f00cac098",
       "version_major": 2,
       "version_minor": 0
      },
      "text/plain": [
       "Batches:   0%|          | 0/1 [00:00<?, ?it/s]"
      ]
     },
     "metadata": {},
     "output_type": "display_data"
    },
    {
     "data": {
      "application/vnd.jupyter.widget-view+json": {
       "model_id": "c54b537068b84992b08e0a00a8217871",
       "version_major": 2,
       "version_minor": 0
      },
      "text/plain": [
       "Batches:   0%|          | 0/1 [00:00<?, ?it/s]"
      ]
     },
     "metadata": {},
     "output_type": "display_data"
    },
    {
     "name": "stdout",
     "output_type": "stream",
     "text": [
      "## Alice: A Woman of Balance and Uncertainty\n",
      "\n",
      "**Job:** Graphic Designer\n",
      "\n",
      "**Typical Day:**\n",
      "\n",
      "* Wake up and start early, usually around 8:00 AM.\n",
      "* Work on freelance projects and client commissions.\n",
      "* Attend meetings and collaborate with clients.\n",
      "* Wrap up work by 6:00 PM.\n",
      "* Commute home, usually by bus.\n",
      "* Spend time with friends and family.\n",
      "* Cook and bake, often experimenting with new recipes.\n",
      "* Read books and articles on various topics.\n",
      "* Catch up on social media and news.\n",
      "* Go out for social events and activities.\n",
      "\n",
      "**Goals:**\n",
      "\n",
      "* To establish a successful freelance career.\n",
      "* To build a strong network of clients and collaborators.\n",
      "* To achieve financial stability and independence.\n",
      "* To travel the world and experience different cultures.\n",
      "\n",
      "**Desires:**\n",
      "\n",
      "* To have a creative outlet that allows her to express herself freely.\n",
      "* To find love and companionship.\n",
      "* To be recognized for her talent and hard work.\n",
      "* To make a positive impact on the world.\n",
      "\n",
      "**Hopes and Dreams:**\n",
      "\n",
      "* To have a successful career that brings her joy and fulfillment.\n",
      "* To build a strong and fulfilling life.\n",
      "* To leave a legacy that inspires others.\n",
      "* To travel the world and experience new perspectives.\n",
      "\n",
      "**Responsibilities:**\n",
      "\n",
      "* Managing freelance projects and client relationships.\n",
      "* Maintaining a professional appearance and demeanor.\n",
      "* Meeting deadlines and managing time effectively.\n",
      "* Staying up-to-date with industry trends and technologies.\n",
      "\n",
      "**Joy:**\n",
      "\n",
      "* Creating beautiful and impactful visuals.\n",
      "* Collaborating with clients and seeing their satisfaction.\n",
      "* Seeing her work displayed in public spaces.\n",
      "* Spending time with loved ones and engaging in shared activities.\n",
      "\n",
      "**Fear:**\n",
      "\n",
      "* Losing her creativity and inspiration.\n",
      "* Not being able to find a balance between work and personal life.\n",
      "* Facing criticism and rejection.\n",
      "* Not being able to achieve her goals and aspirations.\n",
      "\n",
      "**Friends:**\n",
      "\n",
      "* A group of creative and supportive individuals.\n",
      "* A close-knit network of professionals and artists.\n",
      "* A few close friends who offer support and understanding.\n",
      "\n",
      "**Current Concerns:**\n",
      "\n",
      "* The future of her freelance career and the potential for instability.\n",
      "* Balancing her work and personal life and maintaining her mental well-being.\n",
      "* Dealing with the unexpected and finding solutions to challenges.\n",
      "* Keeping up with the latest industry trends and technologies.Sure, here is the text with all the pronouns replaced with the name Alice:\n",
      "\n",
      "## Alice: A Woman of Balance and Uncertainty\n",
      "\n",
      "**Job:** Graphic Designer\n",
      "\n",
      "**Typical Day:**\n",
      "\n",
      "* Wake up and start early, usually around 8:00 AM.\n",
      "* Work on freelance projects and client commissions.\n",
      "* Attend meetings and collaborate with clients.\n",
      "* Wrap up work by 6:00 PM.\n",
      "* Commute home, usually by bus.\n",
      "* Spend time with **Alice** and family.\n",
      "* Cook and bake, often experimenting with new recipes.\n",
      "* Read books and articles on various topics.\n",
      "* Catch up on social media and news.\n",
      "* Go out for social events and activities.\n",
      "\n",
      "**Goals:**\n",
      "\n",
      "* To establish a successful freelance career.\n",
      "* To build a strong network of clients and collaborators.\n",
      "* To achieve financial stability and independence.\n",
      "* To travel the world and experience different cultures.\n",
      "\n",
      "**Desires:**\n",
      "\n",
      "* To have a creative outlet that allows **Alice** to express herself freely.\n",
      "* To find love and companionship.\n",
      "* To be recognized for her talent and hard work.\n",
      "* To make a positive impact on the world.\n",
      "\n",
      "**Hopes and Dreams:**\n",
      "\n",
      "* To have a successful career that brings **Alice** joy and fulfillment.\n",
      "* To build a strong and fulfilling life.\n",
      "* To leave a legacy that inspires others.\n",
      "* To travel the world and experience new perspectives.\n",
      "\n",
      "**Responsibilities:**\n",
      "\n",
      "* Managing freelance projects and client relationships.\n",
      "* Maintaining a professional appearance and demeanor.\n",
      "* Meeting deadlines and managing time effectively.\n",
      "* Staying up-to-date with industry trends and technologies.\n",
      "\n",
      "**Joy:**\n",
      "\n",
      "* Creating beautiful and impactful visuals.\n",
      "* Collaborating with clients and seeing their satisfaction.\n",
      "* Seeing her work displayed in public spaces.\n",
      "* Spending time with loved ones and engaging in shared activities.\n",
      "\n",
      "**Fear:**\n",
      "\n",
      "* Losing her creativity and inspiration.\n",
      "* Not being able to find a balance between work and personal life.\n",
      "* Facing criticism and rejection.\n",
      "* Not being able to achieve her goals and aspirations.\n",
      "\n",
      "**Friends:**\n",
      "\n",
      "* A group of creative and supportive individuals.\n",
      "* A close-knit network of professionals and artists.\n",
      "* A few close friends who offer support and understanding.\n",
      "\n",
      "**Current Concerns:**\n",
      "\n",
      "* The future of her freelance career and the potential for instability.\n",
      "* Balancing her work and personal life and maintaining her mental well-being.\n",
      "* Dealing with the unexpected and finding solutions to challenges.\n",
      "* Keeping up with the latest industry trends and technologies.Three-year-old Alice, a woman of balance and uncertainty, was returning home late from work one evening. As she approached her doorstep, she found her neighbor, Dorothy, standing there, her belongings scattered about. Seeing Dorothy's distress, Alice knew she had to help. Together, they worked tirelessly to move Dorothy's belongings and get her settled into a new place."
     ]
    },
    {
     "data": {
      "application/vnd.jupyter.widget-view+json": {
       "model_id": "c0eb90912ae1478e83fec6558537fc47",
       "version_major": 2,
       "version_minor": 0
      },
      "text/plain": [
       "Batches:   0%|          | 0/1 [00:00<?, ?it/s]"
      ]
     },
     "metadata": {},
     "output_type": "display_data"
    },
    {
     "name": "stdout",
     "output_type": "stream",
     "text": [
      "## Formative Episode at Age 3\n",
      "\n",
      "Three-year-old Alice, a woman of balance and uncertainty, was returning home late from work one evening. As she approached her doorstep, she found her neighbor, Dorothy, standing there, her belongings scattered about. Seeing Dorothy's distress, Alice knew she had to help. Together, they worked tirelessly to move Dorothy's belongings and get her settled into a new place.\n",
      "\n",
      "## Formative Episode at Age 7\n",
      "\n",
      "Seven-year-old Alice, a woman of balance and uncertainty, was returning home late from work one evening. As she approached her doorstep, she found her neighbor, Dorothy, standing there, her belongings scattered about. Seeing Dorothy's distress, Alice knew she had to help. Together, they worked tirelessly to move Dorothy's belongings and get her settled into a new place."
     ]
    },
    {
     "data": {
      "application/vnd.jupyter.widget-view+json": {
       "model_id": "9fdf3187fbaf44dab0a826806356dc18",
       "version_major": 2,
       "version_minor": 0
      },
      "text/plain": [
       "Batches:   0%|          | 0/1 [00:00<?, ?it/s]"
      ]
     },
     "metadata": {},
     "output_type": "display_data"
    },
    {
     "name": "stdout",
     "output_type": "stream",
     "text": [
      "## Formative Episode at Age 12\n",
      "\n",
      "Twelve-year-old Alice, a woman of balance and uncertainty, was returning home late from work one evening. As she approached her doorstep, she found her neighbor, Dorothy, standing there, her belongings scattered about. Seeing Dorothy's distress, Alice knew she had to help. Together, they worked tirelessly to move Dorothy's belongings and get her settled into a new place."
     ]
    },
    {
     "data": {
      "application/vnd.jupyter.widget-view+json": {
       "model_id": "547a615065394e0e872714a6fb7f70d4",
       "version_major": 2,
       "version_minor": 0
      },
      "text/plain": [
       "Batches:   0%|          | 0/1 [00:00<?, ?it/s]"
      ]
     },
     "metadata": {},
     "output_type": "display_data"
    },
    {
     "name": "stdout",
     "output_type": "stream",
     "text": [
      "## Formative Episode at Age 16\n",
      "\n",
      "Sixteen-year-old Alice, a woman of balance and uncertainty, was returning home late from work one evening. As she approached her doorstep, she found her neighbor, Dorothy, standing there, her belongings scattered about. Seeing Dorothy's distress, Alice knew she had to help. Together, they worked tirelessly to move Dorothy's belongings and get her settled into a new place."
     ]
    },
    {
     "data": {
      "application/vnd.jupyter.widget-view+json": {
       "model_id": "f2b5f8475b514e92aafce9b92c7f546f",
       "version_major": 2,
       "version_minor": 0
      },
      "text/plain": [
       "Batches:   0%|          | 0/1 [00:00<?, ?it/s]"
      ]
     },
     "metadata": {},
     "output_type": "display_data"
    },
    {
     "name": "stdout",
     "output_type": "stream",
     "text": [
      "## Formative Episode at Age 21\n",
      "\n",
      "Twenty-one-year-old Alice, a woman of balance and uncertainty, was returning home late from work one evening. As she approached her doorstep, she found her neighbor, Dorothy, standing there, her belongings scattered about. Seeing Dorothy's distress, Alice knew she had to help. Together, they worked tirelessly to move Dorothy's belongings and get her settled into a new place."
     ]
    },
    {
     "data": {
      "application/vnd.jupyter.widget-view+json": {
       "model_id": "ec2fca8f97d74b2390b2793113c9a0e6",
       "version_major": 2,
       "version_minor": 0
      },
      "text/plain": [
       "Batches:   0%|          | 0/1 [00:00<?, ?it/s]"
      ]
     },
     "metadata": {},
     "output_type": "display_data"
    },
    {
     "data": {
      "application/vnd.jupyter.widget-view+json": {
       "model_id": "b480e84f1d284266b3da9f366d9e13af",
       "version_major": 2,
       "version_minor": 0
      },
      "text/plain": [
       "Batches:   0%|          | 0/1 [00:00<?, ?it/s]"
      ]
     },
     "metadata": {},
     "output_type": "display_data"
    },
    {
     "data": {
      "application/vnd.jupyter.widget-view+json": {
       "model_id": "5673799f4aa94ef1ba3e57ad06904a7c",
       "version_major": 2,
       "version_minor": 0
      },
      "text/plain": [
       "Batches:   0%|          | 0/1 [00:00<?, ?it/s]"
      ]
     },
     "metadata": {},
     "output_type": "display_data"
    },
    {
     "data": {
      "application/vnd.jupyter.widget-view+json": {
       "model_id": "1fb324f7d5ee4d26a836b2acb9f7a641",
       "version_major": 2,
       "version_minor": 0
      },
      "text/plain": [
       "Batches:   0%|          | 0/1 [00:00<?, ?it/s]"
      ]
     },
     "metadata": {},
     "output_type": "display_data"
    }
   ],
   "source": [
    "mem = formative_memory_factory.make_memories(player_configs[0])"
   ]
  },
  {
   "cell_type": "code",
   "execution_count": 7,
   "metadata": {},
   "outputs": [
    {
     "name": "stdout",
     "output_type": "stream",
     "text": [
      "## Alice's Potential Behaviours and Consequences\n",
      "\n",
      "**Potential Behaviour:** Help Dorothy move her belongings\n",
      "\n",
      "**Positive Consequences:**\n",
      "\n",
      "1. Dorothy is grateful for Alice's help and offers her a slice of apple pie. (Value: 8, Likelihood: 80%)\n",
      "2. Alice feels good knowing she helped someone in need. (Value: 7, Likelihood: 70%)\n",
      "3. Alice feels accomplished and has a sense of purpose. (Value: 6, Likelihood: 60%)\n",
      "\n",
      "**Negative Consequences:**\n",
      "\n",
      "4. Alice is exhausted and has to cancel her plans for the next day. (Value: -2, Likelihood: 40%)\n",
      "5. Alice has to spend more time moving Dorothy's belongings, delaying her own plans. (Value: -4, Likelihood: 60%)\n",
      "6. Alice gets frustrated and overwhelmed by the situation. (Value: -6, Likelihood: 20%)\n",
      "\n",
      "**Potential Behaviour:** Ignore Dorothy and continue on her way\n",
      "\n",
      "**Positive Consequences:**\n",
      "\n",
      "1. Alice avoids getting involved in someone else's problems. (Value: 5, Likelihood: 60%)\n",
      "2. Alice can rest and recover from work. (Value: 4, Likelihood: 50%)\n",
      "3. Alice has more time for her own personal matters. (Value: 3, Likelihood: 40%)\n",
      "\n",
      "**Negative Consequences:**\n",
      "\n",
      "4. Dorothy is upset and feels abandoned. (Value: -3, Likelihood: 30%)\n",
      "5. Alice feels guilty about not helping. (Value: -5, Likelihood: 40%)\n",
      "6. Alice may encounter negative consequences from her neighbor later. (Value: -7, Likelihood: 20%)\n",
      "\n",
      "**Potential Behaviour:** Call a moving truck\n",
      "\n",
      "**Positive Consequences:**\n",
      "\n",
      "1. The move is completed quickly and efficiently. (Value: 9, Likelihood: 60%)\n",
      "2. Alice can rest and recover from work without worrying about Dorothy's belongings. (Value: 8, Likelihood: 50%)\n",
      "3. Alice feels like a hero for helping Dorothy. (Value: 7, Likelihood: 40%)\n",
      "\n",
      "**Negative Consequences:**\n",
      "\n",
      "4. The moving truck is expensive. (Value: -1, Likelihood: 20%)\n",
      "5. Alice has to wait for the moving truck to arrive. (Value: -2, Likelihood: 30%)\n",
      "6. The moving truck damages Dorothy's belongings. (Value: -4, Likelihood: 10%)\n",
      "\n",
      "**Potential Behaviour:** Offer to help Dorothy move but decline the offer\n",
      "\n",
      "**Positive Consequences:**\n",
      "\n",
      "1. Alice can rest and recover from work without feeling obligated to help. (Value: 6, Likelihood: 70%)\n",
      "2. Alice can maintain her own personal plans. (Value: 5, Likelihood: 60%)\n",
      "3. Alice feels good knowing she offered to help but doesn't feel overwhelmed. (Value: 4, Likelihood: 50%)\n",
      "\n",
      "**Negative Consequences:**\n",
      "\n",
      "4. Dorothy is disappointed and feels like Alice is not helping. (Value: -2, Likelihood: 40%)\n",
      "5. Alice feels guilty about not helping. (Value: -4, Likelihood: 30%)\n",
      "6. Alice may encounter negative consequences from her neighbor later. (Value: -6, Likelihood: 20%)\n",
      "\n",
      "**Potential Behaviour:** Call a friend to help\n",
      "\n",
      "**Positive Consequences:**\n",
      "\n",
      "1. The move is completed quickly and efficiently. (Value: 9, Likelihood: 60%)\n",
      "2. Alice can rest and recover from work without worrying about Dorothy's belongings. (Value: 8, Likelihood: 50%)\n",
      "3. Alice feels like a hero for helping Dorothy. (Value: 7, Likelihood: 40%)\n",
      "\n",
      "**Negative Consequences:**\n",
      "\n",
      "4. The friend is unavailable and Alice has to find another way to help. (Value: -1, Likelihood: 20%)\n",
      "5. Alice has to spend more time moving Dorothy's belongings, delaying her own plans. (Value: -2,\n",
      "The\n",
      "\n",
      "The\n",
      "The"
     ]
    }
   ],
   "source": [
    "%autoreload 2\n",
    "from examples.custom_components import tpb\n",
    "\n",
    "behav = tpb.BehavioralChoices(\n",
    "  \"behav\",\n",
    "  model=model,\n",
    "  memory=mem,\n",
    "  player_config=player_configs[0],\n",
    "  clock_now=None,\n",
    "  num_memories_to_retrieve=100\n",
    ")\n",
    "\n",
    "behav.update()"
   ]
  },
  {
   "cell_type": "code",
   "execution_count": 9,
   "metadata": {},
   "outputs": [
    {
     "name": "stdout",
     "output_type": "stream",
     "text": [
      "- 1. Dorothy is grateful for Alice's help and offers her a slice of apple pie. (Value: 8, Likelihood: 80%) -\n",
      "- 2. Alice feels good knowing she helped someone in need. (Value: 7, Likelihood: 70%) -\n",
      "- 3. Alice feels accomplished and has a sense of purpose. (Value: 6, Likelihood: 60%) -\n",
      "- 4. Alice is exhausted and has to cancel her plans for the next day. (Value: -2, Likelihood: 40%) -\n",
      "- 5. Alice has to spend more time moving Dorothy's belongings, delaying her own plans. (Value: -4, Likelihood: 60%) -\n",
      "- 6. Alice gets frustrated and overwhelmed by the situation. (Value: -6, Likelihood: 20%) -\n",
      "- 1. Alice avoids getting involved in someone else's problems. (Value: 5, Likelihood: 60%) -\n",
      "- 2. Alice can rest and recover from work. (Value: 4, Likelihood: 50%) -\n",
      "- 3. Alice has more time for her own personal matters. (Value: 3, Likelihood: 40%) -\n",
      "- 4. Dorothy is upset and feels abandoned. (Value: -3, Likelihood: 30%) -\n",
      "- 5. Alice feels guilty about not helping. (Value: -5, Likelihood: 40%) -\n",
      "- 6. Alice may encounter negative consequences from her neighbor later. (Value: -7, Likelihood: 20%) -\n",
      "- 1. The move is completed quickly and efficiently. (Value: 9, Likelihood: 60%) -\n",
      "- 2. Alice can rest and recover from work without worrying about Dorothy's belongings. (Value: 8, Likelihood: 50%) -\n",
      "- 3. Alice feels like a hero for helping Dorothy. (Value: 7, Likelihood: 40%) -\n",
      "- 4. The moving truck is expensive. (Value: -1, Likelihood: 20%) -\n",
      "- 5. Alice has to wait for the moving truck to arrive. (Value: -2, Likelihood: 30%) -\n",
      "- 6. The moving truck damages Dorothy's belongings. (Value: -4, Likelihood: 10%) -\n",
      "- 1. Alice can rest and recover from work without feeling obligated to help. (Value: 6, Likelihood: 70%) -\n",
      "- 2. Alice can maintain her own personal plans. (Value: 5, Likelihood: 60%) -\n",
      "- 3. Alice feels good knowing she offered to help but doesn't feel overwhelmed. (Value: 4, Likelihood: 50%) -\n",
      "- 4. Dorothy is disappointed and feels like Alice is not helping. (Value: -2, Likelihood: 40%) -\n",
      "- 5. Alice feels guilty about not helping. (Value: -4, Likelihood: 30%) -\n",
      "- 6. Alice may encounter negative consequences from her neighbor later. (Value: -6, Likelihood: 20%) -\n",
      "- 1. The move is completed quickly and efficiently. (Value: 9, Likelihood: 60%) -\n",
      "- 2. Alice can rest and recover from work without worrying about Dorothy's belongings. (Value: 8, Likelihood: 50%) -\n",
      "- 3. Alice feels like a hero for helping Dorothy. (Value: 7, Likelihood: 40%) -\n",
      "- 4. The friend is unavailable and Alice has to find another way to help. (Value: -1, Likelihood: 20%) -\n"
     ]
    },
    {
     "data": {
      "text/plain": [
       "[{'behaviour': 'Help Dorothy move her belongings',\n",
       "  'consequences': [{'description': \"Dorothy is grateful for Alice's help and offers her a slice of apple pie.\",\n",
       "    'value': 8,\n",
       "    'likelihood': 0.8},\n",
       "   {'description': 'Alice feels good knowing she helped someone in need.',\n",
       "    'value': 7,\n",
       "    'likelihood': 0.7},\n",
       "   {'description': 'Alice feels accomplished and has a sense of purpose.',\n",
       "    'value': 6,\n",
       "    'likelihood': 0.6},\n",
       "   {'description': 'Alice is exhausted and has to cancel her plans for the next day.',\n",
       "    'value': -2,\n",
       "    'likelihood': 0.4},\n",
       "   {'description': \"Alice has to spend more time moving Dorothy's belongings, delaying her own plans.\",\n",
       "    'value': -4,\n",
       "    'likelihood': 0.6},\n",
       "   {'description': 'Alice gets frustrated and overwhelmed by the situation.',\n",
       "    'value': -6,\n",
       "    'likelihood': 0.2}]},\n",
       " {'behaviour': 'Ignore Dorothy and continue on her way',\n",
       "  'consequences': [{'description': \"Alice avoids getting involved in someone else's problems.\",\n",
       "    'value': 5,\n",
       "    'likelihood': 0.6},\n",
       "   {'description': 'Alice can rest and recover from work.',\n",
       "    'value': 4,\n",
       "    'likelihood': 0.5},\n",
       "   {'description': 'Alice has more time for her own personal matters.',\n",
       "    'value': 3,\n",
       "    'likelihood': 0.4},\n",
       "   {'description': 'Dorothy is upset and feels abandoned.',\n",
       "    'value': -3,\n",
       "    'likelihood': 0.3},\n",
       "   {'description': 'Alice feels guilty about not helping.',\n",
       "    'value': -5,\n",
       "    'likelihood': 0.4},\n",
       "   {'description': 'Alice may encounter negative consequences from her neighbor later.',\n",
       "    'value': -7,\n",
       "    'likelihood': 0.2}]},\n",
       " {'behaviour': 'Call a moving truck',\n",
       "  'consequences': [{'description': 'The move is completed quickly and efficiently.',\n",
       "    'value': 9,\n",
       "    'likelihood': 0.6},\n",
       "   {'description': \"Alice can rest and recover from work without worrying about Dorothy's belongings.\",\n",
       "    'value': 8,\n",
       "    'likelihood': 0.5},\n",
       "   {'description': 'Alice feels like a hero for helping Dorothy.',\n",
       "    'value': 7,\n",
       "    'likelihood': 0.4},\n",
       "   {'description': 'The moving truck is expensive.',\n",
       "    'value': -1,\n",
       "    'likelihood': 0.2},\n",
       "   {'description': 'Alice has to wait for the moving truck to arrive.',\n",
       "    'value': -2,\n",
       "    'likelihood': 0.3},\n",
       "   {'description': \"The moving truck damages Dorothy's belongings.\",\n",
       "    'value': -4,\n",
       "    'likelihood': 0.1}]},\n",
       " {'behaviour': 'Offer to help Dorothy move but decline the offer',\n",
       "  'consequences': [{'description': 'Alice can rest and recover from work without feeling obligated to help.',\n",
       "    'value': 6,\n",
       "    'likelihood': 0.7},\n",
       "   {'description': 'Alice can maintain her own personal plans.',\n",
       "    'value': 5,\n",
       "    'likelihood': 0.6},\n",
       "   {'description': \"Alice feels good knowing she offered to help but doesn't feel overwhelmed.\",\n",
       "    'value': 4,\n",
       "    'likelihood': 0.5},\n",
       "   {'description': 'Dorothy is disappointed and feels like Alice is not helping.',\n",
       "    'value': -2,\n",
       "    'likelihood': 0.4},\n",
       "   {'description': 'Alice feels guilty about not helping.',\n",
       "    'value': -4,\n",
       "    'likelihood': 0.3},\n",
       "   {'description': 'Alice may encounter negative consequences from her neighbor later.',\n",
       "    'value': -6,\n",
       "    'likelihood': 0.2}]},\n",
       " {'behaviour': 'Call a friend to help',\n",
       "  'consequences': [{'description': 'The move is completed quickly and efficiently.',\n",
       "    'value': 9,\n",
       "    'likelihood': 0.6},\n",
       "   {'description': \"Alice can rest and recover from work without worrying about Dorothy's belongings.\",\n",
       "    'value': 8,\n",
       "    'likelihood': 0.5},\n",
       "   {'description': 'Alice feels like a hero for helping Dorothy.',\n",
       "    'value': 7,\n",
       "    'likelihood': 0.4},\n",
       "   {'description': 'The friend is unavailable and Alice has to find another way to help.',\n",
       "    'value': -1,\n",
       "    'likelihood': 0.2}]}]"
      ]
     },
     "execution_count": 9,
     "metadata": {},
     "output_type": "execute_result"
    }
   ],
   "source": [
    "behav.jsonify()"
   ]
  },
  {
   "cell_type": "code",
   "execution_count": 10,
   "metadata": {},
   "outputs": [
    {
     "name": "stdout",
     "output_type": "stream",
     "text": [
      "- 1. Dorothy is grateful for Alice's help and offers her a slice of apple pie. (Value: 8, Likelihood: 80%) -\n",
      "- 2. Alice feels good knowing she helped someone in need. (Value: 7, Likelihood: 70%) -\n",
      "- 3. Alice feels accomplished and has a sense of purpose. (Value: 6, Likelihood: 60%) -\n",
      "- 4. Alice is exhausted and has to cancel her plans for the next day. (Value: -2, Likelihood: 40%) -\n",
      "- 5. Alice has to spend more time moving Dorothy's belongings, delaying her own plans. (Value: -4, Likelihood: 60%) -\n",
      "- 6. Alice gets frustrated and overwhelmed by the situation. (Value: -6, Likelihood: 20%) -\n",
      "- 1. Alice avoids getting involved in someone else's problems. (Value: 5, Likelihood: 60%) -\n",
      "- 2. Alice can rest and recover from work. (Value: 4, Likelihood: 50%) -\n",
      "- 3. Alice has more time for her own personal matters. (Value: 3, Likelihood: 40%) -\n",
      "- 4. Dorothy is upset and feels abandoned. (Value: -3, Likelihood: 30%) -\n",
      "- 5. Alice feels guilty about not helping. (Value: -5, Likelihood: 40%) -\n",
      "- 6. Alice may encounter negative consequences from her neighbor later. (Value: -7, Likelihood: 20%) -\n",
      "- 1. The move is completed quickly and efficiently. (Value: 9, Likelihood: 60%) -\n",
      "- 2. Alice can rest and recover from work without worrying about Dorothy's belongings. (Value: 8, Likelihood: 50%) -\n",
      "- 3. Alice feels like a hero for helping Dorothy. (Value: 7, Likelihood: 40%) -\n",
      "- 4. The moving truck is expensive. (Value: -1, Likelihood: 20%) -\n",
      "- 5. Alice has to wait for the moving truck to arrive. (Value: -2, Likelihood: 30%) -\n",
      "- 6. The moving truck damages Dorothy's belongings. (Value: -4, Likelihood: 10%) -\n",
      "- 1. Alice can rest and recover from work without feeling obligated to help. (Value: 6, Likelihood: 70%) -\n",
      "- 2. Alice can maintain her own personal plans. (Value: 5, Likelihood: 60%) -\n",
      "- 3. Alice feels good knowing she offered to help but doesn't feel overwhelmed. (Value: 4, Likelihood: 50%) -\n",
      "- 4. Dorothy is disappointed and feels like Alice is not helping. (Value: -2, Likelihood: 40%) -\n",
      "- 5. Alice feels guilty about not helping. (Value: -4, Likelihood: 30%) -\n",
      "- 6. Alice may encounter negative consequences from her neighbor later. (Value: -6, Likelihood: 20%) -\n",
      "- 1. The move is completed quickly and efficiently. (Value: 9, Likelihood: 60%) -\n",
      "- 2. Alice can rest and recover from work without worrying about Dorothy's belongings. (Value: 8, Likelihood: 50%) -\n",
      "- 3. Alice feels like a hero for helping Dorothy. (Value: 7, Likelihood: 40%) -\n",
      "- 4. The friend is unavailable and Alice has to find another way to help. (Value: -1, Likelihood: 20%) -\n",
      "## Behaviours\n",
      "\n",
      "**1. Help Dorothy move her belongings:**\n",
      "\n",
      "- **Potential participants:**\n",
      "1. Grandmother (Approval: 8)\n",
      "2. Friend (Approval: 6)\n",
      "3. Neighbor (Approval: 3)\n",
      "4. Coworker (Approval: 5)\n",
      "5. Landlord (Approval: 9)\n",
      "\n",
      "**2. Ignore Dorothy and continue on her way:**\n",
      "\n",
      "- **Potential participants:**\n",
      "1. Neighbor (Approval: -2)\n",
      "2. Friend (Approval: -4)\n",
      "3. Coworker (Approval: -6)\n",
      "4. Grandmother (Approval: -5)\n",
      "5. Landlord (Approval: -1)\n",
      "\n",
      "**3. Call a moving truck:**\n",
      "\n",
      "- **Potential participants:**\n",
      "1. Neighbor (Approval: 2)\n",
      "2. Friend (Approval: 4)\n",
      "3. Coworker (Approval: 7)\n",
      "4. Grandmother (Approval: 6)\n",
      "5. Landlord (Approval: 5)\n",
      "\n",
      "**4. Offer to help Dorothy move but decline the offer:**\n",
      "\n",
      "- **Potential participants:**\n",
      "1. Neighbor (Approval: -1)\n",
      "2. Friend (Approval: -3)\n",
      "3. Coworker (Approval: -5)\n",
      "4. Grandmother (Approval: -4)\n",
      "5. Landlord (Approval: -2)\n",
      "\n",
      "**5. Call a friend to help:**\n",
      "\n",
      "- **Potential participants:**\n",
      "1. Neighbor (Approval: 0)\n",
      "2. Friend (Approval: 9)\n",
      "3. Coworker (Approval: 6)\n",
      "4. Grandmother (Approval: 7)\n",
      "5. Landlord (Approval: 8)"
     ]
    }
   ],
   "source": [
    "%autoreload 2\n",
    "from examples.custom_components import tpb\n",
    "\n",
    "people = tpb.SubjectiveNorms(\n",
    "  \"people\",\n",
    "  model=model,\n",
    "  memory=mem,\n",
    "  player_config=player_configs[0],\n",
    "  components=[behav],\n",
    "  clock_now=None,\n",
    "  num_memories_to_retrieve=100\n",
    ")\n",
    "\n",
    "people.update()"
   ]
  },
  {
   "cell_type": "code",
   "execution_count": 11,
   "metadata": {},
   "outputs": [
    {
     "name": "stdout",
     "output_type": "stream",
     "text": [
      "[{'behaviour': 'Help Dorothy move her belongings', 'consequences': [{'description': \"Dorothy is grateful for Alice's help and offers her a slice of apple pie.\", 'value': 8, 'likelihood': 0.8}, {'description': 'Alice feels good knowing she helped someone in need.', 'value': 7, 'likelihood': 0.7}, {'description': 'Alice feels accomplished and has a sense of purpose.', 'value': 6, 'likelihood': 0.6}, {'description': 'Alice is exhausted and has to cancel her plans for the next day.', 'value': -2, 'likelihood': 0.4}, {'description': \"Alice has to spend more time moving Dorothy's belongings, delaying her own plans.\", 'value': -4, 'likelihood': 0.6}, {'description': 'Alice gets frustrated and overwhelmed by the situation.', 'value': -6, 'likelihood': 0.2}], 'people': [{'person': 'Grandmother', 'approval': 8}, {'person': 'Friend', 'approval': 6}, {'person': 'Neighbor', 'approval': 3}, {'person': 'Coworker', 'approval': 5}, {'person': 'Landlord', 'approval': 9}]}, {'behaviour': 'Ignore Dorothy and continue on her way', 'consequences': [{'description': \"Alice avoids getting involved in someone else's problems.\", 'value': 5, 'likelihood': 0.6}, {'description': 'Alice can rest and recover from work.', 'value': 4, 'likelihood': 0.5}, {'description': 'Alice has more time for her own personal matters.', 'value': 3, 'likelihood': 0.4}, {'description': 'Dorothy is upset and feels abandoned.', 'value': -3, 'likelihood': 0.3}, {'description': 'Alice feels guilty about not helping.', 'value': -5, 'likelihood': 0.4}, {'description': 'Alice may encounter negative consequences from her neighbor later.', 'value': -7, 'likelihood': 0.2}], 'people': [{'person': 'Neighbor', 'approval': -2}, {'person': 'Friend', 'approval': -4}, {'person': 'Coworker', 'approval': -6}, {'person': 'Grandmother', 'approval': -5}, {'person': 'Landlord', 'approval': -1}]}, {'behaviour': 'Call a moving truck', 'consequences': [{'description': 'The move is completed quickly and efficiently.', 'value': 9, 'likelihood': 0.6}, {'description': \"Alice can rest and recover from work without worrying about Dorothy's belongings.\", 'value': 8, 'likelihood': 0.5}, {'description': 'Alice feels like a hero for helping Dorothy.', 'value': 7, 'likelihood': 0.4}, {'description': 'The moving truck is expensive.', 'value': -1, 'likelihood': 0.2}, {'description': 'Alice has to wait for the moving truck to arrive.', 'value': -2, 'likelihood': 0.3}, {'description': \"The moving truck damages Dorothy's belongings.\", 'value': -4, 'likelihood': 0.1}], 'people': [{'person': 'Neighbor', 'approval': 2}, {'person': 'Friend', 'approval': 4}, {'person': 'Coworker', 'approval': 7}, {'person': 'Grandmother', 'approval': 6}, {'person': 'Landlord', 'approval': 5}]}, {'behaviour': 'Offer to help Dorothy move but decline the offer', 'consequences': [{'description': 'Alice can rest and recover from work without feeling obligated to help.', 'value': 6, 'likelihood': 0.7}, {'description': 'Alice can maintain her own personal plans.', 'value': 5, 'likelihood': 0.6}, {'description': \"Alice feels good knowing she offered to help but doesn't feel overwhelmed.\", 'value': 4, 'likelihood': 0.5}, {'description': 'Dorothy is disappointed and feels like Alice is not helping.', 'value': -2, 'likelihood': 0.4}, {'description': 'Alice feels guilty about not helping.', 'value': -4, 'likelihood': 0.3}, {'description': 'Alice may encounter negative consequences from her neighbor later.', 'value': -6, 'likelihood': 0.2}], 'people': [{'person': 'Neighbor', 'approval': -1}, {'person': 'Friend', 'approval': -3}, {'person': 'Coworker', 'approval': -5}, {'person': 'Grandmother', 'approval': -4}, {'person': 'Landlord', 'approval': -2}]}, {'behaviour': 'Call a friend to help', 'consequences': [{'description': 'The move is completed quickly and efficiently.', 'value': 9, 'likelihood': 0.6}, {'description': \"Alice can rest and recover from work without worrying about Dorothy's belongings.\", 'value': 8, 'likelihood': 0.5}, {'description': 'Alice feels like a hero for helping Dorothy.', 'value': 7, 'likelihood': 0.4}, {'description': 'The friend is unavailable and Alice has to find another way to help.', 'value': -1, 'likelihood': 0.2}], 'people': [{'person': 'Neighbor', 'approval': 0}, {'person': 'Friend', 'approval': 9}, {'person': 'Coworker', 'approval': 6}, {'person': 'Grandmother', 'approval': 7}, {'person': 'Landlord', 'approval': 8}]}]\n",
      "['Grandmother', 'Friend', 'Neighbor', 'Coworker', 'Landlord']\n",
      "None\n"
     ]
    }
   ],
   "source": [
    "print(people.jsonify())"
   ]
  },
  {
   "cell_type": "code",
   "execution_count": 12,
   "metadata": {},
   "outputs": [
    {
     "name": "stdout",
     "output_type": "stream",
     "text": [
      "## People and their influence on Alice's actions\n",
      "\n",
      "**Grandmother:** (Motivation: 60)\n",
      "Alice is motivated to help her grandmother primarily due to her exhaustion and the need to help her the next day. While she considers her grandmother's approval, she prioritizes her own well-being and exhaustion.\n",
      "\n",
      "**Friend:** (Motivation: 20)\n",
      "Alice is less motivated to consider her friend's approval compared to her grandmother. While she may appreciate their support, her primary focus is on her own needs and her grandmother's well-being.\n",
      "\n",
      "**Neighbor:** (Motivation: 40)\n",
      "Alice is more concerned with her neighbor's distress than her approval. However, her own exhaustion and the need to help her grandmother may influence her ability to fully help her neighbor.\n",
      "\n",
      "**Coworker:** (Motivation: 10)\n",
      "Alice is less motivated to consider her coworker's approval than her other relationships. While she may value their opinion, her primary focus is on her personal well-being and her grandmother's needs.\n",
      "\n",
      "**Landlord:** (Motivation: 0)\n",
      "Alice is not motivated to consider her landlord's approval as she does not have a direct relationship with them."
     ]
    }
   ],
   "source": [
    "%autoreload 2\n",
    "from examples.custom_components import tpb\n",
    "\n",
    "motivs = tpb.PersonMotivations(\n",
    "  \"motivs\",\n",
    "  model=model,\n",
    "  memory=mem,\n",
    "  player_config=player_configs[0],\n",
    "  components=[people],\n",
    "  clock_now=None\n",
    ")\n",
    "\n",
    "motivs.update()"
   ]
  },
  {
   "cell_type": "code",
   "execution_count": 13,
   "metadata": {},
   "outputs": [],
   "source": [
    "json_test = motivs.jsonify()"
   ]
  },
  {
   "cell_type": "code",
   "execution_count": 14,
   "metadata": {},
   "outputs": [
    {
     "data": {
      "text/plain": [
       "[{'behaviour': 'Help Dorothy move her belongings',\n",
       "  'consequences': [{'description': \"Dorothy is grateful for Alice's help and offers her a slice of apple pie.\",\n",
       "    'value': 8,\n",
       "    'likelihood': 0.8},\n",
       "   {'description': 'Alice feels good knowing she helped someone in need.',\n",
       "    'value': 7,\n",
       "    'likelihood': 0.7},\n",
       "   {'description': 'Alice feels accomplished and has a sense of purpose.',\n",
       "    'value': 6,\n",
       "    'likelihood': 0.6},\n",
       "   {'description': 'Alice is exhausted and has to cancel her plans for the next day.',\n",
       "    'value': -2,\n",
       "    'likelihood': 0.4},\n",
       "   {'description': \"Alice has to spend more time moving Dorothy's belongings, delaying her own plans.\",\n",
       "    'value': -4,\n",
       "    'likelihood': 0.6},\n",
       "   {'description': 'Alice gets frustrated and overwhelmed by the situation.',\n",
       "    'value': -6,\n",
       "    'likelihood': 0.2}],\n",
       "  'people': [{'person': 'Grandmother', 'approval': 8, 'motivation': 60},\n",
       "   {'person': 'Friend', 'approval': 6, 'motivation': 20},\n",
       "   {'person': 'Neighbor', 'approval': 3, 'motivation': 40},\n",
       "   {'person': 'Coworker', 'approval': 5, 'motivation': 10},\n",
       "   {'person': 'Landlord', 'approval': 9, 'motivation': 0}]},\n",
       " {'behaviour': 'Ignore Dorothy and continue on her way',\n",
       "  'consequences': [{'description': \"Alice avoids getting involved in someone else's problems.\",\n",
       "    'value': 5,\n",
       "    'likelihood': 0.6},\n",
       "   {'description': 'Alice can rest and recover from work.',\n",
       "    'value': 4,\n",
       "    'likelihood': 0.5},\n",
       "   {'description': 'Alice has more time for her own personal matters.',\n",
       "    'value': 3,\n",
       "    'likelihood': 0.4},\n",
       "   {'description': 'Dorothy is upset and feels abandoned.',\n",
       "    'value': -3,\n",
       "    'likelihood': 0.3},\n",
       "   {'description': 'Alice feels guilty about not helping.',\n",
       "    'value': -5,\n",
       "    'likelihood': 0.4},\n",
       "   {'description': 'Alice may encounter negative consequences from her neighbor later.',\n",
       "    'value': -7,\n",
       "    'likelihood': 0.2}],\n",
       "  'people': [{'person': 'Neighbor', 'approval': -2, 'motivation': 40},\n",
       "   {'person': 'Friend', 'approval': -4, 'motivation': 20},\n",
       "   {'person': 'Coworker', 'approval': -6, 'motivation': 10},\n",
       "   {'person': 'Grandmother', 'approval': -5, 'motivation': 60},\n",
       "   {'person': 'Landlord', 'approval': -1, 'motivation': 0}]},\n",
       " {'behaviour': 'Call a moving truck',\n",
       "  'consequences': [{'description': 'The move is completed quickly and efficiently.',\n",
       "    'value': 9,\n",
       "    'likelihood': 0.6},\n",
       "   {'description': \"Alice can rest and recover from work without worrying about Dorothy's belongings.\",\n",
       "    'value': 8,\n",
       "    'likelihood': 0.5},\n",
       "   {'description': 'Alice feels like a hero for helping Dorothy.',\n",
       "    'value': 7,\n",
       "    'likelihood': 0.4},\n",
       "   {'description': 'The moving truck is expensive.',\n",
       "    'value': -1,\n",
       "    'likelihood': 0.2},\n",
       "   {'description': 'Alice has to wait for the moving truck to arrive.',\n",
       "    'value': -2,\n",
       "    'likelihood': 0.3},\n",
       "   {'description': \"The moving truck damages Dorothy's belongings.\",\n",
       "    'value': -4,\n",
       "    'likelihood': 0.1}],\n",
       "  'people': [{'person': 'Neighbor', 'approval': 2, 'motivation': 40},\n",
       "   {'person': 'Friend', 'approval': 4, 'motivation': 20},\n",
       "   {'person': 'Coworker', 'approval': 7, 'motivation': 10},\n",
       "   {'person': 'Grandmother', 'approval': 6, 'motivation': 60},\n",
       "   {'person': 'Landlord', 'approval': 5, 'motivation': 0}]},\n",
       " {'behaviour': 'Offer to help Dorothy move but decline the offer',\n",
       "  'consequences': [{'description': 'Alice can rest and recover from work without feeling obligated to help.',\n",
       "    'value': 6,\n",
       "    'likelihood': 0.7},\n",
       "   {'description': 'Alice can maintain her own personal plans.',\n",
       "    'value': 5,\n",
       "    'likelihood': 0.6},\n",
       "   {'description': \"Alice feels good knowing she offered to help but doesn't feel overwhelmed.\",\n",
       "    'value': 4,\n",
       "    'likelihood': 0.5},\n",
       "   {'description': 'Dorothy is disappointed and feels like Alice is not helping.',\n",
       "    'value': -2,\n",
       "    'likelihood': 0.4},\n",
       "   {'description': 'Alice feels guilty about not helping.',\n",
       "    'value': -4,\n",
       "    'likelihood': 0.3},\n",
       "   {'description': 'Alice may encounter negative consequences from her neighbor later.',\n",
       "    'value': -6,\n",
       "    'likelihood': 0.2}],\n",
       "  'people': [{'person': 'Neighbor', 'approval': -1, 'motivation': 40},\n",
       "   {'person': 'Friend', 'approval': -3, 'motivation': 20},\n",
       "   {'person': 'Coworker', 'approval': -5, 'motivation': 10},\n",
       "   {'person': 'Grandmother', 'approval': -4, 'motivation': 60},\n",
       "   {'person': 'Landlord', 'approval': -2, 'motivation': 0}]},\n",
       " {'behaviour': 'Call a friend to help',\n",
       "  'consequences': [{'description': 'The move is completed quickly and efficiently.',\n",
       "    'value': 9,\n",
       "    'likelihood': 0.6},\n",
       "   {'description': \"Alice can rest and recover from work without worrying about Dorothy's belongings.\",\n",
       "    'value': 8,\n",
       "    'likelihood': 0.5},\n",
       "   {'description': 'Alice feels like a hero for helping Dorothy.',\n",
       "    'value': 7,\n",
       "    'likelihood': 0.4},\n",
       "   {'description': 'The friend is unavailable and Alice has to find another way to help.',\n",
       "    'value': -1,\n",
       "    'likelihood': 0.2}],\n",
       "  'people': [{'person': 'Neighbor', 'approval': 0, 'motivation': 40},\n",
       "   {'person': 'Friend', 'approval': 9, 'motivation': 20},\n",
       "   {'person': 'Coworker', 'approval': 6, 'motivation': 10},\n",
       "   {'person': 'Grandmother', 'approval': 7, 'motivation': 60},\n",
       "   {'person': 'Landlord', 'approval': 8, 'motivation': 0}]}]"
      ]
     },
     "execution_count": 14,
     "metadata": {},
     "output_type": "execute_result"
    }
   ],
   "source": [
    "import json\n",
    "json_test"
   ]
  },
  {
   "cell_type": "code",
   "execution_count": 17,
   "metadata": {},
   "outputs": [
    {
     "name": "stdout",
     "output_type": "stream",
     "text": [
      "['Behaviour: Help Dorothy move her belongings, BI: 0.5847453025714631, SN: 0.9833872681209856, sum: 1.5681325706924487', 'Behaviour: Ignore Dorothy and continue on her way, BI: -1.6804842479306004, SN: -1.3315207170543273, sum: -3.0120049649849276', 'Behaviour: Call a moving truck, BI: 0.7164446950425133, SN: 0.6603768515848955, sum: 1.3768215466274087', 'Behaviour: Offer to help Dorothy move but decline the offer, BI: -0.6005492296679892, SN: -1.0982354162227066, sum: -1.6987846458906959', 'Behaviour: Call a friend to help, BI: 0.9798434799846136, SN: 0.7859920135711528, sum: 1.7658354935557665']\n",
      "Help Dorothy move her belongings\n",
      "Ignore Dorothy and continue on her way\n",
      "Call a moving truck\n",
      "Offer to help Dorothy move but decline the offer\n",
      "Call a friend to help\n",
      "[0.32332604 0.00331522 0.26702711 0.01232641 0.39400522]\n"
     ]
    }
   ],
   "source": [
    "import scipy.stats as stats\n",
    "from scipy.special import softmax\n",
    "import numpy as np\n",
    "\n",
    "bis = []\n",
    "sns = []\n",
    "for i in range(len(json_test)):\n",
    "  # print(json_test[i][\"behaviour\"])\n",
    "  bis.append(sum([item[\"value\"] * item[\"likelihood\"] for item in json_test[i][\"consequences\"]]))\n",
    "  sns.append(sum([person[\"approval\"] * person[\"motivation\"] for person in json_test[i][\"people\"]]))\n",
    "\n",
    "bis = stats.zscore(bis)\n",
    "sns = stats.zscore(sns)\n",
    "\n",
    "print([f\"Behaviour: {json_test[i]['behaviour']}, BI: {bis[i]}, SN: {sns[i]}, sum: {bis[i] + sns[i]}\" for i in range(len(bis))])\n",
    "\n",
    "print(\"\\n\".join([b[\"behaviour\"] for b in json_test]))\n",
    "print(softmax(bis + sns))"
   ]
  },
  {
   "cell_type": "code",
   "execution_count": null,
   "metadata": {},
   "outputs": [],
   "source": []
  }
 ],
 "metadata": {
  "kernelspec": {
   "display_name": "base",
   "language": "python",
   "name": "python3"
  },
  "language_info": {
   "codemirror_mode": {
    "name": "ipython",
    "version": 3
   },
   "file_extension": ".py",
   "mimetype": "text/x-python",
   "name": "python",
   "nbconvert_exporter": "python",
   "pygments_lexer": "ipython3",
   "version": "3.11.8"
  }
 },
 "nbformat": 4,
 "nbformat_minor": 2
}
