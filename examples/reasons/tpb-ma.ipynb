{
 "cells": [
  {
   "cell_type": "code",
   "execution_count": 1,
   "metadata": {},
   "outputs": [],
   "source": [
    "#@Imports\n",
    "import sys\n",
    "import os\n",
    "path = os.path.abspath('../..')\n",
    "if path not in sys.path:\n",
    "  sys.path.insert(0, path)\n",
    "\n",
    "%load_ext autoreload\n",
    "\n",
    "import collections\n",
    "import concurrent.futures\n",
    "import datetime\n",
    "import json\n",
    "import termcolor\n",
    "import re\n",
    "\n",
    "import numpy as np\n",
    "\n",
    "from IPython import display\n",
    "\n",
    "from concordia.agents import basic_agent\n",
    "from concordia.components import agent as components\n",
    "from concordia import components as generic_components\n",
    "from concordia.associative_memory import associative_memory\n",
    "from concordia.associative_memory import blank_memories\n",
    "from concordia.associative_memory import formative_memories\n",
    "from concordia.associative_memory import importance_function\n",
    "from concordia.clocks import game_clock\n",
    "from concordia.components import game_master as gm_components\n",
    "from concordia.environment import game_master\n",
    "from concordia.metrics import goal_achievement\n",
    "from concordia.metrics import common_sense_morality\n",
    "from concordia.metrics import opinion_of_others\n",
    "from concordia.utils import html as html_lib\n",
    "from concordia.utils import measurements as measurements_lib\n",
    "from concordia.utils import plotting"
   ]
  },
  {
   "cell_type": "code",
   "execution_count": 2,
   "metadata": {},
   "outputs": [],
   "source": [
    "#@Model Setup\n",
    "local_models = True\n",
    "\n",
    "if local_models:\n",
    "    # Setup LLM\n",
    "    from concordia.language_model import ollama_model\n",
    "    model = ollama_model.OllamaLanguageModel(\n",
    "        model_name='llama3:70b',\n",
    "        streaming=True\n",
    "    )\n",
    "\n",
    "    # Setup measurements and clock\n",
    "    measurements = measurements_lib.Measurements()\n",
    "    time_step = datetime.timedelta(minutes=20)\n",
    "    SETUP_TIME = datetime.datetime(hour=20, year=2024, month=10, day=1)\n",
    "\n",
    "    START_TIME = datetime.datetime(hour=18, year=2024, month=10, day=2)\n",
    "    clock = game_clock.MultiIntervalClock(\n",
    "        start=SETUP_TIME,\n",
    "        step_sizes=[time_step, datetime.timedelta(seconds=10)])\n",
    "\n",
    "    # Setup sentence encoder\n",
    "    from sentence_transformers import SentenceTransformer\n",
    "    st5_model = SentenceTransformer('sentence-transformers/sentence-t5-base')\n",
    "    embedder = st5_model.encode\n",
    "\n",
    "else:\n",
    "    from concordia.language_model import gpt_model\n",
    "    from concordia.language_model import gcloud_model\n",
    "    # @title Language Model - pick your model and provide keys\n",
    "    CLOUD_PROJECT_ID = '' #@param {type: 'string'}\n",
    "    GPT_API_KEY = '' #@param {type: 'string'}\n",
    "    GPT_MODEL_NAME = '' #@param {type: 'string'}\n",
    "\n",
    "    USE_CLOUD = True #@param {type: 'boolean'}\n",
    "\n",
    "    if USE_CLOUD:\n",
    "        model = gcloud_model.CloudLanguageModel(project_id= CLOUD_PROJECT_ID)\n",
    "    else:\n",
    "        model = gpt_model.GptLanguageModel(api_key=GPT_API_KEY, model_name=GPT_MODEL_NAME)\n",
    "\n",
    "#@title Importance models\n",
    "importance_model = importance_function.ConstantImportanceModel()\n",
    "importance_model_gm = importance_function.ConstantImportanceModel()\n"
   ]
  },
  {
   "cell_type": "code",
   "execution_count": 3,
   "metadata": {},
   "outputs": [
    {
     "name": "stdout",
     "output_type": "stream",
     "text": [
      "Alice comes home from work to find her friend Dorothy unexpectedly waiting at her doorstep, , who urgently needs Alice's help to move out of her house that very night."
     ]
    }
   ],
   "source": [
    "#@Shared Memories\n",
    "\n",
    "scenario_premise = [\n",
    "\n",
    "    (\n",
    "        'Alice returns late from work and finds her friend Dorothy at her doorstep. '\n",
    "        + 'Dorothy has to move out of her house tonight and needs someone to help her move.'\n",
    "    ),\n",
    "]\n",
    "# The generic context will be used for the NPC context. It reflects general\n",
    "# knowledge and is possessed by all characters.\n",
    "shared_context = model.sample_text(\n",
    "    'Summarize the following passage in a concise and insightful fashion:\\n'\n",
    "    + '\\n'.join(scenario_premise)\n",
    "    + '\\n'\n",
    "    + 'Summary:'\n",
    ")"
   ]
  },
  {
   "cell_type": "code",
   "execution_count": 4,
   "metadata": {},
   "outputs": [
    {
     "name": "stdout",
     "output_type": "stream",
     "text": [
      "Alice grew up in a loving family, where she was instilled with a strong sense of responsibility and a moderate dose of aggression - just enough to make her determined, but not overly confrontational. As a child, she would help her mother with household chores and care for her younger siblings, always eager to lend a hand. This trait followed her into adulthood, where she became a dedicated nurse at a local hospital. Her typical day was filled with the hustle and bustle of the emergency room, where she thrived on the fast-paced environment and the sense of fulfillment that came with helping others.\n",
      "\n",
      "Despite her demanding job, Alice always made time for her loved ones and friends. She cherished her relationships, especially with Dorothy, who had been by her side since college days. So, when Dorothy unexpectedly showed up at her doorstep one evening, frantic and in need of urgent help to move out of her house that very night, Alice didn't hesitate. She dropped everything to assist her dear friend, even if it meant sacrificing a well-deserved rest after a long shift. As they worked together to pack up Dorothy's belongings, Alice couldn't help but think about the countless times Dorothy had been there for her in similar moments of need.\n",
      "\n",
      "As Alice grew older, she continued to nurture her passions and prioritize her relationships. She became a respected leader in her hospital, known for her compassionate care and innovative approaches to patient wellness. Her family grew, too, with children and grandchildren who adored her kindness and generosity. Through life's ups and downs, Alice remained steadfast, driven by her sense of duty and responsibility, but also fueled by her deep-seated desire to make a positive impact on the world around her. She faced challenges head-on, never afraid to stand up for what she believed in, yet always mindful of the well-being of those she cared about. In the twilight of her years, Alice looked back on her life with pride and gratitude, knowing that she had lived a life filled with purpose, love, and joy.When Alice was 6 years old, she helped her mother care for a sick neighbor, Mrs. Johnson, by bringing over soup and flowers every day after school. Alice felt important being able to contribute to the neighbor's recovery and enjoyed the sense of responsibility that came with it. Her mother praised her kindness, saying \"You're such a good helper, Alice!\"\n",
      "\n",
      "-\n",
      "\n",
      "When Alice was 9 years old, she stood up for her younger brother, Timmy, who was being bullied by an older kid in the neighborhood. Alice didn't shout or fight, but firmly told the bully to leave her brother alone, and then walked Timmy home safely. Her parents were proud of her bravery and quick thinking.\n",
      "\n",
      "-\n",
      "\n",
      "When Alice was 13 years old, she organized a charity bake sale at school to raise money for a local animal shelter. She spent hours baking cookies with her friends and siblings, and on the day of the sale, they set up a colorful stand in front of the school. The event was a huge success, and Alice felt proud of her initiative and teamwork.\n",
      "\n",
      "-\n",
      "\n",
      "When Alice was 16 years old, she volunteered at a summer camp for underprivileged kids, where she helped lead arts and crafts activities. One camper, a shy girl named Sophia, was struggling to make friends, so Alice made an extra effort to include her in the group projects. By the end of the camp, Sophia was beaming with confidence, and Alice felt fulfilled knowing she'd made a positive impact.\n",
      "\n",
      "-\n",
      "\n",
      "When Alice was 21 years old, she received a frantic call from Dorothy, who needed help moving out of her apartment quickly due to a toxic living situation. Alice dropped everything to assist her friend, even though it meant sacrificing her own plans for the evening. As they packed up Dorothy's belongings, Alice remembered all the times Dorothy had been there for her in similar moments of need, and she felt grateful for their strong bond."
     ]
    },
    {
     "name": "stderr",
     "output_type": "stream",
     "text": [
      "Number of generated formative episodes (1) does not match number of formative ages (5).\n"
     ]
    }
   ],
   "source": [
    "#@title Creating character backgrounds, goals and traits. Modify to explore how it influences the outcomes\n",
    "NUM_PLAYERS = 2\n",
    "\n",
    "player_configs = [\n",
    "    formative_memories.AgentConfig(\n",
    "        name='Alice',\n",
    "        gender='female',\n",
    "        goal='Alice is exhausted after work, and she needs to help her grandmother all day the next day.',\n",
    "        context=shared_context,\n",
    "        traits='responsibility: medium; aggression: medium',\n",
    "    ),\n",
    "    formative_memories.AgentConfig(\n",
    "        name='Dorothy',\n",
    "        gender='female',\n",
    "        goal=(\n",
    "            \"Dorothy has planned on Bob helping her move, but Bob didn't show up. \"\n",
    "        ),\n",
    "        context=shared_context,\n",
    "        traits='responsibility: medium; aggression: medium',\n",
    "    ),\n",
    "]\n",
    "\n",
    "blank_memory_factory = blank_memories.MemoryFactory(\n",
    "    model=model,\n",
    "    embedder=embedder,\n",
    "    importance=importance_model.importance,\n",
    "    clock_now=clock.now,\n",
    ")\n",
    "\n",
    "formative_memory_factory = formative_memories.FormativeMemoryFactory(\n",
    "    model=model,\n",
    "    shared_memories=scenario_premise,\n",
    "    blank_memory_factory_call=blank_memory_factory.make_blank_memory,\n",
    ")\n",
    "\n",
    "mem = formative_memory_factory.make_memories(player_configs[0])"
   ]
  },
  {
   "cell_type": "code",
   "execution_count": 5,
   "metadata": {},
   "outputs": [
    {
     "name": "stdout",
     "output_type": "stream",
     "text": [
      "Here are two potential behaviors Alice can take in response to the situation:\n",
      "\n",
      "1. **Help Dorothy immediately**: Given her past experiences and traits, Alice is likely to prioritize helping her friend in need over her own exhaustion and plans for the next day. She may put aside her fatigue and help Dorothy move out of her house that night, just as she did when Dorothy needed help in similar situations before.\n",
      "\n",
      "2. **Ask Dorothy if it can wait until morning**: While Alice values her friendship with Dorothy and wants to help, she is also exhausted from work and has a commitment to help her grandmother the next day. She may ask Dorothy if it's possible to postpone the move until morning when she'll be more rested and better equipped to assist, rather than sacrificing her own well-being and potentially compromising her ability to help her grandmother."
     ]
    }
   ],
   "source": [
    "%autoreload 2\n",
    "from examples.custom_components import tpb_llama3 as tpb\n",
    "\n",
    "behav = tpb.Behaviour(\n",
    "  \"behav\",\n",
    "  model=model,\n",
    "  memory=mem,\n",
    "  player_config=player_configs[0],\n",
    "  num_behavs=2\n",
    ")\n",
    "\n",
    "behav.update()"
   ]
  },
  {
   "cell_type": "code",
   "execution_count": 25,
   "metadata": {},
   "outputs": [
    {
     "name": "stdout",
     "output_type": "stream",
     "text": [
      "Here are the potential consequences of Alice asking Dorothy if it can wait until morning:\n",
      "\n",
      "**Positive Consequences:**\n",
      "\n",
      "1. **Alice gets a good night's rest**: By postponing the move to the next day, Alice can get a full night's sleep and wake up feeling rested and refreshed, which will help her be more productive and focused when helping her grandmother the next day. (Value: 8, Likelihood: 80)\n",
      "2. **Alice is better equipped to help Dorothy**: With a good night's rest, Alice will be more energized and focused, allowing her to provide better assistance to Dorothy during the move. (Value: 7, Likelihood: 70)\n",
      "3. **Alice sets a healthy boundary**: By prioritizing her own needs and setting a boundary with Dorothy, Alice demonstrates self-care and assertiveness, which can have long-term benefits for her mental and emotional well-being. (Value: 6, Likelihood: 60)\n",
      "\n",
      "**Negative Consequences:**\n",
      "\n",
      "1. **Dorothy's crisis worsens**: If Dorothy is in an urgent situation and needs help immediately, delaying the move until morning could exacerbate the problem and put Dorothy at greater risk. (Value: -8, Likelihood: 40)\n",
      "2. **Alice appears uncaring or unresponsive**: Dorothy may perceive Alice's request to delay as a lack of concern for her well-being or a refusal to help, which could damage their friendship. (Value: -6, Likelihood: 30)\n",
      "3. **Alice feels guilty or anxious**: If Alice asks Dorothy to wait and then has trouble sleeping or feels anxious about the situation, she may experience negative emotions that affect her mood and ability to help her grandmother the next day. (Value: -5, Likelihood: 20)Here are three potential positive and three potential negative consequences of Alice helping Dorothy immediately:\n",
      "\n",
      "**Positive Consequences:**\n",
      "\n",
      "1. **Strengthened Friendship**: Helping Dorothy in her time of need will strengthen their bond and deepen their friendship. (Value: 8, Likelihood: 90)\n",
      "2. **Sense of Fulfillment**: Alice will feel a sense of fulfillment and satisfaction from helping someone she cares about, which can boost her mood and energy levels. (Value: 7, Likelihood: 80)\n",
      "3. **Reciprocal Support**: Dorothy may be more likely to return the favor in the future if Alice needs help, creating a sense of mutual support and reciprocity. (Value: 6, Likelihood: 70)\n",
      "\n",
      "**Negative Consequences:**\n",
      "\n",
      "1. **Increased Fatigue**: Helping Dorothy move out of her house that night will exacerbate Alice's exhaustion from work, potentially affecting her performance and mood the next day. (Value: -8, Likelihood: 90)\n",
      "2. **Impact on Grandmother Care**: By staying up late to help Dorothy, Alice may not be able to provide adequate care for her grandmother the next day, which could negatively impact their relationship and her grandmother's well-being. (Value: -9, Likelihood: 80)\n",
      "3. **Disruption of Personal Plans**: Helping Dorothy will require Alice to sacrifice her own plans and rest time, potentially disrupting her personal routine and causing stress. (Value: -6, Likelihood: 60)[{'behaviour': '**Help Dorothy immediately**: Given her past experiences and traits, Alice is likely to prioritize helping her friend in need over her own exhaustion and plans for the next day. She may put aside her fatigue and help Dorothy move out of her house that night, just as she did when Dorothy needed help in similar situations before.'}, {'behaviour': \"**Ask Dorothy if it can wait until morning**: While Alice values her friendship with Dorothy and wants to help, she is also exhausted from work and has a commitment to help her grandmother the next day. She may ask Dorothy if it's possible to postpone the move until morning when she'll be more rested and better equipped to assist, rather than sacrificing her own well-being and potentially compromising her ability to help her grandmother.\"}]\n"
     ]
    },
    {
     "ename": "TypeError",
     "evalue": "list indices must be integers or slices, not str",
     "output_type": "error",
     "traceback": [
      "\u001b[0;31m---------------------------------------------------------------------------\u001b[0m",
      "\u001b[0;31mTypeError\u001b[0m                                 Traceback (most recent call last)",
      "Cell \u001b[0;32mIn[25], line 12\u001b[0m\n\u001b[1;32m      2\u001b[0m \u001b[38;5;28;01mfrom\u001b[39;00m \u001b[38;5;21;01mexamples\u001b[39;00m\u001b[38;5;21;01m.\u001b[39;00m\u001b[38;5;21;01mcustom_components\u001b[39;00m \u001b[38;5;28;01mimport\u001b[39;00m tpb_llama3 \u001b[38;5;28;01mas\u001b[39;00m tpb\n\u001b[1;32m      4\u001b[0m attitude \u001b[38;5;241m=\u001b[39m tpb\u001b[38;5;241m.\u001b[39mAttitude(\n\u001b[1;32m      5\u001b[0m     \u001b[38;5;124m\"\u001b[39m\u001b[38;5;124mconseq\u001b[39m\u001b[38;5;124m\"\u001b[39m,\n\u001b[1;32m      6\u001b[0m     model\u001b[38;5;241m=\u001b[39mmodel,\n\u001b[0;32m   (...)\u001b[0m\n\u001b[1;32m      9\u001b[0m     components\u001b[38;5;241m=\u001b[39m[behav],\n\u001b[1;32m     10\u001b[0m )\n\u001b[0;32m---> 12\u001b[0m \u001b[43mattitude\u001b[49m\u001b[38;5;241;43m.\u001b[39;49m\u001b[43mupdate\u001b[49m\u001b[43m(\u001b[49m\u001b[43m)\u001b[49m\n",
      "File \u001b[0;32m/opt/homebrew/Caskroom/miniconda/base/envs/concordia/lib/python3.11/site-packages/decorator.py:232\u001b[0m, in \u001b[0;36mdecorate.<locals>.fun\u001b[0;34m(*args, **kw)\u001b[0m\n\u001b[1;32m    230\u001b[0m \u001b[38;5;28;01mif\u001b[39;00m \u001b[38;5;129;01mnot\u001b[39;00m kwsyntax:\n\u001b[1;32m    231\u001b[0m     args, kw \u001b[38;5;241m=\u001b[39m fix(args, kw, sig)\n\u001b[0;32m--> 232\u001b[0m \u001b[38;5;28;01mreturn\u001b[39;00m \u001b[43mcaller\u001b[49m\u001b[43m(\u001b[49m\u001b[43mfunc\u001b[49m\u001b[43m,\u001b[49m\u001b[43m \u001b[49m\u001b[38;5;241;43m*\u001b[39;49m\u001b[43m(\u001b[49m\u001b[43mextras\u001b[49m\u001b[43m \u001b[49m\u001b[38;5;241;43m+\u001b[39;49m\u001b[43m \u001b[49m\u001b[43margs\u001b[49m\u001b[43m)\u001b[49m\u001b[43m,\u001b[49m\u001b[43m \u001b[49m\u001b[38;5;241;43m*\u001b[39;49m\u001b[38;5;241;43m*\u001b[39;49m\u001b[43mkw\u001b[49m\u001b[43m)\u001b[49m\n",
      "File \u001b[0;32m/opt/homebrew/Caskroom/miniconda/base/envs/concordia/lib/python3.11/site-packages/retry/api.py:73\u001b[0m, in \u001b[0;36mretry.<locals>.retry_decorator\u001b[0;34m(f, *fargs, **fkwargs)\u001b[0m\n\u001b[1;32m     71\u001b[0m args \u001b[38;5;241m=\u001b[39m fargs \u001b[38;5;28;01mif\u001b[39;00m fargs \u001b[38;5;28;01melse\u001b[39;00m \u001b[38;5;28mlist\u001b[39m()\n\u001b[1;32m     72\u001b[0m kwargs \u001b[38;5;241m=\u001b[39m fkwargs \u001b[38;5;28;01mif\u001b[39;00m fkwargs \u001b[38;5;28;01melse\u001b[39;00m \u001b[38;5;28mdict\u001b[39m()\n\u001b[0;32m---> 73\u001b[0m \u001b[38;5;28;01mreturn\u001b[39;00m \u001b[43m__retry_internal\u001b[49m\u001b[43m(\u001b[49m\u001b[43mpartial\u001b[49m\u001b[43m(\u001b[49m\u001b[43mf\u001b[49m\u001b[43m,\u001b[49m\u001b[43m \u001b[49m\u001b[38;5;241;43m*\u001b[39;49m\u001b[43margs\u001b[49m\u001b[43m,\u001b[49m\u001b[43m \u001b[49m\u001b[38;5;241;43m*\u001b[39;49m\u001b[38;5;241;43m*\u001b[39;49m\u001b[43mkwargs\u001b[49m\u001b[43m)\u001b[49m\u001b[43m,\u001b[49m\u001b[43m \u001b[49m\u001b[43mexceptions\u001b[49m\u001b[43m,\u001b[49m\u001b[43m \u001b[49m\u001b[43mtries\u001b[49m\u001b[43m,\u001b[49m\u001b[43m \u001b[49m\u001b[43mdelay\u001b[49m\u001b[43m,\u001b[49m\u001b[43m \u001b[49m\u001b[43mmax_delay\u001b[49m\u001b[43m,\u001b[49m\u001b[43m \u001b[49m\u001b[43mbackoff\u001b[49m\u001b[43m,\u001b[49m\u001b[43m \u001b[49m\u001b[43mjitter\u001b[49m\u001b[43m,\u001b[49m\n\u001b[1;32m     74\u001b[0m \u001b[43m                        \u001b[49m\u001b[43mlogger\u001b[49m\u001b[43m)\u001b[49m\n",
      "File \u001b[0;32m/opt/homebrew/Caskroom/miniconda/base/envs/concordia/lib/python3.11/site-packages/retry/api.py:33\u001b[0m, in \u001b[0;36m__retry_internal\u001b[0;34m(f, exceptions, tries, delay, max_delay, backoff, jitter, logger)\u001b[0m\n\u001b[1;32m     31\u001b[0m \u001b[38;5;28;01mwhile\u001b[39;00m _tries:\n\u001b[1;32m     32\u001b[0m     \u001b[38;5;28;01mtry\u001b[39;00m:\n\u001b[0;32m---> 33\u001b[0m         \u001b[38;5;28;01mreturn\u001b[39;00m \u001b[43mf\u001b[49m\u001b[43m(\u001b[49m\u001b[43m)\u001b[49m\n\u001b[1;32m     34\u001b[0m     \u001b[38;5;28;01mexcept\u001b[39;00m exceptions \u001b[38;5;28;01mas\u001b[39;00m e:\n\u001b[1;32m     35\u001b[0m         _tries \u001b[38;5;241m-\u001b[39m\u001b[38;5;241m=\u001b[39m \u001b[38;5;241m1\u001b[39m\n",
      "File \u001b[0;32m~/Documents/concordia/examples/custom_components/tpb_llama3.py:288\u001b[0m, in \u001b[0;36mAttitude.update\u001b[0;34m(self)\u001b[0m\n\u001b[1;32m    285\u001b[0m \u001b[38;5;28mself\u001b[39m\u001b[38;5;241m.\u001b[39m_last_chain \u001b[38;5;241m=\u001b[39m prompts[\u001b[38;5;241m-\u001b[39m\u001b[38;5;241m1\u001b[39m]\n\u001b[1;32m    286\u001b[0m \u001b[38;5;28mself\u001b[39m\u001b[38;5;241m.\u001b[39m_state \u001b[38;5;241m=\u001b[39m \u001b[38;5;124m\"\u001b[39m\u001b[38;5;130;01m\\n\u001b[39;00m\u001b[38;5;130;01m\\n\u001b[39;00m\u001b[38;5;124mBEHAVIOUR\u001b[39m\u001b[38;5;130;01m\\n\u001b[39;00m\u001b[38;5;130;01m\\n\u001b[39;00m\u001b[38;5;124m\"\u001b[39m\u001b[38;5;241m.\u001b[39mjoin(outputs)\n\u001b[0;32m--> 288\u001b[0m \u001b[38;5;28mself\u001b[39m\u001b[38;5;241m.\u001b[39m_json \u001b[38;5;241m=\u001b[39m \u001b[38;5;28;43mself\u001b[39;49m\u001b[38;5;241;43m.\u001b[39;49m\u001b[43mjsonify\u001b[49m\u001b[43m(\u001b[49m\u001b[43m)\u001b[49m\n",
      "File \u001b[0;32m~/Documents/concordia/examples/custom_components/tpb_llama3.py:226\u001b[0m, in \u001b[0;36mAttitude.jsonify\u001b[0;34m(self)\u001b[0m\n\u001b[1;32m    224\u001b[0m         consequences\u001b[38;5;241m.\u001b[39mappend(consequence)\n\u001b[1;32m    225\u001b[0m   \u001b[38;5;66;03m# Add the behaviours and the consequences to the output array\u001b[39;00m\n\u001b[0;32m--> 226\u001b[0m   \u001b[43moutput\u001b[49m\u001b[43m[\u001b[49m\u001b[38;5;124;43m\"\u001b[39;49m\u001b[38;5;124;43mbehaviour\u001b[39;49m\u001b[38;5;124;43m\"\u001b[39;49m\u001b[43m]\u001b[49m \u001b[38;5;241m=\u001b[39m behaviour[\u001b[38;5;124m\"\u001b[39m\u001b[38;5;124mbehaviour\u001b[39m\u001b[38;5;124m\"\u001b[39m]\n\u001b[1;32m    227\u001b[0m   output[\u001b[38;5;124m\"\u001b[39m\u001b[38;5;124mconsequences\u001b[39m\u001b[38;5;124m\"\u001b[39m] \u001b[38;5;241m=\u001b[39m consequences\n\u001b[1;32m    228\u001b[0m \u001b[38;5;28;01mreturn\u001b[39;00m output\n",
      "\u001b[0;31mTypeError\u001b[0m: list indices must be integers or slices, not str"
     ]
    }
   ],
   "source": [
    "%autoreload 2\n",
    "from examples.custom_components import tpb_llama3 as tpb\n",
    "\n",
    "attitude = tpb.Attitude(\n",
    "    \"conseq\",\n",
    "    model=model,\n",
    "    memory=mem,\n",
    "    player_config=player_configs[0],\n",
    "    components=[behav],\n",
    ")\n",
    "attitude.update()"
   ]
  },
  {
   "cell_type": "code",
   "execution_count": 57,
   "metadata": {},
   "outputs": [
    {
     "name": "stdout",
     "output_type": "stream",
     "text": [
      "Here are 5 people who might have opinions about whether Alice should help Dorothy immediately:\n",
      "\n",
      "1. **Alice's Mother**: Having seen Alice's kindness and responsibility since childhood, Alice's mother would likely approve of her helping Dorothy in need. (Approval: 8)\n",
      "2. **Dorothy**: As the recipient of Alice's help, Dorothy would be extremely grateful and relieved if Alice assists her tonight. (Approval: 10)\n",
      "3. **Alice's Grandmother**: Since Alice needs to help her grandmother all day tomorrow, Alice's grandmother might disapprove of Alice exhausting herself by helping Dorothy tonight. (Approval: -5)\n",
      "4. **Timmy (Alice's Brother)**: Having been protected by Alice when he was bullied, Timmy would likely admire and approve of his sister's kindness towards others in need. (Approval: 9)\n",
      "5. **Mrs. Johnson (the neighbor)**: As someone who benefited from Alice's kindness in the past, Mrs. Johnson would probably appreciate Alice's willingness to help Dorothy and approve of her actions. (Approval: 7)Here is the list of people who might have opinions about Alice's behavior:\n",
      "\n",
      "1. Dorothy (Approval: -8) - As the person in need of help, Dorothy may be desperate and frustrated if Alice asks to postpone the move until morning.\n",
      "2. Alice's Mother (Approval: 6) - Having seen Alice's kind and responsible nature since childhood, Alice's mother might approve of her prioritizing her own well-being and commitment to helping her grandmother.\n",
      "3. Timmy (Alice's brother) (Approval: 4) - As someone who has been protected and cared for by Alice in the past, Timmy may understand and support Alice's need to take care of herself before helping others.\n",
      "4. Sophia (the shy camper from the summer camp) (Approval: 8) - Having experienced Alice's kindness and empathy firsthand, Sophia might strongly approve of Alice prioritizing her own needs and well-being.\n",
      "5. Mrs. Johnson (the neighbor Alice helped as a child) (Approval: 9) - As someone who has received kindness and care from Alice in the past, Mrs. Johnson may have high approval for Alice taking care of herself before helping others."
     ]
    }
   ],
   "source": [
    "%autoreload 2\n",
    "from examples.custom_components import tpb_llama3 as tpb\n",
    "\n",
    "people = tpb.People(\n",
    "    \"people\",\n",
    "    model=model,\n",
    "    memory=mem,\n",
    "    player_config=player_configs[0],\n",
    "    components=[behav]\n",
    ")\n",
    "\n",
    "people.update()"
   ]
  },
  {
   "cell_type": "code",
   "execution_count": 104,
   "metadata": {},
   "outputs": [
    {
     "name": "stdout",
     "output_type": "stream",
     "text": [
      "Motivation: 60(Motivation: 80)(Motivation: 60)Motivation: 85Motivation: 20Motivation: 80"
     ]
    }
   ],
   "source": [
    "%autoreload 2\n",
    "from examples.custom_components import tpb_llama3 as tpb\n",
    "\n",
    "motiv = tpb.Motivation(\n",
    "    \"motiv\",\n",
    "    model=model,\n",
    "    memory=mem,\n",
    "    player_config=player_configs[0],\n",
    "    components=[people]\n",
    ")\n",
    "motiv.update()"
   ]
  },
  {
   "cell_type": "code",
   "execution_count": 105,
   "metadata": {},
   "outputs": [],
   "source": [
    "%autoreload 2\n",
    "from examples.custom_components import tpb_llama3 as tpb\n",
    "\n",
    "norm = tpb.SubjectiveNorm(\n",
    "    \"norm\",\n",
    "    model=model,\n",
    "    memory=mem,\n",
    "    player_config=player_configs[0],\n",
    "    components=[motiv]\n",
    ")\n",
    "norm.update()"
   ]
  },
  {
   "cell_type": "code",
   "execution_count": 106,
   "metadata": {},
   "outputs": [
    {
     "data": {
      "text/plain": [
       "[{'behaviour': '**Help Dorothy immediately**: Given her past experiences and traits, Alice is likely to prioritize helping her friend in need over her own exhaustion and plans for the next day. She may put aside her fatigue and help Dorothy move out of her house that night, just as she did when Dorothy needed help in similar situations before.',\n",
       "  'people': [{'person': \"Alice's Mother\", 'approval': 8, 'motivation': 0.8},\n",
       "   {'person': 'Dorothy', 'approval': 10, 'motivation': 0.85},\n",
       "   {'person': \"Alice's Grandmother\", 'approval': -5, 'motivation': 0.8},\n",
       "   {'person': 'Timmy', 'approval': 9, 'motivation': 0.6},\n",
       "   {'person': 'Mrs. Johnson', 'approval': 7, 'motivation': 0.6}],\n",
       "  'norm': 20.5},\n",
       " {'behaviour': \"**Ask Dorothy if it can wait until morning**: While Alice values her friendship with Dorothy and wants to help, she is also exhausted from work and has a commitment to help her grandmother the next day. She may ask Dorothy if it's possible to postpone the move until morning when she'll be more rested and better equipped to assist, rather than sacrificing her own well-being and potentially compromising her ability to help her grandmother.\",\n",
       "  'people': [{'person': 'Dorothy', 'approval': -8, 'motivation': 0.85},\n",
       "   {'person': \"Alice's Mother\", 'approval': 6, 'motivation': 0.8},\n",
       "   {'person': 'Timmy', 'approval': 4, 'motivation': 0.6},\n",
       "   {'person': 'Sophia', 'approval': 8, 'motivation': 0.2},\n",
       "   {'person': 'Mrs. Johnson', 'approval': 9, 'motivation': 0.6}],\n",
       "  'norm': 7.4}]"
      ]
     },
     "execution_count": 106,
     "metadata": {},
     "output_type": "execute_result"
    }
   ],
   "source": [
    "norm.json()"
   ]
  },
  {
   "cell_type": "code",
   "execution_count": 26,
   "metadata": {},
   "outputs": [
    {
     "data": {
      "text/plain": [
       "True"
      ]
     },
     "execution_count": 26,
     "metadata": {},
     "output_type": "execute_result"
    }
   ],
   "source": [
    "from typing import Iterable\n",
    "line = iter([r'(?<=\\d:\\s)(.*)', r'(?<=: )(.*)'])\n",
    "\n",
    "\n",
    "from typing import Iterable\n",
    "from retry import retry\n",
    "\n",
    "@retry(AttributeError, tries = 5)\n",
    "def extract_value(line: str, patterns: Iterable[str]) -> int:\n",
    "  pattern = next(patterns)\n",
    "  value = re.search(\n",
    "    pattern, line\n",
    "  ).group(1).strip()"
   ]
  },
  {
   "cell_type": "code",
   "execution_count": null,
   "metadata": {},
   "outputs": [],
   "source": []
  }
 ],
 "metadata": {
  "kernelspec": {
   "display_name": "Python 3",
   "language": "python",
   "name": "python3"
  },
  "language_info": {
   "codemirror_mode": {
    "name": "ipython",
    "version": 3
   },
   "file_extension": ".py",
   "mimetype": "text/x-python",
   "name": "python",
   "nbconvert_exporter": "python",
   "pygments_lexer": "ipython3",
   "version": "3.11.5"
  }
 },
 "nbformat": 4,
 "nbformat_minor": 2
}
