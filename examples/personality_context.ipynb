{
  "cells": [
    {
      "attachments": {},
      "cell_type": "markdown",
      "metadata": {
        "id": "VE-6f595AybO"
      },
      "source": []
    },
    {
      "attachments": {},
      "cell_type": "markdown",
      "metadata": {
        "id": "9Lj2tJYdLfEU"
      },
      "source": []
    },
    {
      "attachments": {},
      "cell_type": "markdown",
      "metadata": {
        "id": "J2TwJrZ08wXz"
      },
      "source": [
        "## Init and import"
      ]
    },
    {
      "cell_type": "code",
      "execution_count": 2,
      "metadata": {
        "id": "-qLG5ExLqpWa"
      },
      "outputs": [],
      "source": [
        "# @title Imports\n",
        "import sys\n",
        "import os\n",
        "path = os.path.abspath('..')\n",
        "if path not in sys.path:\n",
        "    sys.path.insert(0, path)\n",
        "import collections\n",
        "import concurrent.futures\n",
        "import datetime\n",
        "\n",
        "# from google.colab import widgets\n",
        "from IPython import display\n",
        "\n",
        "from concordia import components as generic_components\n",
        "from concordia.agents import basic_agent\n",
        "from concordia.components import agent as components\n",
        "from concordia.agents import basic_agent\n",
        "from concordia.associative_memory import associative_memory\n",
        "from concordia.associative_memory import blank_memories\n",
        "from concordia.associative_memory import formative_memories\n",
        "from concordia.associative_memory import importance_function\n",
        "from concordia.clocks import game_clock\n",
        "from concordia.components import game_master as gm_components\n",
        "from concordia.environment import game_master\n",
        "from concordia.metrics import goal_achievement\n",
        "from concordia.metrics import common_sense_morality\n",
        "from concordia.metrics import opinion_of_others\n",
        "from concordia.utils import measurements as measurements_lib\n",
        "from concordia.utils import html as html_lib\n",
        "from concordia.utils import plotting\n",
        "\n",
        "import logging\n",
        "logging.basicConfig(level=logging.ERROR, filename='components_testing.log')\n",
        "logger = logging.getLogger('ollama')"
      ]
    },
    {
      "cell_type": "code",
      "execution_count": 3,
      "metadata": {
        "id": "I3OtW8flCJSC"
      },
      "outputs": [
        {
          "name": "stderr",
          "output_type": "stream",
          "text": [
            "/Users/socialai/.pyenv/versions/3.11.1/lib/python3.11/site-packages/tqdm/auto.py:21: TqdmWarning: IProgress not found. Please update jupyter and ipywidgets. See https://ipywidgets.readthedocs.io/en/stable/user_install.html\n",
            "  from .autonotebook import tqdm as notebook_tqdm\n"
          ]
        }
      ],
      "source": [
        "# Setup sentence encoder\n",
        "from sentence_transformers import SentenceTransformer\n",
        "st5_model = SentenceTransformer('sentence-transformers/sentence-t5-base')\n",
        "embedder = st5_model.encode"
      ]
    },
    {
      "cell_type": "code",
      "execution_count": 4,
      "metadata": {},
      "outputs": [],
      "source": [
        "from concordia.language_model import ollama_model\n",
        "model = ollama_model.OllamaLanguageModel(\n",
        "    # model_name='llama2:13b',\n",
        "    model_name='mixtral'\n",
        "    # streaming=True\n",
        ")\n",
        "\n",
        "\n",
        "# import dotenv\n",
        "# import os\n",
        "# dotenv.load_dotenv()\n",
        "# api_key = os.getenv('OPENAI_API_KEY')\n",
        "\n",
        "# from concordia.language_model import gpt_model\n",
        "# model = gpt_model.GptLanguageModel(\n",
        "#     api_key=api_key,\n",
        "#     model_name='gpt-4',\n",
        "# )"
      ]
    },
    {
      "cell_type": "code",
      "execution_count": 5,
      "metadata": {},
      "outputs": [],
      "source": [
        "#@title Make the clock\n",
        "time_step = datetime.timedelta(minutes=20)\n",
        "SETUP_TIME = datetime.datetime(hour=20, year=2024, month=10, day=1)\n",
        "\n",
        "START_TIME = datetime.datetime(hour=18, year=2024, month=10, day=2)\n",
        "clock = game_clock.MultiIntervalClock(\n",
        "    start=SETUP_TIME,\n",
        "    step_sizes=[time_step, datetime.timedelta(seconds=10)])\n"
      ]
    },
    {
      "cell_type": "code",
      "execution_count": 6,
      "metadata": {
        "id": "5RU3ZV4oIknW"
      },
      "outputs": [],
      "source": [
        "measurements = measurements_lib.Measurements()"
      ]
    },
    {
      "cell_type": "code",
      "execution_count": 40,
      "metadata": {},
      "outputs": [
        {
          "name": "stdout",
          "output_type": "stream",
          "text": [
            "Answer: e\n",
            "Sample:  e) 6\n",
            "\n",
            "Based on the description of Alice being extroverted, I would rate her as agreeing moderately or a 6 with being extraverted and enthusiastic.\n",
            "Question: From 1 to 7, rate how much you see yourself as 'Extraverted, enthusiastic'\n",
            "Alice's answer: 6\n",
            "Correct answer: 1\n",
            "\n",
            "5\n",
            "Answer: d\n",
            "Sample:  Based on the description of Alice's personality, it is unlikely that she would identify as 'Critical, quarrelsome'. The traits given for Alice suggest that she is agreeable and emotionally stable, which are qualities that are generally not associated with being critical or quarrelsome. Therefore, I would choose option (d) 1, which represents \"Disagree strongly\".\n",
            "Question: From 1 to 7, rate how much you see yourself as 'Critical, quarrelsome'\n",
            "Alice's answer: 1\n",
            "Correct answer: 1\n",
            "\n",
            "0\n",
            "Answer: f\n",
            "Sample:  Based on the description of Alice as extroverted, agreeable, conscientious, emotionally stable, and open to experiences, I would rate her as a \"6\" for being 'Dependable, self-disciplined'. This is because the trait of conscientiousness often includes qualities such as being responsible, organized, and reliable, which align with being dependable and self-disciplined. Therefore, I chose option (f) 6.\n",
            "Question: From 1 to 7, rate how much you see yourself as 'Dependable, self-disciplined'\n",
            "Alice's answer: 6\n",
            "Correct answer: 1\n",
            "\n",
            "5\n",
            "Answer: t\n",
            "Sample:  f (Anxious, easily upset) - Alice disagrees strongly, as she is emotionally stable.\n",
            "Answer: f\n",
            "Sample:  f\n",
            "\n",
            "The answer is (f) 2. Based on the description of Alice's personality, she is emotionally stable and not easily upset. Therefore, it is more likely that she would rate herself as 'Disagree strongly' or 'Disagree moderately' for being anxious and easily upset, with a score closer to 1 or 2 than any other option.\n",
            "Question: From 1 to 7, rate how much you see yourself as 'Anxious, easily upset'\n",
            "Alice's answer: 2\n",
            "Correct answer: 1\n",
            "\n",
            "1\n",
            "Answer: b\n",
            "Sample:  Based on the description of Alice's personality, it is most likely that she would rate herself as a '7 - Agree strongly' for option (b) 'Open to new experiences, complex'. This is because Alice is described as open to experiences, and being agreeable and conscientious can also suggest a willingness to be open-minded and consider new ideas or perspectives.\n",
            "Question: From 1 to 7, rate how much you see yourself as 'Open to new experiences, complex'\n",
            "Alice's answer: 7\n",
            "Correct answer: 1\n",
            "\n",
            "6\n",
            "Answer: c\n",
            "Sample:  Based on the description of Alice's personality, it is unlikely that she would identify as 'Reserved, quiet'. Therefore, I would choose option (c) 1, which indicates that Alice disagrees strongly with being reserved and quiet.\n",
            "Question: From 1 to 7, rate how much you see yourself as 'Reserved, quiet'\n",
            "Alice's answer: 1\n",
            "Correct answer: 1\n",
            "\n",
            "0\n",
            "Answer: e\n",
            "Sample:  e) 6\n",
            "\n",
            "Based on Alice's given personality traits, she is described as agreeable and emotionally stable. These characteristics suggest that Alice is likely to be sympathetic and warm. Therefore, option (e) 'Agree moderately' would be the most suitable choice for Alice.\n",
            "Question: From 1 to 7, rate how much you see yourself as 'Sympathetic, warm'\n",
            "Alice's answer: 6\n",
            "Correct answer: 1\n",
            "\n",
            "5\n",
            "Answer: e\n",
            "Sample:  Based on the description of Alice's personality, it is unlikely that she would identify as being 'Disorganized, careless'. This is because conscientiousness is one of her key traits, which suggests that she is responsible, reliable, and organized. Therefore, I would expect Alice to rate herself lower on this trait.\n",
            "\n",
            "Answer: (e) 1 or (b) 2\n",
            "Question: From 1 to 7, rate how much you see yourself as 'Disorganized, careless'\n",
            "Alice's answer: 1\n",
            "Correct answer: 1\n",
            "\n",
            "0\n",
            "Answer: d\n",
            "Sample:  Based on the description of Alice's personality, I would choose option (d): 6 - Agree moderately. The trait \"emotionally stable\" is one of the five traits listed for Alice, and a rating of 6 suggests that Alice generally agrees with this statement and feels that it describes her well.\n",
            "Question: From 1 to 7, rate how much you see yourself as 'Calm, emotionally stable'\n",
            "Alice's answer: 6\n",
            "Correct answer: 1\n",
            "\n",
            "5\n",
            "Answer: c\n",
            "Sample:  Based on the description of Alice's personality, it is unlikely that she would identify as 'Conventional, uncreative'. This pair of traits seems to contradict her given characteristics of being extroverted, agreeable, conscientious, emotionally stable, and open to experiences. Therefore, I would expect Alice to rate herself low on this scale.\n",
            "\n",
            "Answer: (c) 2\n",
            "Question: From 1 to 7, rate how much you see yourself as 'Conventional, uncreative'\n",
            "Alice's answer: 2\n",
            "Correct answer: 1\n",
            "\n",
            "1\n",
            "Conscientiousness Score: 9.5\n",
            "Agreeableness Score: 9.5\n",
            "Emotional Stability Score: 9.0\n",
            "Openness to Experience Score: 10.0\n",
            "Extraversion Score: 9.5\n",
            "QuizScore of Alice: Agent scored 3/10 on quiz.\n"
          ]
        }
      ],
      "source": [
        "# import importlib\n",
        "import custom_components.quiz_metric as qm\n",
        "# from concordia.language_model import ollama_model\n",
        "# importlib.reload(ollama_model)\n",
        "importlib.reload(qm)\n",
        "\n",
        "\n",
        "model = ollama_model.OllamaLanguageModel(\n",
        "    # model_name='llama2:13b',\n",
        "    model_name='mixtral'\n",
        "    # streaming=True\n",
        ")\n",
        "# Answering big 5 test quesitons, 10questions\n",
        "# Ocean score\n",
        "# Extreme personalities \n",
        "context = \"\"\"\n",
        "Alice is extroverted, agreeable, conscientious, emotionally stable, and open to experiences. \n",
        "\n",
        "Here are a number of personality traits that may or may not apply to Alice. Please write a number next to each statement to indicate the extent to which Alice agree or disagree with that statement. Alice should rate the extent to which the pair of traits applies to hdf, even if one characteristic applies more strongly than the other.\n",
        "\n",
        "1 = Disagree strongly\n",
        "2 = Disagree moderately\n",
        "3 = Disagree a little\n",
        "4 = Neither agree nor disagree\n",
        "5 = Agree a little\n",
        "6 = Agree moderately\n",
        "7 = Agree strongly\n",
        "\"\"\"\n",
        "\n",
        "quiz_metric = qm.QuizMetric(model, \"Alice\", clock, \"./custom_components/big_five_questions.json\", measurements=measurements, verbose=True)\n",
        "quiz_metric.observe(context)\n"
      ]
    },
    {
      "cell_type": "code",
      "execution_count": 42,
      "metadata": {},
      "outputs": [],
      "source": [
        "import pprint\n",
        "import importlib\n",
        "import custom_components.quiz_metric as qm\n",
        "importlib.reload(qm)\n",
        "\n",
        "results = quiz_metric.get_results()\n",
        "personality_scores = quiz_metric.get_personality_scores()\n",
        "# Results is an array of dicts\n",
        "# agent_id, agent_name, question, answer, true_extraversion, measured_extra\n",
        "import csv\n",
        "with open('./results/big_five_personality.csv', 'w', newline='') as csvfile:\n",
        "    writer = csv.writer(csvfile, delimiter=',', quoting=csv.QUOTE_MINIMAL)\n",
        "    writer.writerow(['Conscientiousness', 'Agreeableness', 'Emotional Stability', 'Openness to Experience', 'Extraversion'])\n",
        "    writer.writerow(personality_scores)\n",
        "    writer.writerow(['agent_name', 'agent_id', 'question', 'answer', 'correct_answer'])\n",
        "    writer.writerows(results)"
      ]
    }
  ],
  "metadata": {
    "colab": {
      "last_runtime": {
        "build_target": "",
        "kind": "private"
      },
      "private_outputs": true,
      "provenance": []
    },
    "kernelspec": {
      "display_name": "Python 3",
      "name": "python3"
    },
    "language_info": {
      "codemirror_mode": {
        "name": "ipython",
        "version": 3
      },
      "file_extension": ".py",
      "mimetype": "text/x-python",
      "name": "python",
      "nbconvert_exporter": "python",
      "pygments_lexer": "ipython3",
      "version": "3.11.1"
    }
  },
  "nbformat": 4,
  "nbformat_minor": 0
}
