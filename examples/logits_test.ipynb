{
  "cells": [
    {
      "attachments": {},
      "cell_type": "markdown",
      "metadata": {
        "id": "J2TwJrZ08wXz"
      },
      "source": [
        "## Init and import"
      ]
    },
    {
      "cell_type": "markdown",
      "metadata": {},
      "source": [
        "This depends on a new custom module in concordia\n",
        "Run \"pip install --editable .[dev]\" in your environment to install the new build if you haven't"
      ]
    },
    {
      "cell_type": "code",
      "execution_count": 1,
      "metadata": {
        "id": "-qLG5ExLqpWa"
      },
      "outputs": [],
      "source": [
        "# @title Imports\n",
        "import sys\n",
        "import os\n",
        "path = os.path.abspath('..')\n",
        "if path not in sys.path:\n",
        "    sys.path.insert(0, path)\n",
        "import datetime\n",
        "\n",
        "from concordia import components as generic_components\n",
        "from concordia.agents import basic_agent\n",
        "from concordia.components import agent as components\n",
        "from concordia.agents import basic_agent\n",
        "from concordia.associative_memory import associative_memory\n",
        "from concordia.associative_memory import blank_memories\n",
        "from concordia.associative_memory import formative_memories\n",
        "from concordia.associative_memory import importance_function\n",
        "from concordia.clocks import game_clock\n",
        "from concordia.components import game_master as gm_components\n",
        "from concordia.environment import game_master\n",
        "from concordia.metrics import goal_achievement\n",
        "from concordia.metrics import common_sense_morality\n",
        "from concordia.metrics import opinion_of_others\n",
        "from concordia.utils import measurements as measurements_lib\n",
        "from concordia.utils import html as html_lib\n",
        "from concordia.utils import plotting\n",
        "\n",
        "import logging\n",
        "logging.basicConfig(level=logging.ERROR, filename='components_testing.log')\n",
        "logger = logging.getLogger('llama')"
      ]
    },
    {
      "cell_type": "code",
      "execution_count": 14,
      "metadata": {
        "id": "I3OtW8flCJSC"
      },
      "outputs": [],
      "source": [
        "# Setup sentence encoder\n",
        "from sentence_transformers import SentenceTransformer\n",
        "st5_model = SentenceTransformer('sentence-transformers/sentence-t5-base')\n",
        "embedder = st5_model.encode"
      ]
    },
    {
      "cell_type": "code",
      "execution_count": 37,
      "metadata": {},
      "outputs": [],
      "source": [
        "# from concordia.language_model import huggingface_model\n",
        "import llama_cpp_model\n",
        "import importlib\n",
        "importlib.reload(llama_cpp_model)\n",
        "\n",
        "model = llama_cpp_model.LlamaCppLanguageModel(\n",
        "    repo_id=\"TheBloke/Llama-2-7B-Chat-GGUF\",\n",
        "    filename=\"llama-2-7b-chat.Q4_K_S.gguf\",\n",
        "    logits=True,\n",
        "    verbose=True,\n",
        ")\n",
        "\n",
        "# model = llama_cpp_model.LlamaCppLanguageModel(\n",
        "#     repo_id=\"TheBloke/Llama-2-70B-Chat-GGUF\",\n",
        "#     filename=\"llama-2-70b-chat.Q4_K_M.gguf\",\n",
        "#     logits=True,\n",
        "#     verbose=True,\n",
        "# )"
      ]
    },
    {
      "cell_type": "code",
      "execution_count": null,
      "metadata": {},
      "outputs": [],
      "source": [
        "#@title Make the clock\n",
        "time_step = datetime.timedelta(minutes=20)\n",
        "SETUP_TIME = datetime.datetime(hour=20, year=2024, month=10, day=1)\n",
        "\n",
        "START_TIME = datetime.datetime(hour=18, year=2024, month=10, day=2)\n",
        "clock = game_clock.MultiIntervalClock(\n",
        "    start=SETUP_TIME,\n",
        "    step_sizes=[time_step, datetime.timedelta(seconds=10)])\n"
      ]
    },
    {
      "cell_type": "code",
      "execution_count": 35,
      "metadata": {
        "id": "5RU3ZV4oIknW"
      },
      "outputs": [],
      "source": [
        "measurements = measurements_lib.Measurements()"
      ]
    },
    {
      "cell_type": "code",
      "execution_count": 38,
      "metadata": {},
      "outputs": [
        {
          "name": "stdout",
          "output_type": "stream",
          "text": [
            "The LLM response is: \n",
            "  Yes\n",
            "<0x0A>: 11.853142738342285\n",
            "1: 7.877666473388672\n",
            "▁*: 7.622175216674805\n",
            "<0x09>: 7.3231425285339355\n",
            "2: 7.2437520027160645\n",
            "Logit for yes is -0.051347583532333374\n",
            "Logit for no is 0.9764198064804077\n",
            "To the question \"1 + 1 = 2\", the agent answered \"no\", the probs are {'yes': 0.2635171710679263, 'no': 0.7364828289320737}\n",
            "The LLM response is: \n",
            "  Yes\n",
            "▁a: 18.427715301513672\n",
            "▁blue: 17.08873176574707\n",
            "▁the: 15.907150268554688\n",
            "▁green: 15.344120979309082\n",
            "▁to: 14.865976333618164\n",
            "Logit for yes is 1.6525318622589111\n",
            "Logit for no is 3.219536304473877\n",
            "To the question \"Red is a color\", the agent answered \"no\", the probs are {'yes': 0.17264385158039827, 'no': 0.8273561484196018}\n",
            "The LLM response is: \n",
            "  No\n",
            "▁is: 18.323223114013672\n",
            "': 15.17531967163086\n",
            "qu: 14.21264362335205\n",
            "lings: 12.216053009033203\n",
            "▁has: 12.069131851196289\n",
            "Logit for yes is 1.0699762105941772\n",
            "Logit for no is 2.635185480117798\n",
            "To the question \"Earth is flat\", the agent answered \"no\", the probs are {'yes': 0.17290042107821954, 'no': 0.8270995789217804}\n",
            "The LLM response is: \n",
            "  Yes\n",
            "▁more: 17.29171371459961\n",
            "▁: 15.249626159667969\n",
            "▁at: 15.235818862915039\n",
            "▁no: 14.089210510253906\n",
            "▁only: 13.360912322998047\n",
            "Logit for yes is 1.1499426364898682\n",
            "Logit for no is 3.0094046592712402\n",
            "To the question \"There are 365 days in a year\", the agent answered \"no\", the probs are {'yes': 0.13476576989976607, 'no': 0.8652342301002339}\n",
            "The LLM response is: \n",
            "  No\n",
            "t: 26.940547943115234\n",
            "T: 11.905535697937012\n",
            "y: 10.633898735046387\n",
            "ts: 10.560986518859863\n",
            "▁t: 10.1083984375\n",
            "Logit for yes is 0.68243807554245\n",
            "Logit for no is 1.9356367588043213\n",
            "To the question \"There aren't 365 days in a year\", the agent answered \"no\", the probs are {'yes': 0.2221469226119922, 'no': 0.7778530773880078}\n",
            "The LLM response is: \n",
            "  Yes\n",
            "▁of: 24.520977020263672\n",
            "mit: 14.259380340576172\n",
            "▁is: 13.444515228271484\n",
            "▁: 12.31888484954834\n",
            "▁total: 11.891496658325195\n",
            "Logit for yes is 2.0719597339630127\n",
            "Logit for no is 3.46163272857666\n",
            "To the question \"The sum of the angles of a triangle is 180 degrees\", the agent answered \"no\", the probs are {'yes': 0.19945996652726666, 'no': 0.8005400334727334}\n",
            "The LLM response is: \n",
            "  No\n",
            "▁was: 21.39608383178711\n",
            ",: 17.94606590270996\n",
            "▁is: 17.3179931640625\n",
            "▁has: 16.8076229095459\n",
            "▁revolution: 14.60865592956543\n",
            "Logit for yes is 0.7913627028465271\n",
            "Logit for no is 2.5720534324645996\n",
            "To the question \"The printing press was invented in the 13th century\", the agent answered \"no\", the probs are {'yes': 0.144217863930604, 'no': 0.855782136069396}\n",
            "The LLM response is: \n",
            "  Yes\n",
            "▁point: 24.745466232299805\n",
            "▁temperature: 19.57478141784668\n",
            "▁of: 19.237031936645508\n",
            "▁points: 16.728830337524414\n",
            "▁ice: 15.05960464477539\n",
            "Logit for yes is 1.8232061862945557\n",
            "Logit for no is 3.5561819076538086\n",
            "To the question \"The melting point of carbon is around 3500 degrees Celsius\", the agent answered \"no\", the probs are {'yes': 0.15020734799644675, 'no': 0.8497926520035533}\n",
            "LogitQueryScores of Alice: Agent completed the quiz. 3 out of 8 questions are correct.\n"
          ]
        }
      ],
      "source": [
        "import custom_components.logits_query_metric as lm\n",
        "import importlib\n",
        "importlib.reload(lm)\n",
        "\n",
        "context = \"\"\"<<SYS>>\n",
        "You are a helpful, respectful and honest assistant.\n",
        "<</SYS>>\n",
        "\n",
        "If the following statement is true, answer \"yes\". If it is false, answer \"no\". Only answer with a single word.\n",
        "\"\"\"\n",
        "\n",
        "quiz_metric = lm.LogitsQueryMetric(model, \n",
        "                                   \"Alice\", \n",
        "                                   clock, \n",
        "                                   \"./custom_components/truth_or_lie.json\", \n",
        "                                   measurements=measurements, \n",
        "                                   verbose=True,\n",
        "                                   query=[\"yes\", \"no\"]) # query should match up with order of options in the question json\n",
        "quiz_metric.observe(context)"
      ]
    },
    {
      "cell_type": "code",
      "execution_count": 5,
      "metadata": {},
      "outputs": [
        {
          "ename": "NameError",
          "evalue": "name 'quiz_metric' is not defined",
          "output_type": "error",
          "traceback": [
            "\u001b[0;31m---------------------------------------------------------------------------\u001b[0m",
            "\u001b[0;31mNameError\u001b[0m                                 Traceback (most recent call last)",
            "Cell \u001b[0;32mIn[5], line 5\u001b[0m\n\u001b[1;32m      2\u001b[0m \u001b[38;5;28;01mimport\u001b[39;00m \u001b[38;5;21;01mexamples\u001b[39;00m\u001b[38;5;21;01m.\u001b[39;00m\u001b[38;5;21;01mcustom_components\u001b[39;00m\u001b[38;5;21;01m.\u001b[39;00m\u001b[38;5;21;01mlogits_query_metric\u001b[39;00m \u001b[38;5;28;01mas\u001b[39;00m \u001b[38;5;21;01mlm\u001b[39;00m\n\u001b[1;32m      3\u001b[0m importlib\u001b[38;5;241m.\u001b[39mreload(lm)\n\u001b[0;32m----> 5\u001b[0m results \u001b[38;5;241m=\u001b[39m \u001b[43mquiz_metric\u001b[49m\u001b[38;5;241m.\u001b[39mget_results()\n\u001b[1;32m      6\u001b[0m \u001b[38;5;28;01mimport\u001b[39;00m \u001b[38;5;21;01mcsv\u001b[39;00m\n\u001b[1;32m      7\u001b[0m \u001b[38;5;66;03m# Create a csv file with the results if not already created\u001b[39;00m\n",
            "\u001b[0;31mNameError\u001b[0m: name 'quiz_metric' is not defined"
          ]
        }
      ],
      "source": [
        "import importlib\n",
        "import examples.custom_components.logits_query_metric as lm\n",
        "importlib.reload(lm)\n",
        "\n",
        "results = quiz_metric.get_results()\n",
        "import csv\n",
        "# Create a csv file with the results if not already created\n",
        "if not os.path.exists('./results/'):\n",
        "    os.makedirs('./results/')\n",
        "with open('./results/logits.txt', 'w') as file:\n",
        "    # Write Question: Response, and space after each pair\n",
        "    writer = csv.writer(file)\n",
        "    for result in results:\n",
        "        writer.writerow(result)\n",
        "    file.close()"
      ]
    }
  ],
  "metadata": {
    "colab": {
      "last_runtime": {
        "build_target": "",
        "kind": "private"
      },
      "private_outputs": true,
      "provenance": []
    },
    "kernelspec": {
      "display_name": "Python 3",
      "name": "python3"
    },
    "language_info": {
      "codemirror_mode": {
        "name": "ipython",
        "version": 3
      },
      "file_extension": ".py",
      "mimetype": "text/x-python",
      "name": "python",
      "nbconvert_exporter": "python",
      "pygments_lexer": "ipython3",
      "version": "3.11.7"
    }
  },
  "nbformat": 4,
  "nbformat_minor": 0
}
