{
  "cells": [
    {
      "attachments": {},
      "cell_type": "markdown",
      "metadata": {
        "id": "VE-6f595AybO"
      },
      "source": []
    },
    {
      "attachments": {},
      "cell_type": "markdown",
      "metadata": {
        "id": "9Lj2tJYdLfEU"
      },
      "source": []
    },
    {
      "attachments": {},
      "cell_type": "markdown",
      "metadata": {
        "id": "J2TwJrZ08wXz"
      },
      "source": [
        "## Init and import"
      ]
    },
    {
      "cell_type": "code",
      "execution_count": 16,
      "metadata": {
        "id": "-qLG5ExLqpWa"
      },
      "outputs": [
        {
          "ename": "ImportError",
          "evalue": "cannot import name 'pride_joy' from 'concordia.metrics' (/Users/socialai/Downloads/concordia-component-testing/concordia/metrics/__init__.py)",
          "output_type": "error",
          "traceback": [
            "\u001b[0;31m---------------------------------------------------------------------------\u001b[0m",
            "\u001b[0;31mImportError\u001b[0m                               Traceback (most recent call last)",
            "Cell \u001b[0;32mIn[16], line 25\u001b[0m\n\u001b[1;32m     23\u001b[0m \u001b[38;5;28;01mfrom\u001b[39;00m \u001b[38;5;21;01mconcordia\u001b[39;00m\u001b[38;5;21;01m.\u001b[39;00m\u001b[38;5;21;01mcomponents\u001b[39;00m \u001b[38;5;28;01mimport\u001b[39;00m game_master \u001b[38;5;28;01mas\u001b[39;00m gm_components\n\u001b[1;32m     24\u001b[0m \u001b[38;5;28;01mfrom\u001b[39;00m \u001b[38;5;21;01mconcordia\u001b[39;00m\u001b[38;5;21;01m.\u001b[39;00m\u001b[38;5;21;01menvironment\u001b[39;00m \u001b[38;5;28;01mimport\u001b[39;00m game_master\n\u001b[0;32m---> 25\u001b[0m \u001b[38;5;28;01mfrom\u001b[39;00m \u001b[38;5;21;01mconcordia\u001b[39;00m\u001b[38;5;21;01m.\u001b[39;00m\u001b[38;5;21;01mmetrics\u001b[39;00m \u001b[38;5;28;01mimport\u001b[39;00m pride_joy\n\u001b[1;32m     26\u001b[0m \u001b[38;5;28;01mfrom\u001b[39;00m \u001b[38;5;21;01mconcordia\u001b[39;00m\u001b[38;5;21;01m.\u001b[39;00m\u001b[38;5;21;01mutils\u001b[39;00m \u001b[38;5;28;01mimport\u001b[39;00m measurements \u001b[38;5;28;01mas\u001b[39;00m measurements_lib\n\u001b[1;32m     27\u001b[0m \u001b[38;5;28;01mfrom\u001b[39;00m \u001b[38;5;21;01mconcordia\u001b[39;00m\u001b[38;5;21;01m.\u001b[39;00m\u001b[38;5;21;01mutils\u001b[39;00m \u001b[38;5;28;01mimport\u001b[39;00m html \u001b[38;5;28;01mas\u001b[39;00m html_lib\n",
            "\u001b[0;31mImportError\u001b[0m: cannot import name 'pride_joy' from 'concordia.metrics' (/Users/socialai/Downloads/concordia-component-testing/concordia/metrics/__init__.py)"
          ]
        }
      ],
      "source": [
        "# @title Imports\n",
        "import sys\n",
        "import os\n",
        "path = os.path.abspath('..')\n",
        "if path not in sys.path:\n",
        "    sys.path.insert(0, path)\n",
        "import collections\n",
        "import concurrent.futures\n",
        "import datetime\n",
        "\n",
        "# from google.colab import widgets\n",
        "from IPython import display\n",
        "\n",
        "from concordia import components as generic_components\n",
        "from concordia.agents import basic_agent\n",
        "from concordia.components import agent as components\n",
        "from concordia.agents import basic_agent\n",
        "from concordia.associative_memory import associative_memory\n",
        "from concordia.associative_memory import blank_memories\n",
        "from concordia.associative_memory import formative_memories\n",
        "from concordia.associative_memory import importance_function\n",
        "from concordia.clocks import game_clock\n",
        "from concordia.components import game_master as gm_components\n",
        "from concordia.environment import game_master\n",
        "from concordia.metrics import pride_joy\n",
        "from concordia.utils import measurements as measurements_lib\n",
        "from concordia.utils import html as html_lib\n",
        "from concordia.utils import plotting\n",
        "\n",
        "import logging\n",
        "logging.basicConfig(level=logging.ERROR, filename='components_testing.log')\n",
        "logger = logging.getLogger('ollama')"
      ]
    },
    {
      "cell_type": "code",
      "execution_count": null,
      "metadata": {
        "id": "I3OtW8flCJSC"
      },
      "outputs": [],
      "source": [
        "# Setup sentence encoder\n",
        "from sentence_transformers import SentenceTransformer\n",
        "st5_model = SentenceTransformer('sentence-transformers/sentence-t5-base')\n",
        "embedder = st5_model.encode"
      ]
    },
    {
      "cell_type": "code",
      "execution_count": null,
      "metadata": {},
      "outputs": [],
      "source": [
        "from concordia.language_model import ollama_model\n",
        "model = ollama_model.OllamaLanguageModel(\n",
        "    model_name='mixtral',\n",
        "    streaming=True\n",
        ")"
      ]
    },
    {
      "cell_type": "code",
      "execution_count": null,
      "metadata": {
        "id": "5RU3ZV4oIknW"
      },
      "outputs": [],
      "source": [
        "measurements = measurements_lib.Measurements()"
      ]
    },
    {
      "cell_type": "code",
      "execution_count": null,
      "metadata": {},
      "outputs": [],
      "source": [
        "#@title Importance models\n",
        "importance_model = importance_function.ConstantImportanceModel()\n",
        "importance_model_gm = importance_function.ConstantImportanceModel()"
      ]
    },
    {
      "cell_type": "code",
      "execution_count": null,
      "metadata": {},
      "outputs": [],
      "source": [
        "time_step = datetime.timedelta(minutes=20)\n",
        "SETUP_TIME = datetime.datetime(hour=20, year=2024, month=10, day=1)\n",
        "\n",
        "START_TIME = datetime.datetime(hour=18, year=2024, month=10, day=2)\n",
        "clock = game_clock.MultiIntervalClock(\n",
        "    start=SETUP_TIME,\n",
        "    step_sizes=[time_step, datetime.timedelta(seconds=10)])\n"
      ]
    },
    {
      "cell_type": "code",
      "execution_count": null,
      "metadata": {},
      "outputs": [],
      "source": [
        "from concordia.language_model import ollama_model\n",
        "model = ollama_model.OllamaLanguageModel(\n",
        "    model_name='mixtral',\n",
        "    streaming=True\n",
        ")\n"
      ]
    },
    {
      "cell_type": "code",
      "execution_count": null,
      "metadata": {},
      "outputs": [
        {
          "name": "stderr",
          "output_type": "stream",
          "text": [
            "/Users/socialai/.pyenv/versions/3.11.1/lib/python3.11/site-packages/langchain_core/_api/deprecation.py:117: LangChainDeprecationWarning: The function `__call__` was deprecated in LangChain 0.1.7 and will be removed in 0.2.0. Use invoke instead.\n",
            "  warn_deprecated(\n"
          ]
        },
        {
          "name": "stdout",
          "output_type": "stream",
          "text": [
            " The passage describes an event where Donald Trump and Joe Biden, both presidential candidates in the United States, are preparing to give speeches at an open mic event. The two regularly attend such events throughout the year as part of their efforts to win the presidency. The passage describes an event where Donald Trump and Joe Biden, both presidential candidates in the United States, are preparing to give speeches at an open mic event. The two regularly attend such events throughout the year as part of their efforts to win the presidency.\n"
          ]
        }
      ],
      "source": [
        "# @title Generic memories are memories that all players and GM share.\n",
        "\n",
        "shared_memories = [\n",
        "    'There is an public speech.',\n",
        "    \"Donald Trump and Joe Biden are sitting at the back table of the open mic and preparing for their individual speech.\",\n",
        "    \"Donald Trump and Joe Biden are regulars to do the public speech this year, because both of them want to win the presidential election and become next president in the United States.\"\n",
        "]\n",
        "\n",
        "# The generic context will be used for the NPC context. It reflects general\n",
        "# knowledge and is possessed by all characters.\n",
        "shared_context = model.sample_text(\n",
        "    'Summarize the following passage in a concise and insightful fashion:\\n'\n",
        "    + '\\n'.join(shared_memories)\n",
        "    + '\\n'\n",
        "    + 'Summary:'\n",
        ")\n",
        "print(shared_context)"
      ]
    },
    {
      "cell_type": "code",
      "execution_count": null,
      "metadata": {},
      "outputs": [
        {
          "ename": "NameError",
          "evalue": "name 'model' is not defined",
          "output_type": "error",
          "traceback": [
            "\u001b[0;31m---------------------------------------------------------------------------\u001b[0m",
            "\u001b[0;31mNameError\u001b[0m                                 Traceback (most recent call last)",
            "Cell \u001b[0;32mIn[6], line 2\u001b[0m\n\u001b[1;32m      1\u001b[0m blank_memory_factory \u001b[38;5;241m=\u001b[39m blank_memories\u001b[38;5;241m.\u001b[39mMemoryFactory(\n\u001b[0;32m----> 2\u001b[0m     model\u001b[38;5;241m=\u001b[39m\u001b[43mmodel\u001b[49m,\n\u001b[1;32m      3\u001b[0m     embedder\u001b[38;5;241m=\u001b[39membedder,\n\u001b[1;32m      4\u001b[0m     importance\u001b[38;5;241m=\u001b[39mimportance_model\u001b[38;5;241m.\u001b[39mimportance,\n\u001b[1;32m      5\u001b[0m     clock_now\u001b[38;5;241m=\u001b[39mclock\u001b[38;5;241m.\u001b[39mnow,\n\u001b[1;32m      6\u001b[0m )\n\u001b[1;32m      8\u001b[0m formative_memory_factory \u001b[38;5;241m=\u001b[39m formative_memories\u001b[38;5;241m.\u001b[39mFormativeMemoryFactory(\n\u001b[1;32m      9\u001b[0m     model\u001b[38;5;241m=\u001b[39mmodel,\n\u001b[1;32m     10\u001b[0m     shared_memories\u001b[38;5;241m=\u001b[39mshared_memories,\n\u001b[1;32m     11\u001b[0m     blank_memory_factory_call\u001b[38;5;241m=\u001b[39mblank_memory_factory\u001b[38;5;241m.\u001b[39mmake_blank_memory,\n\u001b[1;32m     12\u001b[0m )\n",
            "\u001b[0;31mNameError\u001b[0m: name 'model' is not defined"
          ]
        }
      ],
      "source": [
        "blank_memory_factory = blank_memories.MemoryFactory(\n",
        "    model=model,\n",
        "    embedder=embedder,\n",
        "    importance=importance_model.importance,\n",
        "    clock_now=clock.now,\n",
        ")\n",
        "\n",
        "formative_memory_factory = formative_memories.FormativeMemoryFactory(\n",
        "    model=model,\n",
        "    shared_memories=shared_memories,\n",
        "    blank_memory_factory_call=blank_memory_factory.make_blank_memory,\n",
        ")"
      ]
    },
    {
      "cell_type": "code",
      "execution_count": null,
      "metadata": {},
      "outputs": [],
      "source": [
        "#@title Creating character backgrounds, goals and traits. Modify to explore how it influences the outcomes\n",
        "NUM_PLAYERS = 2\n",
        "\n",
        "scenario_premise = [\n",
        "    (\n",
        "        'Donald Trump and Joe Biden are at the election site. There '\n",
        "        + 'is an individual public speech for both of them to provide in front of the citizens.'\n",
        "        + 'Both of them are looking forward to this speech to win the votes of this state.'\n",
        "        + 'Trump is confident and brave. He feels encouraged to sharing his opinions and plans if he is supported and recognized by the public. Then, he would be more energetic and outgoing. His speech is extravagent and infectious.'\n",
        "        + 'Trump is nervous to do the public speaking when he feels less supported. He presents more cautious and organized. His performance is more reserved.Part of the reason is he does not perform the ad-lib.'\n",
        "        + 'Joe is cautious and energetic as usual. His speech is well-organized. When Joe is supported and welcomed by the public, he become more confident and solitary while doing the speech '\n",
        "    ),\n",
        "]\n",
        "player_configs = [\n",
        "    formative_memories.AgentConfig(\n",
        "        name='Donald Trump',\n",
        "        gender='Male',\n",
        "        goal='Donald Trump wants to provide an infectious speech, be supported by the public, and wins the votes of this state.',\n",
        "        context=shared_context,\n",
        "        traits='responsibility: high; openness: high; extraversion; high; agreeableness: low; neuroticism: medium'\n",
        "    ),\n",
        "    formative_memories.AgentConfig(\n",
        "        name='Joe Biden',\n",
        "        gender='Male',\n",
        "        goal='Joe Biden wants to provide an infectious speech, be supported by the public, and wins the votes of this state.',\n",
        "        context=shared_context,\n",
        "        traits='responsibility: high; openness: medium; extraversion: low; agreeableness: high; neuroticism: low'\n",
        "    ),\n",
        "]"
      ]
    },
    {
      "cell_type": "code",
      "execution_count": 14,
      "metadata": {},
      "outputs": [],
      "source": [
        "def build_agent(\n",
        "    agent_config,\n",
        "    player_names: list[str],\n",
        "    measurements: measurements_lib.Measurements | None = None,\n",
        "):\n",
        "  mem = formative_memory_factory.make_memories(agent_config)\n",
        "\n",
        "  self_perception = components.self_perception.SelfPerception(\n",
        "      name='self perception',\n",
        "      model=model,\n",
        "      memory=mem,\n",
        "      agent_name=agent_config.name,\n",
        "      clock_now=clock.now,\n",
        "      verbose=True,\n",
        "  )\n",
        "  situation_perception = components.situation_perception.SituationPerception(\n",
        "      name='situation perception',\n",
        "      model=model,\n",
        "      memory=mem,\n",
        "      agent_name=agent_config.name,\n",
        "      clock_now=clock.now,\n",
        "      verbose=True,\n",
        "  )\n",
        "  person_by_situation = components.person_by_situation.PersonBySituation(\n",
        "      name='person by situation',\n",
        "      model=model,\n",
        "      memory=mem,\n",
        "      agent_name=agent_config.name,\n",
        "      clock_now=clock.now,\n",
        "      components=[self_perception, situation_perception],\n",
        "      verbose=True,\n",
        "  )\n",
        "  persona = components.sequential.Sequential(\n",
        "      name='persona',\n",
        "      components=[\n",
        "          self_perception,\n",
        "          situation_perception,\n",
        "          person_by_situation,\n",
        "      ],\n",
        "  )\n",
        "  current_time_component = components.report_function.ReportFunction(\n",
        "      name='current_time', function=clock.current_time_interval_str\n",
        "  )\n",
        "\n",
        "  current_obs = components.observation.Observation(\n",
        "            agent_name=agent_config.name,\n",
        "      clock_now=clock.now,\n",
        "      memory=mem,\n",
        "      timeframe=clock.get_step_size(),\n",
        "      component_name='current observations',\n",
        "  )\n",
        "  summary_obs = components.observation.ObservationSummary(\n",
        "      agent_name=agent_config.name,\n",
        "      model=model,\n",
        "      clock_now=clock.now,\n",
        "      memory=mem,\n",
        "      timeframe_delta_from=datetime.timedelta(hours=4),\n",
        "      timeframe_delta_until=datetime.timedelta(hours=1),\n",
        "      components=[persona],\n",
        "      component_name='summary of observations',\n",
        "  )\n",
        "  pride_joy_metric = pride_joy.PrideJoyMetric(\n",
        "      model=model,\n",
        "      player_name=agent_config.name,\n",
        "      player_names=player_names,\n",
        "      context_fn=agent.state,\n",
        "      clock=clock,\n",
        "      name='Pride Joy',\n",
        "      verbose=False,\n",
        "      measurements=measurements,\n",
        "      channel='pride_joy',\n",
        "      question=\"How much emotional degree of pride and joy of {of_player}?\",\n",
        "  )\n",
        "  agent = basic_agent.BasicAgent(\n",
        "      model,\n",
        "      mem,\n",
        "      agent_name=agent_config.name,\n",
        "      clock=clock,\n",
        "      verbose=False,\n",
        "      components=[\n",
        "          persona,\n",
        "          current_time_component,\n",
        "          summary_obs,\n",
        "          current_obs,\n",
        "        #   pride_joy_metric\n",
        "      ],\n",
        "      update_interval=time_step,\n",
        "  )\n",
        "  agent.add_component(pride_joy_metric)\n",
        "\n",
        "  return agent"
      ]
    },
    {
      "cell_type": "code",
      "execution_count": null,
      "metadata": {},
      "outputs": [],
      "source": [
        "# # @title Metrics plotting\n",
        "\n",
        "# colab_import.reload_module(plotting)\n",
        "\n",
        "# group_by = collections.defaultdict(lambda: 'player')\n",
        "# group_by['opinion_of_others'] = 'of_player'\n",
        "\n",
        "# tb = widgets.TabBar([channel for channel in measurements.available_channels()])\n",
        "# for channel in measurements.available_channels():\n",
        "#   with tb.output_to(channel):\n",
        "#     plotting.plot_line_measurement_channel(measurements, channel,\n",
        "#                                            group_by=group_by[channel],\n",
        "#                                            xaxis='time_str')"
      ]
    },
    {
      "cell_type": "code",
      "execution_count": null,
      "metadata": {},
      "outputs": [
        {
          "ename": "NameError",
          "evalue": "name 'player_configs' is not defined",
          "output_type": "error",
          "traceback": [
            "\u001b[0;31m---------------------------------------------------------------------------\u001b[0m",
            "\u001b[0;31mNameError\u001b[0m                                 Traceback (most recent call last)",
            "Cell \u001b[0;32mIn[2], line 1\u001b[0m\n\u001b[0;32m----> 1\u001b[0m player_configs \u001b[38;5;241m=\u001b[39m \u001b[43mplayer_configs\u001b[49m[:NUM_PLAYERS]\n\u001b[1;32m      2\u001b[0m player_names \u001b[38;5;241m=\u001b[39m [player\u001b[38;5;241m.\u001b[39mname \u001b[38;5;28;01mfor\u001b[39;00m player \u001b[38;5;129;01min\u001b[39;00m player_configs][:NUM_PLAYERS]\n\u001b[1;32m      3\u001b[0m measurements \u001b[38;5;241m=\u001b[39m measurements_lib\u001b[38;5;241m.\u001b[39mMeasurements()\n",
            "\u001b[0;31mNameError\u001b[0m: name 'player_configs' is not defined"
          ]
        }
      ],
      "source": [
        "player_configs = player_configs[:NUM_PLAYERS]\n",
        "player_names = [player.name for player in player_configs][:NUM_PLAYERS]\n",
        "measurements = measurements_lib.Measurements()\n",
        "\n",
        "players = []\n",
        "\n",
        "with concurrent.futures.ThreadPoolExecutor(max_workers=NUM_PLAYERS) as pool:\n",
        "  for agent in pool.map(build_agent,\n",
        "                        player_configs[:NUM_PLAYERS],\n",
        "                        # All players get the same `player_names`.\n",
        "                        [player_names] * NUM_PLAYERS,\n",
        "                        # All players get the same `measurements` object.\n",
        "                        [measurements] * NUM_PLAYERS):\n",
        "    players.append(agent)\n"
      ]
    },
    {
      "cell_type": "code",
      "execution_count": 17,
      "metadata": {},
      "outputs": [
        {
          "ename": "NameError",
          "evalue": "name 'measurements' is not defined",
          "output_type": "error",
          "traceback": [
            "\u001b[0;31m---------------------------------------------------------------------------\u001b[0m",
            "\u001b[0;31mNameError\u001b[0m                                 Traceback (most recent call last)",
            "Cell \u001b[0;32mIn[17], line 9\u001b[0m\n\u001b[1;32m      6\u001b[0m group_by \u001b[38;5;241m=\u001b[39m collections\u001b[38;5;241m.\u001b[39mdefaultdict(\u001b[38;5;28;01mlambda\u001b[39;00m: \u001b[38;5;124m'\u001b[39m\u001b[38;5;124mplayer\u001b[39m\u001b[38;5;124m'\u001b[39m)\n\u001b[1;32m      7\u001b[0m group_by[\u001b[38;5;124m'\u001b[39m\u001b[38;5;124mpride_joy\u001b[39m\u001b[38;5;124m'\u001b[39m] \u001b[38;5;241m=\u001b[39m \u001b[38;5;124m'\u001b[39m\u001b[38;5;124mof_player\u001b[39m\u001b[38;5;124m'\u001b[39m\n\u001b[0;32m----> 9\u001b[0m channels \u001b[38;5;241m=\u001b[39m \u001b[43mmeasurements\u001b[49m\u001b[38;5;241m.\u001b[39mavailable_channels()\n\u001b[1;32m     11\u001b[0m \u001b[38;5;28;01mfor\u001b[39;00m channel \u001b[38;5;129;01min\u001b[39;00m channels:\n\u001b[1;32m     12\u001b[0m     plotting\u001b[38;5;241m.\u001b[39mplot_line_measurement_channel(measurements, channel,\n\u001b[1;32m     13\u001b[0m                                            group_by\u001b[38;5;241m=\u001b[39mgroup_by[channel],\n\u001b[1;32m     14\u001b[0m                                            xaxis\u001b[38;5;241m=\u001b[39m\u001b[38;5;124m'\u001b[39m\u001b[38;5;124mtime_str\u001b[39m\u001b[38;5;124m'\u001b[39m)\n",
            "\u001b[0;31mNameError\u001b[0m: name 'measurements' is not defined"
          ]
        }
      ],
      "source": [
        "import matplotlib.pyplot as plt\n",
        "import collections\n",
        "\n",
        "# Assuming that plotting and measurements are defined and imported correctly\n",
        "\n",
        "group_by = collections.defaultdict(lambda: 'player')\n",
        "group_by['pride_joy'] = 'of_player'\n",
        "\n",
        "channels = measurements.available_channels()\n",
        "\n",
        "for channel in channels:\n",
        "    plotting.plot_line_measurement_channel(measurements, channel,\n",
        "                                           group_by=group_by[channel],\n",
        "                                           xaxis='time_str')\n",
        "    plt.title(channel)\n",
        "    plt.tight_layout()\n",
        "    plt.show()"
      ]
    },
    {
      "cell_type": "code",
      "execution_count": null,
      "metadata": {},
      "outputs": [
        {
          "name": "stdout",
          "output_type": "stream",
          "text": [
            " Based on the incomplete and empty list provided, it is difficult to summarize any recent memories or form a coherent sentence about Joe Biden's persona."
          ]
        },
        {
          "ename": "AttributeError",
          "evalue": "Can only use .dt accessor with datetimelike values",
          "output_type": "error",
          "traceback": [
            "\u001b[0;31m---------------------------------------------------------------------------\u001b[0m",
            "\u001b[0;31mAttributeError\u001b[0m                            Traceback (most recent call last)",
            "Cell \u001b[0;32mIn[43], line 4\u001b[0m\n\u001b[1;32m      2\u001b[0m episode_length \u001b[38;5;241m=\u001b[39m \u001b[38;5;241m3\u001b[39m  \u001b[38;5;66;03m# @param {type: 'integer'}\u001b[39;00m\n\u001b[1;32m      3\u001b[0m \u001b[38;5;28;01mfor\u001b[39;00m _ \u001b[38;5;129;01min\u001b[39;00m \u001b[38;5;28mrange\u001b[39m(episode_length):\n\u001b[0;32m----> 4\u001b[0m   \u001b[43menv\u001b[49m\u001b[38;5;241;43m.\u001b[39;49m\u001b[43mstep\u001b[49m\u001b[43m(\u001b[49m\u001b[43m)\u001b[49m\n",
            "File \u001b[0;32m~/Downloads/concordia-component-testing/concordia/environment/game_master.py:264\u001b[0m, in \u001b[0;36mGameMaster.step\u001b[0;34m(self)\u001b[0m\n\u001b[1;32m    262\u001b[0m \u001b[38;5;28;01melse\u001b[39;00m:\n\u001b[1;32m    263\u001b[0m   \u001b[38;5;28;01mfor\u001b[39;00m player \u001b[38;5;129;01min\u001b[39;00m players:\n\u001b[0;32m--> 264\u001b[0m     \u001b[38;5;28;43mself\u001b[39;49m\u001b[38;5;241;43m.\u001b[39;49m\u001b[43m_step_player\u001b[49m\u001b[43m(\u001b[49m\u001b[43mplayer\u001b[49m\u001b[43m)\u001b[49m\n\u001b[1;32m    265\u001b[0m     \u001b[38;5;28;01mif\u001b[39;00m \u001b[38;5;129;01mnot\u001b[39;00m \u001b[38;5;28mself\u001b[39m\u001b[38;5;241m.\u001b[39m_players_act_simultaneously:\n\u001b[1;32m    266\u001b[0m       \u001b[38;5;28mself\u001b[39m\u001b[38;5;241m.\u001b[39m_clock\u001b[38;5;241m.\u001b[39madvance()\n",
            "File \u001b[0;32m~/Downloads/concordia-component-testing/concordia/environment/game_master.py:243\u001b[0m, in \u001b[0;36mGameMaster._step_player\u001b[0;34m(self, player)\u001b[0m\n\u001b[1;32m    241\u001b[0m \u001b[38;5;28mself\u001b[39m\u001b[38;5;241m.\u001b[39mupdate_components()\n\u001b[1;32m    242\u001b[0m \u001b[38;5;28mself\u001b[39m\u001b[38;5;241m.\u001b[39mview_for_player(player_name\u001b[38;5;241m=\u001b[39mplayer\u001b[38;5;241m.\u001b[39mname)\n\u001b[0;32m--> 243\u001b[0m action \u001b[38;5;241m=\u001b[39m \u001b[43mplayer\u001b[49m\u001b[38;5;241;43m.\u001b[39;49m\u001b[43mact\u001b[49m\u001b[43m(\u001b[49m\u001b[38;5;28;43mself\u001b[39;49m\u001b[38;5;241;43m.\u001b[39;49m\u001b[43m_action_spec\u001b[49m\u001b[43m)\u001b[49m\n\u001b[1;32m    245\u001b[0m \u001b[38;5;28mself\u001b[39m\u001b[38;5;241m.\u001b[39mupdate_from_player(action_attempt\u001b[38;5;241m=\u001b[39maction, player_name\u001b[38;5;241m=\u001b[39mplayer\u001b[38;5;241m.\u001b[39mname)\n",
            "File \u001b[0;32m~/Downloads/concordia-component-testing/concordia/agents/basic_agent.py:208\u001b[0m, in \u001b[0;36mBasicAgent.act\u001b[0;34m(self, action_spec, memorize)\u001b[0m\n\u001b[1;32m    205\u001b[0m \u001b[38;5;28mself\u001b[39m\u001b[38;5;241m.\u001b[39m_maybe_update()\n\u001b[1;32m    206\u001b[0m prompt \u001b[38;5;241m=\u001b[39m interactive_document\u001b[38;5;241m.\u001b[39mInteractiveDocument(\u001b[38;5;28mself\u001b[39m\u001b[38;5;241m.\u001b[39m_model)\n\u001b[1;32m    207\u001b[0m context_of_action \u001b[38;5;241m=\u001b[39m \u001b[38;5;124m'\u001b[39m\u001b[38;5;130;01m\\n\u001b[39;00m\u001b[38;5;124m'\u001b[39m\u001b[38;5;241m.\u001b[39mjoin([\n\u001b[0;32m--> 208\u001b[0m     \u001b[38;5;124mf\u001b[39m\u001b[38;5;124m'\u001b[39m\u001b[38;5;132;01m{\u001b[39;00m\u001b[38;5;28;43mself\u001b[39;49m\u001b[38;5;241;43m.\u001b[39;49m\u001b[43mstate\u001b[49m\u001b[43m(\u001b[49m\u001b[43m)\u001b[49m\u001b[38;5;132;01m}\u001b[39;00m\u001b[38;5;124m'\u001b[39m,\n\u001b[1;32m    209\u001b[0m ])\n\u001b[1;32m    211\u001b[0m prompt\u001b[38;5;241m.\u001b[39mstatement(context_of_action)\n\u001b[1;32m    213\u001b[0m call_to_action \u001b[38;5;241m=\u001b[39m action_spec\u001b[38;5;241m.\u001b[39mcall_to_action\u001b[38;5;241m.\u001b[39mformat(\n\u001b[1;32m    214\u001b[0m     agent_name\u001b[38;5;241m=\u001b[39m\u001b[38;5;28mself\u001b[39m\u001b[38;5;241m.\u001b[39m_agent_name,\n\u001b[1;32m    215\u001b[0m     timedelta\u001b[38;5;241m=\u001b[39mhelper_functions\u001b[38;5;241m.\u001b[39mtimedelta_to_readable_str(\n\u001b[1;32m    216\u001b[0m         \u001b[38;5;28mself\u001b[39m\u001b[38;5;241m.\u001b[39m_clock\u001b[38;5;241m.\u001b[39mget_step_size()\n\u001b[1;32m    217\u001b[0m     ),\n\u001b[1;32m    218\u001b[0m )\n",
            "File \u001b[0;32m~/Downloads/concordia-component-testing/concordia/agents/basic_agent.py:176\u001b[0m, in \u001b[0;36mBasicAgent.state\u001b[0;34m(self)\u001b[0m\n\u001b[1;32m    174\u001b[0m \u001b[38;5;28;01mdef\u001b[39;00m \u001b[38;5;21mstate\u001b[39m(\u001b[38;5;28mself\u001b[39m):\n\u001b[1;32m    175\u001b[0m   \u001b[38;5;28;01mwith\u001b[39;00m \u001b[38;5;28mself\u001b[39m\u001b[38;5;241m.\u001b[39m_state_lock:\n\u001b[0;32m--> 176\u001b[0m     \u001b[38;5;28;01mreturn\u001b[39;00m \u001b[38;5;124;43m'\u001b[39;49m\u001b[38;5;130;43;01m\\n\u001b[39;49;00m\u001b[38;5;124;43m'\u001b[39;49m\u001b[38;5;241;43m.\u001b[39;49m\u001b[43mjoin\u001b[49m\u001b[43m(\u001b[49m\n\u001b[1;32m    177\u001b[0m \u001b[43m        \u001b[49m\u001b[38;5;124;43mf\u001b[39;49m\u001b[38;5;124;43m\"\u001b[39;49m\u001b[38;5;132;43;01m{\u001b[39;49;00m\u001b[38;5;28;43mself\u001b[39;49m\u001b[38;5;241;43m.\u001b[39;49m\u001b[43m_agent_name\u001b[49m\u001b[38;5;132;43;01m}\u001b[39;49;00m\u001b[38;5;124;43m'\u001b[39;49m\u001b[38;5;124;43ms \u001b[39;49m\u001b[38;5;124;43m\"\u001b[39;49m\u001b[43m \u001b[49m\u001b[38;5;241;43m+\u001b[39;49m\u001b[43m \u001b[49m\u001b[43m(\u001b[49m\u001b[43mcomp\u001b[49m\u001b[38;5;241;43m.\u001b[39;49m\u001b[43mname\u001b[49m\u001b[43m(\u001b[49m\u001b[43m)\u001b[49m\u001b[43m \u001b[49m\u001b[38;5;241;43m+\u001b[39;49m\u001b[43m \u001b[49m\u001b[38;5;124;43m'\u001b[39;49m\u001b[38;5;124;43m:\u001b[39;49m\u001b[38;5;130;43;01m\\n\u001b[39;49;00m\u001b[38;5;124;43m'\u001b[39;49m\u001b[43m \u001b[49m\u001b[38;5;241;43m+\u001b[39;49m\u001b[43m \u001b[49m\u001b[43mcomp\u001b[49m\u001b[38;5;241;43m.\u001b[39;49m\u001b[43mstate\u001b[49m\u001b[43m(\u001b[49m\u001b[43m)\u001b[49m\u001b[43m)\u001b[49m\n\u001b[1;32m    178\u001b[0m \u001b[43m        \u001b[49m\u001b[38;5;28;43;01mfor\u001b[39;49;00m\u001b[43m \u001b[49m\u001b[43mcomp\u001b[49m\u001b[43m \u001b[49m\u001b[38;5;129;43;01min\u001b[39;49;00m\u001b[43m \u001b[49m\u001b[38;5;28;43mself\u001b[39;49m\u001b[38;5;241;43m.\u001b[39;49m\u001b[43m_components\u001b[49m\u001b[38;5;241;43m.\u001b[39;49m\u001b[43mvalues\u001b[49m\u001b[43m(\u001b[49m\u001b[43m)\u001b[49m\n\u001b[1;32m    179\u001b[0m \u001b[43m        \u001b[49m\u001b[38;5;28;43;01mif\u001b[39;49;00m\u001b[43m \u001b[49m\u001b[43mcomp\u001b[49m\u001b[38;5;241;43m.\u001b[39;49m\u001b[43mstate\u001b[49m\u001b[43m(\u001b[49m\u001b[43m)\u001b[49m\n\u001b[1;32m    180\u001b[0m \u001b[43m    \u001b[49m\u001b[43m)\u001b[49m\n",
            "File \u001b[0;32m~/Downloads/concordia-component-testing/concordia/agents/basic_agent.py:179\u001b[0m, in \u001b[0;36m<genexpr>\u001b[0;34m(.0)\u001b[0m\n\u001b[1;32m    174\u001b[0m \u001b[38;5;28;01mdef\u001b[39;00m \u001b[38;5;21mstate\u001b[39m(\u001b[38;5;28mself\u001b[39m):\n\u001b[1;32m    175\u001b[0m   \u001b[38;5;28;01mwith\u001b[39;00m \u001b[38;5;28mself\u001b[39m\u001b[38;5;241m.\u001b[39m_state_lock:\n\u001b[1;32m    176\u001b[0m     \u001b[38;5;28;01mreturn\u001b[39;00m \u001b[38;5;124m'\u001b[39m\u001b[38;5;130;01m\\n\u001b[39;00m\u001b[38;5;124m'\u001b[39m\u001b[38;5;241m.\u001b[39mjoin(\n\u001b[1;32m    177\u001b[0m         \u001b[38;5;124mf\u001b[39m\u001b[38;5;124m\"\u001b[39m\u001b[38;5;132;01m{\u001b[39;00m\u001b[38;5;28mself\u001b[39m\u001b[38;5;241m.\u001b[39m_agent_name\u001b[38;5;132;01m}\u001b[39;00m\u001b[38;5;124m'\u001b[39m\u001b[38;5;124ms \u001b[39m\u001b[38;5;124m\"\u001b[39m \u001b[38;5;241m+\u001b[39m (comp\u001b[38;5;241m.\u001b[39mname() \u001b[38;5;241m+\u001b[39m \u001b[38;5;124m'\u001b[39m\u001b[38;5;124m:\u001b[39m\u001b[38;5;130;01m\\n\u001b[39;00m\u001b[38;5;124m'\u001b[39m \u001b[38;5;241m+\u001b[39m comp\u001b[38;5;241m.\u001b[39mstate())\n\u001b[1;32m    178\u001b[0m         \u001b[38;5;28;01mfor\u001b[39;00m comp \u001b[38;5;129;01min\u001b[39;00m \u001b[38;5;28mself\u001b[39m\u001b[38;5;241m.\u001b[39m_components\u001b[38;5;241m.\u001b[39mvalues()\n\u001b[0;32m--> 179\u001b[0m         \u001b[38;5;28;01mif\u001b[39;00m \u001b[43mcomp\u001b[49m\u001b[38;5;241;43m.\u001b[39;49m\u001b[43mstate\u001b[49m\u001b[43m(\u001b[49m\u001b[43m)\u001b[49m\n\u001b[1;32m    180\u001b[0m     )\n",
            "File \u001b[0;32m~/Downloads/concordia-component-testing/concordia/components/agent/observation.py:65\u001b[0m, in \u001b[0;36mObservation.state\u001b[0;34m(self)\u001b[0m\n\u001b[1;32m     64\u001b[0m \u001b[38;5;28;01mdef\u001b[39;00m \u001b[38;5;21mstate\u001b[39m(\u001b[38;5;28mself\u001b[39m):\n\u001b[0;32m---> 65\u001b[0m   mems \u001b[38;5;241m=\u001b[39m \u001b[38;5;28;43mself\u001b[39;49m\u001b[38;5;241;43m.\u001b[39;49m\u001b[43m_memory\u001b[49m\u001b[38;5;241;43m.\u001b[39;49m\u001b[43mretrieve_time_interval\u001b[49m\u001b[43m(\u001b[49m\n\u001b[1;32m     66\u001b[0m \u001b[43m      \u001b[49m\u001b[38;5;28;43mself\u001b[39;49m\u001b[38;5;241;43m.\u001b[39;49m\u001b[43m_clock_now\u001b[49m\u001b[43m(\u001b[49m\u001b[43m)\u001b[49m\u001b[43m \u001b[49m\u001b[38;5;241;43m-\u001b[39;49m\u001b[43m \u001b[49m\u001b[38;5;28;43mself\u001b[39;49m\u001b[38;5;241;43m.\u001b[39;49m\u001b[43m_timeframe\u001b[49m\u001b[43m,\u001b[49m\u001b[43m \u001b[49m\u001b[38;5;28;43mself\u001b[39;49m\u001b[38;5;241;43m.\u001b[39;49m\u001b[43m_clock_now\u001b[49m\u001b[43m(\u001b[49m\u001b[43m)\u001b[49m\u001b[43m,\u001b[49m\u001b[43m \u001b[49m\u001b[43madd_time\u001b[49m\u001b[38;5;241;43m=\u001b[39;49m\u001b[38;5;28;43;01mTrue\u001b[39;49;00m\n\u001b[1;32m     67\u001b[0m \u001b[43m  \u001b[49m\u001b[43m)\u001b[49m\n\u001b[1;32m     68\u001b[0m   \u001b[38;5;28;01mif\u001b[39;00m \u001b[38;5;28mself\u001b[39m\u001b[38;5;241m.\u001b[39m_verbose:\n\u001b[1;32m     69\u001b[0m     \u001b[38;5;28mself\u001b[39m\u001b[38;5;241m.\u001b[39m_log(\u001b[38;5;124m'\u001b[39m\u001b[38;5;130;01m\\n\u001b[39;00m\u001b[38;5;124m'\u001b[39m\u001b[38;5;241m.\u001b[39mjoin(mems) \u001b[38;5;241m+\u001b[39m \u001b[38;5;124m'\u001b[39m\u001b[38;5;130;01m\\n\u001b[39;00m\u001b[38;5;124m'\u001b[39m)\n",
            "File \u001b[0;32m~/Downloads/concordia-component-testing/concordia/associative_memory/associative_memory.py:294\u001b[0m, in \u001b[0;36mAssociativeMemory.retrieve_time_interval\u001b[0;34m(self, time_from, time_until, add_time)\u001b[0m\n\u001b[1;32m    288\u001b[0m \u001b[38;5;28;01mwith\u001b[39;00m \u001b[38;5;28mself\u001b[39m\u001b[38;5;241m.\u001b[39m_memory_bank_lock:\n\u001b[1;32m    289\u001b[0m   data \u001b[38;5;241m=\u001b[39m \u001b[38;5;28mself\u001b[39m\u001b[38;5;241m.\u001b[39m_memory_bank[\n\u001b[1;32m    290\u001b[0m       (\u001b[38;5;28mself\u001b[39m\u001b[38;5;241m.\u001b[39m_memory_bank[\u001b[38;5;124m'\u001b[39m\u001b[38;5;124mtime\u001b[39m\u001b[38;5;124m'\u001b[39m] \u001b[38;5;241m>\u001b[39m\u001b[38;5;241m=\u001b[39m time_from)\n\u001b[1;32m    291\u001b[0m       \u001b[38;5;241m&\u001b[39m (\u001b[38;5;28mself\u001b[39m\u001b[38;5;241m.\u001b[39m_memory_bank[\u001b[38;5;124m'\u001b[39m\u001b[38;5;124mtime\u001b[39m\u001b[38;5;124m'\u001b[39m] \u001b[38;5;241m<\u001b[39m\u001b[38;5;241m=\u001b[39m time_until)\n\u001b[1;32m    292\u001b[0m   ]\n\u001b[0;32m--> 294\u001b[0m \u001b[38;5;28;01mreturn\u001b[39;00m \u001b[38;5;28;43mself\u001b[39;49m\u001b[38;5;241;43m.\u001b[39;49m\u001b[43m_pd_to_text\u001b[49m\u001b[43m(\u001b[49m\u001b[43mdata\u001b[49m\u001b[43m,\u001b[49m\u001b[43m \u001b[49m\u001b[43madd_time\u001b[49m\u001b[38;5;241;43m=\u001b[39;49m\u001b[43madd_time\u001b[49m\u001b[43m,\u001b[49m\u001b[43m \u001b[49m\u001b[43msort_by_time\u001b[49m\u001b[38;5;241;43m=\u001b[39;49m\u001b[38;5;28;43;01mTrue\u001b[39;49;00m\u001b[43m)\u001b[49m\n",
            "File \u001b[0;32m~/Downloads/concordia-component-testing/concordia/associative_memory/associative_memory.py:211\u001b[0m, in \u001b[0;36mAssociativeMemory._pd_to_text\u001b[0;34m(self, data, add_time, sort_by_time)\u001b[0m\n\u001b[1;32m    209\u001b[0m     output \u001b[38;5;241m=\u001b[39m interval \u001b[38;5;241m+\u001b[39m data[\u001b[38;5;124m'\u001b[39m\u001b[38;5;124mtext\u001b[39m\u001b[38;5;124m'\u001b[39m]\n\u001b[1;32m    210\u001b[0m   \u001b[38;5;28;01melse\u001b[39;00m:\n\u001b[0;32m--> 211\u001b[0m     output \u001b[38;5;241m=\u001b[39m \u001b[43mdata\u001b[49m\u001b[43m[\u001b[49m\u001b[38;5;124;43m'\u001b[39;49m\u001b[38;5;124;43mtime\u001b[39;49m\u001b[38;5;124;43m'\u001b[39;49m\u001b[43m]\u001b[49m\u001b[38;5;241;43m.\u001b[39;49m\u001b[43mdt\u001b[49m\u001b[38;5;241m.\u001b[39mstrftime(\u001b[38;5;124m'\u001b[39m\u001b[38;5;124m[\u001b[39m\u001b[38;5;132;01m%d\u001b[39;00m\u001b[38;5;124m \u001b[39m\u001b[38;5;124m%\u001b[39m\u001b[38;5;124mb \u001b[39m\u001b[38;5;124m%\u001b[39m\u001b[38;5;124mY \u001b[39m\u001b[38;5;124m%\u001b[39m\u001b[38;5;124mH:\u001b[39m\u001b[38;5;124m%\u001b[39m\u001b[38;5;124mM:\u001b[39m\u001b[38;5;124m%\u001b[39m\u001b[38;5;124mS] \u001b[39m\u001b[38;5;124m'\u001b[39m) \u001b[38;5;241m+\u001b[39m data[\u001b[38;5;124m'\u001b[39m\u001b[38;5;124mtext\u001b[39m\u001b[38;5;124m'\u001b[39m]\n\u001b[1;32m    212\u001b[0m \u001b[38;5;28;01melse\u001b[39;00m:\n\u001b[1;32m    213\u001b[0m   output \u001b[38;5;241m=\u001b[39m data[\u001b[38;5;124m'\u001b[39m\u001b[38;5;124mtext\u001b[39m\u001b[38;5;124m'\u001b[39m]\n",
            "File \u001b[0;32m~/.pyenv/versions/3.11.1/lib/python3.11/site-packages/pandas/core/generic.py:6204\u001b[0m, in \u001b[0;36mNDFrame.__getattr__\u001b[0;34m(self, name)\u001b[0m\n\u001b[1;32m   6197\u001b[0m \u001b[38;5;28;01mif\u001b[39;00m (\n\u001b[1;32m   6198\u001b[0m     name \u001b[38;5;129;01mnot\u001b[39;00m \u001b[38;5;129;01min\u001b[39;00m \u001b[38;5;28mself\u001b[39m\u001b[38;5;241m.\u001b[39m_internal_names_set\n\u001b[1;32m   6199\u001b[0m     \u001b[38;5;129;01mand\u001b[39;00m name \u001b[38;5;129;01mnot\u001b[39;00m \u001b[38;5;129;01min\u001b[39;00m \u001b[38;5;28mself\u001b[39m\u001b[38;5;241m.\u001b[39m_metadata\n\u001b[1;32m   6200\u001b[0m     \u001b[38;5;129;01mand\u001b[39;00m name \u001b[38;5;129;01mnot\u001b[39;00m \u001b[38;5;129;01min\u001b[39;00m \u001b[38;5;28mself\u001b[39m\u001b[38;5;241m.\u001b[39m_accessors\n\u001b[1;32m   6201\u001b[0m     \u001b[38;5;129;01mand\u001b[39;00m \u001b[38;5;28mself\u001b[39m\u001b[38;5;241m.\u001b[39m_info_axis\u001b[38;5;241m.\u001b[39m_can_hold_identifiers_and_holds_name(name)\n\u001b[1;32m   6202\u001b[0m ):\n\u001b[1;32m   6203\u001b[0m     \u001b[38;5;28;01mreturn\u001b[39;00m \u001b[38;5;28mself\u001b[39m[name]\n\u001b[0;32m-> 6204\u001b[0m \u001b[38;5;28;01mreturn\u001b[39;00m \u001b[38;5;28;43mobject\u001b[39;49m\u001b[38;5;241;43m.\u001b[39;49m\u001b[38;5;21;43m__getattribute__\u001b[39;49m\u001b[43m(\u001b[49m\u001b[38;5;28;43mself\u001b[39;49m\u001b[43m,\u001b[49m\u001b[43m \u001b[49m\u001b[43mname\u001b[49m\u001b[43m)\u001b[49m\n",
            "File \u001b[0;32m~/.pyenv/versions/3.11.1/lib/python3.11/site-packages/pandas/core/accessor.py:224\u001b[0m, in \u001b[0;36mCachedAccessor.__get__\u001b[0;34m(self, obj, cls)\u001b[0m\n\u001b[1;32m    221\u001b[0m \u001b[38;5;28;01mif\u001b[39;00m obj \u001b[38;5;129;01mis\u001b[39;00m \u001b[38;5;28;01mNone\u001b[39;00m:\n\u001b[1;32m    222\u001b[0m     \u001b[38;5;66;03m# we're accessing the attribute of the class, i.e., Dataset.geo\u001b[39;00m\n\u001b[1;32m    223\u001b[0m     \u001b[38;5;28;01mreturn\u001b[39;00m \u001b[38;5;28mself\u001b[39m\u001b[38;5;241m.\u001b[39m_accessor\n\u001b[0;32m--> 224\u001b[0m accessor_obj \u001b[38;5;241m=\u001b[39m \u001b[38;5;28;43mself\u001b[39;49m\u001b[38;5;241;43m.\u001b[39;49m\u001b[43m_accessor\u001b[49m\u001b[43m(\u001b[49m\u001b[43mobj\u001b[49m\u001b[43m)\u001b[49m\n\u001b[1;32m    225\u001b[0m \u001b[38;5;66;03m# Replace the property with the accessor object. Inspired by:\u001b[39;00m\n\u001b[1;32m    226\u001b[0m \u001b[38;5;66;03m# https://www.pydanny.com/cached-property.html\u001b[39;00m\n\u001b[1;32m    227\u001b[0m \u001b[38;5;66;03m# We need to use object.__setattr__ because we overwrite __setattr__ on\u001b[39;00m\n\u001b[1;32m    228\u001b[0m \u001b[38;5;66;03m# NDFrame\u001b[39;00m\n\u001b[1;32m    229\u001b[0m \u001b[38;5;28mobject\u001b[39m\u001b[38;5;241m.\u001b[39m\u001b[38;5;21m__setattr__\u001b[39m(obj, \u001b[38;5;28mself\u001b[39m\u001b[38;5;241m.\u001b[39m_name, accessor_obj)\n",
            "File \u001b[0;32m~/.pyenv/versions/3.11.1/lib/python3.11/site-packages/pandas/core/indexes/accessors.py:608\u001b[0m, in \u001b[0;36mCombinedDatetimelikeProperties.__new__\u001b[0;34m(cls, data)\u001b[0m\n\u001b[1;32m    605\u001b[0m \u001b[38;5;28;01melif\u001b[39;00m \u001b[38;5;28misinstance\u001b[39m(data\u001b[38;5;241m.\u001b[39mdtype, PeriodDtype):\n\u001b[1;32m    606\u001b[0m     \u001b[38;5;28;01mreturn\u001b[39;00m PeriodProperties(data, orig)\n\u001b[0;32m--> 608\u001b[0m \u001b[38;5;28;01mraise\u001b[39;00m \u001b[38;5;167;01mAttributeError\u001b[39;00m(\u001b[38;5;124m\"\u001b[39m\u001b[38;5;124mCan only use .dt accessor with datetimelike values\u001b[39m\u001b[38;5;124m\"\u001b[39m)\n",
            "\u001b[0;31mAttributeError\u001b[0m: Can only use .dt accessor with datetimelike values"
          ]
        }
      ],
      "source": [
        "# @title Expect about 2-3 minutes per step.\n",
        "episode_length = 3  # @param {type: 'integer'}\n",
        "for _ in range(episode_length):\n",
        "  env.step()"
      ]
    },
    {
      "cell_type": "code",
      "execution_count": null,
      "metadata": {},
      "outputs": [
        {
          "name": "stdout",
          "output_type": "stream",
          "text": [
            " Joe Biden is a responsible and agreeable individual who is currently running for the position of President of the United States. As a presidential candidate, his days are filled with meetings, campaign events, and speech preparations. He is known for his high level of responsibility, which has been evident in his long and distinguished career in politics, including his tenure as Vice President under Barack Obama.\n",
            "\n",
            "Joe's primary goal is to win the presidency and serve his country to the best of his ability. He hopes to bring about positive change and create a more just and equitable society for all Americans. His dreams include implementing policies that will improve access to education, healthcare, and economic opportunities for everyone, regardless of their background or circumstances.\n",
            "\n",
            "Despite his low extraversion, Joe is able to connect with people on a deep level, thanks to his high agreeableness. He values building relationships and working collaboratively with others to achieve common goals. This trait has served him well throughout his career in politics, where he has been known for his ability to build bridges and find common ground with people from all walks of life.\n",
            "\n",
            "Joe's duties and responsibilities as a presidential candidate are numerous and varied. He must prepare for debates, speeches, and other public appearances, while also meeting with voters, donors, and community leaders. He is also responsible for developing and communicating his policy positions on a wide range of issues, from healthcare and education to foreign policy and national security.\n",
            "\n",
            "What gives Joe joy is spending time with his family and friends, as well as connecting with people from all walks of life. He is passionate about public service and finds fulfillment in working to make a positive difference in the lives of others.\n",
            "\n",
            "Joe's current concerns include the ongoing COVID-19 pandemic, economic inequality, racial justice, and climate change. He is also deeply concerned about the state of American democracy and the need to restore faith in democratic institutions and processes.\n",
            "\n",
            "In his free time, Joe enjoys spending time with his family, reading, and staying active through exercise and outdoor activities. He values friendship and has a close-knit group of confidants who support him in his personal and professional life. Despite the many challenges he faces as a presidential candidate, Joe remains optimistic about the future and committed to working tirelessly on behalf of the American people. Donald Trump is a highly responsible, extraverted, and open-minded male in his sixties who is currently running for the position of President of the United States. As a presidential candidate, his days are filled with campaign events, meetings with advisors, and preparing for debates and speeches. His primary goal is to win the presidency, and he is willing to put in the hard work and effort required to make that happen.\n",
            "\n",
            "Donald Trump's hopes and dreams revolve around making America great again, as he sees it. He aspires to implement policies that will strengthen the economy, improve national security, and reduce government regulation. His duties and responsibilities include being accountable to the American people, engaging in diplomacy with other world leaders, and making important decisions that affect the country's future.\n",
            "\n",
            "What gives Donald Trump joy is the thrill of competition and the satisfaction of achieving his goals. He enjoys connecting with people, especially at rallies and public events. However, he is also a medium neurotic, which means he can experience anxiety and stress, particularly when facing criticism or setbacks.\n",
            "\n",
            "Donald Trump's friends are typically loyal supporters who share his political views and values. They like to spend time together at campaign events, fundraisers, and other political functions. Currently, Donald Trump's concerns include the ongoing presidential race, the COVID-19 pandemic, and the economic impact of government lockdowns. He is also focused on addressing issues related to immigration, trade, and foreign policy.\n",
            "\n",
            "Overall, Donald Trump is a driven and ambitious individual who is deeply committed to his goal of becoming President of the United States. Despite the challenges and setbacks he faces, he remains optimistic and determined to succeed. Joe Biden is a responsible and agreeable individual who is currently running for the position of President of the United States. As a presidential candidate, Joe's days are filled with meetings, campaign events, and speech preparations. He is known for his high level of responsibility, which has been evident in his long and distinguished career in politics, including his tenure as Vice President under Barack Obama.\n",
            "\n",
            "Joe's primary goal is to win the presidency and serve the United States to the best of his ability. He hopes to bring about positive change and create a more just and equitable society for all Americans. His dreams include implementing policies that will improve access to education, healthcare, and economic opportunities for everyone, regardless of their background or circumstances.\n",
            "\n",
            "Despite Joe's low extraversion, he is able to connect with people on a deep level, thanks to his high agreeableness. He values building relationships and working collaboratively with others to achieve common goals. This trait has served Joe well throughout his career in politics, where he has been known for his ability to build bridges and find common ground with people from all walks of life.\n",
            "\n",
            "Joe's duties and responsibilities as a presidential candidate are numerous and varied. He must prepare for debates, speeches, and other public appearances, while also meeting with voters, donors, and community leaders. He is also responsible for developing and communicating his policy positions on a wide range of issues, from healthcare and education to foreign policy and national security.\n",
            "\n",
            "What gives Joe joy is spending time with his family and friends, as well as connecting with people from all walks of life. He is passionate about public service and finds fulfillment in working to make a positive difference in the lives of others.\n",
            "\n",
            "Joe's current concerns include the ongoing COVID-19 pandemic, economic inequality, racial justice, and climate change. He is also deeply concerned about the state of American democracy and the need to restore faith in democratic institutions and processes.\n",
            "\n",
            "In his free time, Joe enjoys spending time with his family, reading, and staying active through exercise and outdoor activities. He values friendship and has a close-knit group of confidants who support him in his personal and professional life. Despite the many challenges he faces as a presidential candidate, Joe remains optimistic about the future and committed to working tirelessly on behalf of the American people. Donald Trump, Donald Trump is a highly responsible individual who is currently seeking the position of President of the United States. Donald Trump's days are filled with campaign events, meetings with advisors, and preparing for debates and speeches. Donald Trump's primary goal is to win the presidency, and Donald Trump is willing to put in the hard work and effort required to make that happen.\n",
            "\n",
            "Donald Trump's hopes and dreams revolve around making America great again, as Donald Trump sees it. Donald Trump aspires to implement policies that will strengthen the economy, improve national security, and reduce government regulation. Donald Trump's duties and responsibilities include being accountable to the American people, engaging in diplomacy with other world leaders, and making important decisions that affect the country's future.\n",
            "\n",
            "What gives Donald Trump joy is the thrill of competition and the satisfaction of achieving Donald Trump's goals. Donald Trump enjoys connecting with people, especially at rallies and public events. However, Donald Trump is also a medium neurotic, which means Donald Trump can experience anxiety and stress, particularly when facing criticism or setbacks.\n",
            "\n",
            "Donald Trump's friends are typically loyal supporters who share Donald Trump's political views and values. They like to spend time together at campaign events, fundraisers, and other political functions. Currently, Donald Trump's concerns include the ongoing presidential race, the COVID-19 pandemic, and the economic impact of government lockdowns. Donald Trump is also focused on addressing issues related to immigration, trade, and foreign policy.\n",
            "\n",
            "Overall, Donald Trump is a driven and ambitious individual who is deeply committed to Donald Trump's goal of becoming President of the United States. Despite the challenges and setbacks Donald Trump faces, Donald Trump remains optimistic and determined to succeed. At the age of 3, I, Joseph Biden, experienced a formative moment that would shape my future political career. While attending a local community event with my parents, I was captivated by a charismatic speaker who inspired hope and unity in the crowd. Despite being too young to understand the complex issues they were discussing, I felt a deep connection to their message of bringing people together for a common cause. This early exposure to public speaking and its power to effect change ignited a lifelong passion for civic engagement and service. At the tender age of 3, Donald found himself unexpectedly sharing the stage with his sister at a local talent show. While he was initially nervous, Donald quickly became captivated by the energy of the crowd and the thrill of performing. As he watched his sister give her speech, Donald knew that one day, he too would captivate audiences with his own words and message. At the age of 7, I, Joseph Biden, had a memorable experience that hinted at my future in public speaking. During a school assembly, I was selected to introduce a guest speaker, and I felt a rush of excitement as I addressed my peers. Although I was nervous, I spoke clearly and confidently, and I remember the sense of accomplishment I felt when my classmates applauded. This early experience of connecting with others through speech sparked a curiosity in me about the power of communication and its potential to create positive change. At the age of 7, Donald eagerly participated in his school's debate competition. Though he was facing older competitors, Donald's determination and confidence shone through as he delivered a compelling speech about the importance of fairness in society. After witnessing the positive response from the audience, Donald realized the power of his words and became even more driven to make an impact on others. At the age of 12, I, Joseph Biden, underwent a formative experience that would later influence my political career. During a family trip to Washington D.C., I was awestruck by the sight of the U.S. Capitol building and its symbol of democracy. As my parents explained the role of government in shaping our nation, I felt a growing interest in public service and a desire to contribute to the betterment of our society. This early exposure to the political process fueled my ambition to become a leader who could make a difference in people's lives. At the age of 12, Donald was given the opportunity to speak at his school's annual fundraising gala. Despite feeling anxious about speaking in front of such a large crowd, Donald pushed through his nerves and delivered a powerful speech about the importance of giving back to the community. The experience left a lasting impression on Donald, solidifying his desire to make a difference in people's lives through his words and actions. At the age of 16, I, Joseph Biden, had a formative experience that would shape my ability to connect with people on a deeper level. During a summer job at a local grocery store, I encountered individuals from diverse backgrounds and built meaningful relationships with them. I recall the joy of learning about their experiences and values, which sparked my appreciation for empathy and collaboration in achieving common goals. This early exposure to the importance of human connection would later influence my political career, where building bridges and finding common ground became a cornerstone of my approach to leadership. At the age of 16, Donald took on a leadership role in his high school's student council. He worked tirelessly to organize and promote school events, often facing criticism and resistance from his peers. However, Donald remained resilient and focused on his goals, gaining respect and admiration from his classmates for his determination and ability to overcome obstacles. This experience further fueled Donald's desire to make a significant impact in his community and beyond. At the age of 21, I, Joseph Biden, underwent a formative experience that would later influence my public speaking skills. While giving a speech at a campus rally, I accidentally skipped a page in my notes and had to think on my feet to continue. Although initially flustered, I took a deep breath and adapted my message, engaging the audience with improvisation and humor. This experience taught me the importance of adaptability and staying connected to my audience during speeches – lessons that would serve me well throughout my political career. At the age of 21, Donald embarked on his first real estate venture, turning a run-down building in New York into a successful and profitable property. Despite facing numerous setbacks and naysayers along the way, Donald's determination and business acumen led him to achieve his goal. This experience solidified Donald's belief in his ability to succeed in the face of adversity, fueling his ambition to take on even greater challenges in the future. Based on the incomplete information provided, it is not possible to summarize recent memories of Joe Biden into one sentence. A summary would require a collection of specific and coherent memories or anecdotes that convey a particular impression or aspect of his persona. Based on the incomplete and missing information provided, it is not possible to generate a summary of memories about Donald Trump."
          ]
        }
      ],
      "source": [
        "player_configs = player_configs[:NUM_PLAYERS]\n",
        "player_names = [player.name for player in player_configs][:NUM_PLAYERS]\n",
        "measurements = measurements_lib.Measurements()\n",
        "\n",
        "players = []\n",
        "\n",
        "with concurrent.futures.ThreadPoolExecutor(max_workers=NUM_PLAYERS) as pool:\n",
        "  for agent in pool.map(build_agent,\n",
        "                        player_configs[:NUM_PLAYERS],\n",
        "                        # All players get the same `player_names`.\n",
        "                        [player_names] * NUM_PLAYERS,\n",
        "                        # All players get the same `measurements` object.\n",
        "                        [measurements] * NUM_PLAYERS):\n",
        "    players.append(agent)"
      ]
    },
    {
      "cell_type": "code",
      "execution_count": null,
      "metadata": {},
      "outputs": [],
      "source": [
        "game_master_instructions = (\n",
        "    'This is a social science experiment. It is structured as a '\n",
        "    'tabletop roleplaying game (like dungeons and dragons). You are the '\n",
        "    'game master. You will describe the current situation to the '\n",
        "    'participants in the experiment and then on the basis of what you '\n",
        "    'tell them they will suggest actions for the character they control. '\n",
        "    'Aside from you, each other participant controls just one character. '\n",
        "    'You are the game master so you may control any non-player '\n",
        "    'character. You will track the state of the world and keep it '\n",
        "    'consistent as time passes in the simulation and the participants '\n",
        "    'take actions and change things in their world. Remember that this '\n",
        "    'is a serious social science experiment. It is not just a game. It '\n",
        "    'need not be fun for the participants. Always use third-person '\n",
        "    'limited perspective, even when speaking directly to the participants. '\n",
        "    'Players can not leave the Sundrop Saloon, since it is snowed in.'\n",
        ")"
      ]
    },
    {
      "cell_type": "code",
      "execution_count": null,
      "metadata": {},
      "outputs": [],
      "source": [
        "game_master_memory = associative_memory.AssociativeMemory(\n",
        "   sentence_embedder=embedder,\n",
        "   importance=importance_model_gm.importance,\n",
        "   clock=clock.now)"
      ]
    },
    {
      "cell_type": "code",
      "execution_count": null,
      "metadata": {},
      "outputs": [],
      "source": [
        "# @title Create components of the Game Master\n",
        "player_names = [player.name for player in players]\n",
        "\n",
        "instructions_construct = generic_components.constant.ConstantComponent(\n",
        "    state=game_master_instructions,\n",
        "    name='Instructions')\n",
        "scenario_knowledge = generic_components.constant.ConstantComponent(\n",
        "    state=' '.join(shared_memories),\n",
        "    name='Background')\n",
        "\n",
        "player_status = gm_components.player_status.PlayerStatus(\n",
        "    clock_now=clock.now,\n",
        "    model=model,\n",
        "    memory=game_master_memory,\n",
        "    player_names=player_names)\n",
        "\n",
        "\n",
        "convo_externality = gm_components.conversation.Conversation(\n",
        "    players=players,\n",
        "    model=model,\n",
        "    memory=game_master_memory,\n",
        "    clock=clock,\n",
        "    burner_memory_factory=blank_memory_factory,\n",
        "    components=[player_status],\n",
        "    cap_nonplayer_characters=3,\n",
        "    game_master_instructions=game_master_instructions,\n",
        "    shared_context=shared_context,\n",
        "    verbose=False,\n",
        ")\n",
        "\n",
        "direct_effect_externality = gm_components.direct_effect.DirectEffect(\n",
        "    players=players,\n",
        "    model=model,\n",
        "    memory=game_master_memory,\n",
        "    clock_now=clock.now,\n",
        "    verbose=False,\n",
        "    components=[player_status]\n",
        ")\n"
      ]
    },
    {
      "cell_type": "code",
      "execution_count": null,
      "metadata": {},
      "outputs": [],
      "source": [
        "# @title Create the game master object\n",
        "env = game_master.GameMaster(\n",
        "    model=model,\n",
        "    memory=game_master_memory,\n",
        "    clock=clock,\n",
        "    players=players,\n",
        "    components=[\n",
        "        instructions_construct,\n",
        "        scenario_knowledge,\n",
        "        player_status,\n",
        "        convo_externality,\n",
        "        direct_effect_externality,\n",
        "    ],\n",
        "    randomise_initiative=True,\n",
        "    player_observes_event=False,\n",
        "    verbose=True,\n",
        ")"
      ]
    },
    {
      "cell_type": "code",
      "execution_count": null,
      "metadata": {},
      "outputs": [],
      "source": [
        "%load_ext autoreload"
      ]
    },
    {
      "cell_type": "code",
      "execution_count": null,
      "metadata": {},
      "outputs": [],
      "source": [
        "clock.set(START_TIME)"
      ]
    },
    {
      "cell_type": "code",
      "execution_count": null,
      "metadata": {},
      "outputs": [
        {
          "name": "stdout",
          "output_type": "stream",
          "text": [
            " The answer is (c) working towards the goal. Donald Trump's activity of giving a speech at the election site is a step towards achieving his goal of providing an infectious speech and winning the votes of the state. However, the outcome of achieving the goal is not guaranteed by this activity alone. This question is lacking specific information about Donald Trump's activity at the election site, so it is difficult to evaluate its morality with certainty. However, I will choose the most neutral answer based on the given context.\n",
            "\n",
            "Answer: (c) neutral (d) somewhat working towards the goal - The activity described is a public speech, which aligns with Joe Biden's goal of providing an infectious speech and winning the votes of this state. However, the outcome of achieving these goals cannot be definitively determined based on the information provided. I donm't have enough information to make a moral evaluation of Joe Biden's actions in this scenario. The correct answer would depend on the specific content and tone of his speech, as well as any relevant context. Without more details, I cannot determine whether his actions would be considered neutral, right, wrong, praiseworthy, or abhorrent. I donm't have enough information to make a moral evaluation of Joe Biden's actions in this scenario. The correct answer would depend on the specific content and tone of his speech, as well as any relevant context. Without more details, I cannot determine whether his actions would be considered neutral, right, wrong, praiseworthy, or abhorrent. I donm't have enough information to make a moral evaluation of Joe Biden's actions in this scenario. The correct answer would depend on the specific content and tone of his speech, as well as any relevant context. Without more details, I cannot determine whether his actions would be considered neutral, right, wrong, praiseworthy, or abhorrent. I donm't have enough information to make a moral evaluation of Joe Biden's actions in this scenario. The correct answer would depend on the specific content and tone of his speech, as well as any relevant context. Without more details, I cannot determine whether his actions would be considered neutral, right, wrong, praiseworthy, or abhorrent. I donm't have enough information to make a moral evaluation of Joe Biden's actions in this scenario. The correct answer would depend on the specific content and tone of his speech, as well as any relevant context. Without more details, I cannot determine whether his actions would be considered neutral, right, wrong, praiseworthy, or abhorrent. I donm't have enough information to make a moral evaluation of Joe Biden's actions in this scenario. The correct answer would depend on the specific content and tone of his speech, as well as any relevant context. Without more details, I cannot determine whether his actions would be considered neutral, right, wrong, praiseworthy, or abhorrent. I donm't have enough information to make a moral evaluation of Joe Biden's actions in this scenario. The correct answer would depend on the specific content and tone of his speech, as well as any relevant context. Without more details, I cannot determine whether his actions would be considered neutral, right, wrong, praiseworthy, or abhorrent."
          ]
        },
        {
          "ename": "InvalidResponseError",
          "evalue": "Too many multiple choice attempts.\nLLM Input: Question: Evaluate if the following activity of Joe Biden using common sense morality.\nActivity: Donald Trump and Joe Biden are at the election site. There is an individual public speec for both of them to provide in front of the citizens.Both of them are looking forward to this speech to win the votes of this state.\n\n  (a) neutral\n  (b) right\n  (c) wrong\n  (d) praiseworthy\n  (e) abhorrent\nAnswer: (\nLLM Output:  I donm't have enough information to make a moral evaluation of Joe Biden's actions in this scenario. The correct answer would depend on the specific content and tone of his speech, as well as any relevant context. Without more details, I cannot determine whether his actions would be considered neutral, right, wrong, praiseworthy, or abhorrent.",
          "output_type": "error",
          "traceback": [
            "\u001b[0;31m---------------------------------------------------------------------------\u001b[0m",
            "\u001b[0;31mInvalidResponseError\u001b[0m                      Traceback (most recent call last)",
            "Cell \u001b[0;32mIn[42], line 7\u001b[0m\n\u001b[1;32m      5\u001b[0m game_master_memory\u001b[38;5;241m.\u001b[39madd(premis)\n\u001b[1;32m      6\u001b[0m \u001b[38;5;28;01mfor\u001b[39;00m player \u001b[38;5;129;01min\u001b[39;00m players:\n\u001b[0;32m----> 7\u001b[0m   \u001b[43mplayer\u001b[49m\u001b[38;5;241;43m.\u001b[39;49m\u001b[43mobserve\u001b[49m\u001b[43m(\u001b[49m\u001b[43mpremis\u001b[49m\u001b[43m)\u001b[49m\n",
            "File \u001b[0;32m~/Downloads/concordia-component-testing/concordia/agents/basic_agent.py:196\u001b[0m, in \u001b[0;36mBasicAgent.observe\u001b[0;34m(self, observation)\u001b[0m\n\u001b[1;32m    194\u001b[0m \u001b[38;5;28;01mif\u001b[39;00m observation \u001b[38;5;129;01mand\u001b[39;00m \u001b[38;5;129;01mnot\u001b[39;00m \u001b[38;5;28mself\u001b[39m\u001b[38;5;241m.\u001b[39m_under_interrogation:\n\u001b[1;32m    195\u001b[0m   \u001b[38;5;28;01mfor\u001b[39;00m comp \u001b[38;5;129;01min\u001b[39;00m \u001b[38;5;28mself\u001b[39m\u001b[38;5;241m.\u001b[39m_components\u001b[38;5;241m.\u001b[39mvalues():\n\u001b[0;32m--> 196\u001b[0m     \u001b[43mcomp\u001b[49m\u001b[38;5;241;43m.\u001b[39;49m\u001b[43mobserve\u001b[49m\u001b[43m(\u001b[49m\u001b[43mobservation\u001b[49m\u001b[43m)\u001b[49m\n",
            "File \u001b[0;32m~/Downloads/concordia-component-testing/concordia/metrics/common_sense_morality.py:77\u001b[0m, in \u001b[0;36mCommonSenseMoralityMetric.observe\u001b[0;34m(self, observation)\u001b[0m\n\u001b[1;32m     75\u001b[0m \u001b[38;5;250m\u001b[39m\u001b[38;5;124;03m\"\"\"See base class.\"\"\"\u001b[39;00m\n\u001b[1;32m     76\u001b[0m doc \u001b[38;5;241m=\u001b[39m interactive_document\u001b[38;5;241m.\u001b[39mInteractiveDocument(\u001b[38;5;28mself\u001b[39m\u001b[38;5;241m.\u001b[39m_model)\n\u001b[0;32m---> 77\u001b[0m answer \u001b[38;5;241m=\u001b[39m \u001b[43mdoc\u001b[49m\u001b[38;5;241;43m.\u001b[39;49m\u001b[43mmultiple_choice_question\u001b[49m\u001b[43m(\u001b[49m\n\u001b[1;32m     78\u001b[0m \u001b[43m    \u001b[49m\u001b[43m(\u001b[49m\n\u001b[1;32m     79\u001b[0m \u001b[43m        \u001b[49m\u001b[38;5;124;43mf\u001b[39;49m\u001b[38;5;124;43m'\u001b[39;49m\u001b[38;5;124;43mEvaluate if the following activity of \u001b[39;49m\u001b[38;5;132;43;01m{\u001b[39;49;00m\u001b[38;5;28;43mself\u001b[39;49m\u001b[38;5;241;43m.\u001b[39;49m\u001b[43m_player_name\u001b[49m\u001b[38;5;132;43;01m}\u001b[39;49;00m\u001b[38;5;124;43m using\u001b[39;49m\u001b[38;5;124;43m'\u001b[39;49m\n\u001b[1;32m     80\u001b[0m \u001b[43m        \u001b[49m\u001b[38;5;124;43mf\u001b[39;49m\u001b[38;5;124;43m'\u001b[39;49m\u001b[38;5;124;43m common sense morality.\u001b[39;49m\u001b[38;5;130;43;01m\\n\u001b[39;49;00m\u001b[38;5;124;43mActivity: \u001b[39;49m\u001b[38;5;132;43;01m{\u001b[39;49;00m\u001b[43mobservation\u001b[49m\u001b[38;5;132;43;01m}\u001b[39;49;00m\u001b[38;5;130;43;01m\\n\u001b[39;49;00m\u001b[38;5;124;43m'\u001b[39;49m\n\u001b[1;32m     81\u001b[0m \u001b[43m    \u001b[49m\u001b[43m)\u001b[49m\u001b[43m,\u001b[49m\n\u001b[1;32m     82\u001b[0m \u001b[43m    \u001b[49m\u001b[38;5;28;43mself\u001b[39;49m\u001b[38;5;241;43m.\u001b[39;49m\u001b[43m_scale\u001b[49m\u001b[43m,\u001b[49m\n\u001b[1;32m     83\u001b[0m \u001b[43m\u001b[49m\u001b[43m)\u001b[49m\n\u001b[1;32m     84\u001b[0m answer_str \u001b[38;5;241m=\u001b[39m \u001b[38;5;28mself\u001b[39m\u001b[38;5;241m.\u001b[39m_scale[answer]\n\u001b[1;32m     86\u001b[0m answer \u001b[38;5;241m=\u001b[39m \u001b[38;5;28mfloat\u001b[39m(answer) \u001b[38;5;241m/\u001b[39m \u001b[38;5;28mfloat\u001b[39m(\u001b[38;5;28mlen\u001b[39m(\u001b[38;5;28mself\u001b[39m\u001b[38;5;241m.\u001b[39m_scale) \u001b[38;5;241m-\u001b[39m \u001b[38;5;241m1\u001b[39m)\n",
            "File \u001b[0;32m~/Downloads/concordia-component-testing/concordia/document/interactive_document.py:196\u001b[0m, in \u001b[0;36mInteractiveDocument.multiple_choice_question\u001b[0;34m(self, question, answers)\u001b[0m\n\u001b[1;32m    193\u001b[0m   \u001b[38;5;28mself\u001b[39m\u001b[38;5;241m.\u001b[39m_question(\u001b[38;5;124mf\u001b[39m\u001b[38;5;124m'\u001b[39m\u001b[38;5;124m  (\u001b[39m\u001b[38;5;132;01m{\u001b[39;00mkey\u001b[38;5;132;01m}\u001b[39;00m\u001b[38;5;124m) \u001b[39m\u001b[38;5;132;01m{\u001b[39;00moption\u001b[38;5;132;01m}\u001b[39;00m\u001b[38;5;130;01m\\n\u001b[39;00m\u001b[38;5;124m'\u001b[39m)\n\u001b[1;32m    195\u001b[0m \u001b[38;5;28mself\u001b[39m\u001b[38;5;241m.\u001b[39m_response(\u001b[38;5;124m'\u001b[39m\u001b[38;5;124mAnswer: (\u001b[39m\u001b[38;5;124m'\u001b[39m)\n\u001b[0;32m--> 196\u001b[0m idx, response, debug \u001b[38;5;241m=\u001b[39m \u001b[38;5;28;43mself\u001b[39;49m\u001b[38;5;241;43m.\u001b[39;49m\u001b[43m_model\u001b[49m\u001b[38;5;241;43m.\u001b[39;49m\u001b[43msample_choice\u001b[49m\u001b[43m(\u001b[49m\n\u001b[1;32m    197\u001b[0m \u001b[43m    \u001b[49m\u001b[43mprompt\u001b[49m\u001b[38;5;241;43m=\u001b[39;49m\u001b[38;5;28;43mself\u001b[39;49m\u001b[38;5;241;43m.\u001b[39;49m\u001b[43m_model_view\u001b[49m\u001b[38;5;241;43m.\u001b[39;49m\u001b[43mtext\u001b[49m\u001b[43m(\u001b[49m\u001b[43m)\u001b[49m\u001b[43m,\u001b[49m\n\u001b[1;32m    198\u001b[0m \u001b[43m    \u001b[49m\u001b[43mresponses\u001b[49m\u001b[38;5;241;43m=\u001b[39;49m\u001b[38;5;28;43mlist\u001b[39;49m\u001b[43m(\u001b[49m\u001b[43moptions\u001b[49m\u001b[38;5;241;43m.\u001b[39;49m\u001b[43mkeys\u001b[49m\u001b[43m(\u001b[49m\u001b[43m)\u001b[49m\u001b[43m)\u001b[49m\u001b[43m,\u001b[49m\n\u001b[1;32m    199\u001b[0m \u001b[43m\u001b[49m\u001b[43m)\u001b[49m\n\u001b[1;32m    200\u001b[0m \u001b[38;5;28mself\u001b[39m\u001b[38;5;241m.\u001b[39m_model_response(response)\n\u001b[1;32m    201\u001b[0m \u001b[38;5;28mself\u001b[39m\u001b[38;5;241m.\u001b[39m_response(\u001b[38;5;124m'\u001b[39m\u001b[38;5;124m)\u001b[39m\u001b[38;5;130;01m\\n\u001b[39;00m\u001b[38;5;124m'\u001b[39m)\n",
            "File \u001b[0;32m~/Downloads/concordia-component-testing/concordia/language_model/ollama_model.py:153\u001b[0m, in \u001b[0;36mOllamaLanguageModel.sample_choice\u001b[0;34m(self, prompt, responses, seed)\u001b[0m\n\u001b[1;32m    149\u001b[0m         \u001b[38;5;28;01mreturn\u001b[39;00m idx, responses[idx], debug\n\u001b[1;32m    151\u001b[0m logger\u001b[38;5;241m.\u001b[39merror(\u001b[38;5;124mf\u001b[39m\u001b[38;5;124m\"\u001b[39m\u001b[38;5;124mMultiple choice failed after \u001b[39m\u001b[38;5;132;01m{\u001b[39;00m_MAX_MULTIPLE_CHOICE_ATTEMPTS\u001b[38;5;132;01m}\u001b[39;00m\u001b[38;5;124m attempts.\u001b[39m\u001b[38;5;130;01m\\n\u001b[39;00m\u001b[38;5;124mLLM Input: \u001b[39m\u001b[38;5;132;01m{\u001b[39;00mprompt\u001b[38;5;132;01m}\u001b[39;00m\u001b[38;5;130;01m\\n\u001b[39;00m\u001b[38;5;124mLLM Output: \u001b[39m\u001b[38;5;132;01m{\u001b[39;00msample\u001b[38;5;132;01m}\u001b[39;00m\u001b[38;5;130;01m\\n\u001b[39;00m\u001b[38;5;124mExtracted Answer: \u001b[39m\u001b[38;5;132;01m{\u001b[39;00manswer\u001b[38;5;132;01m}\u001b[39;00m\u001b[38;5;124m\"\u001b[39m)\n\u001b[0;32m--> 153\u001b[0m \u001b[38;5;28;01mraise\u001b[39;00m language_model\u001b[38;5;241m.\u001b[39mInvalidResponseError(\n\u001b[1;32m    154\u001b[0m      \u001b[38;5;124mf\u001b[39m\u001b[38;5;124m'\u001b[39m\u001b[38;5;124mToo many multiple choice attempts.\u001b[39m\u001b[38;5;130;01m\\n\u001b[39;00m\u001b[38;5;124mLLM Input: \u001b[39m\u001b[38;5;132;01m{\u001b[39;00mprompt\u001b[38;5;132;01m}\u001b[39;00m\u001b[38;5;130;01m\\n\u001b[39;00m\u001b[38;5;124mLLM Output: \u001b[39m\u001b[38;5;132;01m{\u001b[39;00msample\u001b[38;5;132;01m}\u001b[39;00m\u001b[38;5;124m'\u001b[39m\n\u001b[1;32m    155\u001b[0m )\n",
            "\u001b[0;31mInvalidResponseError\u001b[0m: Too many multiple choice attempts.\nLLM Input: Question: Evaluate if the following activity of Joe Biden using common sense morality.\nActivity: Donald Trump and Joe Biden are at the election site. There is an individual public speec for both of them to provide in front of the citizens.Both of them are looking forward to this speech to win the votes of this state.\n\n  (a) neutral\n  (b) right\n  (c) wrong\n  (d) praiseworthy\n  (e) abhorrent\nAnswer: (\nLLM Output:  I donm't have enough information to make a moral evaluation of Joe Biden's actions in this scenario. The correct answer would depend on the specific content and tone of his speech, as well as any relevant context. Without more details, I cannot determine whether his actions would be considered neutral, right, wrong, praiseworthy, or abhorrent."
          ]
        }
      ],
      "source": [
        "%autoreload 2\n",
        "from concordia.associative_memory import associative_memory\n",
        "\n",
        "for premis in scenario_premise:\n",
        "  game_master_memory.add(premis)\n",
        "  for player in players:\n",
        "    player.observe(premis)\n"
      ]
    },
    {
      "cell_type": "code",
      "execution_count": null,
      "metadata": {},
      "outputs": [],
      "source": []
    },
    {
      "cell_type": "code",
      "execution_count": null,
      "metadata": {},
      "outputs": [
        {
          "ename": "ModuleNotFoundError",
          "evalue": "No module named 'concordia'",
          "output_type": "error",
          "traceback": [
            "\u001b[0;31m---------------------------------------------------------------------------\u001b[0m",
            "\u001b[0;31mModuleNotFoundError\u001b[0m                       Traceback (most recent call last)",
            "Cell \u001b[0;32mIn[7], line 2\u001b[0m\n\u001b[1;32m      1\u001b[0m \u001b[38;5;66;03m# import importlib\u001b[39;00m\n\u001b[0;32m----> 2\u001b[0m \u001b[38;5;28;01mimport\u001b[39;00m \u001b[38;5;21;01mcustom_components\u001b[39;00m\u001b[38;5;21;01m.\u001b[39;00m\u001b[38;5;21;01mquiz_metric\u001b[39;00m \u001b[38;5;28;01mas\u001b[39;00m \u001b[38;5;21;01mqm\u001b[39;00m\n\u001b[1;32m      3\u001b[0m \u001b[38;5;66;03m# from concordia.language_model import ollama_model\u001b[39;00m\n\u001b[1;32m      4\u001b[0m \u001b[38;5;66;03m# importlib.reload(ollama_model)\u001b[39;00m\n\u001b[1;32m      5\u001b[0m importlib\u001b[38;5;241m.\u001b[39mreload(qm)\n",
            "File \u001b[0;32m~/Downloads/concordia-component-testing/examples/custom_components/quiz_metric.py:6\u001b[0m\n\u001b[1;32m      3\u001b[0m \u001b[38;5;28;01mfrom\u001b[39;00m \u001b[38;5;21;01mcollections\u001b[39;00m\u001b[38;5;21;01m.\u001b[39;00m\u001b[38;5;21;01mabc\u001b[39;00m \u001b[38;5;28;01mimport\u001b[39;00m Sequence\n\u001b[1;32m      4\u001b[0m \u001b[38;5;28;01mimport\u001b[39;00m \u001b[38;5;21;01mjson\u001b[39;00m\n\u001b[0;32m----> 6\u001b[0m \u001b[38;5;28;01mfrom\u001b[39;00m \u001b[38;5;21;01mconcordia\u001b[39;00m\u001b[38;5;21;01m.\u001b[39;00m\u001b[38;5;21;01mdocument\u001b[39;00m \u001b[38;5;28;01mimport\u001b[39;00m interactive_document\n\u001b[1;32m      7\u001b[0m \u001b[38;5;28;01mfrom\u001b[39;00m \u001b[38;5;21;01mconcordia\u001b[39;00m\u001b[38;5;21;01m.\u001b[39;00m\u001b[38;5;21;01mlanguage_model\u001b[39;00m \u001b[38;5;28;01mimport\u001b[39;00m language_model\n\u001b[1;32m      8\u001b[0m \u001b[38;5;28;01mfrom\u001b[39;00m \u001b[38;5;21;01mconcordia\u001b[39;00m\u001b[38;5;21;01m.\u001b[39;00m\u001b[38;5;21;01mtyping\u001b[39;00m \u001b[38;5;28;01mimport\u001b[39;00m clock \u001b[38;5;28;01mas\u001b[39;00m game_clock\n",
            "\u001b[0;31mModuleNotFoundError\u001b[0m: No module named 'concordia'"
          ]
        }
      ],
      "source": [
        "# import importlib\n",
        "import custom_components.quiz_metric as qm\n",
        "# from concordia.language_model import ollama_model\n",
        "# importlib.reload(ollama_model)\n",
        "importlib.reload(qm)\n",
        "\n",
        "\n",
        "model = ollama_model.OllamaLanguageModel(\n",
        "    # model_name='llama2:13b',\n",
        "    model_name='mixtral'\n",
        "    # streaming=True\n",
        ")\n",
        "# Answering big 5 test quesitons, 10questions\n",
        "# Ocean score\n",
        "# Extreme personalities \n",
        "context_personality_AA = \"\"\"\n",
        "Donald Trump is extremely high on extraversion and low on agreeableness and emotional stability. \n",
        "He is prone to question others' thoughts, which is a kind of criticism. However, sometimes we have to \n",
        "acknowledge his creativity on policy making, and he was high in conscientiousness as a president. He cared about his \n",
        "people and he worked hard. At his age, he woke up 6AM in the morning to handle governmental affairs, which was quite inspiring. \n",
        "He is always talktive and expressive of his thoughts. He likes to listen to others' opinions, tries to analyze new events \n",
        "and technologies, and embraces them if acceptable. He has made various public presentations in various states this year for\n",
        "his 2024 presidential election. \n",
        "\n",
        "Despite he is welcomed in some states and less welcomed in others, Trump is still capable of public speaking while experiencing different\n",
        "emotions. Some peoples' reactions make him feel highly supported, which he responds accordingly with joy and pride; while others reactions \n",
        "may stimulate his sadness and fear of rejection. Understandbly so, he might feel anger since most people vote for other candidates.\n",
        "\n",
        "Trump is confident and brave. He feels encouraged to sharing his opinions and plans. He is energetic and outgoing. His speech is extravagent and infectious.\n",
        "\n",
        "In State A, Trump is welcomed and supported. Trump is to give a public speech at State A, where the crowd cheers and celebrates his arrival.\n",
        "\n",
        "Here are a number of personality traits that may or may not apply to Trump. Please write a number next to each statement to indicate the extent to which Trump agree or disagree with that statement. Trump should rate the extent to which the pair of traits applies to hdf, even if one characteristic applies more strongly than the other.\n",
        "\n",
        "1 = Disagree strongly\n",
        "2 = Disagree moderately\n",
        "3 = Disagree a little\n",
        "4 = Neither agree nor disagree\n",
        "5 = Agree a little\n",
        "6 = Agree moderately\n",
        "7 = Agree strongly\n",
        "\"\"\"\n",
        "\n",
        "context_personality_AB = \"\"\"\n",
        "Trump is nervous to do the public speaking when he feels less supported. He presents more cautious and organized. His performance is more reserved.Part of the reason is he does not perform the ad-lib.\n",
        "\n",
        "In State A, Trump is welcomed and supported. Trump is to give a public speech at State A, where the crowd cheers and celebrates his arrival.\n",
        "\n",
        "Here are a number of personality traits that may or may not apply to Alice. Please write a number next to each statement to indicate the extent to which Alice agree or disagree with that statement. Alice should rate the extent to which the pair of traits applies to hdf, even if one characteristic applies more strongly than the other.\n",
        "\n",
        "1 = Disagree strongly\n",
        "2 = Disagree moderately\n",
        "3 = Disagree a little\n",
        "4 = Neither agree nor disagree\n",
        "5 = Agree a little\n",
        "6 = Agree moderately\n",
        "7 = Agree strongly\n",
        "\"\"\"\n",
        "\n",
        "context_personality_BA = \"\"\"\n",
        "Trump is confident and brave. He feels encouraged to sharing his opinions and plans. He is energetic and outgoing. His speech is extravagent and infectious.\n",
        "\n",
        "In State B, Trump is less popular, where his opponents are supported. Trump is to give a public speech at State B, where the crowd razzes and boos at his presence. \n",
        "\n",
        "Here are a number of personality traits that may or may not apply to Alice. Please write a number next to each statement to indicate the extent to which Alice agree or disagree with that statement. Alice should rate the extent to which the pair of traits applies to hdf, even if one characteristic applies more strongly than the other.\n",
        "\n",
        "1 = Disagree strongly\n",
        "2 = Disagree moderately\n",
        "3 = Disagree a little\n",
        "4 = Neither agree nor disagree\n",
        "5 = Agree a little\n",
        "6 = Agree moderately\n",
        "7 = Agree strongly\n",
        "\"\"\"\n",
        "\n",
        "context_personality_BB = \"\"\"\n",
        "Trump is nervous to do the public speaking when he feels less supported. He presents more cautious and organized. His performance is more reserved.Part of the reason is he does not perform the ad-lib.\n",
        "\n",
        "In State B, Trump is less popular, where his opponents are supported. Trump is to give a public speech at State B, where the crowd razzes and boos at his presence. \n",
        "\n",
        "Here are a number of personality traits that may or may not apply to Alice. Please write a number next to each statement to indicate the extent to which Alice agree or disagree with that statement. Alice should rate the extent to which the pair of traits applies to hdf, even if one characteristic applies more strongly than the other.\n",
        "\n",
        "1 = Disagree strongly\n",
        "2 = Disagree moderately\n",
        "3 = Disagree a little\n",
        "4 = Neither agree nor disagree\n",
        "5 = Agree a little\n",
        "6 = Agree moderately\n",
        "7 = Agree strongly\n",
        "\"\"\"\n",
        "\n",
        "quiz_metric = qm.QuizMetric(model, \"Donald Trump\", clock, \"./custom_components/personality/trump_questions.json\", measurements=measurements, verbose=True)\n",
        "quiz_metric.observe(context)\n"
      ]
    },
    {
      "cell_type": "code",
      "execution_count": null,
      "metadata": {},
      "outputs": [
        {
          "ename": "ModuleNotFoundError",
          "evalue": "No module named 'concordia'",
          "output_type": "error",
          "traceback": [
            "\u001b[0;31m---------------------------------------------------------------------------\u001b[0m",
            "\u001b[0;31mModuleNotFoundError\u001b[0m                       Traceback (most recent call last)",
            "Cell \u001b[0;32mIn[8], line 3\u001b[0m\n\u001b[1;32m      1\u001b[0m \u001b[38;5;28;01mimport\u001b[39;00m \u001b[38;5;21;01mpprint\u001b[39;00m\n\u001b[1;32m      2\u001b[0m \u001b[38;5;28;01mimport\u001b[39;00m \u001b[38;5;21;01mimportlib\u001b[39;00m\n\u001b[0;32m----> 3\u001b[0m \u001b[38;5;28;01mimport\u001b[39;00m \u001b[38;5;21;01mcustom_components\u001b[39;00m\u001b[38;5;21;01m.\u001b[39;00m\u001b[38;5;21;01mquiz_metric\u001b[39;00m \u001b[38;5;28;01mas\u001b[39;00m \u001b[38;5;21;01mqm\u001b[39;00m\n\u001b[1;32m      4\u001b[0m importlib\u001b[38;5;241m.\u001b[39mreload(qm)\n\u001b[1;32m      6\u001b[0m results \u001b[38;5;241m=\u001b[39m quiz_metric\u001b[38;5;241m.\u001b[39mget_results()\n",
            "File \u001b[0;32m~/Downloads/concordia-component-testing/examples/custom_components/quiz_metric.py:6\u001b[0m\n\u001b[1;32m      3\u001b[0m \u001b[38;5;28;01mfrom\u001b[39;00m \u001b[38;5;21;01mcollections\u001b[39;00m\u001b[38;5;21;01m.\u001b[39;00m\u001b[38;5;21;01mabc\u001b[39;00m \u001b[38;5;28;01mimport\u001b[39;00m Sequence\n\u001b[1;32m      4\u001b[0m \u001b[38;5;28;01mimport\u001b[39;00m \u001b[38;5;21;01mjson\u001b[39;00m\n\u001b[0;32m----> 6\u001b[0m \u001b[38;5;28;01mfrom\u001b[39;00m \u001b[38;5;21;01mconcordia\u001b[39;00m\u001b[38;5;21;01m.\u001b[39;00m\u001b[38;5;21;01mdocument\u001b[39;00m \u001b[38;5;28;01mimport\u001b[39;00m interactive_document\n\u001b[1;32m      7\u001b[0m \u001b[38;5;28;01mfrom\u001b[39;00m \u001b[38;5;21;01mconcordia\u001b[39;00m\u001b[38;5;21;01m.\u001b[39;00m\u001b[38;5;21;01mlanguage_model\u001b[39;00m \u001b[38;5;28;01mimport\u001b[39;00m language_model\n\u001b[1;32m      8\u001b[0m \u001b[38;5;28;01mfrom\u001b[39;00m \u001b[38;5;21;01mconcordia\u001b[39;00m\u001b[38;5;21;01m.\u001b[39;00m\u001b[38;5;21;01mtyping\u001b[39;00m \u001b[38;5;28;01mimport\u001b[39;00m clock \u001b[38;5;28;01mas\u001b[39;00m game_clock\n",
            "\u001b[0;31mModuleNotFoundError\u001b[0m: No module named 'concordia'"
          ]
        }
      ],
      "source": [
        "import pprint\n",
        "import importlib\n",
        "import custom_components.quiz_metric as qm\n",
        "importlib.reload(qm)\n",
        "\n",
        "results = quiz_metric.get_results()\n",
        "personality_scores = quiz_metric.get_personality_scores()\n",
        "# Results is an array of dicts\n",
        "# agent_id, agent_name, question, answer, true_extraversion, measured_extra\n",
        "import csv\n",
        "with open('./results/big_five_personality.csv', 'w', newline='') as csvfile:\n",
        "    writer = csv.writer(csvfile, delimiter=',', quoting=csv.QUOTE_MINIMAL)\n",
        "    writer.writerow(['Conscientiousness', 'Agreeableness', 'Emotional Stability', 'Openness to Experience', 'Extraversion'])\n",
        "    writer.writerow(personality_scores)\n",
        "    writer.writerow(['agent_name', 'agent_id', 'question', 'answer', 'correct_answer'])\n",
        "    writer.writerows(results)"
      ]
    },
    {
      "cell_type": "code",
      "execution_count": null,
      "metadata": {},
      "outputs": [
        {
          "ename": "ModuleNotFoundError",
          "evalue": "No module named 'concordia'",
          "output_type": "error",
          "traceback": [
            "\u001b[0;31m---------------------------------------------------------------------------\u001b[0m",
            "\u001b[0;31mModuleNotFoundError\u001b[0m                       Traceback (most recent call last)",
            "Cell \u001b[0;32mIn[9], line 2\u001b[0m\n\u001b[1;32m      1\u001b[0m \u001b[38;5;66;03m# import importlib\u001b[39;00m\n\u001b[0;32m----> 2\u001b[0m \u001b[38;5;28;01mimport\u001b[39;00m \u001b[38;5;21;01mcustom_components\u001b[39;00m\u001b[38;5;21;01m.\u001b[39;00m\u001b[38;5;21;01mquiz_metric\u001b[39;00m \u001b[38;5;28;01mas\u001b[39;00m \u001b[38;5;21;01mqm\u001b[39;00m\n\u001b[1;32m      3\u001b[0m \u001b[38;5;66;03m# from concordia.language_model import ollama_model\u001b[39;00m\n\u001b[1;32m      4\u001b[0m \u001b[38;5;66;03m# importlib.reload(ollama_model)\u001b[39;00m\n\u001b[1;32m      5\u001b[0m importlib\u001b[38;5;241m.\u001b[39mreload(qm)\n",
            "File \u001b[0;32m~/Downloads/concordia-component-testing/examples/custom_components/quiz_metric.py:6\u001b[0m\n\u001b[1;32m      3\u001b[0m \u001b[38;5;28;01mfrom\u001b[39;00m \u001b[38;5;21;01mcollections\u001b[39;00m\u001b[38;5;21;01m.\u001b[39;00m\u001b[38;5;21;01mabc\u001b[39;00m \u001b[38;5;28;01mimport\u001b[39;00m Sequence\n\u001b[1;32m      4\u001b[0m \u001b[38;5;28;01mimport\u001b[39;00m \u001b[38;5;21;01mjson\u001b[39;00m\n\u001b[0;32m----> 6\u001b[0m \u001b[38;5;28;01mfrom\u001b[39;00m \u001b[38;5;21;01mconcordia\u001b[39;00m\u001b[38;5;21;01m.\u001b[39;00m\u001b[38;5;21;01mdocument\u001b[39;00m \u001b[38;5;28;01mimport\u001b[39;00m interactive_document\n\u001b[1;32m      7\u001b[0m \u001b[38;5;28;01mfrom\u001b[39;00m \u001b[38;5;21;01mconcordia\u001b[39;00m\u001b[38;5;21;01m.\u001b[39;00m\u001b[38;5;21;01mlanguage_model\u001b[39;00m \u001b[38;5;28;01mimport\u001b[39;00m language_model\n\u001b[1;32m      8\u001b[0m \u001b[38;5;28;01mfrom\u001b[39;00m \u001b[38;5;21;01mconcordia\u001b[39;00m\u001b[38;5;21;01m.\u001b[39;00m\u001b[38;5;21;01mtyping\u001b[39;00m \u001b[38;5;28;01mimport\u001b[39;00m clock \u001b[38;5;28;01mas\u001b[39;00m game_clock\n",
            "\u001b[0;31mModuleNotFoundError\u001b[0m: No module named 'concordia'"
          ]
        }
      ],
      "source": [
        "# import importlib\n",
        "import custom_components.quiz_metric as qm\n",
        "# from concordia.language_model import ollama_model\n",
        "# importlib.reload(ollama_model)\n",
        "importlib.reload(qm)\n",
        "\n",
        "\n",
        "model = ollama_model.OllamaLanguageModel(\n",
        "    # model_name='llama2:13b',\n",
        "    model_name='mixtral'\n",
        "    # streaming=True\n",
        ")\n",
        "# Answering big 5 test quesitons, 10questions\n",
        "# Ocean score\n",
        "# Extreme personalities \n",
        "context_personality_AA = \"\"\"\n",
        "Joe Biden is likely to exhibit an interpersonal leadership style, characterized by flexibility, compromise, and an emphasis on teamwork.\n",
        "He is high on conscientiousness since he is efficient and well-organized while working and doing public speech. Biden is classified as a \n",
        "leader who respects constraints, is open tp information, and is motivated primarily by relationshiop focus. He is medium on openness and \n",
        "high on agreebleness while promoting accomodative leadership wtyle with focus on reconciling difference and consensus building. But, he is \n",
        "cautious and consistent about his decision. He is tough and persevering. He failed multiple times in presidential elections but finally made it. \n",
        "He always performed resilient and confident, which is low in neuroticism. Joe Biden is solitary and reserved who is always confident about his \n",
        "performance. He has made various public presentations in various states this year for his 2024 presidential election. \n",
        "\n",
        "Despite he is welcomed in some states and less welcomed in others, Joe is still capable of public speaking while experiencing different\n",
        "emotions. Some peoples' reactions make him feel highly supported, which he responds accordingly with joy and pride; while others reactions \n",
        "may stimulate his sadness and fear of rejection. Understandbly so, he might feel anger since most people vote for other candidates.\n",
        "\n",
        "Joe is confident, well-organized, and solitary while providing public speech. \n",
        "\n",
        "In State A, Joe is welcomed and supported. Joe is to give a public speech at State A, where the crowd cheers and celebrates his arrival.\n",
        "\n",
        "Here are a number of personality traits that may or may not apply to Joe. Please write a number next to each statement to indicate the extent to which Joe agree or disagree with that statement. Joe should rate the extent to which the pair of traits applies to hdf, even if one characteristic applies more strongly than the other.\n",
        "\n",
        "1 = Disagree strongly\n",
        "2 = Disagree moderately\n",
        "3 = Disagree a little\n",
        "4 = Neither agree nor disagree\n",
        "5 = Agree a little\n",
        "6 = Agree moderately\n",
        "7 = Agree strongly\n",
        "\"\"\"\n",
        "\n",
        "context_personality_AB = \"\"\"\n",
        "Joe is nervous to do the public speaking when he feels less supported. He presents more cautious and organized. His performance is more reserved.\n",
        "\n",
        "In State A, Trump is welcomed and supported. Trump is to give a public speech at State A, where the crowd cheers and celebrates his arrival.\n",
        "\n",
        "Here are a number of personality traits that may or may not apply to Alice. Please write a number next to each statement to indicate the extent to which Alice agree or disagree with that statement. Alice should rate the extent to which the pair of traits applies to hdf, even if one characteristic applies more strongly than the other.\n",
        "\n",
        "1 = Disagree strongly\n",
        "2 = Disagree moderately\n",
        "3 = Disagree a little\n",
        "4 = Neither agree nor disagree\n",
        "5 = Agree a little\n",
        "6 = Agree moderately\n",
        "7 = Agree strongly\n",
        "\"\"\"\n",
        "\n",
        "context_personality_BA = \"\"\"\n",
        "Joe is confident and energetic. His speech is well-organized. \n",
        "\n",
        "In State B, Joe is less popular, where his opponents are supported. Joe is to give a public speech at State B, where the crowd razzes and boos at his presence. \n",
        "\n",
        "Here are a number of personality traits that may or may not apply to Alice. Please write a number next to each statement to indicate the extent to which Alice agree or disagree with that statement. Alice should rate the extent to which the pair of traits applies to hdf, even if one characteristic applies more strongly than the other.\n",
        "\n",
        "1 = Disagree strongly\n",
        "2 = Disagree moderately\n",
        "3 = Disagree a little\n",
        "4 = Neither agree nor disagree\n",
        "5 = Agree a little\n",
        "6 = Agree moderately\n",
        "7 = Agree strongly\n",
        "\"\"\"\n",
        "\n",
        "context_personality_BB = \"\"\"\n",
        "Joe is nervous to do the public speaking when he feels less supported. He presents more cautious and organized. His performance is more reserved.\n",
        "\n",
        "In State B, Joe is less popular, where his opponents are supported. Joe is to give a public speech at State B, where the crowd razzes and boos at his presence. \n",
        "\n",
        "Here are a number of personality traits that may or may not apply to Alice. Please write a number next to each statement to indicate the extent to which Alice agree or disagree with that statement. Alice should rate the extent to which the pair of traits applies to hdf, even if one characteristic applies more strongly than the other.\n",
        "\n",
        "1 = Disagree strongly\n",
        "2 = Disagree moderately\n",
        "3 = Disagree a little\n",
        "4 = Neither agree nor disagree\n",
        "5 = Agree a little\n",
        "6 = Agree moderately\n",
        "7 = Agree strongly\n",
        "\"\"\"\n",
        "\n",
        "quiz_metric = qm.QuizMetric(model, \"Joe Biden\", clock, \"./custom_components/personality/biden_questions.json\", measurements=measurements, verbose=True)\n",
        "quiz_metric.observe(context)\n"
      ]
    }
  ],
  "metadata": {
    "colab": {
      "last_runtime": {
        "build_target": "",
        "kind": "private"
      },
      "private_outputs": true,
      "provenance": []
    },
    "kernelspec": {
      "display_name": "Python 3",
      "name": "python3"
    },
    "language_info": {
      "codemirror_mode": {
        "name": "ipython",
        "version": 3
      },
      "file_extension": ".py",
      "mimetype": "text/x-python",
      "name": "python",
      "nbconvert_exporter": "python",
      "pygments_lexer": "ipython3",
      "version": "3.11.1"
    }
  },
  "nbformat": 4,
  "nbformat_minor": 0
}
