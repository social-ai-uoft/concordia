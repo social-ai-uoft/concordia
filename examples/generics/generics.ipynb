{
 "cells": [
  {
   "cell_type": "markdown",
   "metadata": {},
   "source": [
    "### Imports"
   ]
  },
  {
   "cell_type": "code",
   "execution_count": 1,
   "metadata": {},
   "outputs": [],
   "source": [
    "# Fix imports\n",
    "import sys\n",
    "import os\n",
    "path = os.path.abspath('../..')\n",
    "if path not in sys.path:\n",
    "  sys.path.insert(0, path)"
   ]
  },
  {
   "cell_type": "code",
   "execution_count": 2,
   "metadata": {},
   "outputs": [],
   "source": [
    "import collections\n",
    "import concurrent.futures\n",
    "import datetime\n",
    "import json\n",
    "import termcolor\n",
    "\n",
    "import numpy as np\n",
    "\n",
    "from IPython import display\n",
    "\n",
    "from concordia.agents import basic_agent\n",
    "from concordia.components import agent as components\n",
    "from concordia import components as generic_components\n",
    "from concordia.associative_memory import associative_memory\n",
    "from concordia.associative_memory import blank_memories\n",
    "from concordia.associative_memory import formative_memories\n",
    "from concordia.associative_memory import importance_function\n",
    "from concordia.clocks import game_clock\n",
    "from concordia.components import game_master as gm_components\n",
    "from concordia.environment import game_master\n",
    "from concordia.metrics import goal_achievement\n",
    "from concordia.metrics import common_sense_morality\n",
    "from concordia.metrics import opinion_of_others\n",
    "from concordia.utils import html as html_lib\n",
    "from concordia.utils import measurements as measurements_lib\n",
    "from concordia.utils import plotting"
   ]
  },
  {
   "cell_type": "markdown",
   "metadata": {},
   "source": [
    "### Setup"
   ]
  },
  {
   "cell_type": "code",
   "execution_count": 3,
   "metadata": {},
   "outputs": [],
   "source": [
    "# Setup LLM\n",
    "from concordia.language_model import ollama_model\n",
    "model = ollama_model.OllamaLanguageModel(\n",
    "    model_name='llama2:13b'\n",
    "    # streaming=True\n",
    ")\n",
    "\n",
    "# Setup measurements and clock\n",
    "measurements = measurements_lib.Measurements()\n",
    "time_step = datetime.timedelta(minutes=20)\n",
    "SETUP_TIME = datetime.datetime(hour=20, year=2024, month=10, day=1)\n",
    "\n",
    "START_TIME = datetime.datetime(hour=18, year=2024, month=10, day=2)\n",
    "clock = game_clock.MultiIntervalClock(\n",
    "    start=SETUP_TIME,\n",
    "    step_sizes=[time_step, datetime.timedelta(seconds=10)])\n",
    "\n",
    "# Setup sentence encoder\n",
    "from sentence_transformers import SentenceTransformer\n",
    "st5_model = SentenceTransformer('sentence-transformers/sentence-t5-base')\n",
    "embedder = st5_model.encode\n",
    "\n",
    "# Importance model\n",
    "importance_model = importance_function.ConstantImportanceModel()\n",
    "\n",
    "# Build memory\n",
    "blank_memory_factory = blank_memories.MemoryFactory(\n",
    "  model=model,\n",
    "  embedder=embedder,\n",
    "  importance=importance_model.importance,\n",
    "  clock_now=clock.now\n",
    ")\n",
    "\n",
    "memory = blank_memory_factory.make_blank_memory()"
   ]
  },
  {
   "cell_type": "code",
   "execution_count": 4,
   "metadata": {},
   "outputs": [
    {
     "data": {
      "application/vnd.jupyter.widget-view+json": {
       "model_id": "83b6c8936c434e4e895d5c91c70df405",
       "version_major": 2,
       "version_minor": 0
      },
      "text/plain": [
       "Batches:   0%|          | 0/1 [00:00<?, ?it/s]"
      ]
     },
     "metadata": {},
     "output_type": "display_data"
    }
   ],
   "source": [
    "from examples.custom_components.categories import CategoryConcept, sample_statements\n",
    "\n",
    "\n",
    "# Set configuration for agent and experiment configuration.\n",
    "agent_config = {\n",
    "  'name': 'Alice',\n",
    "  'gender': 'female',\n",
    "}\n",
    "experiment_config = {\n",
    "  'condition': 'generic'\n",
    "}\n",
    "with open('generic_statements.json', 'r') as file:\n",
    "  experiment = json.load(file)\n",
    "\n",
    "with open('generic_questions.json', 'r') as file:\n",
    "  questions = json.load(file)\n",
    "\n",
    "# Develop context\n",
    "context = (\n",
    "  f'This is an interaction between two characters, {agent_config[\"name\"]} and '\n",
    "  f'a psychology researcher who is conducting an experiment. {agent_config[\"name\"]} '\n",
    "  f'will be asked a series of questions during the experiment, and will give '\n",
    "  f'an answer to the question according to what {\"she\" if agent_config[\"gender\"] == \"female\" else \"he\"} '\n",
    "  f'believes is the correct answer to the question. '\n",
    "  f'\\n'\n",
    "  f'The experimenter begins the experiment by telling {agent_config[\"name\"]}, '\n",
    "  f'\"I would like to tell you something today about animals named Zarpies. Zarpies '\n",
    "  f'are an animal that lives on an alien planet. Look, this is a Zarpie right here.\"'\n",
    "  f'\\n'\n",
    "  f'\\n'\n",
    "  f'The experimenter shows {agent_config[\"name\"]} a picture of a Zarpie, then continues. '\n",
    "  f'\"Now, I am going to tell you a few things that are true about '\n",
    "  f'{experiment[experiment_config[\"condition\"]][\"intro\"]}:'\n",
    "  f'\\n'\n",
    "  f'\\n'\n",
    "  f'{sample_statements(condition=experiment_config[\"condition\"], experiment=experiment, num_statements=5)}'\n",
    "  f'\\n'\n",
    "  f'\\n'\n",
    "  f'Next, the experimenter presents {agent_config[\"name\"]} with several multiple-choice questions. '\n",
    "  f'{agent_config[\"name\"]} will choose the answer corresponding to what {\"she\" if agent_config[\"gender\"] == \"female\" else \"he\"} '\n",
    "  f'believes is the correct answer, beginning {\"her\" if agent_config[\"gender\"] == \"female\" else \"his\"} '\n",
    "  f'answer with a single choice. If {agent_config[\"name\"]} does not know the answer, '\n",
    "  f'{\"she\" if agent_config[\"gender\"] == \"female\" else \"he\"} will still guess and '\n",
    "  f'will still guess and begin the answer with a single choice.'\n",
    "  f'\\n'\n",
    "  f'\\n'\n",
    ")\n",
    "\n",
    "# Add the memory and advance the clock\n",
    "memory.add(\n",
    "  text=context,\n",
    "  timestamp=clock.now\n",
    ")\n",
    "\n",
    "# Build the agent and its components with the memory\n",
    "categories = CategoryConcept(\n",
    "  name=\"category_concept\",\n",
    "  model=model,\n",
    "  memory=memory,\n",
    "  agent_name=agent_config[\"name\"],\n",
    "  mem_num=1,\n",
    "  question_bank=questions,\n",
    "  verbose=True\n",
    ")\n",
    "\n",
    "agent = basic_agent.BasicAgent(\n",
    "  model=model,\n",
    "  memory=memory,\n",
    "  agent_name=agent_config[\"name\"],\n",
    "  clock=clock,\n",
    "  components=[categories],\n",
    "  num_memories_retrieved=1,\n",
    "  verbose=True\n",
    ")\n",
    "\n",
    "# Advance the clock\n",
    "clock.advance()"
   ]
  },
  {
   "cell_type": "code",
   "execution_count": 5,
   "metadata": {},
   "outputs": [
    {
     "name": "stdout",
     "output_type": "stream",
     "text": [
      "\u001b[31mThis is an interaction between two characters, Alice and a psychology researcher who is conducting an experiment. Alice will be asked a series of questions during the experiment, and will give an answer to the question according to what she believes is the correct answer to the question. \n",
      "The experimenter begins the experiment by telling Alice, \"I would like to tell you something today about animals named Zarpies. Zarpies are an animal that lives on an alien planet. Look, this is a Zarpie right here.\"\n",
      "\n",
      "The experimenter shows Alice a picture of a Zarpie, then continues. \"Now, I am going to tell you a few things that are true about Zarpies:\n",
      "\n",
      "* Zarpies have a star behind their horns.\n",
      "* Zarpies hate walking in snow.\n",
      "* Zarpies stand on their back legs when they are surprised.\n",
      "* Zarpies have stripes on the bottom of their feet.\n",
      "* Zarpies are scared of ladybugs.\n",
      "\n",
      "Next, the experimenter presents Alice with several multiple-choice questions. Alice will choose the answer corresponding to what she believes is the correct answer, beginning her answer with a single choice. If Alice does not know the answer, she will still guess and will still guess and begin the answer with a single choice.\n",
      "\n",
      "\u001b[0m\u001b[34mQuestion: Here is a new Zarpie. This Zarpie sleeps in tall trees. Do you think this Zarpie sleeps in tall trees because:\n",
      "Answer: It learned to sleep in tall trees from other Zarpies.\u001b[0m\n",
      "\u001b[34mQuestion: Here is a new Zarpie. This Zarpie sleeps in tall trees. How many other Zarpies also sleep in tall trees?\n",
      "Answer: A few other Zarpies also sleep in tall trees.\u001b[0m\n",
      "\u001b[34mQuestion: Here is a new Zarpie. When this Zarpie was born, it went to go live with a dog mom instead of its Zarpie mom. It has spent its whole life around dogs, and it has never known another Zarpie. When this Zarpie grows up, do you think it will sleep in tall trees, like the Zarpie mom, or sleep in a dog bed, like the dog mom?\n",
      "Answer: Sleep in a dog bed, like the dog mom.\u001b[0m\n"
     ]
    }
   ],
   "source": [
    "print(termcolor.colored(context, 'red'), end = '')\n",
    "\n",
    "agent.observe(context)"
   ]
  }
 ],
 "metadata": {
  "kernelspec": {
   "display_name": "Python 3",
   "language": "python",
   "name": "python3"
  },
  "language_info": {
   "codemirror_mode": {
    "name": "ipython",
    "version": 3
   },
   "file_extension": ".py",
   "mimetype": "text/x-python",
   "name": "python",
   "nbconvert_exporter": "python",
   "pygments_lexer": "ipython3",
   "version": "3.10.13"
  }
 },
 "nbformat": 4,
 "nbformat_minor": 2
}
