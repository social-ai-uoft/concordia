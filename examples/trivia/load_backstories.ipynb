{
 "cells": [
  {
   "cell_type": "code",
   "execution_count": 1,
   "metadata": {},
   "outputs": [],
   "source": [
    "import pandas as pd"
   ]
  },
  {
   "cell_type": "code",
   "execution_count": 13,
   "metadata": {},
   "outputs": [],
   "source": [
    "df = pd.read_excel('./quizzes/stereotypes_output.xlsx', index_col=0)"
   ]
  },
  {
   "cell_type": "code",
   "execution_count": 42,
   "metadata": {},
   "outputs": [
    {
     "data": {
      "text/plain": [
       "taylor 1        Taylor is a highly driven individual with a p...\n",
       "taylor 2        Taylor is a character who excels in their car...\n",
       "taylor 3        Taylor is a character who excels in their car...\n",
       "taylor 4        Taylor is a dedicated professional in a high-...\n",
       "taylor 5        Taylor is a dedicated professional who excels...\n",
       "taylor nb 1     Taylor is a highly skilled technician at a re...\n",
       "taylor nb 2     Taylor is a highly skilled mechanic who works...\n",
       "taylor nb 3     Taylor is a skilled mechanic, working in a bu...\n",
       "taylor nb 4     Taylor is a skilled mechanic, working in a bu...\n",
       "taylor nb 5     Taylor is a highly skilled mechanic, working ...\n",
       "alice 1         Here's the text with all pronouns referring t...\n",
       "alice 2         Here's the text with all pronouns referring t...\n",
       "alice 3         Alice is a dedicated professional in a demand...\n",
       "alice 4         Here's the text with all the pronouns referri...\n",
       "alice 5         She, whose name is Alice, is a dedicated prof...\n",
       "bob 1           He is a dedicated individual who excels in hi...\n",
       "bob 2           He, named Bob, is a dedicated individual who ...\n",
       "bob 3           He, referred to as Bob, is a dedicated indivi...\n",
       "bob 4           He is a dedicated individual who excels in hi...\n",
       "bob 5           Here is the text with all pronouns referring ...\n",
       "Name: backstory, dtype: object"
      ]
     },
     "execution_count": 42,
     "metadata": {},
     "output_type": "execute_result"
    }
   ],
   "source": [
    "\n"
   ]
  },
  {
   "cell_type": "code",
   "execution_count": null,
   "metadata": {},
   "outputs": [],
   "source": []
  }
 ],
 "metadata": {
  "kernelspec": {
   "display_name": "concordia",
   "language": "python",
   "name": "python3"
  },
  "language_info": {
   "codemirror_mode": {
    "name": "ipython",
    "version": 3
   },
   "file_extension": ".py",
   "mimetype": "text/x-python",
   "name": "python",
   "nbconvert_exporter": "python",
   "pygments_lexer": "ipython3",
   "version": "3.11.5"
  }
 },
 "nbformat": 4,
 "nbformat_minor": 2
}
