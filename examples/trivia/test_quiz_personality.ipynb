{
 "cells": [
  {
   "cell_type": "code",
   "execution_count": 1,
   "metadata": {},
   "outputs": [],
   "source": [
    "# Logging\n",
    "import logging\n",
    "logging.basicConfig(level=logging.ERROR, filename='test_quiz.log')\n",
    "logger = logging.getLogger('ollama')"
   ]
  },
  {
   "cell_type": "code",
   "execution_count": 2,
   "metadata": {},
   "outputs": [
    {
     "name": "stderr",
     "output_type": "stream",
     "text": [
      "/Users/socialai/.pyenv/versions/3.11.1/lib/python3.11/site-packages/tqdm/auto.py:21: TqdmWarning: IProgress not found. Please update jupyter and ipywidgets. See https://ipywidgets.readthedocs.io/en/stable/user_install.html\n",
      "  from .autonotebook import tqdm as notebook_tqdm\n"
     ]
    }
   ],
   "source": [
    "# Setup sentence encoder\n",
    "from sentence_transformers import SentenceTransformer\n",
    "st5_model = SentenceTransformer('sentence-transformers/sentence-t5-base')\n",
    "embedder = st5_model.encode"
   ]
  },
  {
   "cell_type": "code",
   "execution_count": 3,
   "metadata": {},
   "outputs": [],
   "source": [
    "# Set up LLM\n",
    "import sys\n",
    "import os\n",
    "path = os.path.abspath('../..')\n",
    "if path not in sys.path:\n",
    "    sys.path.insert(0, path)\n",
    "path = os.path.abspath('..')\n",
    "if path not in sys.path:\n",
    "    sys.path.insert(0, path)\n",
    "\n",
    "from concordia.language_model import ollama_model\n",
    "model = ollama_model.OllamaLanguageModel(\n",
    "    # model_name='llama2:13b'\n",
    "    model_name='mixtral'\n",
    ")"
   ]
  },
  {
   "cell_type": "code",
   "execution_count": 4,
   "metadata": {},
   "outputs": [
    {
     "name": "stderr",
     "output_type": "stream",
     "text": [
      "/Users/socialai/.pyenv/versions/3.11.1/lib/python3.11/site-packages/langchain_core/_api/deprecation.py:117: LangChainDeprecationWarning: The function `__call__` was deprecated in LangChain 0.1.7 and will be removed in 0.2.0. Use invoke instead.\n",
      "  warn_deprecated(\n"
     ]
    },
    {
     "name": "stdout",
     "output_type": "stream",
     "text": [
      "Sample:  Based on the personality traits given for Emily, I would choose (c) \"Disagree strongly\" for the statement \"You see yourself as 'Extraverted, enthusiastic'\". This is because Emily has a somewhat low level of extraversion and may prefer spending time alone or in small groups, finding large social gatherings draining. Additionally, there is no mention of Emily being enthusiastic in the given description.\n",
      "Question: Given the following options, please choose the letter that corresponds with your rating of how much you agree with the statement that you see yourself as 'Extraverted, enthusiastic'\n",
      "Emily's answer: (0) Disagree strongly\n",
      "\n",
      "Sample:  Based on the personality traits you've described for Emily, I would choose (d) \"Agree somewhat\" for the statement \"You see yourself as 'Critical, quarrelsome'\". Emily's very low level of agreeableness and high neuroticism could make her more prone to criticizing others and engaging in arguments, especially if she is feeling anxious or worried. However, since we don't have specific information about Emily's behavior or self-perception regarding this trait, I chose \"Agree somewhat\" as a moderate response.\n",
      "Question: Given the following options, please choose the letter that corresponds with your rating of how much you agree with the statement that you see yourself as 'Critical, quarrelsome'\n",
      "Emily's answer: (5) Agree somewhat\n",
      "\n",
      "Sample:  Based on Emily's personality traits as described, I would choose the option (e) \"Disagree a little\" for the statement \"You see yourself as 'Dependable, self-disciplined'.\" This is because Emily has a very low level of conscientiousness, which suggests that she may struggle with organization, planning, and following through on commitments. While it is possible that Emily could still be dependable in certain areas of her life, the trait of self-discipline may not come as naturally to her as it does for some other people.\n",
      "Question: Given the following options, please choose the letter that corresponds with your rating of how much you agree with the statement that you see yourself as 'Dependable, self-disciplined'\n",
      "Emily's answer: (2) Disagree a little\n",
      "\n",
      "Sample:  Based on the personality traits you've described for Emily, I would choose (d) \"Agree somewhat\" for the statement \"You see yourself as 'Anxious, easily upset'.\" This is because Emily has a very high level of neuroticism, which suggests that she experiences negative emotions such as anxiety and worry more intensely than the average person. While I don't have direct knowledge of Emily's subjective experience, this trait suggests that she may identify with being anxious or easily upset to some extent.\n",
      "Question: Given the following options, please choose the letter that corresponds with your rating of how much you agree with the statement that you see yourself as 'Anxious, easily upset'\n",
      "Emily's answer: (5) Agree somewhat\n",
      "\n",
      "Sample:  Based on the description of Emily's personality traits, it seems that she has a medium level of openness, which suggests that she enjoys new experiences and ideas but may not seek them out as eagerly as someone with a higher level of openness. Therefore, I would choose the option (d) \"Agree somewhat\" for the statement \"You see yourself as 'Open to new experiences, complex'\". This response indicates that Emily is open to new experiences to some degree, but it may not be one of her strongest personality traits.\n",
      "Question: Given the following options, please choose the letter that corresponds with your rating of how much you agree with the statement that you see yourself as 'Open to new experiences, complex'\n",
      "Emily's answer: (5) Agree somewhat\n",
      "\n",
      "Sample:  Based on Emily's personality traits described earlier, it is likely that she would agree with the statement 'Reserved, quiet'. Therefore, I would choose option (b) 'Agree strongly'.\n",
      "Question: Given the following options, please choose the letter that corresponds with your rating of how much you agree with the statement that you see yourself as 'Reserved, quiet'\n",
      "Emily's answer: (6) Agree strongly\n",
      "\n",
      "Sample:  Based on Emily's personality traits as described, I would choose (d) \"Disagree a little\" for the statement \"You see yourself as 'Sympathetic, warm'.\" The description of Emily's low level of agreeableness suggests that she may prioritize her own needs and desires over those of others and struggle to empathize with or understand different perspectives, which could make it challenging for her to come across as sympathetic or warm. However, the description also notes that Emily has a rich inner life and is imaginative, so it's possible that she has the capacity to be sympathetic and warm in certain situations or with certain people.\n",
      "Question: Given the following options, please choose the letter that corresponds with your rating of how much you agree with the statement that you see yourself as 'Sympathetic, warm'\n",
      "Emily's answer: (2) Disagree a little\n",
      "\n",
      "Sample:  Based on Emily's personality traits, particularly her very low level of conscientiousness, it is likely that she would agree with the statement \"I see myself as disorganized and careless.\" Therefore, I would choose option (b) \"Agree a little\" for Emily. However, without Emily's input, this is just an educated guess based on her personality traits.\n",
      "Question: Given the following options, please choose the letter that corresponds with your rating of how much you agree with the statement that you see yourself as 'Disorganized, careless'\n",
      "Emily's answer: (4) Agree a little\n",
      "\n",
      "Sample:  Based on the personality traits you've described for Emily, I would choose (d) \"Disagree a little\" for the statement \"You see yourself as 'Calm, emotionally stable'.\" This is because Emily has a very high level of neuroticism, which suggests that she experiences negative emotions more intensely than the average person and may struggle with emotional regulation. However, I also chose \"Disagree a little\" instead of a stronger disagreement because you mentioned that Emily has a rich inner life and can be dynamic, which might suggest some capacity for emotional stability despite her neuroticism.\n",
      "Question: Given the following options, please choose the letter that corresponds with your rating of how much you agree with the statement that you see yourself as 'Calm, emotionally stable'\n",
      "Emily's answer: (2) Disagree a little\n",
      "\n",
      "Sample:  Based on the description provided, it seems unlikely that Emily would identify as 'Conventional, uncreative'. Emily is described as having a rich inner life and enjoying new experiences and ideas, which suggests that she has a creative mindset. Therefore, I would recommend selecting either 'Disagree a little' (c) or 'Disagree strongly' (d). However, without more information about Emily's self-perception, it is difficult to provide a definitive answer.\n",
      "Question: Given the following options, please choose the letter that corresponds with your rating of how much you agree with the statement that you see yourself as 'Conventional, uncreative'\n",
      "Emily's answer: (2) Disagree a little\n",
      "\n",
      "Conscientiousness Score: 4.5\n",
      "Agreeableness Score: 4.0\n",
      "Emotional Stability Score: 4.0\n",
      "Openness to Experience Score: 8.5\n",
      "Extraversion Score: 1.5\n"
     ]
    }
   ],
   "source": [
    "import custom_components.build_quiz_agents as build_agents\n",
    "from concordia.utils import measurements as measurements_lib\n",
    "measurements = measurements_lib.Measurements()\n",
    "import examples.custom_components.personality_quiz_metric as qm\n",
    "\n",
    "scenario = 'personality'\n",
    "year = 2024\n",
    "\n",
    "clock = build_agents.build_clock(2024)\n",
    "agent = build_agents.QuizAgent.load_agent(model, clock, f'./agents/{year}/{scenario}/0.pkl')\n",
    "\n",
    "if scenario == 'personality':\n",
    "    test_context = (\n",
    "        '\\n'\n",
    "        f'{agent.name} is taking a personality quiz just for fun.'\n",
    "        f'Here are a number of personality traits that may or may not apply to {agent.name}. '\n",
    "        f'Please indicate the extent to which {agent.name} would agree or disagree with that statement. '\n",
    "        f'{agent.name} should rate the extent to which the pair of traits applies to '\n",
    "        f'{\"her\" if agent.gender == \"female\" else \"him\"}, even if one characteristic applies more strongly than the other.'\n",
    "        '\\n'\n",
    "    )\n",
    "    file_path = './quizzes/big_five_questions.json'\n",
    "if scenario == 'trivia':\n",
    "    test_context = (\n",
    "        '\\n'\n",
    "        f\"{agent.name} is taking a pop culture trivia quiz just for fun.\"\n",
    "        f\"If {agent.name} doesn't know the answer, {'she' if agent.gender == 'female' else 'he'} will still guess \"\n",
    "        f\"and begin {'her' if agent.gender == 'female' else 'his'} answer with a single choice, including the letter \"\n",
    "        f\"indicating the choice. How would {agent.name} answer the following question?\"\n",
    "        '\\n'\n",
    "    )\n",
    "    file_path = './quizzes/trivia_questions.json'\n",
    "if scenario == \"mcat\":\n",
    "    test_context = (\n",
    "        '\\n'\n",
    "        f\"{agent.name} is taking an MCAT preparatory quiz just for fun.\"\n",
    "        f\"If {agent.name} doesn't know the answer, {'she' if agent.gender == 'female' else 'he'} will still guess \"\n",
    "        f\"and begin {'her' if agent.gender == 'female' else 'his'} answer with a single choice, including the letter \"\n",
    "        f\"indicating the choice. How would {agent.name} answer the following question?\"\n",
    "        '\\n'\n",
    "    )\n",
    "    file_path = './quizzes/mcat_questions.json'\n",
    "\n",
    "context = agent.backstory + test_context\n",
    "\n",
    "quiz_metric = qm.QuizMetric(model, agent, file_path, measurements = measurements, verbose = True)\n",
    "results = quiz_metric.observe(context, return_data=True)\n"
   ]
  }
 ],
 "metadata": {
  "kernelspec": {
   "display_name": "Python 3",
   "language": "python",
   "name": "python3"
  },
  "language_info": {
   "codemirror_mode": {
    "name": "ipython",
    "version": 3
   },
   "file_extension": ".py",
   "mimetype": "text/x-python",
   "name": "python",
   "nbconvert_exporter": "python",
   "pygments_lexer": "ipython3",
   "version": "3.11.1"
  }
 },
 "nbformat": 4,
 "nbformat_minor": 2
}
