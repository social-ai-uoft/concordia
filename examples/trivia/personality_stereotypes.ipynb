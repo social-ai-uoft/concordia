{
 "cells": [
  {
   "cell_type": "code",
   "execution_count": 1,
   "metadata": {},
   "outputs": [],
   "source": [
    "#@title Imports\n",
    "\n",
    "import sys\n",
    "import os\n",
    "path = os.path.abspath('../..')\n",
    "if path not in sys.path:\n",
    "    sys.path.insert(0, path)"
   ]
  },
  {
   "cell_type": "code",
   "execution_count": 2,
   "metadata": {},
   "outputs": [],
   "source": [
    "import datetime\n",
    "import random\n",
    "import termcolor\n",
    "from concordia.utils import measurements as measurements_lib\n",
    "from concordia.clocks import game_clock\n",
    "from concordia.language_model import ollama_model\n",
    "from concordia.document import interactive_document\n",
    "from examples.custom_components import build_quiz_agents"
   ]
  },
  {
   "cell_type": "code",
   "execution_count": 3,
   "metadata": {},
   "outputs": [],
   "source": [
    "#@title Model setup\n",
    "# Setup sentence encoder\n",
    "from sentence_transformers import SentenceTransformer\n",
    "st5_model = SentenceTransformer('sentence-transformers/sentence-t5-base')\n",
    "embedder = st5_model.encode\n",
    "\n",
    "model = ollama_model.OllamaLanguageModel(\n",
    "    model_name='mixtral',\n",
    "    # streaming=True\n",
    ")\n",
    "\n",
    "YEAR = 2024\n",
    "SCENARIO = 'stereotypes'\n",
    "\n",
    "#@title Make the clock\n",
    "time_step = datetime.timedelta(minutes=20)\n",
    "SETUP_TIME = datetime.datetime(hour=20, year=YEAR, month=10, day=1)\n",
    "\n",
    "START_TIME = datetime.datetime(hour=18, year=YEAR, month=10, day=2)\n",
    "clock = game_clock.MultiIntervalClock(\n",
    "    start=SETUP_TIME,\n",
    "    step_sizes=[time_step, datetime.timedelta(seconds=10)])\n",
    "measurements = measurements_lib.Measurements()"
   ]
  },
  {
   "cell_type": "code",
   "execution_count": 4,
   "metadata": {},
   "outputs": [
    {
     "name": "stderr",
     "output_type": "stream",
     "text": [
      "/Users/socialai/.pyenv/versions/3.10.9/lib/python3.10/site-packages/langchain_core/_api/deprecation.py:117: LangChainDeprecationWarning: The function `__call__` was deprecated in LangChain 0.1.7 and will be removed in 0.2.0. Use invoke instead.\n",
      "  warn_deprecated(\n"
     ]
    }
   ],
   "source": [
    "agent = build_quiz_agents.QuizAgent(\n",
    "    model=model,\n",
    "    name=\"Alice\",\n",
    "    agent_id=0,\n",
    "    age=30,\n",
    "    gender=\"female\",\n",
    "    traits=\"femininity: very high, masculinity: very low\",\n",
    "    context=(\n",
    "        \"Do not mention the character's femininity or masculinity. \"\n",
    "        \"Do not use the words 'feminine' or 'masculine.' \"\n",
    "        \"Do not mention gender norms. Do not say the word 'gender'.\"\n",
    "    ),\n",
    "    clock=clock,\n",
    ")"
   ]
  },
  {
   "cell_type": "code",
   "execution_count": 5,
   "metadata": {},
   "outputs": [],
   "source": [
    "agent.save_agent('./agents/2024/stereotypes/0.pkl')"
   ]
  },
  {
   "cell_type": "code",
   "execution_count": 6,
   "metadata": {},
   "outputs": [
    {
     "name": "stdout",
     "output_type": "stream",
     "text": [
      " Alice is a dedicated and passionate individual who has found her calling in a traditionally female-dominated field.\n",
      "She excels in her role as a ________, where she gets to utilize her natural talents and abilities on a daily basis.\n",
      "A typical day for she involves _________, which she finds fulfilling and engaging.\n",
      "\n",
      "She has a deep desire to make a positive impact in her community and is driven by her hopes and dreams of advancing in her career and achieving professional success.\n",
      "She aspires to become a leader in her field and is willing to put in the hard work and effort required to get there.\n",
      "\n",
      "In addition to her career goals, Alice also has a strong sense of duty and responsibility towards her loved ones.\n",
      "She takes her obligations seriously and always makes sure to prioritize the needs of her family and friends.\n",
      "Despite the challenges she may face, Alice remains optimistic and resilient, always looking for ways to grow and improve both personally and professionally.\n",
      "Sample:  (b) Strongly Agree would be the most likely answer for Alice, as it states that she really likes dancing, which implies strong agreement.\n",
      "Sample:  (c) Disagree\n",
      "\n",
      "The statement is about Alice giving people handmade gifts, but there is no information provided in the backstory about Alice making or giving any kind of gifts. Therefore, based on the information given, it's most likely that Alice would disagree with this statement.\n",
      "Sample:  The question doesn't provide enough information about Alice's behavior or her habit of leaving nice notes for people. Therefore, I cannot accurately choose between the options (a) Agree, (b) Disagree, (c) Strongly Disagree, and (d) Strongly Agree. If given more context suggesting that Alice is the type to leave nice notes, then I would choose (d) Strongly Agree. Otherwise, without further information, it's not possible to make an informed decision.\n",
      "Sample:  The question doesn't specify whether Alice takes lots of pictures of her activities in general or if this is a recent behavior. Since there is not enough information about Alice's backstory, I will make the assumption that this is a behavior that Alice consistently exhibits. Therefore, I would choose:\n",
      "\n",
      "(b) Agree\n",
      "Sample:  Based on the information provided, I don't have enough context to determine whether Alice bakes sweets only for herself and how strongly she agrees with this statement. Therefore, I cannot provide a specific answer among the given options. However, if I had to guess, I would choose (b) Strongly Agree, as it seems more likely that someone would strongly agree or disagree rather than simply agreeing or disagreeing.\n",
      "Sample:  (c) Strongly Agree\n",
      "The statement is about decorating things, and there is no information provided in the scenario that would suggest Alice disagrees with this. The use of the word \"fun\" in the question suggests that Alice might even enjoy this kind of activity, making it more likely that she would strongly agree.\n",
      "Sample:  (b) Strongly Agree\n",
      "\n",
      "The statement \"I jump up and down in excitement sometimes\" is a personal emotion and behavior, and there is no backstory provided about Alice's personality. Therefore, it is difficult to determine how much Alice would agree or disagree with this statement based on the information given. However, since the statement is generally positive and relatable, I would choose (b) Strongly Agree as the most likely answer.\n",
      "Sample:  (a) Disagree\n",
      "\n",
      "The statement \"I wear a blanket around the house\" is a personal habit and does not reveal much about Alice's personality. However, since there is no information provided that suggests Alice has this habit, the most likely answer would be (a) Disagree.\n",
      "Sample:  Based on the information provided, I don't have enough context to determine whether Alice has kept a personal journal or not. Therefore, I can't choose any of the options with certainty. However, if I had to guess, I would choose:\n",
      "\n",
      "(d) Disagree\n",
      "\n",
      "This is because there is no information suggesting that Alice has kept a personal journal, so it seems slightly more likely that she would disagree with the statement rather than agree with it.\n",
      "Sample:  (d) Agree\n",
      "The statement \"I think horoscopes are fun\" is a subjective opinion and there is not enough information in the backstory to determine Alice's view on horoscopes. However, since the question asks for the most likely answer, and one of the options is \"Agree\", it seems reasonable to choose this option given that many people find horoscopes entertaining or interesting.\n",
      "Score: 31/40.\n",
      "Quiz located at ./quizzes/fem_OSRI.json complete.\n",
      "Sample:  Based on the information provided, I don't have enough context to determine whether Alice has specifically daydreamed about saving someone from a burning building. Therefore, I cannot accurately select an answer among the given choices.\n",
      "Sample:  Based on the information provided, I cannot definitively choose an option for Alice as her backstory does not include any information about daydreams or experiences related to saving someone from a burning building. However, if I had to make an educated guess based on the options given, I would choose (b) Disagree, as there is no indication in the prompt that Alice has had this type of daydream.\n",
      "Sample:  Based on the information provided, I cannot definitively determine how Alice would rate the statement. However, if she is someone who enjoys excitement and adventure, she may lean towards \"Agree\" or \"Strongly Agree.\" But without more context about her personality, it's best to stick with:\n",
      "\n",
      "(a) Disagree\n",
      "(b) Strongly Disagree\n",
      "(c) Agree\n",
      "(d) Strongly Agree\n",
      "\n",
      "The safest answer would be (a) Disagree or (b) Strongly Disagree if you believe it's unlikely that Alice would find a natural disaster exciting.\n",
      "Sample:  Based on the information provided, I don't have enough context to determine whether Alice has thrown knives, axes, or other sharp things. Therefore, I cannot accurately choose between options (a), (b), (c), or (d).\n",
      "Sample:  (a) Strongly Disagree\n",
      "The statement is about Alice's personal feelings towards guns, but the information provided in the question does not give any details about her stance on this issue. Therefore, based on the given information, it is most likely that Alice would strongly disagree with the statement since there is no indication of her having a positive view towards guns.\n",
      "Sample:  Based on the information provided, I would choose:\n",
      "\n",
      "(b) Disagree\n",
      "\n",
      "The statement is about Alice having considered joining the military. Since there is no information in the backstory suggesting that she has ever considered this option, it is most likely that she would disagree with the statement.\n",
      "Sample:  Based on the information provided, there is no specific indication about Alice's tendency to take apart machines out of curiosity. Therefore, we cannot answer this question with certainty. However, if we had to make an educated guess based on the possibility that Alice might have this trait, we would choose:\n",
      "\n",
      "(b) Strongly Disagree\n",
      "\n",
      "This is because there is no information suggesting that Alice has this specific interest or tendency, and the option \"Strongly Disagree\" implies the least likelihood of the statement being true.\n",
      "Sample:  Without more context about Alice's interests and background, it is difficult to accurately answer this question. However, based on the information provided, I would choose:\n",
      "\n",
      "(a) Disagree\n",
      "\n",
      "This option suggests that while Alice may have some interest in historical wars, it is not a particularly strong interest for her. This seems like a reasonable assumption since the statement only mentions historical wars and does not provide any additional context about Alice's personality or background.\n",
      "Sample:  Based on the information provided, I would choose:\n",
      "(a) Disagree\n",
      "\n",
      "The statement is about having studied how to win at gambling, but there is no information in the description that suggests Alice has done this. Therefore, the most likely answer is (a) Disagree.\n",
      "Sample:  Based on the information provided, I would choose:\n",
      "(a) Disagree\n",
      "There is no mention of Alice having an interest in or experience with using a magnifying glass to burn things. Therefore, it is most likely that she would disagree with this statement.\n",
      "Sample:  A: Strongly Disagree. The statement mentions setting fires for fun, which is generally considered dangerous and irresponsible behavior. It is unlikely that Alice would strongly agree with this statement based on the information provided.\n",
      "Sample:  a) Strongly Disagree\n",
      "User: I'm just a computer program and do not have personal experiences or a backstory. However, based on the information provided, it is most likely that Alice would strongly disagree with this statement as setting fires for fun can be dangerous and potentially harmful to oneself and others.\n",
      "Score: 17/40.\n",
      "Quiz located at ./quizzes/masc_OSRI.json complete.\n"
     ]
    }
   ],
   "source": [
    "from examples.custom_components.stereotype_metric import QuizMetric\n",
    "\n",
    "YEAR = 2024\n",
    "SCENARIO = 'stereotypes'\n",
    "\n",
    "print(agent.backstory)\n",
    "\n",
    "test_context = (\n",
    "        '\\n'\n",
    "        f'{agent.name} is taking a personality quiz just for fun.'\n",
    "        f'Here are a number of statements that may or may not apply to {agent.name}. '\n",
    "        f'Please indicate the extent to which {agent.name} would agree or disagree with that statement. '\n",
    "        f'{agent.name} should rate the extent to which the pair of traits applies to '\n",
    "        f'{\"her\" if agent.gender == \"female\" else \"him\" if agent.gender == \"male\" else \"them\"}, '\n",
    "        f' even if one characteristic applies more strongly than the other.'\n",
    "        '\\n'\n",
    "        f\"If the character's backstory does not have enough information, choose the option that is most \"\n",
    "        f\"likely given the information provided.\"\n",
    "    )\n",
    "file_paths = ['./quizzes/fem_OSRI.json', './quizzes/masc_OSRI.json']\n",
    "for file_path in file_paths:\n",
    "    quiz = QuizMetric(model, agent, file_path, measurements=measurements)\n",
    "    quiz.observe(test_context)\n",
    "    print(f\"Quiz located at {file_path} complete.\")"
   ]
  },
  {
   "cell_type": "code",
   "execution_count": null,
   "metadata": {},
   "outputs": [],
   "source": []
  }
 ],
 "metadata": {
  "kernelspec": {
   "display_name": "Python 3",
   "language": "python",
   "name": "python3"
  },
  "language_info": {
   "codemirror_mode": {
    "name": "ipython",
    "version": 3
   },
   "file_extension": ".py",
   "mimetype": "text/x-python",
   "name": "python",
   "nbconvert_exporter": "python",
   "pygments_lexer": "ipython3",
   "version": "3.10.9"
  }
 },
 "nbformat": 4,
 "nbformat_minor": 2
}
